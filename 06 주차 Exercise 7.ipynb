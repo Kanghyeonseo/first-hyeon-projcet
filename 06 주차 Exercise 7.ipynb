{
 "cells": [
  {
   "cell_type": "markdown",
   "id": "379b71bd",
   "metadata": {},
   "source": [
    "# Exercise 7\n",
    "___\n",
    "* 미국에서 주로 사용되는 단위인 마일 값을 국제 표준 단위인 킬로미터(km)값으로 변경하고자 한다. 마일 값을 매개변수로 넘겨받아 킬로미터로 반환하는 mile2km(m) 함수를 구현하고 이 함수를 호출하여 1에서 5마일을 킬로미터로 출력하시오. 이때 for - in range()를 사용하여 반복출력이 되도록 하시오.(단, 1 마일은 1.61 킬로미터로 정의하시오).\n",
    "\n",
    "<span style=\"color: blue\">**실행결과**</span>\n",
    "\n",
    "1 마일 = 1.61 킬로미터  \n",
    "2 마일 = 3.22 킬로미터  \n",
    "3 마일 = 4.83 킬로미터  \n",
    "4 마일 = 6.44 킬로미터  \n",
    "5 마일 = 8.05 킬로미터  "
   ]
  },
  {
   "cell_type": "code",
   "execution_count": 1,
   "id": "d7c722a6",
   "metadata": {},
   "outputs": [
    {
     "name": "stdout",
     "output_type": "stream",
     "text": [
      "1 마일 = 1.61 킬로미터\n",
      "2 마일 = 3.22 킬로미터\n",
      "3 마일 = 4.83 킬로미터\n",
      "4 마일 = 6.44 킬로미터\n",
      "5 마일 = 8.05 킬로미터\n"
     ]
    }
   ],
   "source": [
    "def mile2km(m):\n",
    "    print(\"{} 마일 = {} 킬로미터\".format(m, 1.61 * m))\n",
    "    \n",
    "for i in range(1, 6):\n",
    "    mile2km(i)"
   ]
  }
 ],
 "metadata": {
  "kernelspec": {
   "display_name": "Python 3 (ipykernel)",
   "language": "python",
   "name": "python3"
  },
  "language_info": {
   "codemirror_mode": {
    "name": "ipython",
    "version": 3
   },
   "file_extension": ".py",
   "mimetype": "text/x-python",
   "name": "python",
   "nbconvert_exporter": "python",
   "pygments_lexer": "ipython3",
   "version": "3.9.12"
  }
 },
 "nbformat": 4,
 "nbformat_minor": 5
}
