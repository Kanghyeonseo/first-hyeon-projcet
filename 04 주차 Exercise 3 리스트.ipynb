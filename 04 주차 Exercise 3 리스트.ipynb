{
 "cells": [
  {
   "cell_type": "markdown",
   "id": "e2e72968",
   "metadata": {},
   "source": [
    "# Exercise 3\n",
    "___\n",
    "* n_list라는 리스트에 [10, 20, 30, 50, 60]과 같은 5개의 원소가 있다. 내장 함수 sum(n_list)를 사용하지 않고 n_list의 5개 원소의 합을 구하는 프로그램을 작성하여라.\n",
    "\n",
    "<span style=\"color: blue\">**실행결과**</span>\n",
    "\n",
    "리스트 원소들 : [10, 20, 30, 50, 60]  \n",
    "리스트 원소들의 합 : 170"
   ]
  },
  {
   "cell_type": "code",
   "execution_count": 1,
   "id": "55e7a7b8",
   "metadata": {},
   "outputs": [
    {
     "name": "stdout",
     "output_type": "stream",
     "text": [
      "리스트 원소들 : [10, 20, 30, 50, 60]\n",
      "리스트 원소들의 합 : 170\n"
     ]
    }
   ],
   "source": [
    "# n_list 생성\n",
    "n_list = [10, 20, 30, 50, 60]\n",
    "\n",
    "# n_list 원소들의 합\n",
    "n_sum = 0\n",
    "for i in n_list:\n",
    "    n_sum += i\n",
    "\n",
    "print(\"리스트 원소들 :\", n_list)\n",
    "print(\"리스트 원소들의 합 :\", n_sum)"
   ]
  }
 ],
 "metadata": {
  "kernelspec": {
   "display_name": "Python 3 (ipykernel)",
   "language": "python",
   "name": "python3"
  },
  "language_info": {
   "codemirror_mode": {
    "name": "ipython",
    "version": 3
   },
   "file_extension": ".py",
   "mimetype": "text/x-python",
   "name": "python",
   "nbconvert_exporter": "python",
   "pygments_lexer": "ipython3",
   "version": "3.9.12"
  }
 },
 "nbformat": 4,
 "nbformat_minor": 5
}
