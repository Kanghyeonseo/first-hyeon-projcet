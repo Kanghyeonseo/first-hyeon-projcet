{
 "cells": [
  {
   "cell_type": "markdown",
   "id": "18b2984d",
   "metadata": {},
   "source": [
    "# LAB 4 - 3\n",
    "___\n",
    "1. 해시마크(#)를 한 줄 출력하는 print_hash() 함수를 추가로 구현하시오.\n",
    "\n"
   ]
  },
  {
   "cell_type": "code",
   "execution_count": 3,
   "id": "877770f3",
   "metadata": {},
   "outputs": [
    {
     "name": "stdout",
     "output_type": "stream",
     "text": [
      "##############\n"
     ]
    }
   ],
   "source": [
    "def print_hash():\n",
    "    print('##############')\n",
    "    \n",
    "print_hash()"
   ]
  },
  {
   "cell_type": "markdown",
   "id": "5725d01f",
   "metadata": {},
   "source": [
    "2. print_star(), print_plus(), print_hash() 함수를 모두 이용하여 다음과 같은 출력이 나타나도록 함수를 호출하시오.\n",
    "\n",
    "<span style=\"color: blue\">**실행결과**</span>\n",
    "\n",
    "```\n",
    "##############\n",
    "**************\n",
    "++++++++++++++\n",
    "++++++++++++++\n",
    "**************\n",
    "##############\n",
    "```"
   ]
  },
  {
   "cell_type": "code",
   "execution_count": 4,
   "id": "d7aa1952",
   "metadata": {},
   "outputs": [
    {
     "name": "stdout",
     "output_type": "stream",
     "text": [
      "##############\n",
      "**************\n",
      "++++++++++++++\n",
      "++++++++++++++\n",
      "**************\n",
      "##############\n"
     ]
    }
   ],
   "source": [
    "def print_plus():\n",
    "    print('++++++++++++++')\n",
    "    \n",
    "def print_star():\n",
    "    print('**************')\n",
    "    \n",
    "print_hash()\n",
    "print_star()\n",
    "print_plus()\n",
    "print_plus()\n",
    "print_star()\n",
    "print_hash()"
   ]
  }
 ],
 "metadata": {
  "kernelspec": {
   "display_name": "Python 3 (ipykernel)",
   "language": "python",
   "name": "python3"
  },
  "language_info": {
   "codemirror_mode": {
    "name": "ipython",
    "version": 3
   },
   "file_extension": ".py",
   "mimetype": "text/x-python",
   "name": "python",
   "nbconvert_exporter": "python",
   "pygments_lexer": "ipython3",
   "version": "3.9.12"
  }
 },
 "nbformat": 4,
 "nbformat_minor": 5
}
