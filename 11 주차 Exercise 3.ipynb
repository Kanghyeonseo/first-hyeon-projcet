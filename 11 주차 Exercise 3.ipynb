{
 "cells": [
  {
   "cell_type": "markdown",
   "id": "5c723ba0",
   "metadata": {},
   "source": [
    "# Exercise 3\n",
    "---\n",
    "\n",
    "* 다음과 같은 문장으로 된 lyrics라는 문자열이 있다. 이 문자열을 각 단어별로 구분한 후, 아래 실행 결과와 같이 이 단어와 이 단어의 길이 n에 대한 튜플 쌍으로 바꾸어 출력하여라.\n",
    "\n",
    "lyrics = 'Half of my heart is in Havana'\n",
    "\n",
    "<span style = \"color : blue\">**실행 결과**</span>\n",
    "\n",
    "[('Half', 4), ('of', 2), ('my', 2), ('heart', 5), ('is', 2), ('in', 2), ('Havana', 6)]\n",
    "\n",
    "(1) lyrics라는 문자열을 split() 메소드로 구분하여 각 단어를 추출하여라. 이 리스트를 for 문 안에서 반복하며 각 단어와 len() 함수로 구한 단어의 길이를 튜플 쌍으로 만들어라."
   ]
  },
  {
   "cell_type": "code",
   "execution_count": 4,
   "id": "818fe817",
   "metadata": {},
   "outputs": [
    {
     "name": "stdout",
     "output_type": "stream",
     "text": [
      "[('Half', 4), ('of', 2), ('my', 2), ('heart', 5), ('is', 2), ('in', 2), ('Havana', 6)]\n"
     ]
    }
   ],
   "source": [
    "result = []\n",
    "lyrics = 'Half of my heart is in Havana'\n",
    "new_lyrics = lyrics.split()\n",
    "\n",
    "for i in new_lyrics:\n",
    "    tup = (i, len(i))\n",
    "    result.append(tup)\n",
    "    \n",
    "print(result)"
   ]
  },
  {
   "cell_type": "code",
   "execution_count": 7,
   "id": "21edd54a",
   "metadata": {},
   "outputs": [
    {
     "name": "stdout",
     "output_type": "stream",
     "text": [
      "[('Half', 4), ('of', 2), ('my', 2), ('heart', 5), ('is', 2), ('in', 2), ('Havana', 6)]\n"
     ]
    }
   ],
   "source": [
    "result = [(x, len(x)) for x in lyrics.split()]\n",
    "\n",
    "print(result)"
   ]
  }
 ],
 "metadata": {
  "kernelspec": {
   "display_name": "Python 3 (ipykernel)",
   "language": "python",
   "name": "python3"
  },
  "language_info": {
   "codemirror_mode": {
    "name": "ipython",
    "version": 3
   },
   "file_extension": ".py",
   "mimetype": "text/x-python",
   "name": "python",
   "nbconvert_exporter": "python",
   "pygments_lexer": "ipython3",
   "version": "3.9.12"
  }
 },
 "nbformat": 4,
 "nbformat_minor": 5
}
