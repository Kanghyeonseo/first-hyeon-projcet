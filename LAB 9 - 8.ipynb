{
 "cells": [
  {
   "cell_type": "markdown",
   "id": "a914609f",
   "metadata": {},
   "source": [
    "# LAB 9 - 8\n",
    "\n",
    "---\n",
    "\n",
    "1. 앞서 배운 __mul__()과 __truediv__() 메소드를 이용하여 두 벡터의 곱셈과 나눗셈 기능을 구현하여라. v1이 (30, 40)이고 v2가 (10, 20)이라고 가정하고 다음과 같은 결과가 나타나도록 출력문을 작성하여라.\n",
    "\n",
    "v1 * v2 = (300, 800)  \n",
    "v1 / v2 = (3.0, 2.0)"
   ]
  },
  {
   "cell_type": "code",
   "execution_count": 5,
   "id": "c56453ec",
   "metadata": {},
   "outputs": [
    {
     "name": "stdout",
     "output_type": "stream",
     "text": [
      "v1 * v2 = (300, 800)\n",
      "v1 / v2 = (3.0, 2.0)\n"
     ]
    }
   ],
   "source": [
    "class Vector2D:\n",
    "    def __init__(self, x, y):\n",
    "        self.x = x\n",
    "        self.y = y\n",
    "    def __str__(self):\n",
    "        return \"({}, {})\".format(self.x, self.y)\n",
    "    def __mul__(self, other):\n",
    "        return Vector2D(self.x * other.x, self.y * other.y)\n",
    "    def __truediv__(self, other):\n",
    "        return Vector2D(self.x / other.x, self.y / other.y)\n",
    "    def __neg__(self):\n",
    "        return Vector2D(-self.x, -self.y)\n",
    "   \n",
    "v1 = Vector2D(30, 40)\n",
    "v2 = Vector2D(10, 20)\n",
    "v3 = v1 * v2\n",
    "v4 = v1 / v2\n",
    "\n",
    "print('v1 * v2 =', v3)\n",
    "print('v1 / v2 =', v4)"
   ]
  },
  {
   "cell_type": "markdown",
   "id": "f0da7a89",
   "metadata": {},
   "source": [
    "2. 앞서 배운 __neg__() 메소드를 이용하여 벡터의 음의 벡터를 구하시오. v1이 (10, 20)일 경우 출력 값은 다음과 같다.\n",
    "\n",
    "-v1 = (-10, -20)\n"
   ]
  },
  {
   "cell_type": "code",
   "execution_count": 6,
   "id": "1bb68f3d",
   "metadata": {},
   "outputs": [
    {
     "name": "stdout",
     "output_type": "stream",
     "text": [
      "-v1 = (-10, -20)\n"
     ]
    }
   ],
   "source": [
    "v1 = Vector2D(10, 20)\n",
    "\n",
    "v5 = -v1\n",
    "\n",
    "print('-v1 =', v5)\n"
   ]
  }
 ],
 "metadata": {
  "kernelspec": {
   "display_name": "Python 3 (ipykernel)",
   "language": "python",
   "name": "python3"
  },
  "language_info": {
   "codemirror_mode": {
    "name": "ipython",
    "version": 3
   },
   "file_extension": ".py",
   "mimetype": "text/x-python",
   "name": "python",
   "nbconvert_exporter": "python",
   "pygments_lexer": "ipython3",
   "version": "3.9.12"
  }
 },
 "nbformat": 4,
 "nbformat_minor": 5
}
