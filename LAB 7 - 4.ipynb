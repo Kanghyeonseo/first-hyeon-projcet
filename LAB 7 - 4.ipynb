{
 "cells": [
  {
   "cell_type": "markdown",
   "id": "a971a4a6",
   "metadata": {},
   "source": [
    "# LAB 7 - 4\n",
    "---\n",
    "\n",
    "1. math 모듈과 for - in range()를 사용하여 4의 2승부터 10승까지를 화면에 출력하여라.\n",
    "\n",
    "<span style = \"color : blue\">**실행결과**</span>\n",
    "\n",
    "4** 2 = 16.0  \n",
    "4** 3 = 64.0  \n",
    "4** 4 = 256.0  \n",
    "4** 5 = 1024.0  \n",
    "4** 6 = 4096.0  \n",
    "4** 7 = 16384.0  \n",
    "4** 8 = 65536.0  \n",
    "4** 9 = 262144.0  \n",
    "4** 10 = 1048576.0  "
   ]
  },
  {
   "cell_type": "code",
   "execution_count": 2,
   "id": "c494a65e",
   "metadata": {},
   "outputs": [
    {
     "name": "stdout",
     "output_type": "stream",
     "text": [
      "4** 2 =       16.0\n",
      "4** 3 =       64.0\n",
      "4** 4 =      256.0\n",
      "4** 5 =     1024.0\n",
      "4** 6 =     4096.0\n",
      "4** 7 =    16384.0\n",
      "4** 8 =    65536.0\n",
      "4** 9 =   262144.0\n",
      "4**10 =  1048576.0\n"
     ]
    }
   ],
   "source": [
    "import math as m\n",
    "\n",
    "for i in range(2, 11):           # 곱하는 수 2에서 10까지\n",
    "    print(\"4**{:2d} = {:10.1f}\".format(i, m.pow(4, i)))   "
   ]
  },
  {
   "cell_type": "markdown",
   "id": "f5983807",
   "metadata": {},
   "source": [
    "2. 일반각도 0도에서 180도를 10도 단위로 출력하라. 이때 이 일반각도에 대응되는 라디안 각도 값을 함께 출력하라. \n",
    "\n",
    "<span style = \"color : blue\">**실행결과**</span>\n",
    "\n",
    "0 degree = 0.000 radian  \n",
    "10 degree = 0.175 radian  \n",
    "20 degree = 0.349 radian   \n",
    "\n",
    "    (... 중간 생략 ...)  \n",
    "\n",
    "170 degree = 2.967 radian  \n",
    "180 degree = 3.142 radian "
   ]
  },
  {
   "cell_type": "code",
   "execution_count": 4,
   "id": "6e4e7354",
   "metadata": {},
   "outputs": [
    {
     "name": "stdout",
     "output_type": "stream",
     "text": [
      "  0 degree = 0.000 radian\n",
      " 10 degree = 0.175 radian\n",
      " 20 degree = 0.349 radian\n",
      " 30 degree = 0.524 radian\n",
      " 40 degree = 0.698 radian\n",
      " 50 degree = 0.873 radian\n",
      " 60 degree = 1.047 radian\n",
      " 70 degree = 1.222 radian\n",
      " 80 degree = 1.396 radian\n",
      " 90 degree = 1.571 radian\n",
      "100 degree = 1.745 radian\n",
      "110 degree = 1.920 radian\n",
      "120 degree = 2.094 radian\n",
      "130 degree = 2.269 radian\n",
      "140 degree = 2.443 radian\n",
      "150 degree = 2.618 radian\n",
      "160 degree = 2.793 radian\n",
      "170 degree = 2.967 radian\n",
      "180 degree = 3.142 radian\n"
     ]
    }
   ],
   "source": [
    "for i in range(0, 181, 10):   # 0 ~ 180도까지 10도씩 늘려서\n",
    "    print(\"{:3d} degree = {:.3f} radian\".format(i, m.radians(i)))"
   ]
  },
  {
   "cell_type": "markdown",
   "id": "b4991545",
   "metadata": {},
   "source": [
    "3. math 모듈과 for 문을 사용하여 일반각도 sin 0도에서 부터 180도까지의 값을 10도 간격으로 출력하여라.\n",
    "\n",
    "<span style = \"color : blue\">**실행결과**</span>\n",
    "\n",
    "sin(0) = 0.00  \n",
    "sin(10) = 0.17  \n",
    "\n",
    "    (... 중간 생략 ...)\n",
    "    \n",
    "sin(170) = 0.17  \n",
    "sin(180) = 0.00"
   ]
  },
  {
   "cell_type": "code",
   "execution_count": 6,
   "id": "1f36f911",
   "metadata": {},
   "outputs": [
    {
     "name": "stdout",
     "output_type": "stream",
     "text": [
      "sin(   0) = 0.00\n",
      "sin(  10) = 0.17\n",
      "sin(  20) = 0.34\n",
      "sin(  30) = 0.50\n",
      "sin(  40) = 0.64\n",
      "sin(  50) = 0.77\n",
      "sin(  60) = 0.87\n",
      "sin(  70) = 0.94\n",
      "sin(  80) = 0.98\n",
      "sin(  90) = 1.00\n",
      "sin( 100) = 0.98\n",
      "sin( 110) = 0.94\n",
      "sin( 120) = 0.87\n",
      "sin( 130) = 0.77\n",
      "sin( 140) = 0.64\n",
      "sin( 150) = 0.50\n",
      "sin( 160) = 0.34\n",
      "sin( 170) = 0.17\n",
      "sin( 180) = 0.00\n"
     ]
    }
   ],
   "source": [
    "for i in range(0, 181, 10):         # 0 ~ 180도까지 10도씩 늘려서\n",
    "    print(\"sin({:4d}) = {:.2f}\".format(i, m.sin(m.radians(i)) ))     # 각도를 라디안으로 변경후 sin에 넣어서 씀"
   ]
  }
 ],
 "metadata": {
  "kernelspec": {
   "display_name": "Python 3 (ipykernel)",
   "language": "python",
   "name": "python3"
  },
  "language_info": {
   "codemirror_mode": {
    "name": "ipython",
    "version": 3
   },
   "file_extension": ".py",
   "mimetype": "text/x-python",
   "name": "python",
   "nbconvert_exporter": "python",
   "pygments_lexer": "ipython3",
   "version": "3.9.12"
  }
 },
 "nbformat": 4,
 "nbformat_minor": 5
}
