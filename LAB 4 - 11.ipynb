{
 "cells": [
  {
   "cell_type": "markdown",
   "id": "0ed881f9",
   "metadata": {},
   "source": [
    "# LAB 4 - 11\n",
    "___\n",
    "* 위의 코드를 수정하여 이름, 나이, 직업, 사는 곳까지 다음과 같이 화면에 출력하려고 한다.\n",
    "\n",
    "당신의 이름을 입력해주세요 : `김철수`  \n",
    "나이를 입력해주세요 : `21`  \n",
    "직업을 입력해주세요 : `학생`  \n",
    "사는 곳을 입력해 주세요 : `창원시`  \n",
    "당신의 이름은 김철수, 나이는 21살, 직업은 학생, 사는 곳은 창원시입니다.\n",
    "\n",
    "a) 출력문에서 format()메소드를 사용하여 출력하여라."
   ]
  },
  {
   "cell_type": "code",
   "execution_count": 2,
   "id": "f44256de",
   "metadata": {},
   "outputs": [
    {
     "name": "stdout",
     "output_type": "stream",
     "text": [
      "당신의 이름을 입력해주세요 : 김철수\n",
      "나이를 입력해주세요 : 21\n",
      "직업을 입력해주세요 : 학생\n",
      "사는 곳을 입력해주세요 : 창원시\n",
      "당신의 이름은 김철수, 나이는 21살, 직업은 학생, 사는 곳은 창원시입니다.\n"
     ]
    }
   ],
   "source": [
    "name = input(\"당신의 이름을 입력해주세요 : \")\n",
    "age = input(\"나이를 입력해주세요 : \")\n",
    "job = input(\"직업을 입력해주세요 : \")\n",
    "address = input(\"사는 곳을 입력해주세요 : \")\n",
    "\n",
    "print(\"당신의 이름은 {}, 나이는 {}살, 직업은 {}, 사는 곳은 {}입니다.\".format(name, age, job, address))"
   ]
  },
  {
   "cell_type": "markdown",
   "id": "325a72e9",
   "metadata": {},
   "source": [
    "b) 출력문에서 format() 메소드를 사용하지 말고 쉼표로 구분하여 출력하여라."
   ]
  },
  {
   "cell_type": "code",
   "execution_count": 4,
   "id": "412a5a00",
   "metadata": {},
   "outputs": [
    {
     "name": "stdout",
     "output_type": "stream",
     "text": [
      "당신의 이름은 김철수, 나이는 21살, 직업은 학생, 사는 곳은 창원시입니다."
     ]
    }
   ],
   "source": [
    "print(\"당신의 이름은\", name, end = ', ')\n",
    "print(\"나이는\", age, end = '살, ')\n",
    "print(\"직업은\", job, end =', ')\n",
    "print(\"사는 곳은\", address, end = '입니다.')"
   ]
  }
 ],
 "metadata": {
  "kernelspec": {
   "display_name": "Python 3 (ipykernel)",
   "language": "python",
   "name": "python3"
  },
  "language_info": {
   "codemirror_mode": {
    "name": "ipython",
    "version": 3
   },
   "file_extension": ".py",
   "mimetype": "text/x-python",
   "name": "python",
   "nbconvert_exporter": "python",
   "pygments_lexer": "ipython3",
   "version": "3.9.12"
  }
 },
 "nbformat": 4,
 "nbformat_minor": 5
}
