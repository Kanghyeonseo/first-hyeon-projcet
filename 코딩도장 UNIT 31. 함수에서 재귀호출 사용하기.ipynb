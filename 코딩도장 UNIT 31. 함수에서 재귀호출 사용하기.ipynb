{
 "cells": [
  {
   "cell_type": "markdown",
   "id": "ea6161b7",
   "metadata": {},
   "source": [
    "### 31.1 재귀호출 사용하기\n",
    "\n",
    "* 간단한 재귀호출 함수"
   ]
  },
  {
   "cell_type": "markdown",
   "id": "24af2bf3",
   "metadata": {},
   "source": [
    "```py\n",
    "def hello():\n",
    "    print(\"Hello world!\")\n",
    "    hello()\n",
    "    \n",
    "hello()\n",
    "```\n",
    "에러가 발생한다. 자신을 계속 호출하다가 최대 재귀 깊이를 초과했기 때문\n",
    "\n",
    "* 재귀 호출에 종료 조건 만들기"
   ]
  },
  {
   "cell_type": "code",
   "execution_count": 1,
   "id": "0f6b855e",
   "metadata": {},
   "outputs": [
    {
     "name": "stdout",
     "output_type": "stream",
     "text": [
      "Hello, world! 5\n",
      "Hello, world! 4\n",
      "Hello, world! 3\n",
      "Hello, world! 2\n",
      "Hello, world! 1\n"
     ]
    }
   ],
   "source": [
    "def hello(count):\n",
    "    if count == 0:            # 종료 조건 만들기\n",
    "        return\n",
    "    \n",
    "    print('Hello, world!', count)\n",
    "    \n",
    "    count -= 1\n",
    "    hello(count)\n",
    "    \n",
    "hello(5)"
   ]
  },
  {
   "cell_type": "markdown",
   "id": "055cfa92",
   "metadata": {},
   "source": [
    "### 재귀호출로 팩토리얼 구하기"
   ]
  },
  {
   "cell_type": "code",
   "execution_count": 2,
   "id": "be56a0b7",
   "metadata": {},
   "outputs": [
    {
     "name": "stdout",
     "output_type": "stream",
     "text": [
      "120\n"
     ]
    }
   ],
   "source": [
    "def factorial(n):\n",
    "    if n == 1:                  # 종료조건 \n",
    "        return 1\n",
    "    return n * factorial(n - 1)      # n! = n * (n - 1)! 정의 이용\n",
    "\n",
    "print(factorial(5))"
   ]
  },
  {
   "cell_type": "markdown",
   "id": "6aa94b3e",
   "metadata": {},
   "source": [
    "* 함수 변화\n",
    "\n",
    "5 * factorial(4) = 5 * (4 * 3 * 2 * 1)  \n",
    "4 * factorial(3) = 4 * (3 * 2 * 1)  \n",
    "3 * factorial(2) = 3 * (2 * 1)  \n",
    "2 * factorial(1) = 2 * 1  \n",
    "factorial(1) <- return 1"
   ]
  },
  {
   "cell_type": "markdown",
   "id": "22901346",
   "metadata": {},
   "source": [
    "### 연습문제 : 재귀호출로 회문 판별하기"
   ]
  },
  {
   "cell_type": "code",
   "execution_count": 3,
   "id": "51ce9c58",
   "metadata": {},
   "outputs": [
    {
     "name": "stdout",
     "output_type": "stream",
     "text": [
      "False\n",
      "False\n",
      "True\n"
     ]
    }
   ],
   "source": [
    "def is_palindrome(word):\n",
    "    if len(word) < 2:             # 종료 조건\n",
    "        return True\n",
    "    if word[0] != word[-1]:       # 문자열의 끝과 끝 비교\n",
    "        return False\n",
    "    return is_palindrome(word[1:-1])  # 문자열의 끝과 끝에서 한 자리씩 좁혀서 recursive 비교 \n",
    "\n",
    "print(is_palindrome('hi'))\n",
    "print(is_palindrome('hello'))\n",
    "print(is_palindrome('level'))"
   ]
  }
 ],
 "metadata": {
  "kernelspec": {
   "display_name": "Python 3 (ipykernel)",
   "language": "python",
   "name": "python3"
  },
  "language_info": {
   "codemirror_mode": {
    "name": "ipython",
    "version": 3
   },
   "file_extension": ".py",
   "mimetype": "text/x-python",
   "name": "python",
   "nbconvert_exporter": "python",
   "pygments_lexer": "ipython3",
   "version": "3.9.12"
  }
 },
 "nbformat": 4,
 "nbformat_minor": 5
}
