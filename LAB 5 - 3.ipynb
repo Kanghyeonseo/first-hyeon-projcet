{
 "cells": [
  {
   "cell_type": "markdown",
   "id": "0d14662f",
   "metadata": {},
   "source": [
    "# LAB 5 - 3\n",
    "___\n",
    "1. 1부터 10까지의 수들 중에서 소수 원소를 가지는 prime_list라는 리스트를 생성하시오. 그리고 append() 메소드를 사용하여 11을 추가하시오. 이 때 추가 전과 추가 후의 결과를 다음과 같이 출력하시오.\n",
    "\n",
    "<span style=\"color: blue\">**실행결과**</span>\n",
    "\n",
    "소수 목록 : [2, 3, 7, 9]  \n",
    "추가 후 소수 목록 : [2, 3, 5, 7, 11]"
   ]
  },
  {
   "cell_type": "code",
   "execution_count": 3,
   "id": "99dcb841",
   "metadata": {},
   "outputs": [
    {
     "name": "stdout",
     "output_type": "stream",
     "text": [
      "소수 목록 : [2, 3, 5, 7]\n",
      "추가 후 소수 목록 : [2, 3, 5, 7, 11]\n"
     ]
    }
   ],
   "source": [
    "# 1~10 소수 리스트 생성\n",
    "prime_list = [2, 3, 5, 7]\n",
    "\n",
    "print(\"소수 목록 :\", prime_list)\n",
    "\n",
    "prime_list.append(11)        # 11 추가\n",
    "\n",
    "print(\"추가 후 소수 목록 :\", prime_list)"
   ]
  },
  {
   "cell_type": "markdown",
   "id": "cf8597ad",
   "metadata": {},
   "source": [
    "2. 1번 문제의 prime_list라는 리스트에 있는 3이라는 원소를 remove() 메소드를 사용하여 제거하시오. 이 때 삭제 전과 삭제 후의 결과를 다음과 같이 출력하시오.\n",
    "\n",
    "<span style=\"color: blue\">**실행결과**</span>\n",
    "\n",
    "삭제 전 소수 목록 : [2, 3, 5, 7, 11]  \n",
    "삭제 후 소수 목록 : [2, 5, 7, 11]"
   ]
  },
  {
   "cell_type": "code",
   "execution_count": 4,
   "id": "1fb41179",
   "metadata": {},
   "outputs": [
    {
     "name": "stdout",
     "output_type": "stream",
     "text": [
      "삭제 전 소수 목록 : [2, 3, 5, 7, 11]\n",
      "삭제 후 소수 목록 : [2, 5, 7, 11]\n"
     ]
    }
   ],
   "source": [
    "# 1번에서 부터 그대로 prime_list 사용\n",
    "print(\"삭제 전 소수 목록 :\", prime_list)\n",
    "\n",
    "prime_list.remove(3)          # 3 삭제\n",
    "print(\"삭제 후 소수 목록 :\", prime_list)"
   ]
  },
  {
   "cell_type": "markdown",
   "id": "58ecb609",
   "metadata": {},
   "source": [
    "3. 'Korea', 'China', 'Russia', 'Malaysia' 라는 국가이름을 원소로 가지는 nations라는 리스트에 append() 메소드를 사용하여 'Nepal'을 추가하시오. 이 때 추가 전과 추가 후의 결과를 다음과 같이 출력하시오.\n",
    "\n",
    "<span style=\"color: blue\">**실행결과**</span>\n",
    "\n",
    "국가 목록 : ['Korea', 'China', 'Russia', 'Malaysia']  \n",
    "추가 후 국가 목록 : ['Korea', 'China', 'Russia', 'Malaysia', 'Nepal']"
   ]
  },
  {
   "cell_type": "code",
   "execution_count": 5,
   "id": "bb95ac27",
   "metadata": {},
   "outputs": [
    {
     "name": "stdout",
     "output_type": "stream",
     "text": [
      "국가 목록 : ['Korea', 'China', 'Russia', 'Malaysia']\n",
      "추가 후 국가 목록 : ['Korea', 'China', 'Russia', 'Malaysia', 'Nepal']\n"
     ]
    }
   ],
   "source": [
    "# 국가 이름 리스트 생성\n",
    "nations = ['Korea', 'China', 'Russia', 'Malaysia'] \n",
    "\n",
    "print(\"국가 목록 :\", nations)\n",
    "\n",
    "nations.append('Nepal')            # Nepal 추가\n",
    "\n",
    "print(\"추가 후 국가 목록 :\", nations)"
   ]
  },
  {
   "cell_type": "markdown",
   "id": "e5179a7e",
   "metadata": {},
   "source": [
    "4. 3번 문제의 nations라는 리스트에 'Japan'과 'Russia'가 있는지 검사하여 출력하시오. 이 때 in 연산자를 사용하여 리스트에 항목이 있는가 검사하고 출력시에는 if-else 조건문을 사용하시오.\n",
    "\n",
    "<span style=\"color: blue\">**실행결과**</span>\n",
    "\n",
    "Japan 는(은) 국가 목록에 없습니다.  \n",
    "Russia 는(은) 국가 목록에 있습니다."
   ]
  },
  {
   "cell_type": "code",
   "execution_count": 8,
   "id": "31256904",
   "metadata": {},
   "outputs": [
    {
     "name": "stdout",
     "output_type": "stream",
     "text": [
      "Japan 는(은) 국가 목록에 없습니다.\n",
      "Russia 는(은) 국가 목록에 있습니다.\n"
     ]
    }
   ],
   "source": [
    "# 일본일 때 확인\n",
    "check_nations = 'Japan'\n",
    "if (check_nations in nations):        # 일본이 있다면\n",
    "    print(check_nations, '는(은) 국가 목록에 있습니다.')\n",
    "else:                                 # 없다면\n",
    "    print(check_nations, '는(은) 국가 목록에 없습니다.')\n",
    "    \n",
    "# 러시아일 때 확인\n",
    "check_nations = 'Russia'\n",
    "if (check_nations in nations):        # 러시아가 있다면\n",
    "    print(check_nations, '는(은) 국가 목록에 있습니다.')\n",
    "else:                                 # 없다면\n",
    "    print(check_nations, '는(은) 국가 목록에 없습니다.')"
   ]
  }
 ],
 "metadata": {
  "kernelspec": {
   "display_name": "Python 3 (ipykernel)",
   "language": "python",
   "name": "python3"
  },
  "language_info": {
   "codemirror_mode": {
    "name": "ipython",
    "version": 3
   },
   "file_extension": ".py",
   "mimetype": "text/x-python",
   "name": "python",
   "nbconvert_exporter": "python",
   "pygments_lexer": "ipython3",
   "version": "3.9.12"
  }
 },
 "nbformat": 4,
 "nbformat_minor": 5
}
