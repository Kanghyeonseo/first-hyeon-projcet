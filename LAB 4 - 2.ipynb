{
 "cells": [
  {
   "cell_type": "markdown",
   "id": "327d89f2",
   "metadata": {},
   "source": [
    "# LAB 4 - 2\n",
    "___\n",
    "* 함수 호출 **두 번**으로 **10줄의 별표**를 출력해보시오.  \n",
    "\n",
    "<span style=\"color: blue\">**실행결과**</span>\n",
    "\n",
    "```\n",
    "************************\n",
    "************************\n",
    "************************\n",
    "************************\n",
    "************************\n",
    "************************\n",
    "************************\n",
    "************************\n",
    "************************\n",
    "************************\n",
    "```\n"
   ]
  },
  {
   "cell_type": "code",
   "execution_count": 2,
   "id": "ddb45696",
   "metadata": {},
   "outputs": [
    {
     "name": "stdout",
     "output_type": "stream",
     "text": [
      "************************\n",
      "************************\n",
      "************************\n",
      "************************\n",
      "************************\n",
      "************************\n",
      "************************\n",
      "************************\n",
      "************************\n",
      "************************\n"
     ]
    }
   ],
   "source": [
    "def print_star5():\n",
    "    print('************************')\n",
    "    print('************************')\n",
    "    print('************************')\n",
    "    print('************************')\n",
    "    print('************************')\n",
    "\n",
    "# 함수 2번 호출\n",
    "print_star5()\n",
    "print_star5()\n",
    "    "
   ]
  }
 ],
 "metadata": {
  "kernelspec": {
   "display_name": "Python 3 (ipykernel)",
   "language": "python",
   "name": "python3"
  },
  "language_info": {
   "codemirror_mode": {
    "name": "ipython",
    "version": 3
   },
   "file_extension": ".py",
   "mimetype": "text/x-python",
   "name": "python",
   "nbconvert_exporter": "python",
   "pygments_lexer": "ipython3",
   "version": "3.9.12"
  }
 },
 "nbformat": 4,
 "nbformat_minor": 5
}
