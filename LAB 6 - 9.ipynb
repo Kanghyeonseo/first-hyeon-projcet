{
 "cells": [
  {
   "cell_type": "markdown",
   "id": "dc99551c",
   "metadata": {},
   "source": [
    "# LAB 6 - 9\n",
    "___\n",
    "1. 다음 리스트 lst로부터 set() 함수를 사용하여 집합 s1을 생성하여 출력하시오.\n",
    "\n",
    "<span style=\"color: blue\">**실행결과**</span>\n",
    "\n",
    "lst = ['apple', 'mango', 'banana']  \n",
    "s1 = {'apple', 'mango', 'banana'}"
   ]
  },
  {
   "cell_type": "code",
   "execution_count": 1,
   "id": "95206ca5",
   "metadata": {},
   "outputs": [
    {
     "name": "stdout",
     "output_type": "stream",
     "text": [
      "lst = ['apple', 'mango', 'banana']\n",
      "s1 = {'mango', 'banana', 'apple'}\n"
     ]
    }
   ],
   "source": [
    "# lst 리스트 생성\n",
    "lst = ['apple', 'mango', 'banana']\n",
    "\n",
    "# 리스트로부터 집합 s1 생성\n",
    "s1 = set(lst)\n",
    "\n",
    "print(\"lst =\", lst)\n",
    "print(\"s1 =\", s1)"
   ]
  },
  {
   "cell_type": "markdown",
   "id": "c24566fe",
   "metadata": {},
   "source": [
    "2. 다음 문자열 greet으로부터 set() 함수를 사용하여 집합 s2를 생성하여 출력하시오.\n",
    "\n",
    "<span style=\"color: blue\">**실행결과**</span>\n",
    "\n",
    "greet = 'Good afternoon' &nbsp;&nbsp;&nbsp;&nbsp;&nbsp;             # 문자열 greet  \n",
    "s2 = {'r', 't', 'n', ' ', 'G', 'o', 'e', 'f', 'a', 'd'}"
   ]
  },
  {
   "cell_type": "code",
   "execution_count": 5,
   "id": "75a714ee",
   "metadata": {},
   "outputs": [
    {
     "name": "stdout",
     "output_type": "stream",
     "text": [
      "s2 = {'r', 'f', 'G', 'd', 't', ' ', 'e', 'a', 'n', 'o'}\n"
     ]
    }
   ],
   "source": [
    "# 문자열 greet 생성\n",
    "greet = 'Good afternoon'\n",
    "\n",
    "# 문자열을 집합으로 변환\n",
    "s2 = set(greet)\n",
    "\n",
    "# 집합 출력\n",
    "print(\"s2 =\", s2)"
   ]
  }
 ],
 "metadata": {
  "kernelspec": {
   "display_name": "Python 3 (ipykernel)",
   "language": "python",
   "name": "python3"
  },
  "language_info": {
   "codemirror_mode": {
    "name": "ipython",
    "version": 3
   },
   "file_extension": ".py",
   "mimetype": "text/x-python",
   "name": "python",
   "nbconvert_exporter": "python",
   "pygments_lexer": "ipython3",
   "version": "3.9.12"
  }
 },
 "nbformat": 4,
 "nbformat_minor": 5
}
