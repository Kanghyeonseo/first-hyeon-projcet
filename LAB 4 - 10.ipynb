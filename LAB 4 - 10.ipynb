{
 "cells": [
  {
   "cell_type": "markdown",
   "id": "131632a4",
   "metadata": {},
   "source": [
    "# LAB 4 - 10\n",
    "___\n",
    "1. 가변 인자를 사용하는 sum_nums() 함수를 수정하여 인자들을 튜플 형식으로 출력한 후 모든 값들의 합과 평균을 다음과 같이 출력하시오.\n",
    "\n",
    "<span style=\"color: blue\">**실행결과**</span>\n",
    "\n",
    "3 개의 인자 (10, 20, 30)  \n",
    "합계 : 60, 평균 : 20.0"
   ]
  },
  {
   "cell_type": "code",
   "execution_count": 6,
   "id": "b6e454d8",
   "metadata": {},
   "outputs": [
    {
     "name": "stdout",
     "output_type": "stream",
     "text": [
      "3 개의 인자 (10, 20, 30)\n",
      "합계 : 60 , 평균 : 20.0\n"
     ]
    }
   ],
   "source": [
    "def sum_nums(*numbers):\n",
    "    tuple_ = tuple(numbers)\n",
    "    print(len(tuple_), '개의 인자', tuple_)\n",
    "    result = sum(numbers)\n",
    "    ave = result / len(tuple_)\n",
    "    print('합계 :', result, ',', '평균 :', ave)\n",
    "\n",
    "sum_nums(10, 20, 30)"
   ]
  },
  {
   "cell_type": "markdown",
   "id": "0d8dd18b",
   "metadata": {},
   "source": [
    "2. 가변 인자를 사용하는 함수 min_nums() 함수를 구현하시오. 이 함수는 정수를 인자로 받을 수 있는데 이 인자의 개수가 가변적이다. 이 함수의 호출문이 다음과 같을 경우\n",
    "\n",
    "min_nums(20, 40, 50, 10)\n",
    "\n",
    "다음과 같은 출력이 나타나도록 하시오.  \n",
    "최솟값은 10"
   ]
  },
  {
   "cell_type": "code",
   "execution_count": 7,
   "id": "99a10827",
   "metadata": {},
   "outputs": [
    {
     "name": "stdout",
     "output_type": "stream",
     "text": [
      "최솟값은 10\n"
     ]
    }
   ],
   "source": [
    "def min_nums(*numbers):\n",
    "    min_number = min(numbers)          # 최솟값 min_number min함수로 구하기\n",
    "    print(\"최솟값은\", min_number)\n",
    "\n",
    "min_nums(20, 40, 50, 10)"
   ]
  }
 ],
 "metadata": {
  "kernelspec": {
   "display_name": "Python 3 (ipykernel)",
   "language": "python",
   "name": "python3"
  },
  "language_info": {
   "codemirror_mode": {
    "name": "ipython",
    "version": 3
   },
   "file_extension": ".py",
   "mimetype": "text/x-python",
   "name": "python",
   "nbconvert_exporter": "python",
   "pygments_lexer": "ipython3",
   "version": "3.9.12"
  }
 },
 "nbformat": 4,
 "nbformat_minor": 5
}
