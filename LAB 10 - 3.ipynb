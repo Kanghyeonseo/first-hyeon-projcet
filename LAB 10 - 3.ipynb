{
 "cells": [
  {
   "cell_type": "markdown",
   "id": "b9c29fa9",
   "metadata": {},
   "source": [
    "# LAB 10 - 3\n",
    "\n",
    "---\n",
    "\n",
    "1. ['a', 'b', 'c', 'd']와 같은 영문 소문자가 들어있는 a_list라는 이름의 리스트를 ['A', 'B', 'C', 'D']와 같이 영문 대문자가 들어있는 upper_a_list라는 이름의 리스트로 변환시키는 map() 함수를 작성하여라.\n",
    "\n",
    "(1) 이때 소문자를 매개변수로 받아 대문자를 반환하는 to_upper()라는 이름의 함수를 정의하여 변환시키시오.  \n",
    "(2) (1)에서 생성한 to_upper() 함수를 lambda 함수로 고쳐서 간결하게 변환시키시오\n",
    "\n",
    "<span style = \"color : blue\">**실행결과**</span>\n",
    "\n",
    "upper_a_list = ['A', 'B', 'C', 'D']\n"
   ]
  },
  {
   "cell_type": "code",
   "execution_count": 1,
   "id": "29fdf863",
   "metadata": {},
   "outputs": [
    {
     "name": "stdout",
     "output_type": "stream",
     "text": [
      "(1)\n",
      "upper_a_list = ['A', 'B', 'C', 'D']\n",
      "(2)\n",
      "upper_a_list = ['A', 'B', 'C', 'D']\n"
     ]
    }
   ],
   "source": [
    "a_list = ['a', 'b', 'c', 'd']\n",
    "\n",
    "def to_upper(x):\n",
    "    return x.upper()\n",
    "\n",
    "upper_a_list = list(map(to_upper, a_list))\n",
    "\n",
    "print('(1)')\n",
    "print('upper_a_list =', upper_a_list)\n",
    "\n",
    "upper_a_list = list(map(lambda x: x.upper(), a_list))\n",
    "print('(2)')\n",
    "print('upper_a_list =', upper_a_list)"
   ]
  },
  {
   "cell_type": "markdown",
   "id": "50d49f17",
   "metadata": {},
   "source": [
    "2. [10, 20, 30]과 같은 값을 가진 n_list라는 이름의 리스트를 map() 함수에 넣은 후의 결과는 각각 다음과 같다.\n",
    "\n",
    "(1) twice()와 triple()이라는 이름의 함수를 만들어서 각각 입력 값의 2배와 3배 큰 값을 반환하도록 하시오. 그리고 map() 함수를 이용하시오.  \n",
    "(2) twice()와 triple() 함수를 lambda 함수로 고쳐서 간결하게 변환시키시오.\n",
    "\n",
    "<span style = \"color : blue\">**실행결과**</span>\n",
    "\n",
    "입력 값의 두 배 : [20, 40, 60]  \n",
    "입력 값의 세 배 : [30, 60, 90]\n"
   ]
  },
  {
   "cell_type": "code",
   "execution_count": 3,
   "id": "83f697b9",
   "metadata": {},
   "outputs": [
    {
     "name": "stdout",
     "output_type": "stream",
     "text": [
      "(1)\n",
      "입력 값의 두 배 : [20, 40, 60]\n",
      "입력 값의 세 배 : [30, 60, 90]\n",
      "(2)\n",
      "입력 값의 두 배 : [20, 40, 60]\n",
      "입력 값의 세 배 : [30, 60, 90]\n"
     ]
    }
   ],
   "source": [
    "n_list = [10, 20, 30]\n",
    "\n",
    "def twice(x):\n",
    "    return x * 2\n",
    "\n",
    "def triple(x):\n",
    "    return x * 3\n",
    "\n",
    "a2 = list(map(twice, n_list))\n",
    "a3 = list(map(triple, n_list))\n",
    "\n",
    "print('(1)')\n",
    "print('입력 값의 두 배 :', a2)\n",
    "print('입력 값의 세 배 :', a3)\n",
    "\n",
    "a2 = list(map(lambda x: x * 2, n_list))\n",
    "a3 = list(map(lambda x: x * 3, n_list))\n",
    "\n",
    "print('(2)')\n",
    "print('입력 값의 두 배 :', a2)\n",
    "print('입력 값의 세 배 :', a3)\n"
   ]
  }
 ],
 "metadata": {
  "kernelspec": {
   "display_name": "Python 3 (ipykernel)",
   "language": "python",
   "name": "python3"
  },
  "language_info": {
   "codemirror_mode": {
    "name": "ipython",
    "version": 3
   },
   "file_extension": ".py",
   "mimetype": "text/x-python",
   "name": "python",
   "nbconvert_exporter": "python",
   "pygments_lexer": "ipython3",
   "version": "3.9.12"
  }
 },
 "nbformat": 4,
 "nbformat_minor": 5
}
