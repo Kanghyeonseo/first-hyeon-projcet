{
 "cells": [
  {
   "cell_type": "markdown",
   "id": "55a04acd",
   "metadata": {},
   "source": [
    "# Exercise 4\n",
    "___\n",
    "* 두 개의 정수 a, b를 입력으로 받는다. 이때 a < b라는 조건이 항상 지켜진다고 하자. 여러분이 작성할 코드는 a에서 b까지(a, b 포함) 범위의 모든 정수의 배수이면서 가장 작은 값을 갖는 값을 찾는 것이다. 예를 들어 2, 4가 입력되면 2, 3, 4 모두의 배수이면서 가장 작은 값이 되는 12가 답이 된다. 12는 2의 배수, 3의 배수, 4의 배수이다.\n",
    "\n",
    "<span style=\"color: blue\">**실행결과**</span>\n",
    "\n",
    "범위의 시작 정수 : 2  \n",
    "범위의 마지막 정수 : 4  \n",
    "{}에서 {}까지의 정수들의 최소 공배수는 : 12\n",
    "\n",
    "범위의 시작 정수 : 3  \n",
    "범위의 마지막 정수 : 5  \n",
    "{}에서 {}까지의 정수들의 최소 공배수는 : 60"
   ]
  },
  {
   "cell_type": "code",
   "execution_count": 3,
   "id": "35cad9bc",
   "metadata": {},
   "outputs": [
    {
     "name": "stdout",
     "output_type": "stream",
     "text": [
      "범위의 시작 정수 : 2\n",
      "범위의 마지막 정수 : 4\n",
      "{}에서 {}까지의 정수들의 최소 공배수는 : 12\n"
     ]
    }
   ],
   "source": [
    "# a * b // 최대공약수\n",
    "a = int(input(\"범위의 시작 정수 : \"))\n",
    "b = int(input(\"범위의 마지막 정수 : \"))\n",
    "\n",
    "def gcf(n,m):\n",
    "    while m != 0:\n",
    "         n , m = m, n%m\n",
    "    return n\n",
    "\n",
    "# lcm 최소공배수  =  두 수를 곱하고 두 수의 최대공약수로 나눈다\n",
    "# ex) 최대공약수가 a인 두 수가 있다면 (a * b) * (a * c) // a  = a * b * c <- 이게 최소 공배수가 된다. \n",
    "lcm = a\n",
    "for i in range(a, b):\n",
    "    lcm = (lcm * (i + 1)) // gcf(lcm, i + 1)\n",
    "    \n",
    "print(\"{}에서 {}까지의 정수들의 최소 공배수는 :\", lcm)\n",
    "    "
   ]
  },
  {
   "cell_type": "code",
   "execution_count": 4,
   "id": "2a034161",
   "metadata": {},
   "outputs": [
    {
     "name": "stdout",
     "output_type": "stream",
     "text": [
      "범위의 시작 정수 : 3\n",
      "범위의 마지막 정수 : 5\n",
      "{}에서 {}까지의 정수들의 최소 공배수는 : 60\n"
     ]
    }
   ],
   "source": [
    "# a * b // 최대공약수\n",
    "a = int(input(\"범위의 시작 정수 : \"))\n",
    "b = int(input(\"범위의 마지막 정수 : \"))\n",
    "\n",
    "def gcf(n,m):\n",
    "    while m != 0:\n",
    "         n , m = m, n%m\n",
    "    return n\n",
    "\n",
    "# lcm 최소공배수  =  두 수를 곱하고 두 수의 최대공약수로 나눈다\n",
    "# ex) 최대공약수가 a인 두 수가 있다면 (a * b) * (a * c) // a  = a * b * c <- 이게 최소 공배수가 된다. \n",
    "lcm = a\n",
    "for i in range(a, b):\n",
    "    lcm = (lcm * (i + 1)) // gcf(lcm, i + 1)\n",
    "    \n",
    "print(\"{}에서 {}까지의 정수들의 최소 공배수는 :\", lcm)"
   ]
  }
 ],
 "metadata": {
  "kernelspec": {
   "display_name": "Python 3 (ipykernel)",
   "language": "python",
   "name": "python3"
  },
  "language_info": {
   "codemirror_mode": {
    "name": "ipython",
    "version": 3
   },
   "file_extension": ".py",
   "mimetype": "text/x-python",
   "name": "python",
   "nbconvert_exporter": "python",
   "pygments_lexer": "ipython3",
   "version": "3.9.12"
  }
 },
 "nbformat": 4,
 "nbformat_minor": 5
}
