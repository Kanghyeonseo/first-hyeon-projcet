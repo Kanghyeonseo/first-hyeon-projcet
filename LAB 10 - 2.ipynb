{
 "cells": [
  {
   "cell_type": "markdown",
   "id": "8b565d13",
   "metadata": {},
   "source": [
    "# LAB 10 - 2\n",
    "\n",
    "---\n",
    "\n",
    "1. 정수 요소 값을 가진 n_list = [1, 2, 3, 4, 5, 6, 7, 8, 9, 10]라는 리스트가 있다. n_list에서 짝수 값 항목만을 가진 even_list라는 리스트를 람다 함수를 이용하여 아래와 같이 생성해 보자.\n",
    "\n",
    "(1) 이때 even_list라는 빈 리스트를 만든 후 append() 메소드를 이용하여 짝수 값 항목을 추가시켜 보시오.  \n",
    "(2) filter() 함수가 반환하는 객체를 list() 함수를 통하여 리스트 객체로 만들어서 even_list에 할당하시오.\n",
    "\n",
    "<span style = \"color : blue\">**실행결과**</span>\n",
    "\n",
    "even_list = [2, 4, 6, 8, 10]\n"
   ]
  },
  {
   "cell_type": "code",
   "execution_count": 3,
   "id": "fa577f39",
   "metadata": {},
   "outputs": [
    {
     "name": "stdout",
     "output_type": "stream",
     "text": [
      "(1)\n",
      "even_list = [2, 4, 6, 8, 10]\n",
      "(2)\n",
      "even_list = [2, 4, 6, 8, 10]\n"
     ]
    }
   ],
   "source": [
    "n_list = [1, 2, 3, 4, 5, 6, 7, 8, 9, 10]\n",
    "even_list = []\n",
    "\n",
    "for i in n_list:\n",
    "    if i % 2 == 0:\n",
    "        even_list.append(i)\n",
    "\n",
    "print('(1)')\n",
    "print('even_list =', even_list)\n",
    "\n",
    "even_list = list(filter(lambda x: x % 2 == 0, n_list))\n",
    "\n",
    "print('(2)')\n",
    "print('even_list =', even_list)"
   ]
  },
  {
   "cell_type": "markdown",
   "id": "7d2a59a7",
   "metadata": {},
   "source": [
    "2. 1번 문제에서 사용한 n_list 리스트에 람다 함수를 이용하여 홀수 값 항목만을 가진 다음과 같은 odd_list를 생성해 보자.\n",
    "\n",
    "(1) 이때 odd_list라는 빈 리스트를 만든 후 append() 메소드를 이용하여 홀수 값 항목을 추가시켜 보시오.  \n",
    "(2) filter() 함수가 반환하는 객체를 list() 함수를 통하여 리스트 객체로 만들어서 odd_list에 할당하시오.\n",
    "\n",
    "<span style = \"color : blue\">**실행결과**</span>\n",
    "\n",
    "odd_list = [1, 3, 5, 7, 9]"
   ]
  },
  {
   "cell_type": "code",
   "execution_count": 4,
   "id": "25c10c81",
   "metadata": {},
   "outputs": [
    {
     "name": "stdout",
     "output_type": "stream",
     "text": [
      "(1)\n",
      "odd_list = [1, 3, 5, 7, 9]\n",
      "(2)\n",
      "odd_list = [1, 3, 5, 7, 9]\n"
     ]
    }
   ],
   "source": [
    "odd_list = []\n",
    "\n",
    "for i in n_list:\n",
    "    if i % 2 == 1:\n",
    "        odd_list.append(i)\n",
    "\n",
    "print('(1)')\n",
    "print('odd_list =', odd_list)\n",
    "\n",
    "odd_list = list(filter(lambda x: x % 2 == 1, n_list))\n",
    "\n",
    "print('(2)')\n",
    "print('odd_list =', odd_list)"
   ]
  }
 ],
 "metadata": {
  "kernelspec": {
   "display_name": "Python 3 (ipykernel)",
   "language": "python",
   "name": "python3"
  },
  "language_info": {
   "codemirror_mode": {
    "name": "ipython",
    "version": 3
   },
   "file_extension": ".py",
   "mimetype": "text/x-python",
   "name": "python",
   "nbconvert_exporter": "python",
   "pygments_lexer": "ipython3",
   "version": "3.9.12"
  }
 },
 "nbformat": 4,
 "nbformat_minor": 5
}
