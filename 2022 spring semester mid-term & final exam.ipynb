{
 "cells": [
  {
   "cell_type": "markdown",
   "id": "65f0230b",
   "metadata": {},
   "source": [
    "1. 섭씨온도를 0도에서 50도까지 5도 단위로 증가시키면서 이에 해당하는 화씨온도를 계산하여, 섭씨온도와 화씨온도의 값을 보여주는 프로그램을 작성하시오. (화씨온도 = (9/5) * 섭씨온도 + 32)\n"
   ]
  },
  {
   "cell_type": "code",
   "execution_count": 1,
   "id": "fcab9b68",
   "metadata": {},
   "outputs": [
    {
     "name": "stdout",
     "output_type": "stream",
     "text": [
      "섭씨온도 : 0 화씨온도 : 32.0\n",
      "섭씨온도 : 5 화씨온도 : 41.0\n",
      "섭씨온도 : 10 화씨온도 : 50.0\n",
      "섭씨온도 : 15 화씨온도 : 59.0\n",
      "섭씨온도 : 20 화씨온도 : 68.0\n",
      "섭씨온도 : 25 화씨온도 : 77.0\n",
      "섭씨온도 : 30 화씨온도 : 86.0\n",
      "섭씨온도 : 35 화씨온도 : 95.0\n",
      "섭씨온도 : 40 화씨온도 : 104.0\n",
      "섭씨온도 : 45 화씨온도 : 113.0\n",
      "섭씨온도 : 50 화씨온도 : 122.0\n"
     ]
    }
   ],
   "source": [
    "# C는 섭씨온도 F는 화씨온도\n",
    "for C in range(0, 51, 5):\n",
    "    F = (9/5) * C + 32\n",
    "    print('섭씨온도 :', C, '화씨온도 :', F)"
   ]
  },
  {
   "cell_type": "markdown",
   "id": "0bd7a698",
   "metadata": {},
   "source": [
    "2. 아래의 실행 결과를 적으세요.\n",
    "```\n",
    ">>> a = 2 * 2 // 2\n",
    ">>> b = 3 // 2 * 3\n",
    ">>> print(a,b)\n",
    "```"
   ]
  },
  {
   "cell_type": "code",
   "execution_count": 2,
   "id": "ff6cda55",
   "metadata": {},
   "outputs": [
    {
     "name": "stdout",
     "output_type": "stream",
     "text": [
      "2 3\n"
     ]
    }
   ],
   "source": [
    "a = 2 * 2 // 2\n",
    "b = 3 // 2 * 3\n",
    "print(a, b)"
   ]
  },
  {
   "cell_type": "markdown",
   "id": "f2e7377f",
   "metadata": {},
   "source": [
    "3. 10미만의 자연수에서 3과 5의 배수를 구하면 3, 5, 6, 9이다. 이들의 총합은 23이다. 1000미만의 자연수에서 3의 배수와 5의 배수의 총합을 구하시오."
   ]
  },
  {
   "cell_type": "code",
   "execution_count": 4,
   "id": "e80a986c",
   "metadata": {},
   "outputs": [
    {
     "name": "stdout",
     "output_type": "stream",
     "text": [
      "총합 : 233168\n"
     ]
    }
   ],
   "source": [
    "# 배수의 총합을 s라는 변수로 설정함\n",
    "s = 0\n",
    "for i in range(1, 1000):                     # 1000미만 자연수\n",
    "    if (i % 3 == 0) or (i % 5 == 0):        # 3의 배수 or 5의 배수일 때 합 추가\n",
    "        s += i\n",
    "\n",
    "print('총합 :', s)"
   ]
  }
 ],
 "metadata": {
  "kernelspec": {
   "display_name": "Python 3 (ipykernel)",
   "language": "python",
   "name": "python3"
  },
  "language_info": {
   "codemirror_mode": {
    "name": "ipython",
    "version": 3
   },
   "file_extension": ".py",
   "mimetype": "text/x-python",
   "name": "python",
   "nbconvert_exporter": "python",
   "pygments_lexer": "ipython3",
   "version": "3.9.12"
  }
 },
 "nbformat": 4,
 "nbformat_minor": 5
}
