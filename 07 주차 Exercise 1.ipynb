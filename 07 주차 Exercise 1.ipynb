{
 "cells": [
  {
   "cell_type": "markdown",
   "id": "80603926",
   "metadata": {},
   "source": [
    "# Exercise 1\n",
    "___\n",
    "* 로미오와 줄리엣 두 사람이 주사위를 던져서 높은 숫자가 나오면 이기는 게임을 만들어보자. 로미오와 줄리엣의 주사위는 모두 다음과 같이 random 모듈의 randrange( )를 통해서 생성한 난수를 바탕으로 한다. 출력 결과는 다음과 같이 로미오가 이기거나, 줄리엣이 이기거나, 비기는 결과가 나와야 한다.\n",
    "\n",
    "<span style=\"color: blue\">**실행결과**</span>\n",
    "\n",
    "로미오의 주사위 숫자는 1 입니다.  \n",
    "줄리엣의 주사위 숫자는 6 입니다.  \n",
    "줄리엣이 이겼습니다."
   ]
  },
  {
   "cell_type": "code",
   "execution_count": 5,
   "id": "a38fe159",
   "metadata": {},
   "outputs": [
    {
     "name": "stdout",
     "output_type": "stream",
     "text": [
      "로미오의 주사위 숫자는 3 입니다.\n",
      "줄리엣의 주사위 숫자는 4 입니다.\n",
      "줄리엣이 이겼습니다.\n"
     ]
    }
   ],
   "source": [
    "import random as rd\n",
    "\n",
    "ro = rd.randrange(1, 7)   # 로미오 주사위\n",
    "jul = rd.randrange(1, 7)   # 줄리엣 주사위\n",
    "\n",
    "print(\"로미오의 주사위 숫자는 {} 입니다.\".format(ro))\n",
    "print(\"줄리엣의 주사위 숫자는 {} 입니다.\".format(jul))\n",
    "\n",
    "# 결과\n",
    "if ro > jul:\n",
    "    print(\"로미오가 이겼습니다.\")\n",
    "elif ro == jul:\n",
    "    print(\"비겼습니다.\")\n",
    "else: # ro < jul\n",
    "    print(\"줄리엣이 이겼습니다.\")"
   ]
  }
 ],
 "metadata": {
  "kernelspec": {
   "display_name": "Python 3 (ipykernel)",
   "language": "python",
   "name": "python3"
  },
  "language_info": {
   "codemirror_mode": {
    "name": "ipython",
    "version": 3
   },
   "file_extension": ".py",
   "mimetype": "text/x-python",
   "name": "python",
   "nbconvert_exporter": "python",
   "pygments_lexer": "ipython3",
   "version": "3.9.12"
  }
 },
 "nbformat": 4,
 "nbformat_minor": 5
}
