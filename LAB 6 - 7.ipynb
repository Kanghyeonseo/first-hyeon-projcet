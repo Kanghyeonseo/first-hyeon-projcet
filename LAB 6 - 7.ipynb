{
 "cells": [
  {
   "cell_type": "markdown",
   "id": "dda0e5a9",
   "metadata": {},
   "source": [
    "# LAB 6 - 7\n",
    "___\n",
    "1. 2019001이라는 학번과 '홍길동'이라는 이름, 179라는 키를 튜플의 요소로 가지는 튜플 객체와 참조 변수 person을 생성하여라.\n"
   ]
  },
  {
   "cell_type": "code",
   "execution_count": 1,
   "id": "70ac3672",
   "metadata": {},
   "outputs": [],
   "source": [
    "person = ('홍길동', 2019001, 179)"
   ]
  },
  {
   "cell_type": "markdown",
   "id": "5f2870f7",
   "metadata": {},
   "source": [
    "2. person의 학번을 2019003으로 변경하여라. 어떤 오류가 발생하는가?"
   ]
  },
  {
   "cell_type": "code",
   "execution_count": 2,
   "id": "76b1945d",
   "metadata": {},
   "outputs": [
    {
     "ename": "TypeError",
     "evalue": "'tuple' object does not support item assignment",
     "output_type": "error",
     "traceback": [
      "\u001b[1;31m---------------------------------------------------------------------------\u001b[0m",
      "\u001b[1;31mTypeError\u001b[0m                                 Traceback (most recent call last)",
      "Input \u001b[1;32mIn [2]\u001b[0m, in \u001b[0;36m<cell line: 1>\u001b[1;34m()\u001b[0m\n\u001b[1;32m----> 1\u001b[0m person[\u001b[38;5;241m1\u001b[39m] \u001b[38;5;241m=\u001b[39m \u001b[38;5;241m2019003\u001b[39m\n",
      "\u001b[1;31mTypeError\u001b[0m: 'tuple' object does not support item assignment"
     ]
    }
   ],
   "source": [
    "# 불변 자료형으로 내부 값을 변화시킬 수 없다.\n",
    "person[1] = 2019003"
   ]
  },
  {
   "cell_type": "markdown",
   "id": "9d377d44",
   "metadata": {},
   "source": [
    "3. person을 리스트로 변환하여 학번을 2020003으로 변경한 후 이를 다시 튜플로 변환하여 다음과 같이 출력하여라.\n",
    "\n",
    "<span style=\"color: blue\">**실행결과**</span>\n",
    "\n",
    "학번 변동 후 person = ('홍길동', 2020003, 179)"
   ]
  },
  {
   "cell_type": "code",
   "execution_count": 4,
   "id": "4c8e7605",
   "metadata": {},
   "outputs": [
    {
     "name": "stdout",
     "output_type": "stream",
     "text": [
      "학번 변동 후 person = ('홍길동', 2020003, 179)\n"
     ]
    }
   ],
   "source": [
    "# temp_list라는 리스트에 person 튜플 리스트로 변환한 것 저장\n",
    "temp_list = list(person)\n",
    "\n",
    "# 학번 변동\n",
    "temp_list[1] = 2020003\n",
    "\n",
    "# 다시 리스트에서 튜플로 변환\n",
    "person = tuple(temp_list)\n",
    "\n",
    "# 출력\n",
    "print(\"학번 변동 후 person =\", person)"
   ]
  }
 ],
 "metadata": {
  "kernelspec": {
   "display_name": "Python 3 (ipykernel)",
   "language": "python",
   "name": "python3"
  },
  "language_info": {
   "codemirror_mode": {
    "name": "ipython",
    "version": 3
   },
   "file_extension": ".py",
   "mimetype": "text/x-python",
   "name": "python",
   "nbconvert_exporter": "python",
   "pygments_lexer": "ipython3",
   "version": "3.9.12"
  }
 },
 "nbformat": 4,
 "nbformat_minor": 5
}
