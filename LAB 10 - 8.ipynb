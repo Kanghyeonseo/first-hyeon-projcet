{
 "cells": [
  {
   "cell_type": "markdown",
   "id": "01933437",
   "metadata": {},
   "source": [
    "# LAB 10 - 8\n",
    "\n",
    "---\n",
    "\n",
    "1. 다음 코드의 실행 결과는 무엇인가?\n",
    "\n",
    "```py\n",
    ">>> txt = 'Welcome to Busan Metropolitan City.'\n",
    ">>> txt.split()\n",
    "```"
   ]
  },
  {
   "cell_type": "code",
   "execution_count": 1,
   "id": "ef587a74",
   "metadata": {},
   "outputs": [
    {
     "name": "stdout",
     "output_type": "stream",
     "text": [
      "['Welcome', 'to', 'Busan', 'Metropolitan', 'City.']\n"
     ]
    }
   ],
   "source": [
    "txt = 'Welcome to Busan Metropolitan City.'\n",
    "print(txt.split())\n"
   ]
  },
  {
   "cell_type": "markdown",
   "id": "f272aa62",
   "metadata": {},
   "source": [
    "2. 다음 코드의 실행 결과는 무엇인가?\n",
    "\n",
    "```py\n",
    ">>> greet = 'Hello,My name is DongMin,Good to see you again'\n",
    ">>> greet.split(',')\n",
    "```"
   ]
  },
  {
   "cell_type": "code",
   "execution_count": 2,
   "id": "37858c1c",
   "metadata": {},
   "outputs": [
    {
     "name": "stdout",
     "output_type": "stream",
     "text": [
      "['Hello', 'My name is DongMin', 'Good to see you again']\n"
     ]
    }
   ],
   "source": [
    "greet = 'Hello,My name is DongMin,Good to see you again'\n",
    "print(greet.split(','))"
   ]
  }
 ],
 "metadata": {
  "kernelspec": {
   "display_name": "Python 3 (ipykernel)",
   "language": "python",
   "name": "python3"
  },
  "language_info": {
   "codemirror_mode": {
    "name": "ipython",
    "version": 3
   },
   "file_extension": ".py",
   "mimetype": "text/x-python",
   "name": "python",
   "nbconvert_exporter": "python",
   "pygments_lexer": "ipython3",
   "version": "3.9.12"
  }
 },
 "nbformat": 4,
 "nbformat_minor": 5
}
