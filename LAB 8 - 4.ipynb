{
 "cells": [
  {
   "cell_type": "markdown",
   "id": "47a479b7",
   "metadata": {},
   "source": [
    "# LAB 8 - 4\n",
    "---\n",
    "1. 다음과 같은 내용을 가지는 numbers.txt 파일을 파이썬의 write() 메소드를 이용하여 작성하여라. 이때 아래와 같이 줄바꿈이 되도록 하자.\n",
    "\n",
    "<span style = \"color : blue\">**실행결과**</span>\n",
    "\n",
    "100  \n",
    "200  \n",
    "300  \n",
    "400  \n"
   ]
  },
  {
   "cell_type": "code",
   "execution_count": 1,
   "id": "fda85867",
   "metadata": {},
   "outputs": [],
   "source": [
    "f = open('numbers.txt', 'w')\n",
    "f.write('100\\n')\n",
    "f.write('200\\n')\n",
    "f.write('300\\n')\n",
    "f.write('400\\n')\n",
    "f.close()"
   ]
  },
  {
   "cell_type": "markdown",
   "id": "e40b7501",
   "metadata": {},
   "source": [
    "2. 다음과 같은 내용을 가지는 we_will_rock.txt 파일을 파이썬의 write() 메소드를 이용하여 작성하여라. 따옴표의 출력에 주의하여 프로그램을 작성하자.\n",
    "\n",
    "<span style = \"color : blue\">**실행결과**</span>\n",
    "\n",
    "Buddy, you're a boy, make a big noise  \n",
    "Playing in the street, gonna be a big man someday  \n",
    "You got mud on your face, you big disgrace  \n",
    "Kicking your can all over the place, singin'  \n",
    "We will, we will rock you  \n",
    "We will, we will rock you"
   ]
  },
  {
   "cell_type": "code",
   "execution_count": 2,
   "id": "6cc3d3a4",
   "metadata": {},
   "outputs": [],
   "source": [
    "f = open('we_will_rock.txt', 'w')\n",
    "f.write(\"Buddy, you're a boy, make a big noise\\n\")\n",
    "f.write(\"Playing in the street, gonna be a big man someday\\n\")\n",
    "f.write(\"You got mud on your face, you big disgrace\\n\")\n",
    "f.write(\"Kicking your can all over the place, singin'\\n\")\n",
    "f.write(\"We will, we will rock you\\n\")\n",
    "f.write(\"We will, we will rock you\")\n",
    "f.close()"
   ]
  }
 ],
 "metadata": {
  "kernelspec": {
   "display_name": "Python 3 (ipykernel)",
   "language": "python",
   "name": "python3"
  },
  "language_info": {
   "codemirror_mode": {
    "name": "ipython",
    "version": 3
   },
   "file_extension": ".py",
   "mimetype": "text/x-python",
   "name": "python",
   "nbconvert_exporter": "python",
   "pygments_lexer": "ipython3",
   "version": "3.9.12"
  }
 },
 "nbformat": 4,
 "nbformat_minor": 5
}
