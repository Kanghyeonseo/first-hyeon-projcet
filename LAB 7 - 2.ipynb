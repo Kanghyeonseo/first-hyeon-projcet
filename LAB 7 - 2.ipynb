{
 "cells": [
  {
   "cell_type": "markdown",
   "id": "866d60b1",
   "metadata": {},
   "source": [
    "# LAB 7 - 2\n",
    "\n",
    "---\n",
    "\n",
    "1. 오늘 날짜와 함께 2025년 크리스마스까지의 남은 날짜와 시간을 구해서 출력해보자.\n",
    "\n",
    " \n",
    "\n",
    "<span style = \"color : blue\">**실행결과**</span>\n",
    "\n",
    " \n",
    "\n",
    "오늘은 2019년 8월 29일 입니다.  \n",
    "\n",
    "2025년 크리스마스 까지는 2309일 16시간 남았습니다."
   ]
  },
  {
   "cell_type": "code",
   "execution_count": 2,
   "id": "b4c9cad4",
   "metadata": {},
   "outputs": [
    {
     "name": "stdout",
     "output_type": "stream",
     "text": [
      "오늘은 2022년 10월 15일 입니다\n",
      "2025년 크리스마스 까지는 1166일 19시간 남았습니다.\n"
     ]
    }
   ],
   "source": [
    "import datetime as dt\n",
    "\n",
    "today = dt.date.today()\n",
    " \n",
    "print('오늘은 {}년 {}월 {}일 입니다'.format(today.year, today.month, today.day))\n",
    "\n",
    "xMas = dt.datetime(2025, 12, 25)     # 2025년 크리스마스 날짜\n",
    "time_gap = xMas - dt.datetime.now()  # 날짜차이\n",
    "\n",
    "print('2025년 크리스마스 까지는 {}일 {}시간 남았습니다.'.format(time_gap.days,time_gap.seconds // 3600)) "
   ]
  },
  {
   "cell_type": "markdown",
   "id": "2d017b53",
   "metadata": {},
   "source": [
    "2. 2036년 1월 1일까지의 남은 날짜와 시간을 구해서 출력해보자.\n",
    "\n",
    "<span style = \"color : blue\">**실행결과**</span>\n",
    "\n",
    "오늘은 2019년 8월 29일 입니다.  \n",
    "2036년 새해 까지는 5988일 15시간 남았습니다."
   ]
  },
  {
   "cell_type": "code",
   "execution_count": 3,
   "id": "5c43ed7b",
   "metadata": {},
   "outputs": [
    {
     "name": "stdout",
     "output_type": "stream",
     "text": [
      "오늘은 2022년 10월 15일 입니다\n",
      "2036년 새해 까지는 4825일 19시간 남았습니다.\n"
     ]
    }
   ],
   "source": [
    "print('오늘은 {}년 {}월 {}일 입니다'.format(today.year, today.month, today.day))\n",
    "\n",
    "new_year = dt.datetime(2036, 1, 1)      # 2036년 새해 날짜\n",
    "time_gap = new_year - dt.datetime.now() # 날짜차이\n",
    " \n",
    "print('2036년 새해 까지는 {}일 {}시간 남았습니다.'.format(time_gap.days,time_gap.seconds // 3600))"
   ]
  },
  {
   "cell_type": "markdown",
   "id": "9af3724b",
   "metadata": {},
   "source": [
    "3. 다가오는 자신의 생일까지 남은 날짜와 시간을 출력해보자.\n",
    "\n",
    " \n",
    "\n",
    "<span style = \"color : blue\">**실행결과**</span>\n",
    "\n",
    " \n",
    "\n",
    "오늘은 2019년 8월 29일 입니다.  \n",
    "\n",
    "2020년 생일까지는 309일 15시간 남았습니다."
   ]
  },
  {
   "cell_type": "code",
   "execution_count": 4,
   "id": "f2142380",
   "metadata": {},
   "outputs": [
    {
     "name": "stdout",
     "output_type": "stream",
     "text": [
      "오늘은 2022년 10월 15일 입니다\n",
      "2023년 생일까지는 284일 19시간 남았습니다.\n"
     ]
    }
   ],
   "source": [
    "print('오늘은 {}년 {}월 {}일 입니다'.format(today.year, today.month, today.day))\n",
    "\n",
    " \n",
    "\n",
    "birthday = dt.datetime(2023, 7, 27)       # 제일 빠른 나의 생일\n",
    "time_gap = birthday - dt.datetime.now()   # 날짜차이\n",
    "\n",
    "print('2023년 생일까지는 {}일 {}시간 남았습니다.'.format(time_gap.days,time_gap.seconds // 3600))"
   ]
  }
 ],
 "metadata": {
  "kernelspec": {
   "display_name": "Python 3 (ipykernel)",
   "language": "python",
   "name": "python3"
  },
  "language_info": {
   "codemirror_mode": {
    "name": "ipython",
    "version": 3
   },
   "file_extension": ".py",
   "mimetype": "text/x-python",
   "name": "python",
   "nbconvert_exporter": "python",
   "pygments_lexer": "ipython3",
   "version": "3.9.12"
  }
 },
 "nbformat": 4,
 "nbformat_minor": 5
}
