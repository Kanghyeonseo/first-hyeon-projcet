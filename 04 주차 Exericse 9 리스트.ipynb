{
 "cells": [
  {
   "cell_type": "markdown",
   "id": "7a828661",
   "metadata": {},
   "source": [
    "# Exercise 9\n",
    "___\n",
    "* 문자열 src가 'aaaabbb' 와 같을 경우 이를 입축하는 방법으로 'a4b3' 과 같이 문자와 그 반복횟수를 표시하는 방법이 있을 것이다. 문자열 'aaaabccccaaaaacca' 에서 같은 문자가 있을 경우 이를 'a4b1c4a5c3f1g1' 과 같은 output 문자열로 압축해보자.\n",
    "\n",
    "<span style=\"color: blue\">**실행결과**</span>\n",
    "\n",
    "src = 'aaaabbb'  \n",
    "output = 'a4b3'\n",
    "\n",
    "src = ' '  \n",
    "output = ' '\n",
    "\n",
    "src = 'a'  \n",
    "output = 'a1'\n"
   ]
  },
  {
   "cell_type": "code",
   "execution_count": 29,
   "id": "8238b6f5",
   "metadata": {},
   "outputs": [
    {
     "name": "stdout",
     "output_type": "stream",
     "text": [
      "src = aaaabbb\n",
      "output = a4b3\n"
     ]
    }
   ],
   "source": [
    "src = 'aaaabbb'\n",
    "output = src[0]          # 압축 문자열 (미리 처음 문자 저장해두기)\n",
    "count = 0                # 숫자 카운팅  (처음 수 하나 세고 시작)\n",
    "\n",
    "for i in src:           \n",
    "    if i == output[-1]:  # i일때 문자가 변하지 않았다면 output[-1]은 변하기 전의 문자와 같다 그래서 숫자 추가\n",
    "        count += 1\n",
    "    else:                # i일떄 문자가 변했다면 이제까지 저장된 숫자와 그 다음 문자 저장\n",
    "        output += str(count) + i\n",
    "        count = 1\n",
    "output += str(count)     # 반복문에서 마지막에 숫자를 추가 못해주기 때문에 마지막 문자의 개수 숫자추가\n",
    "\n",
    "print(\"src =\", src)\n",
    "if src == ' ':           # 문자가 비었을 경우 ' ' 출력\n",
    "    print(\"output = ' '\", )\n",
    "else:                    # 아니라면 그대로 output 출력\n",
    "    print(\"output =\", output)"
   ]
  },
  {
   "cell_type": "code",
   "execution_count": 30,
   "id": "4f0a57c3",
   "metadata": {},
   "outputs": [
    {
     "name": "stdout",
     "output_type": "stream",
     "text": [
      "scr = ' '\n",
      "output = ' '\n"
     ]
    }
   ],
   "source": [
    "src = ' '\n",
    "output = src[0]          # 압축 문자열 (미리 처음 문자 저장해두기)\n",
    "count = 0                # 숫자 카운팅  (처음 수 하나 세고 시작)\n",
    "\n",
    "for i in src:           \n",
    "    if i == output[-1]:  # i일때 문자가 변하지 않았다면 output[-1]은 변하기 전의 문자와 같다 그래서 숫자 추가\n",
    "        count += 1\n",
    "    else:                # i일떄 문자가 변했다면 이제까지 저장된 숫자와 그 다음 문자 저장\n",
    "        output += str(count) + i\n",
    "        count = 1\n",
    "output += str(count)     # 반복문에서 마지막에 숫자를 추가 못해주기 때문에 마지막 문자의 개수 숫자추가\n",
    "\n",
    "\n",
    "if src == ' ':           # 문자가 비었을 경우 ' ' 출력\n",
    "    print(\"scr = ' '\")\n",
    "    print(\"output = ' '\", )\n",
    "else:                    # 아니라면 그대로 output 출력\n",
    "    print(\"src =\", src)\n",
    "    print(\"output =\", output)"
   ]
  },
  {
   "cell_type": "code",
   "execution_count": 27,
   "id": "ba3c71c4",
   "metadata": {},
   "outputs": [
    {
     "name": "stdout",
     "output_type": "stream",
     "text": [
      "src = a\n",
      "output = a1\n"
     ]
    }
   ],
   "source": [
    "src = 'a'\n",
    "output = src[0]          # 압축 문자열 (미리 처음 문자 저장해두기)\n",
    "count = 0                # 숫자 카운팅  (처음 수 하나 세고 시작)\n",
    "\n",
    "for i in src:           \n",
    "    if i == output[-1]:  # i일때 문자가 변하지 않았다면 output[-1]은 변하기 전의 문자와 같다 그래서 숫자 추가\n",
    "        count += 1\n",
    "    else:                # i일떄 문자가 변했다면 이제까지 저장된 숫자와 그 다음 문자 저장\n",
    "        output += str(count) + i\n",
    "        count = 1\n",
    "output += str(count)     # 반복문에서 마지막에 숫자를 추가 못해주기 때문에 마지막 문자의 개수 숫자추가\n",
    "\n",
    "print(\"src =\", src)\n",
    "if src == ' ':           # 문자가 비었을 경우 ' ' 출력\n",
    "    print(\"output = ' '\", )\n",
    "else:                    # 아니라면 그대로 output 출력\n",
    "    print(\"output =\", output)"
   ]
  }
 ],
 "metadata": {
  "kernelspec": {
   "display_name": "Python 3 (ipykernel)",
   "language": "python",
   "name": "python3"
  },
  "language_info": {
   "codemirror_mode": {
    "name": "ipython",
    "version": 3
   },
   "file_extension": ".py",
   "mimetype": "text/x-python",
   "name": "python",
   "nbconvert_exporter": "python",
   "pygments_lexer": "ipython3",
   "version": "3.9.12"
  }
 },
 "nbformat": 4,
 "nbformat_minor": 5
}
