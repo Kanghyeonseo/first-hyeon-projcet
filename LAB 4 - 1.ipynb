{
 "cells": [
  {
   "cell_type": "markdown",
   "id": "f65e3b8e",
   "metadata": {},
   "source": [
    "# LAB 4 - 1\n",
    "___\n",
    "1. [코드 4 - 1]의 함수 호출문을 삭제하면 어떻게 되는가?  \n",
    "코드 4 - 1  \n",
    "```\n",
    "def print_star():\n",
    "    print(\"**********************\")  \n",
    "print_star()\n",
    "```"
   ]
  },
  {
   "cell_type": "markdown",
   "id": "9f629437",
   "metadata": {},
   "source": [
    "### 답 : 아무것도 출력되지 않는다."
   ]
  },
  {
   "cell_type": "markdown",
   "id": "820c7e4c",
   "metadata": {},
   "source": [
    "2. [코드 4 - 2]를 수정하여 6줄의 별표를 출력해 보시오. 이때 함수 호출을 6회 하시오.  \n",
    "코드 4 - 2  \n",
    "```\n",
    "def print_star():  \n",
    "    print('********************')  \n",
    "print_star()  \n",
    "print_star()  \n",
    "print_star()  \n",
    "print_star()\n",
    "```\n",
    "\n",
    "<span style=\"color: blue\">**실행결과**</span>\n",
    "\n",
    "```\n",
    "********************  \n",
    "********************  \n",
    "********************  \n",
    "********************  \n",
    "********************  \n",
    "********************  \n",
    "```"
   ]
  },
  {
   "cell_type": "code",
   "execution_count": 2,
   "id": "b37c42a9",
   "metadata": {},
   "outputs": [
    {
     "name": "stdout",
     "output_type": "stream",
     "text": [
      "********************\n",
      "********************\n",
      "********************\n",
      "********************\n",
      "********************\n",
      "********************\n"
     ]
    }
   ],
   "source": [
    "def print_star():\n",
    "    print('********************')\n",
    "    \n",
    "# 함수 6회 호출\n",
    "print_star()\n",
    "print_star()\n",
    "print_star()\n",
    "print_star()\n",
    "print_star()\n",
    "print_star()"
   ]
  }
 ],
 "metadata": {
  "kernelspec": {
   "display_name": "Python 3 (ipykernel)",
   "language": "python",
   "name": "python3"
  },
  "language_info": {
   "codemirror_mode": {
    "name": "ipython",
    "version": 3
   },
   "file_extension": ".py",
   "mimetype": "text/x-python",
   "name": "python",
   "nbconvert_exporter": "python",
   "pygments_lexer": "ipython3",
   "version": "3.9.12"
  }
 },
 "nbformat": 4,
 "nbformat_minor": 5
}
