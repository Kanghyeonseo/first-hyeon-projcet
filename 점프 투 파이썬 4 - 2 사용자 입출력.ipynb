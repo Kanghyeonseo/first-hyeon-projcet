{
 "cells": [
  {
   "cell_type": "markdown",
   "id": "d25dc859",
   "metadata": {},
   "source": [
    "### 사용자 입력\n",
    "\n",
    "* input은 입력되는 모든 것을 문자열로 취급\n",
    "\n",
    "예)\n",
    "```py\n",
    ">>> a = input()\n",
    "hi, hello!\n",
    ">>> print(a)\n",
    "hi, hello!\n",
    "\n",
    "# 프롬프트를 띄워서 사용자 입력 받기 input(\"질문내용\")\n",
    "\n",
    ">>> number = input(\"숫자를 입력하세요: \")\n",
    "숫자를 입력하세요: 123456\n",
    ">>> print(number)\n",
    "123456\n",
    "```\n",
    "\n",
    "### print 자세히 알기\n",
    "\n",
    "1. 큰따옴표(\")로 둘러싸인 문자열은 + 연산과 동일하다\n",
    "```py\n",
    ">>> print(\"Life\"\"is\"\"too short\")\n",
    "Lifeistoo short\n",
    ">>> print(\"Life\" + \"is\" + \"too short\")\n",
    "Lifeistoo short\n",
    "```\n",
    "\n",
    "2. 문자열 띄어쓰기는 콤마로 한다\n",
    "```py\n",
    ">>> print(\"Life\", \"is\", \"too short\")\n",
    "Life is too short\n",
    "```\n",
    "\n",
    "3. 한 줄에 결괏값 출력하기 -> 매개변수 end를 사용해 끝 문자를 지정\n",
    "```py\n",
    ">>> for i in range(10):\n",
    "        print(i, end = ' ')  # i 출력 끝에 공백 출력 후 이어 출력하기    \n",
    "\n",
    "0 1 2 3 4 5 6 7 8 9\n",
    "```"
   ]
  }
 ],
 "metadata": {
  "kernelspec": {
   "display_name": "Python 3 (ipykernel)",
   "language": "python",
   "name": "python3"
  },
  "language_info": {
   "codemirror_mode": {
    "name": "ipython",
    "version": 3
   },
   "file_extension": ".py",
   "mimetype": "text/x-python",
   "name": "python",
   "nbconvert_exporter": "python",
   "pygments_lexer": "ipython3",
   "version": "3.9.12"
  }
 },
 "nbformat": 4,
 "nbformat_minor": 5
}
