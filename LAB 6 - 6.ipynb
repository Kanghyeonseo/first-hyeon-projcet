{
 "cells": [
  {
   "cell_type": "markdown",
   "id": "8959f31a",
   "metadata": {},
   "source": [
    "# LAB 6 - 6\n",
    "___\n",
    "1. (1919, 3, 1)의 요소 값을 가지는 the_day 튜플을 생성하여라. 그리고 이 튜플의 요소를 언패킹을 통해 year, month, day 변수에 할당한 후 다음과 같이 출력하여라.\n",
    "\n",
    "<span style=\"color: blue\">**실행결과**</span>\n",
    "\n",
    "1919년 3월 1일은 삼일절입니다."
   ]
  },
  {
   "cell_type": "code",
   "execution_count": 1,
   "id": "10eeaffc",
   "metadata": {},
   "outputs": [
    {
     "name": "stdout",
     "output_type": "stream",
     "text": [
      "1919년 3월 1일은 삼일절입니다.\n"
     ]
    }
   ],
   "source": [
    "# 튜플 생성\n",
    "the_day = (1919, 3, 1)\n",
    "\n",
    "# 언패킹\n",
    "year, month, day = the_day\n",
    "\n",
    "# 출력\n",
    "print(\"{}년 {}월 {}일은 삼일절입니다.\".format(year, month, day))"
   ]
  },
  {
   "cell_type": "markdown",
   "id": "36be1bf0",
   "metadata": {},
   "source": [
    "2. 10, 20, 30의 순서대로 이루어진 리스트를 튜플로 변환하여 a, b, c에 언패킹한 후 이를 다음과 같이 출력하여라.\n",
    "\n",
    "<span style=\"color: blue\">**실행결과**</span>\n",
    "\n",
    "a = 30  \n",
    "b = 20  \n",
    "c = 10"
   ]
  },
  {
   "cell_type": "code",
   "execution_count": 2,
   "id": "f1e7596c",
   "metadata": {},
   "outputs": [
    {
     "name": "stdout",
     "output_type": "stream",
     "text": [
      "a = 30\n",
      "b = 20\n",
      "c = 10\n"
     ]
    }
   ],
   "source": [
    "# 10, 20, 30의 순서대로 이루어진 리스트 list1\n",
    "list1 = [10, 20, 30]\n",
    "\n",
    "# 튜플 tuple1 으로 리스트 변환\n",
    "tuple1 = tuple(list1)\n",
    "\n",
    "# 언패킹\n",
    "c, b, a = tuple1\n",
    "\n",
    "# 출력\n",
    "print(\"a =\", a)\n",
    "print(\"b =\", b)\n",
    "print(\"c =\", c)"
   ]
  }
 ],
 "metadata": {
  "kernelspec": {
   "display_name": "Python 3 (ipykernel)",
   "language": "python",
   "name": "python3"
  },
  "language_info": {
   "codemirror_mode": {
    "name": "ipython",
    "version": 3
   },
   "file_extension": ".py",
   "mimetype": "text/x-python",
   "name": "python",
   "nbconvert_exporter": "python",
   "pygments_lexer": "ipython3",
   "version": "3.9.12"
  }
 },
 "nbformat": 4,
 "nbformat_minor": 5
}
