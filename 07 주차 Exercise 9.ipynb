{
 "cells": [
  {
   "cell_type": "markdown",
   "id": "37f64f8e",
   "metadata": {},
   "source": [
    "# Exercise 9\n",
    "___\n",
    "* 0부터 1,000,000까지의 임의의 정수를 10개 연속적으로 출력하는 의사난수 함수 myRand()를 생성하여라.\n",
    "\n",
    "<span style=\"color: blue\">**실행결과**</span>\n",
    "\n",
    "972053  \n",
    "813507  \n",
    "258569  \n",
    "458378  \n",
    "485654  \n",
    "30458  \n",
    "311241  \n",
    "129124  \n",
    "141294  \n",
    "419129  \n"
   ]
  },
  {
   "cell_type": "code",
   "execution_count": 3,
   "id": "59ca8b01",
   "metadata": {},
   "outputs": [
    {
     "name": "stdout",
     "output_type": "stream",
     "text": [
      "95335\n",
      "934495\n",
      "397668\n",
      "699595\n",
      "798951\n",
      "628646\n",
      "891590\n",
      "236545\n",
      "833686\n",
      "352216\n"
     ]
    }
   ],
   "source": [
    "import random as rd\n",
    "\n",
    "def myRand():\n",
    "    for i in range(10):      # 10개 출력\n",
    "        print(rd.randrange(1000001))  # 0~1,000,000까지의 임의의 정수 출력\n",
    "\n",
    "myRand()"
   ]
  }
 ],
 "metadata": {
  "kernelspec": {
   "display_name": "Python 3 (ipykernel)",
   "language": "python",
   "name": "python3"
  },
  "language_info": {
   "codemirror_mode": {
    "name": "ipython",
    "version": 3
   },
   "file_extension": ".py",
   "mimetype": "text/x-python",
   "name": "python",
   "nbconvert_exporter": "python",
   "pygments_lexer": "ipython3",
   "version": "3.9.12"
  }
 },
 "nbformat": 4,
 "nbformat_minor": 5
}
