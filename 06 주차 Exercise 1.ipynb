{
 "cells": [
  {
   "cell_type": "markdown",
   "id": "3acaf2a8",
   "metadata": {},
   "source": [
    "# Exercise 1\n",
    "___\n",
    "* 사용자로부터 임의의 수를 연속적으로 입력받도록 하시오. 이 수들에 대한 평균값, 최댓값, 최솟값을 반환하는 함수 mean_of_n(nums), max_of_n(nums), min_of_n(nums)을 구현하여 다음과 같이 출력하여라\n",
    "\n",
    "<span style=\"color: blue\">**실행결과**</span>\n",
    "\n",
    "정수를 여러 개 입력하시오 : 3 45 32 5 7 8 4 44 5 90 17  \n",
    "평균값은 23.6  \n",
    "최댓값은 90  \n",
    "최솟값은 3"
   ]
  },
  {
   "cell_type": "code",
   "execution_count": 1,
   "id": "5006625c",
   "metadata": {},
   "outputs": [
    {
     "name": "stdout",
     "output_type": "stream",
     "text": [
      "정수를 여러 개 입력하시오 : 3 45 32 5 7 8 4 44 5 90 17\n",
      "평균값은 23.6\n",
      "최댓값은 90\n",
      "최솟값은 3\n"
     ]
    }
   ],
   "source": [
    "# 먼저 여러 개의 정수를 문자열로 입력 받는다.\n",
    "s = input(\"정수를 여러 개 입력하시오 : \")\n",
    "\n",
    "nums = s.split(' ')           # 공백을 기준으로 나눠준다.\n",
    "nums = list(map(int, nums))   # 나눈 문자들을 숫자로 바꿔준다.\n",
    "\n",
    "# 평균값 구하는 함수\n",
    "def mean_of_n(nums):\n",
    "    mean = sum(nums) / len(nums)\n",
    "    return mean\n",
    "\n",
    "# 최댓값 구하는 함수\n",
    "def max_of_n(nums):\n",
    "    max_num = max(nums)\n",
    "    return max_num\n",
    "\n",
    "# 최솟값 구하는 함수\n",
    "def min_of_n(nums):\n",
    "    min_num = min(nums)\n",
    "    return min_num\n",
    "\n",
    "print(\"평균값은 {:.1f}\".format(mean_of_n(nums)))\n",
    "print(\"최댓값은\", max_of_n(nums))\n",
    "print(\"최솟값은\", min_of_n(nums))"
   ]
  }
 ],
 "metadata": {
  "kernelspec": {
   "display_name": "Python 3 (ipykernel)",
   "language": "python",
   "name": "python3"
  },
  "language_info": {
   "codemirror_mode": {
    "name": "ipython",
    "version": 3
   },
   "file_extension": ".py",
   "mimetype": "text/x-python",
   "name": "python",
   "nbconvert_exporter": "python",
   "pygments_lexer": "ipython3",
   "version": "3.9.12"
  }
 },
 "nbformat": 4,
 "nbformat_minor": 5
}
