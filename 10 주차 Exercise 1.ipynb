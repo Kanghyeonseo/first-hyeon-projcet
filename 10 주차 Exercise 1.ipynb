{
 "cells": [
  {
   "cell_type": "markdown",
   "id": "1000ea93",
   "metadata": {},
   "source": [
    "# Exercise 1\n",
    "---\n",
    "1. 다음과 같은 기능을 가지는 클래스를 정의하고, 인스턴스를 생성하여라.\n",
    "-\t이름(name)과 나이(age)를 속성으로 가지는 Dog 클래스를 정의하여라\n",
    "-\t이름으로 ‘Mango’, 나이로 3의 값을 가지는 my_dog 인스턴스를 생성하여라\n",
    "-\tmy_dog의 이름과 나이를 다음과 같이 출력하여라. \n",
    "-\t단, 문자열화 메소드 __str__( )를 구현하여 print(my_dog)의 결과가 예제와 같이 나와야 함.\n",
    "\n",
    "\n",
    "<span style = \"color : blue\">**예제코드**</span>\n",
    "\n",
    "my_dog = dog('Mango', 3)  \n",
    "print(my_dog)\n",
    " \n",
    "\n",
    "<span style = \"color : blue\">**실행결과**</span>\n",
    "\n",
    "이름은 Mango이고, 나이는 3살 입니다."
   ]
  },
  {
   "cell_type": "code",
   "execution_count": 12,
   "id": "6ab57184",
   "metadata": {},
   "outputs": [
    {
     "name": "stdout",
     "output_type": "stream",
     "text": [
      "이름은 Mango이고, 나이는 3살 입니다.\n"
     ]
    }
   ],
   "source": [
    "class dog:\n",
    "    def __init__(self, name, age):\n",
    "        self.name = name\n",
    "        self.age = age\n",
    "    \n",
    "    def __str__(self):\n",
    "        #return '이름은 {}이고, 나이는 {}살 입니다.'.format(self.name, self.age)\n",
    "        return '이름은 '+self.name+'이고, 나이는 '+str(self.age)+'살 입니다.'\n",
    "    \n",
    "my_dog = dog('Mango', 3)\n",
    "print(my_dog)\n",
    "        "
   ]
  }
 ],
 "metadata": {
  "kernelspec": {
   "display_name": "Python 3 (ipykernel)",
   "language": "python",
   "name": "python3"
  },
  "language_info": {
   "codemirror_mode": {
    "name": "ipython",
    "version": 3
   },
   "file_extension": ".py",
   "mimetype": "text/x-python",
   "name": "python",
   "nbconvert_exporter": "python",
   "pygments_lexer": "ipython3",
   "version": "3.9.12"
  }
 },
 "nbformat": 4,
 "nbformat_minor": 5
}
