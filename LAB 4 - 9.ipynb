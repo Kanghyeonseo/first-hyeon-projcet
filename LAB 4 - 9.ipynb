{
 "cells": [
  {
   "cell_type": "markdown",
   "id": "32866be3",
   "metadata": {},
   "source": [
    "# LAB 4 - 9\n",
    "___\n",
    "* 다음과 같이 성(last name)과 이름(first name), 존칭(honorifics)을 매개변수로 받아서 출력하는 함수 print_name이 있다.\n",
    "\n",
    "```\n",
    "def print_name(honorifics, first_name, last_name):  \n",
    "        print(honorifics, first_name, last_name)\n",
    "``` \n",
    "a) 다음과 같은 함수 호출의 결과는 무엇인가?  \n",
    "print_name(first_name = 'Gildong', last_name = 'Hong', honorifics = 'Dr.')\n",
    "\n",
    "b) 다음과 같으 함수 호출의 결과는 무엇인가?  \n",
    "print_name('Gildong', 'Hong', 'Dr.')"
   ]
  },
  {
   "cell_type": "code",
   "execution_count": 1,
   "id": "5f462de0",
   "metadata": {},
   "outputs": [],
   "source": [
    "def print_name(honorifics, first_name, last_name):  \n",
    "        print(honorifics, first_name, last_name)"
   ]
  },
  {
   "cell_type": "code",
   "execution_count": 2,
   "id": "1ca63431",
   "metadata": {},
   "outputs": [
    {
     "name": "stdout",
     "output_type": "stream",
     "text": [
      "Dr. Gildong Hong\n",
      "Gildong Hong Dr.\n"
     ]
    }
   ],
   "source": [
    "# a)\n",
    "print_name(first_name = 'Gildong', last_name = 'Hong', honorifics = 'Dr.')\n",
    "\n",
    "# b)\n",
    "print_name('Gildong', 'Hong', 'Dr.')"
   ]
  },
  {
   "cell_type": "markdown",
   "id": "07e479bb",
   "metadata": {},
   "source": [
    "### a)의 답 : Dr. Gildong Hong\n",
    "### b)의 답 : Gildong Hong Dr."
   ]
  }
 ],
 "metadata": {
  "kernelspec": {
   "display_name": "Python 3 (ipykernel)",
   "language": "python",
   "name": "python3"
  },
  "language_info": {
   "codemirror_mode": {
    "name": "ipython",
    "version": 3
   },
   "file_extension": ".py",
   "mimetype": "text/x-python",
   "name": "python",
   "nbconvert_exporter": "python",
   "pygments_lexer": "ipython3",
   "version": "3.9.12"
  }
 },
 "nbformat": 4,
 "nbformat_minor": 5
}
