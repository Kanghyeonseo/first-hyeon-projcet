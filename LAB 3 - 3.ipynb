{
 "cells": [
  {
   "cell_type": "markdown",
   "id": "2c6cd116",
   "metadata": {},
   "source": [
    "# LAB 3 - 3\n",
    "___\n",
    "1. 게임 사용자의 게임점수(game_score)가 1000점 이상이면 '당신은 고수입니다.'를 출력하고 1000점 미만이면 '입문자입니다.'를 출력하는 프로그램을 if-else 문을 이용하여 작성하시오.\n",
    "\n",
    "<span style=\"color: blue\">**실행결과**</span>\n",
    "\n",
    "&nbsp;&nbsp;&nbsp;&nbsp;게임점수를 입력하세요 : `800`  \n",
    "&nbsp;&nbsp;&nbsp;&nbsp;game_score = 800  \n",
    "&nbsp;&nbsp;&nbsp;&nbsp;입문자입니다.\n",
    "\n",
    "혹은\n",
    "\n",
    "&nbsp;&nbsp;&nbsp;&nbsp;게임점수를 입력하세요 : `1300`    \n",
    "&nbsp;&nbsp;&nbsp;&nbsp;game_score = 1300   \n",
    "&nbsp;&nbsp;&nbsp;&nbsp;고수입니다."
   ]
  },
  {
   "cell_type": "code",
   "execution_count": 2,
   "id": "6f2af78b",
   "metadata": {},
   "outputs": [
    {
     "name": "stdout",
     "output_type": "stream",
     "text": [
      "게임점수를 입력하시오 : 800\n",
      "game_score = 800\n",
      "입문자입니다.\n"
     ]
    }
   ],
   "source": [
    "# 게임 점수를 game_score이라는 변수로 설정함\n",
    "game_score = int(input('게임점수를 입력하시오 : '))\n",
    "\n",
    "print('game_score =', game_score)\n",
    "if game_score >= 1000:                    # 1000점 이상일 때\n",
    "    print('고수입니다.')\n",
    "else:                                     # 1000점 미만일 때\n",
    "    print('입문자입니다.')"
   ]
  },
  {
   "cell_type": "code",
   "execution_count": 3,
   "id": "997dc28a",
   "metadata": {},
   "outputs": [
    {
     "name": "stdout",
     "output_type": "stream",
     "text": [
      "게임점수를 입력하시오 : 1300\n",
      "game_score = 1300\n",
      "고수입니다.\n"
     ]
    }
   ],
   "source": [
    "game_score = int(input('게임점수를 입력하시오 : '))\n",
    "\n",
    "print('game_score =', game_score)\n",
    "if game_score >= 1000:                   \n",
    "    print('고수입니다.')\n",
    "else:                                     \n",
    "    print('입문자입니다.')"
   ]
  },
  {
   "cell_type": "markdown",
   "id": "7463dd64",
   "metadata": {},
   "source": [
    "2. 두 정수를 입력받아 같을 경우 '두 값이 일치합니다.'를 출력하고 값이 다르면 '두 값이 일치하지 않습니다.'를 출력하는 프로그램을 if 문을 이용하여 작성하시오. 이때 다음과 같이 출력하시오.\n",
    "\n",
    "<span style=\"color: blue\">**실행결과**</span>\n",
    "\n",
    "&nbsp;&nbsp;&nbsp;&nbsp;한 정수를 입력하시오 : `100`    \n",
    "&nbsp;&nbsp;&nbsp;&nbsp;다른 정수를 입력하시오 : `200`  \n",
    "&nbsp;&nbsp;&nbsp;&nbsp;두 값이 일치하지 않습니다.\n",
    "\n",
    "혹은\n",
    "\n",
    "&nbsp;&nbsp;&nbsp;&nbsp;한 정수를 입력하시오 : `300`    \n",
    "&nbsp;&nbsp;&nbsp;&nbsp;다른 정수를 입력하시오 : `300`  \n",
    "&nbsp;&nbsp;&nbsp;&nbsp;두 값이 일치합니다."
   ]
  },
  {
   "cell_type": "code",
   "execution_count": 4,
   "id": "54a84c0d",
   "metadata": {},
   "outputs": [
    {
     "name": "stdout",
     "output_type": "stream",
     "text": [
      "한 정수를 입력하시오 : 100\n",
      "다른 정수를 입력하시오 : 200\n",
      "두 값이 일치하지 않습니다.\n"
     ]
    }
   ],
   "source": [
    "#두 정수를 num_a num_b라는 변수로 설정함\n",
    "num_a = int(input('한 정수를 입력하시오 : '))\n",
    "num_b = int(input('다른 정수를 입력하시오 : '))\n",
    " \n",
    "if num_a == num_b:                       # 두 값이 일치할 때\n",
    "    print('두 값이 일치합니다.')\n",
    "else:                                    # 두 값이 일치하지 않을 때\n",
    "    print('두 값이 일치하지 않습니다.')"
   ]
  },
  {
   "cell_type": "code",
   "execution_count": 5,
   "id": "510ce8ce",
   "metadata": {},
   "outputs": [
    {
     "name": "stdout",
     "output_type": "stream",
     "text": [
      "한 정수를 입력하시오 : 300\n",
      "다른 정수를 입력하시오 : 300\n",
      "두 값이 일치합니다.\n"
     ]
    }
   ],
   "source": [
    "num_a = int(input('한 정수를 입력하시오 : '))\n",
    "num_b = int(input('다른 정수를 입력하시오 : '))\n",
    " \n",
    "if num_a == num_b:                      \n",
    "    print('두 값이 일치합니다.')\n",
    "else:                                    \n",
    "    print('두 값이 일치하지 않습니다.')"
   ]
  },
  {
   "cell_type": "markdown",
   "id": "88995e18",
   "metadata": {},
   "source": [
    "3. if 문의 복합 조건식을 이용해서 다음과 같은 기능을 수행하는 프로그램을 만들어보자.\n",
    "\n",
    "\n",
    "1) 우선 '당신은 성인인가요(성인이면 1, 미성년이면 0)' 문을 통해서 성인인지 미성년인지를 구한다음 미성년이면(0이 입력되면) '당신은 미성년자입니다.'를 출력하고 프로그램을 종료한다.\n",
    "2) 다음으로 성인이면(1이 입력되면) '결혼을 하셨나요(기혼이면 1, 미혼이면 0)' 질문을 통해서 기혼, 미혼을 입력으로 받아서 '당신은 결혼한 성인입니다.' 혹은 '당신은 결혼하지 않은 성인입니다.'를 다음과 같이 출력하도록 한다.\n",
    "\n",
    "<span style=\"color: blue\">**실행결과**</span>\n",
    "\n",
    "1)  \n",
    "&nbsp;&nbsp;&nbsp;&nbsp;당신은 성인인가요(성인이면 1, 미성년이면 0): `0`  \n",
    "&nbsp;&nbsp;&nbsp;&nbsp;당신은 미성년자입니다.\n",
    "\n",
    "2)  \n",
    "&nbsp;&nbsp;&nbsp;&nbsp;당신은 성인인가요(성인이면 1, 미성년이면 0): `1`  \n",
    "&nbsp;&nbsp;&nbsp;&nbsp;결혼을 하셨나요(기혼이면 1, 미혼이면 0): `1`  \n",
    "&nbsp;&nbsp;&nbsp;&nbsp;당신은 결혼한 성인입니다.\n",
    "\n",
    "&nbsp;&nbsp;&nbsp;&nbsp;당신은 성인인가요(성인이면 1, 미성년이면 0): `1`  \n",
    "&nbsp;&nbsp;&nbsp;&nbsp;결혼을 하셨나요(기혼이면 1, 미혼이면 0): `0`  \n",
    "&nbsp;&nbsp;&nbsp;&nbsp;당신은 결혼하지 않은 성인입니다.\n"
   ]
  },
  {
   "cell_type": "code",
   "execution_count": 6,
   "id": "ad13e993",
   "metadata": {},
   "outputs": [
    {
     "name": "stdout",
     "output_type": "stream",
     "text": [
      "당신은 성인인가요(성인이면 1, 미성년이면 0): 0\n",
      "당신은 미성년자입니다.\n"
     ]
    }
   ],
   "source": [
    "# 성인인지 아닌지, 결혼했는지 안했는지에 대한 대답을 con1, con2라는 변수로 설정하였다.\n",
    "con1 = int(input('당신은 성인인가요(성인이면 1, 미성년이면 0): '))\n",
    "\n",
    "if con1 == 0:                                            # 미성년자일 경우\n",
    "    print('당신은 미성년자입니다.')\n",
    "else:                                                    # 성인일 경우\n",
    "    con2 = int(input('결혼을 하셨나요(기혼이면 1, 미혼이면 0): '))   # 성인일 경우 결혼했는지 안했는지에 대한 대답을 입력받아야함.\n",
    "    if con2 == 1:                                                    # 결혼한 경우\n",
    "        print('당신은 결혼한 성인입니다.')\n",
    "    else:                                                            # 결혼 안한 경우\n",
    "        print('당신은 결혼하지 않은 성인입니다.')"
   ]
  },
  {
   "cell_type": "code",
   "execution_count": 7,
   "id": "61bcaf8e",
   "metadata": {},
   "outputs": [
    {
     "name": "stdout",
     "output_type": "stream",
     "text": [
      "당신은 성인인가요(성인이면 1, 미성년이면 0): 1\n",
      "결혼을 하셨나요(기혼이면 1, 미혼이면 0): 1\n",
      "당신은 결혼한 성인입니다.\n"
     ]
    }
   ],
   "source": [
    "con1 = int(input('당신은 성인인가요(성인이면 1, 미성년이면 0): '))\n",
    "\n",
    "if con1 == 0:                                            \n",
    "    print('당신은 미성년자입니다.')\n",
    "else:                                                    \n",
    "    con2 = int(input('결혼을 하셨나요(기혼이면 1, 미혼이면 0): '))   \n",
    "    if con2 == 1:                                                    \n",
    "        print('당신은 결혼한 성인입니다.')\n",
    "    else:                                                           \n",
    "        print('당신은 결혼하지 않은 성인입니다.')"
   ]
  },
  {
   "cell_type": "code",
   "execution_count": 8,
   "id": "80255f7b",
   "metadata": {},
   "outputs": [
    {
     "name": "stdout",
     "output_type": "stream",
     "text": [
      "당신은 성인인가요(성인이면 1, 미성년이면 0): 1\n",
      "결혼을 하셨나요(기혼이면 1, 미혼이면 0): 0\n",
      "당신은 결혼하지 않은 성인입니다.\n"
     ]
    }
   ],
   "source": [
    "con1 = int(input('당신은 성인인가요(성인이면 1, 미성년이면 0): '))\n",
    "\n",
    "if con1 == 0:                                            \n",
    "    print('당신은 미성년자입니다.')\n",
    "else:                                                    \n",
    "    con2 = int(input('결혼을 하셨나요(기혼이면 1, 미혼이면 0): '))   \n",
    "    if con2 == 1:                                                    \n",
    "        print('당신은 결혼한 성인입니다.')\n",
    "    else:                                                           \n",
    "        print('당신은 결혼하지 않은 성인입니다.')"
   ]
  }
 ],
 "metadata": {
  "kernelspec": {
   "display_name": "Python 3 (ipykernel)",
   "language": "python",
   "name": "python3"
  },
  "language_info": {
   "codemirror_mode": {
    "name": "ipython",
    "version": 3
   },
   "file_extension": ".py",
   "mimetype": "text/x-python",
   "name": "python",
   "nbconvert_exporter": "python",
   "pygments_lexer": "ipython3",
   "version": "3.9.12"
  }
 },
 "nbformat": 4,
 "nbformat_minor": 5
}
