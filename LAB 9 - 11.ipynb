{
 "cells": [
  {
   "cell_type": "markdown",
   "id": "fcd18d0f",
   "metadata": {},
   "source": [
    "# LAB 9 - 11\n",
    "\n",
    "---\n",
    "\n",
    "1. 다음과 같은 객체를 생성한 후 id를 비교해 보자 이 코드의 결과는 무엇인가? 이와 같은 결과가 출력되는 이유를 각각 기술하시오.\n",
    "\n",
    "```py\n",
    ">>> a = 100\n",
    ">>> b = a\n",
    ">>> id(a) == id(100)\n",
    "a)\n",
    ">>> id(b) == id(100)\n",
    "b)\n",
    ">>> id(a) == id(b)\n",
    "c)\n",
    ">>> a = 200\n",
    ">>> id(a) == id(200)\n",
    "d)\n",
    ">>> id(b) == id(200)\n",
    "e)\n",
    ">>> id(a) == id(b)\n",
    "f)\n",
    "```"
   ]
  },
  {
   "cell_type": "code",
   "execution_count": 5,
   "id": "6cb1ae01",
   "metadata": {},
   "outputs": [
    {
     "name": "stdout",
     "output_type": "stream",
     "text": [
      "a) True\n",
      "b) True\n",
      "c) True\n",
      "d) True\n",
      "e) False\n",
      "f) False\n"
     ]
    }
   ],
   "source": [
    "a = 100\n",
    "b = a\n",
    "\n",
    "print(\"a)\", id(a) == id(100))\n",
    "print(\"b)\", id(b) == id(100))\n",
    "print(\"c)\", id(a) == id(b))\n",
    "\n",
    "a = 200\n",
    "\n",
    "print(\"d)\", id(a) == id(200))\n",
    "print(\"e)\", id(b) == id(200))\n",
    "print(\"f)\", id(a) == id(b))\n"
   ]
  },
  {
   "cell_type": "markdown",
   "id": "329a1660",
   "metadata": {},
   "source": [
    "#### a) a = 100에서 a는 100의 메모리를 참조하고 있으므로 a와 100의 id는 같다.\n",
    "#### b) b = a = 100 에서 b는 100의 메모리를 참조하고 있으므로 b와 100의 id는 같다.\n",
    "#### c) a = b = 100에서 a와 b는 100의 메모리를 참조하고 있으므로 a와 b의 id는 같다.\n",
    "#### d) a = 200에서 a는 200의 메모리를 참조하고 있으므로 a와 200의 id는 같다.\n",
    "#### e) b = 100에서 b는 100의 메모리르 참조하고 있으므로 b와 200의 id는 다르다.\n",
    "#### f)  b = 100, a는 200의 메모리를 참조하고 있으므로 b와 a의 id는 다르다."
   ]
  }
 ],
 "metadata": {
  "kernelspec": {
   "display_name": "Python 3 (ipykernel)",
   "language": "python",
   "name": "python3"
  },
  "language_info": {
   "codemirror_mode": {
    "name": "ipython",
    "version": 3
   },
   "file_extension": ".py",
   "mimetype": "text/x-python",
   "name": "python",
   "nbconvert_exporter": "python",
   "pygments_lexer": "ipython3",
   "version": "3.9.12"
  }
 },
 "nbformat": 4,
 "nbformat_minor": 5
}
