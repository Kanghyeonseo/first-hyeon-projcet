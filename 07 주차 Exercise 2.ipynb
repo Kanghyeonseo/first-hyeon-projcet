{
 "cells": [
  {
   "cell_type": "markdown",
   "id": "93cedb83",
   "metadata": {},
   "source": [
    "# Exercise 2\n",
    "___\n",
    "* 랜덤 숫자 맞추기 게임 프로그램을 작성하라. 먼저 랜덤하게 1~20까지의 숫자 x를 하나 생성시키고 사용자는 숫자를 하나씩 입력하면서 생성된 숫자 x와 비교해 큰지 작은지를 보고 숫자를 맞춰가는 게임이다. 컴퓨터는 사용자가 입력한 숫자가 정답보다 큰지 작은지를 알려주어야 한다. 그리고 사용자가 시도를 할 때 마다 시도한 횟수가 n에 저장되도록 한다. 만일 입력한 숫자와 x가 일치하면 “정답입니다!”라는 메시지를 출력한다. 이때 3번 이하로 입력하여 숫자를 맞추면 “n번 만에 맞춘 당신은 천재!”, 3번 이상 6번 이하로 입력하여 숫자를 맞추면 “n번 만에 맞추셨네요. 잘 했어요^^”, 7번 이상으로 숫자를 입력하여 맞추면 “n번 만에 맞추다니 쩝쩝…”이라고 출력하라.\n",
    "\n",
    "<span style=\"color: blue\">**실행결과**</span>\n",
    "\n",
    "1~20까지의 숫자를 입력하세요 : `6`  \n",
    "6보다 작습니다! \n",
    "\n",
    "1~20까지의 숫자를 입력하세요 : `5`  \n",
    "5보다 작습니다!    \n",
    "\n",
    "1~20까지의 숫자를 입력하세요 : `3`  \n",
    "3보다 큽니다!    \n",
    "\n",
    "1~20까지의 숫자를 입력하세요 : `4`  \n",
    "정답입니다!    \n",
    "\n",
    "5번만에 맞추셨네요. 잘했어요^^"
   ]
  },
  {
   "cell_type": "code",
   "execution_count": 5,
   "id": "51a0051b",
   "metadata": {},
   "outputs": [
    {
     "name": "stdout",
     "output_type": "stream",
     "text": [
      "1~20까지의 숫자를 입력하세요 : 12\n",
      "12보다 작습니다!\n",
      "1~20까지의 숫자를 입력하세요 : 8\n",
      "8보다 작습니다!\n",
      "1~20까지의 숫자를 입력하세요 : 4\n",
      "정답입니다!\n",
      "3번 만에 맞춘 당신은 천재!\n"
     ]
    }
   ],
   "source": [
    "import random as rd\n",
    "\n",
    "# 입력한 숫자에 대답해주는 함수\n",
    "def printans(inputnum, x):\n",
    "    if inputnum < x:\n",
    "        print(\"{}보다 큽니다!\".format(inputnum))\n",
    "    elif inputnum == x:\n",
    "        print(\"정답입니다!\")\n",
    "    else: #inputnum > x\n",
    "        print(\"{}보다 작습니다!\".format(inputnum))\n",
    "\n",
    "def printans2(count):\n",
    "    if count <= 3:\n",
    "        print(\"{}번 만에 맞춘 당신은 천재!\".format(count))\n",
    "    elif count <= 6:\n",
    "        print(\"{}번 만에 맞추셨네요. 잘 했어요^^\".format(count))\n",
    "    else: # count > 7\n",
    "        print(\"{}번 만에 맞추다니 쩝쩝...\".format(count))\n",
    "\n",
    "# 1~20까지 숫자 x 생성\n",
    "x = rd.randrange(1, 21)\n",
    "\n",
    "# 답 입력 횟수\n",
    "count = 0\n",
    "\n",
    "# 초기 시행\n",
    "inputnum = int(input(\"1~20까지의 숫자를 입력하세요 : \"))\n",
    "count += 1\n",
    "printans(inputnum, x)\n",
    "\n",
    "# 초기 시행 이후 반복 : 입력, 입력횟수 증가, 정답과 비교\n",
    "while inputnum != x: # 정답과 같을때 까지 반복\n",
    "    inputnum = int(input(\"1~20까지의 숫자를 입력하세요 : \"))\n",
    "    count += 1\n",
    "    printans(inputnum, x)\n",
    "\n",
    "# 시행 횟수에 따른 출력창 출력\n",
    "printans2(count)\n",
    "\n"
   ]
  }
 ],
 "metadata": {
  "kernelspec": {
   "display_name": "Python 3 (ipykernel)",
   "language": "python",
   "name": "python3"
  },
  "language_info": {
   "codemirror_mode": {
    "name": "ipython",
    "version": 3
   },
   "file_extension": ".py",
   "mimetype": "text/x-python",
   "name": "python",
   "nbconvert_exporter": "python",
   "pygments_lexer": "ipython3",
   "version": "3.9.12"
  }
 },
 "nbformat": 4,
 "nbformat_minor": 5
}
