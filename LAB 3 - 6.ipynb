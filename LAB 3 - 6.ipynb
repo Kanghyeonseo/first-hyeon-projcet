{
 "cells": [
  {
   "cell_type": "markdown",
   "id": "44961c5b",
   "metadata": {},
   "source": [
    "# LAB 3 - 6\n",
    "___\n",
    "1. for 반복문에서 언더스코어 루프 제어변수를 사용하여 다음과 같이 Hello, Python!을 5번 출력하는 프로그램을 작성해 보자.\n",
    "\n",
    "<span style=\"color: blue\">**실행결과**</span>\n",
    "\n",
    "&nbsp;&nbsp;&nbsp;&nbsp;Hello, Python!\n",
    "\n",
    "&nbsp;&nbsp;&nbsp;&nbsp;Hello, Python!   \n",
    "\n",
    "&nbsp;&nbsp;&nbsp;&nbsp;Hello, Python!  \n",
    "\n",
    "&nbsp;&nbsp;&nbsp;&nbsp;Hello, Python!  \n",
    "\n",
    "&nbsp;&nbsp;&nbsp;&nbsp;Hello, Python!"
   ]
  },
  {
   "cell_type": "code",
   "execution_count": 1,
   "id": "a2c37953",
   "metadata": {},
   "outputs": [
    {
     "name": "stdout",
     "output_type": "stream",
     "text": [
      "Hello, Python!\n",
      "Hello, Python!\n",
      "Hello, Python!\n",
      "Hello, Python!\n",
      "Hello, Python!\n"
     ]
    }
   ],
   "source": [
    "for _ in range(5):\n",
    "    print('Hello, Python!')"
   ]
  },
  {
   "cell_type": "markdown",
   "id": "ea3459a7",
   "metadata": {},
   "source": [
    "1. i라는 루프변수를 사용해서 0에서 4까지의 정수를 출력하는 프로그램을 작성하시오.\n",
    "\n",
    "<span style=\"color: blue\">**실행결과**</span>  \n",
    "&nbsp;&nbsp;&nbsp;&nbsp;0  \n",
    "&nbsp;&nbsp;&nbsp;&nbsp;1  \n",
    "&nbsp;&nbsp;&nbsp;&nbsp;2  \n",
    "&nbsp;&nbsp;&nbsp;&nbsp;3  \n",
    "&nbsp;&nbsp;&nbsp;&nbsp;4"
   ]
  },
  {
   "cell_type": "code",
   "execution_count": 2,
   "id": "17380733",
   "metadata": {},
   "outputs": [
    {
     "name": "stdout",
     "output_type": "stream",
     "text": [
      "0\n",
      "1\n",
      "2\n",
      "3\n",
      "4\n"
     ]
    }
   ],
   "source": [
    "for i in range(5):\n",
    "    print(i)"
   ]
  }
 ],
 "metadata": {
  "kernelspec": {
   "display_name": "Python 3 (ipykernel)",
   "language": "python",
   "name": "python3"
  },
  "language_info": {
   "codemirror_mode": {
    "name": "ipython",
    "version": 3
   },
   "file_extension": ".py",
   "mimetype": "text/x-python",
   "name": "python",
   "nbconvert_exporter": "python",
   "pygments_lexer": "ipython3",
   "version": "3.9.12"
  }
 },
 "nbformat": 4,
 "nbformat_minor": 5
}
