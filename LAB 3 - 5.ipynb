{
 "cells": [
  {
   "cell_type": "markdown",
   "id": "20f38c37",
   "metadata": {},
   "source": [
    "# LAB 3 - 5\n",
    "___\n",
    "1. 사용자로부터 자동차의 속도(speed)를 km/h 단위로 정수로 입력받도록 하자. 자동차의 속도가 100lm/h 이상이면 '고속', 100km/h 미만 60km/h 이상이면 '중속', 60km/h 미만이면 '저속'을 출력하는 프로그램을 if-elif-else 문을 이용하여 작성하여라.\n",
    "\n",
    "<span style=\"color: blue\">**실행결과**</span>\n",
    "\n",
    "&nbsp;&nbsp;&nbsp;&nbsp;자동차의 속도를 입력하세요(단위 : km/h ): `13`  \n",
    "&nbsp;&nbsp;&nbsp;&nbsp;저속\n",
    "\n",
    "혹은\n",
    "\n",
    "&nbsp;&nbsp;&nbsp;&nbsp;자동차의 속도를 입력하세요(단위 : km/h ): `130`  \n",
    "&nbsp;&nbsp;&nbsp;&nbsp;고속"
   ]
  },
  {
   "cell_type": "code",
   "execution_count": 1,
   "id": "7e0f5398",
   "metadata": {},
   "outputs": [
    {
     "name": "stdout",
     "output_type": "stream",
     "text": [
      "자동차의 속도를 입력하세요(단위 : km/h ): 13\n",
      "저속\n"
     ]
    }
   ],
   "source": [
    "#입력받는 자동차의 속도를 speed라는 변수로 설정함.\n",
    "speed = int(input('자동차의 속도를 입력하세요(단위 : km/h ): '))\n",
    "\n",
    "if speed >= 100:                           # 속도가 100이상 일 때\n",
    "    print('고속')\n",
    "elif speed >= 60:                          # 속도가 60이상 100미만 일 때\n",
    "    print('중속')\n",
    "else:                                      # 속도가 60미만 일 때\n",
    "    print('저속')"
   ]
  },
  {
   "cell_type": "code",
   "execution_count": 2,
   "id": "0a16389a",
   "metadata": {},
   "outputs": [
    {
     "name": "stdout",
     "output_type": "stream",
     "text": [
      "자동차의 속도를 입력하세요(단위 : km/h ): 130\n",
      "고속\n"
     ]
    }
   ],
   "source": [
    "speed = int(input('자동차의 속도를 입력하세요(단위 : km/h ): '))\n",
    "\n",
    "if speed >= 100:                           \n",
    "    print('고속')\n",
    "elif speed >= 60:                          \n",
    "    print('중속')\n",
    "else:                                     \n",
    "    print('저속')"
   ]
  },
  {
   "cell_type": "markdown",
   "id": "524b5fe6",
   "metadata": {},
   "source": [
    "2. 미세먼지 농도 예보 기준이 다음과 같을 때 미세먼지 농도를 정수 값으로 입력받아 '좋음', '보통', '나쁨', '매우 나쁨'을 출력하는 코드를 작성하여라.(단위 μg/m^3)\n",
    "|좋음|보통|나쁨|매우 나쁨|\n",
    "|:---:|:---:|:---:|:---:|\n",
    "|0 ~ 15|16 ~ 35|36 ~ 75|76 이상|\n",
    "\n",
    "<span style=\"color: blue\">**실행결과**</span>\n",
    "\n",
    "&nbsp;&nbsp;&nbsp;&nbsp;미세먼지 농도를 입력하세요(단위 : microgram/m^3 ): `13`  \n",
    "&nbsp;&nbsp;&nbsp;&nbsp;좋음\n",
    "\n",
    "&nbsp;&nbsp;&nbsp;&nbsp;미세먼지 농도를 입력하세요(단위 : microgram/m^3 ): `33`  \n",
    "&nbsp;&nbsp;&nbsp;&nbsp;보통"
   ]
  },
  {
   "cell_type": "code",
   "execution_count": 3,
   "id": "55f0fe6d",
   "metadata": {},
   "outputs": [
    {
     "name": "stdout",
     "output_type": "stream",
     "text": [
      "미세먼지 농도를 입력하세요(단위 : microgram/m^3): 13\n",
      "좋음\n"
     ]
    }
   ],
   "source": [
    "# 농도를 density라는 변수로 설정함\n",
    "density = int(input('미세먼지 농도를 입력하세요(단위 : microgram/m^3): '))\n",
    "\n",
    "if density >= 76:             # 농도가 76이상 일 때\n",
    "    print('매우 나쁨')\n",
    "elif density >= 36:           # 농도가 36 ~ 75 일 때\n",
    "    print('나쁨')\n",
    "elif density >= 16:           # 농도가 16 ~ 35 일 때\n",
    "    print('보통')\n",
    "else:                         # 농도가 0 ~ 15 일 때\n",
    "    print('좋음')"
   ]
  },
  {
   "cell_type": "code",
   "execution_count": 4,
   "id": "27a8d35a",
   "metadata": {},
   "outputs": [
    {
     "name": "stdout",
     "output_type": "stream",
     "text": [
      "미세먼지 농도를 입력하세요(단위 : microgram/m^3): 33\n",
      "보통\n"
     ]
    }
   ],
   "source": [
    "density = int(input('미세먼지 농도를 입력하세요(단위 : microgram/m^3): '))\n",
    "\n",
    "if density >= 76:             \n",
    "    print('매우 나쁨')\n",
    "elif density >= 36:          \n",
    "    print('나쁨')\n",
    "elif density >= 16:           \n",
    "    print('보통')\n",
    "else:                         \n",
    "    print('좋음')"
   ]
  }
 ],
 "metadata": {
  "kernelspec": {
   "display_name": "Python 3 (ipykernel)",
   "language": "python",
   "name": "python3"
  },
  "language_info": {
   "codemirror_mode": {
    "name": "ipython",
    "version": 3
   },
   "file_extension": ".py",
   "mimetype": "text/x-python",
   "name": "python",
   "nbconvert_exporter": "python",
   "pygments_lexer": "ipython3",
   "version": "3.9.12"
  }
 },
 "nbformat": 4,
 "nbformat_minor": 5
}
