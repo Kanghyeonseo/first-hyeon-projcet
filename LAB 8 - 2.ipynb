{
 "cells": [
  {
   "cell_type": "markdown",
   "id": "9f9bd0bd",
   "metadata": {},
   "source": [
    "# LAB 8 - 2\n",
    "---\n",
    "1. 다음 코드가 있을 경우 이 코드에 적합한 예외 처리문을 만드시오.\n",
    "\n",
    "<span style = \"color : blue\">**실행결과**</span>\n",
    "\n",
    "```py\n",
    "10 * (30 / 0)\n",
    "---------------------------------------------\n",
    "x = int(input('정수 x를 입력하세요: '))\n",
    "---------------------------------------------\n",
    "import sys\n",
    "\n",
    "f = open('myfile.txt')\n",
    "s = f.readline()\n",
    "```"
   ]
  },
  {
   "cell_type": "code",
   "execution_count": 2,
   "id": "3f198478",
   "metadata": {},
   "outputs": [
    {
     "name": "stdout",
     "output_type": "stream",
     "text": [
      "0으로 나누는 오류\n"
     ]
    }
   ],
   "source": [
    "try:\n",
    "    10 * (30 / 0)\n",
    "except ZeroDivisionError:\n",
    "    print('0으로 나누는 오류')\n",
    "except Exception as e:\n",
    "    print('오류 : ', e)\n",
    "else:\n",
    "    print(10 * (30 / 0))"
   ]
  },
  {
   "cell_type": "code",
   "execution_count": 3,
   "id": "8f0cf825",
   "metadata": {},
   "outputs": [
    {
     "name": "stdout",
     "output_type": "stream",
     "text": [
      "정수 x를 입력하세요: 삼\n",
      "입력 값이 정수나 실수가 아닙니다.\n"
     ]
    }
   ],
   "source": [
    "try:\n",
    "    x = int(input('정수 x를 입력하세요: '))\n",
    "except ValueError:\n",
    "    print('입력 값이 정수나 실수가 아닙니다.')\n",
    "except Exception as e:\n",
    "    print('오류 : ', e)\n",
    "else:\n",
    "    print('오류 없음')"
   ]
  },
  {
   "cell_type": "code",
   "execution_count": 4,
   "id": "cde380d7",
   "metadata": {},
   "outputs": [
    {
     "name": "stdout",
     "output_type": "stream",
     "text": [
      "찾는 파일이 없습니다.\n"
     ]
    }
   ],
   "source": [
    "try:\n",
    "    import sys\n",
    "\n",
    "    f = open('myfile.txt')\n",
    "    s = f.readline()\n",
    "except FileNotFoundError:\n",
    "    print('찾는 파일이 없습니다.')\n",
    "except Exception as e:\n",
    "    print('오류 : ', e)\n",
    "else:\n",
    "    print('오류 없음')"
   ]
  }
 ],
 "metadata": {
  "kernelspec": {
   "display_name": "Python 3 (ipykernel)",
   "language": "python",
   "name": "python3"
  },
  "language_info": {
   "codemirror_mode": {
    "name": "ipython",
    "version": 3
   },
   "file_extension": ".py",
   "mimetype": "text/x-python",
   "name": "python",
   "nbconvert_exporter": "python",
   "pygments_lexer": "ipython3",
   "version": "3.9.12"
  }
 },
 "nbformat": 4,
 "nbformat_minor": 5
}
