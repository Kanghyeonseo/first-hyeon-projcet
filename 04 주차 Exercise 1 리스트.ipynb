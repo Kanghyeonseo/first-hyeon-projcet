{
 "cells": [
  {
   "cell_type": "markdown",
   "id": "df9bf2bb",
   "metadata": {},
   "source": [
    "# Exercise 1\n",
    "___\n",
    "* 다음과 같은 list1, list2가 있을 경우 이중 for 루프를 사용하여 list1과 list2의 각 원소를 곱한 후 원소의 곱셈을 결과와 함께 출력하시오\n",
    "\n",
    "<list1, list2>  \n",
    "list1 = [3, 5, 7]  \n",
    "list2 = [2, 3, 4, 5, 6]\n",
    "\n",
    "<span style=\"color: blue\">**실행결과**</span>\n",
    "\n",
    "3 * 2 = 6  \n",
    "3 * 3 = 9  \n",
    "3 * 4 = 12  \n",
    "3 * 5 = 15  \n",
    "3 * 6 = 18  \n",
    "5 * 2 = 10  \n",
    "5 * 3 = 15  \n",
    "5 * 4 = 20  \n",
    "5 * 5 = 25  \n",
    "5 * 6 = 30  \n",
    "7 * 2 = 14  \n",
    "7 * 3 = 21  \n",
    "7 * 4 = 28  \n",
    "7 * 5 = 35  \n",
    "7 * 6 = 42  \n"
   ]
  },
  {
   "cell_type": "code",
   "execution_count": 1,
   "id": "0d226413",
   "metadata": {},
   "outputs": [
    {
     "name": "stdout",
     "output_type": "stream",
     "text": [
      "3 * 2 = 6\n",
      "\n",
      "3 * 3 = 9\n",
      "\n",
      "3 * 4 = 12\n",
      "\n",
      "3 * 5 = 15\n",
      "\n",
      "3 * 6 = 18\n",
      "\n",
      "5 * 2 = 10\n",
      "\n",
      "5 * 3 = 15\n",
      "\n",
      "5 * 4 = 20\n",
      "\n",
      "5 * 5 = 25\n",
      "\n",
      "5 * 6 = 30\n",
      "\n",
      "7 * 2 = 14\n",
      "\n",
      "7 * 3 = 21\n",
      "\n",
      "7 * 4 = 28\n",
      "\n",
      "7 * 5 = 35\n",
      "\n",
      "7 * 6 = 42\n",
      "\n"
     ]
    }
   ],
   "source": [
    "# <list1, list2>\n",
    "list1 = [3, 5, 7]\n",
    "list2 = [2, 3, 4, 5, 6]\n",
    "\n",
    "for i in list1:             # list1의 원소 하나에 list2의 모든 원소가 매칭되게 for문 사용\n",
    "    for j in list2:\n",
    "        print(\"{} * {} = {}\".format(i, j, i * j))\n",
    "        print()"
   ]
  }
 ],
 "metadata": {
  "kernelspec": {
   "display_name": "Python 3 (ipykernel)",
   "language": "python",
   "name": "python3"
  },
  "language_info": {
   "codemirror_mode": {
    "name": "ipython",
    "version": 3
   },
   "file_extension": ".py",
   "mimetype": "text/x-python",
   "name": "python",
   "nbconvert_exporter": "python",
   "pygments_lexer": "ipython3",
   "version": "3.9.12"
  }
 },
 "nbformat": 4,
 "nbformat_minor": 5
}
