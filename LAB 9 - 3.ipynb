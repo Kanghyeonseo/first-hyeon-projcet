{
 "cells": [
  {
   "cell_type": "markdown",
   "id": "273e1219",
   "metadata": {},
   "source": [
    "# LAB 9 - 3\n",
    "\n",
    "---\n",
    "\n",
    "1. 다음 용어를 정의하여라.\n",
    "\n",
    "a) 클래스  \n",
    "b) 객체  \n",
    "c) 인스턴스  \n",
    "d) 클래스의 속성  \n",
    "e) 클래스의 동작  \n",
    "\n",
    "#### 답\n",
    "a) 클래스  \n",
    "프로그램 상에서 사용되는 속성과 행위를 모아놓은 집합체. 객체의 설계도 혹은 탬플릿, 청사진.  \n",
    "b) 객체  \n",
    "인스턴스들을 지칭하는 표현.  \n",
    "c) 인스턴스  \n",
    "클래스로부터 만들어지는 각각의 개별적인 객체. 서로 다른 인스턴스는 서로 다른 속성 값을 가질 수 있음.  \n",
    "d) 클래스의 속성  \n",
    "클래스 내부의 매소드 단계와 동일한 영역에 위치한 변수  \n",
    "e) 클래스의 동작  \n",
    "클래스 내부에서 정의되어 클래스나 클래스 인스턴스가 사용하는 함수로 동작하는 것."
   ]
  }
 ],
 "metadata": {
  "kernelspec": {
   "display_name": "Python 3 (ipykernel)",
   "language": "python",
   "name": "python3"
  },
  "language_info": {
   "codemirror_mode": {
    "name": "ipython",
    "version": 3
   },
   "file_extension": ".py",
   "mimetype": "text/x-python",
   "name": "python",
   "nbconvert_exporter": "python",
   "pygments_lexer": "ipython3",
   "version": "3.9.12"
  }
 },
 "nbformat": 4,
 "nbformat_minor": 5
}
