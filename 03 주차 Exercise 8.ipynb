{
 "cells": [
  {
   "cell_type": "markdown",
   "id": "ef276618",
   "metadata": {},
   "source": [
    "# Exercise 8\n",
    "___\n",
    "* 맛나 식당의 메뉴 주문 프로그램을 개발하고자 한다. 이를 위해 사용자에게 다음과 같은 메뉴를 보여주고 이중에서 메뉴에 대응되는 하나의 알파벳을 선택하도록 하자. 이때 메뉴에 없는 알파벳이 입력되면‘메뉴를 다시 입력하세요: ' 가 출력되도록 한 후 다시 입력을 받도록 하자.\n",
    "\n",
    "<span style=\"color: blue\">**실행결과**</span>\n",
    "\n",
    "```\n",
    "맛나 식당에 오신 것을 환영합니다. 메뉴는 다음과 같습니다.\n",
    "- 삼겹구이 (입력 s)\n",
    "- 오삼불고기 (입력 o)\n",
    "- 된장찌개 (입력 d)\n",
    "메뉴를 선택하세요(알파벳 s, o, d 입력) : o\n",
    "오삼불고기를 선택하였습니다.\n",
    "```"
   ]
  },
  {
   "cell_type": "code",
   "execution_count": 4,
   "id": "3e1c7065",
   "metadata": {},
   "outputs": [
    {
     "name": "stdout",
     "output_type": "stream",
     "text": [
      "맛나 식당에 오신 것을 환영합니다. 메뉴는 다음과 같습니다.\n",
      "- 삼겹구이 (입력 s)\n",
      "- 오삼불고기 (입력 o)\n",
      "- 된장찌개 (입력 d)\n",
      "메뉴를 선택하세요(알파벳 s, o, d 입력) : a\n",
      "메뉴를 다시 입력하세요 : t\n",
      "메뉴를 다시 입력하세요 : o\n",
      "오삼불고기를 선택하였습니다.\n"
     ]
    }
   ],
   "source": [
    "# 메뉴 옵션 말 \n",
    "print(\"맛나 식당에 오신 것을 환영합니다. 메뉴는 다음과 같습니다.\")\n",
    "print(\"- 삼겹구이 (입력 s)\")\n",
    "print(\"- 오삼불고기 (입력 o)\")\n",
    "print(\"- 된장찌개 (입력 d)\")\n",
    "\n",
    "# 메뉴에 있는 알파벳을 입력받을 문자를 answer라는 변수로 설정함 \n",
    "answer = input(\"메뉴를 선택하세요(알파벳 s, o, d 입력) : \")\n",
    "\n",
    "# s, o, d 중 하나를 입력 받을 때까지 계속해서 입력 받기\n",
    "while (not(answer == 's' or answer == 'o' or answer == 'd')):\n",
    "    answer = input(\"메뉴를 다시 입력하세요 : \")\n",
    "\n",
    "if answer == 's':                               # s일 때\n",
    "    print(\"삼겹구이를 선택하였습니다.\")\n",
    "elif answer == 'o':                             # o일 때\n",
    "    print(\"오삼불고기를 선택하였습니다.\")\n",
    "else:                                           # d일 때\n",
    "    print(\"된장찌개를 선택하였습니다.\")"
   ]
  }
 ],
 "metadata": {
  "kernelspec": {
   "display_name": "Python 3 (ipykernel)",
   "language": "python",
   "name": "python3"
  },
  "language_info": {
   "codemirror_mode": {
    "name": "ipython",
    "version": 3
   },
   "file_extension": ".py",
   "mimetype": "text/x-python",
   "name": "python",
   "nbconvert_exporter": "python",
   "pygments_lexer": "ipython3",
   "version": "3.9.12"
  }
 },
 "nbformat": 4,
 "nbformat_minor": 5
}
