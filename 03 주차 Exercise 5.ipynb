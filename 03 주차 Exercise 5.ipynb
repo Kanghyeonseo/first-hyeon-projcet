{
 "cells": [
  {
   "cell_type": "markdown",
   "id": "f0a12576",
   "metadata": {},
   "source": [
    "# Exercise 5\n",
    "___\n",
    "* 소수란 양의 자연수 중에서 1과 자기 자신이외의 약수를 가지지 않는 수를 말한다. 사용자로부터 양의 정수 n을 입력받은 후 이 숫자가 소수인지 아닌지를 판별하는 프로그램을 작성하시오. 이때 수행 속도를 개선하기 위하여 2로 나누어 본 후 나누어지지 않을 경우 3, 5, 7, … 과 같은 홀수로 나눗셈을 시도하도록 코딩하여라.\n",
    "\n",
    "<span style=\"color: blue\">**실행결과**</span>\n",
    "\n",
    "숫자를 입력하세요 : 5  \n",
    "5는 소수입니다.\n",
    "\n",
    "<span style=\"color: blue\">**실행결과**</span>\n",
    "\n",
    "숫자를 입력하세요 : 9  \n",
    "9는 소수가 아닙니다."
   ]
  },
  {
   "cell_type": "code",
   "execution_count": 1,
   "id": "3c183c8e",
   "metadata": {},
   "outputs": [
    {
     "name": "stdout",
     "output_type": "stream",
     "text": [
      "숫자를 입력하세요: 5\n",
      "5 는 소수입니다.\n"
     ]
    }
   ],
   "source": [
    "# 입력 받을 양의 정수를 n이라는 변수로 설정함\n",
    "n = int(input('숫자를 입력하세요: '))\n",
    " \n",
    "if n % 2 == 0:                                       # 수행 속도 개선을 위해 먼저 2로 나누어 본다. 2로 나누어지면 당연히 소수가 아님.\n",
    "        print(n, '는 소수가 아닙니다.')\n",
    "else:                                                # 2로 나누어 지지 않을 경우 홀수로 나눗셈을 시도\n",
    "    for num in range(3, n, 2):                       # 3부터 홀수로 나누어 본다.\n",
    "        if n % num == 0:                             # 홀수로 나누어지면 소수가 아님.\n",
    "            print(n,'는 소수가 아닙니다.')\n",
    "            break\n",
    "    else:                                            # n까지 홀수로 나누었을때 나누어 떨어지지 않는다면 소수임.\n",
    "        print(n, '는 소수입니다.')"
   ]
  },
  {
   "cell_type": "code",
   "execution_count": 2,
   "id": "78f5c98c",
   "metadata": {},
   "outputs": [
    {
     "name": "stdout",
     "output_type": "stream",
     "text": [
      "숫자를 입력하세요: 9\n",
      "9 는 소수가 아닙니다.\n"
     ]
    }
   ],
   "source": [
    "n = int(input('숫자를 입력하세요: '))\n",
    " \n",
    "if n % 2 == 0:\n",
    "        print(n, '는 소수가 아닙니다.')\n",
    "else:\n",
    "    for num in range(3, n, 2):\n",
    "        if n % num == 0:\n",
    "            print(n,'는 소수가 아닙니다.')\n",
    "            break\n",
    "    else:\n",
    "        print(n, '는 소수입니다.')"
   ]
  }
 ],
 "metadata": {
  "kernelspec": {
   "display_name": "Python 3 (ipykernel)",
   "language": "python",
   "name": "python3"
  },
  "language_info": {
   "codemirror_mode": {
    "name": "ipython",
    "version": 3
   },
   "file_extension": ".py",
   "mimetype": "text/x-python",
   "name": "python",
   "nbconvert_exporter": "python",
   "pygments_lexer": "ipython3",
   "version": "3.9.12"
  }
 },
 "nbformat": 4,
 "nbformat_minor": 5
}
