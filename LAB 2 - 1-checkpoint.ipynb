{
 "cells": [
  {
   "cell_type": "markdown",
   "id": "e558cb02",
   "metadata": {},
   "source": [
    "# LAB 2-1 (print 함수)"
   ]
  },
  {
   "cell_type": "code",
   "execution_count": 1,
   "id": "9d97862d",
   "metadata": {},
   "outputs": [
    {
     "name": "stdout",
     "output_type": "stream",
     "text": [
      "나의 이름은 : 홍길동\n"
     ]
    }
   ],
   "source": [
    "print('나의 이름은 :', '홍길동')"
   ]
  },
  {
   "cell_type": "code",
   "execution_count": 2,
   "id": "c3fbd96b",
   "metadata": {},
   "outputs": [
    {
     "name": "stdout",
     "output_type": "stream",
     "text": [
      "나의 나이는 : 27\n"
     ]
    }
   ],
   "source": [
    "print('나의 나이는 :', 27)"
   ]
  },
  {
   "cell_type": "code",
   "execution_count": 3,
   "id": "742b4f21",
   "metadata": {},
   "outputs": [
    {
     "name": "stdout",
     "output_type": "stream",
     "text": [
      "나의 키는 179 cm 입니다.\n"
     ]
    }
   ],
   "source": [
    "print('나의 키는', 179, 'cm 입니다.')"
   ]
  },
  {
   "cell_type": "code",
   "execution_count": 4,
   "id": "c8fda507",
   "metadata": {},
   "outputs": [
    {
     "name": "stdout",
     "output_type": "stream",
     "text": [
      "10 + 20 = 30\n"
     ]
    }
   ],
   "source": [
    "print('10 + 20 =', 10 + 20)"
   ]
  },
  {
   "cell_type": "code",
   "execution_count": 5,
   "id": "12c5d55b",
   "metadata": {},
   "outputs": [
    {
     "name": "stdout",
     "output_type": "stream",
     "text": [
      "10 * 20 = 200\n"
     ]
    }
   ],
   "source": [
    "print('10 * 20 =', 10 * 20)"
   ]
  }
 ],
 "metadata": {
  "kernelspec": {
   "display_name": "Python 3 (ipykernel)",
   "language": "python",
   "name": "python3"
  },
  "language_info": {
   "codemirror_mode": {
    "name": "ipython",
    "version": 3
   },
   "file_extension": ".py",
   "mimetype": "text/x-python",
   "name": "python",
   "nbconvert_exporter": "python",
   "pygments_lexer": "ipython3",
   "version": "3.9.12"
  }
 },
 "nbformat": 4,
 "nbformat_minor": 5
}
