{
 "cells": [
  {
   "cell_type": "markdown",
   "id": "28a37686",
   "metadata": {},
   "source": [
    "# LAB 9 - 5\n",
    "\n",
    "---\n",
    "\n",
    "1. 다음 기능을 가진 Dog 클래스를 생성하고 인스턴스와 메소드를 호출하여라.\n",
    "\n",
    "```py\n",
    "a) name 이라는 속성을 가진다.\n",
    "b) def __init__(self, name): 이라는 초기화 메소드를 가진다. 이 메소드를 통해 이름을 초기화 한다.\n",
    "c) def bark(self): 라는 메소드를 가진다. 이 메소드를 통해 짓는 소리를 출력한다.\n",
    "d) my_dog = Dog('Jindo') 라는 명령어로 my_dog 인스턴스를 생성한다.\n",
    "e) my_dog.bark() 라는 메소드로 개짓는 소리를 다음과 같이 출력한다. \"멍멍~~\"\n",
    "```"
   ]
  },
  {
   "cell_type": "code",
   "execution_count": 2,
   "id": "4f9d04f4",
   "metadata": {},
   "outputs": [
    {
     "name": "stdout",
     "output_type": "stream",
     "text": [
      "멍멍~~\n"
     ]
    }
   ],
   "source": [
    "class Dog:\n",
    "    def __init__(self, name):\n",
    "        self.name = name\n",
    "    def bark(self):\n",
    "        print('멍멍~~')\n",
    "       \n",
    "my_dog = Dog('Jindo')\n",
    "my_dog.bark()\n"
   ]
  }
 ],
 "metadata": {
  "kernelspec": {
   "display_name": "Python 3 (ipykernel)",
   "language": "python",
   "name": "python3"
  },
  "language_info": {
   "codemirror_mode": {
    "name": "ipython",
    "version": 3
   },
   "file_extension": ".py",
   "mimetype": "text/x-python",
   "name": "python",
   "nbconvert_exporter": "python",
   "pygments_lexer": "ipython3",
   "version": "3.9.12"
  }
 },
 "nbformat": 4,
 "nbformat_minor": 5
}
