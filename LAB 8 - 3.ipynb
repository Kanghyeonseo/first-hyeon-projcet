{
 "cells": [
  {
   "cell_type": "markdown",
   "id": "d8dfa60f",
   "metadata": {},
   "source": [
    "# LAB 8 - 3\n",
    "---\n",
    "1. [1, 2, 3, 4, 5]의 다섯개의 요소를 가진 리스트 a가 있을 때 다음과 같이 사용자로 부터 정수를 입력 받은 후 이에 해당하는 인덱스를 출력하도록 하자.\n",
    "\n",
    "<span style = \"color : blue\">**실행결과**</span>\n",
    "\n",
    "a = [1, 2, 3, 4, 5]  \n",
    "a의 요소를 하나 선택하시오 : `2`  \n",
    "2 은(는) 두 번째 요소입니다."
   ]
  },
  {
   "cell_type": "code",
   "execution_count": 1,
   "id": "7a68ce18",
   "metadata": {},
   "outputs": [
    {
     "name": "stdout",
     "output_type": "stream",
     "text": [
      "a = [1, 2, 3, 4, 5]\n",
      "a의 요소를 하나 선택하시오 : 2\n",
      "2 은(는) 두 번째 요소입니다.\n"
     ]
    }
   ],
   "source": [
    "a = [1, 2, 3, 4, 5]\n",
    "print('a =', a)\n",
    "x = input(\"a의 요소를 하나 선택하시오 : \")\n",
    "find_index = a.index(int(x))\n",
    "\n",
    "if find_index == 0:\n",
    "    order = '첫'\n",
    "elif find_index == 1:\n",
    "    order = '두'\n",
    "elif find_index == 2:\n",
    "    order = '세'\n",
    "elif find_index == 3:\n",
    "    order = '네'\n",
    "elif find_index == 4:\n",
    "    order = '다섯'\n",
    "\n",
    "print('{} 은(는) {} 번째 요소입니다.'.format(x, order))"
   ]
  },
  {
   "cell_type": "markdown",
   "id": "b8e67e03",
   "metadata": {},
   "source": [
    "2. 다음과 같이 '삼'이 입력되면 'try - except 문을 통해 '오류 : 입력 값이 정수나 실수가 아님'을 출력하시오.\n",
    "\n",
    "<span style = \"color : blue\">**실행결과**</span>\n",
    "\n",
    "a = [1, 2, 3, 4, 5]  \n",
    "a의 요소를 하나 선택하시오 : `삼`  \n",
    "오류 : 입력 값이 정수나 실수가 아님"
   ]
  },
  {
   "cell_type": "code",
   "execution_count": 2,
   "id": "7d7ce908",
   "metadata": {},
   "outputs": [
    {
     "name": "stdout",
     "output_type": "stream",
     "text": [
      "a = [1, 2, 3, 4, 5]\n",
      "a의 요소를 하나 선택하시오 : 삼\n",
      "오류 : 입력 값이 정수나 실수가 아님\n"
     ]
    }
   ],
   "source": [
    "try:\n",
    "    a = [1, 2, 3, 4, 5]\n",
    "    print('a =', a)\n",
    "    x = input(\"a의 요소를 하나 선택하시오 : \")\n",
    "    find_index = a.index(int(x))\n",
    "\n",
    "    if find_index == 0:\n",
    "        order = '첫'\n",
    "    elif find_index == 1:\n",
    "        order = '두'\n",
    "    elif find_index == 2:\n",
    "        order = '세'\n",
    "    elif find_index == 3:\n",
    "        order = '네'\n",
    "    elif find_index == 4:\n",
    "        order = '다섯'\n",
    "\n",
    "except ValueError:\n",
    "    print('오류 : 입력 값이 정수나 실수가 아님')\n",
    "else:\n",
    "    print('{} 은(는) {} 번째 요소입니다.'.format(x, order))"
   ]
  }
 ],
 "metadata": {
  "kernelspec": {
   "display_name": "Python 3 (ipykernel)",
   "language": "python",
   "name": "python3"
  },
  "language_info": {
   "codemirror_mode": {
    "name": "ipython",
    "version": 3
   },
   "file_extension": ".py",
   "mimetype": "text/x-python",
   "name": "python",
   "nbconvert_exporter": "python",
   "pygments_lexer": "ipython3",
   "version": "3.9.12"
  }
 },
 "nbformat": 4,
 "nbformat_minor": 5
}
