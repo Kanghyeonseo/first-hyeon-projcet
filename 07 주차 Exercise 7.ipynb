{
 "cells": [
  {
   "cell_type": "markdown",
   "id": "9e0ee3bc",
   "metadata": {},
   "source": [
    "# Exercise 7\n",
    "___\n",
    "* 1부터 1,000,000까지 정수의 합을 구하여 반환하는 함수 sum1to1000000()을 작성하고 함수를 100번 호출하여 함수 수행 시간을 다음과 같이 초단위로 구하여 출력하여라. (소수점 4자리까지 표현할 것.)\n",
    "\n",
    "<span style=\"color: blue\">**실행결과**</span>\n",
    "\n",
    "1에서 1,000,000까지의 합을 100번 반복해서 구하는 시간 : 7.1929초"
   ]
  },
  {
   "cell_type": "code",
   "execution_count": 3,
   "id": "94ef4483",
   "metadata": {},
   "outputs": [
    {
     "name": "stdout",
     "output_type": "stream",
     "text": [
      "1에서 1,000,000까지의 합을 100번 반복해서 구하는 시간 : 2.7129초\n"
     ]
    }
   ],
   "source": [
    "import time\n",
    "\n",
    "# 1부터 1,000,000까지 정수의 합을 구하여 반환하는 함수\n",
    "def sum1to1000000():\n",
    "    ans = 0\n",
    "    for i in range(1, 1000001):\n",
    "        ans += i\n",
    "    return ans\n",
    "\n",
    "# 시작 시간\n",
    "start_time = time.time()\n",
    "\n",
    "# 함수 100번 호출하기\n",
    "for i in range(100):\n",
    "    sum1to1000000()\n",
    "\n",
    "# 종료 시간\n",
    "end_time = time.time()\n",
    "\n",
    "# 실행 시간 = (종료 - 시작) 시간 \n",
    "time_gap = end_time - start_time\n",
    "\n",
    "print(\"1에서 1,000,000까지의 합을 100번 반복해서 구하는 시간 : {:.4f}초\".format(time_gap))\n"
   ]
  }
 ],
 "metadata": {
  "kernelspec": {
   "display_name": "Python 3 (ipykernel)",
   "language": "python",
   "name": "python3"
  },
  "language_info": {
   "codemirror_mode": {
    "name": "ipython",
    "version": 3
   },
   "file_extension": ".py",
   "mimetype": "text/x-python",
   "name": "python",
   "nbconvert_exporter": "python",
   "pygments_lexer": "ipython3",
   "version": "3.9.12"
  }
 },
 "nbformat": 4,
 "nbformat_minor": 5
}
