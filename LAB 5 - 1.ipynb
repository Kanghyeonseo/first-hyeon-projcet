{
 "cells": [
  {
   "cell_type": "markdown",
   "id": "a4b52768",
   "metadata": {},
   "source": [
    "# LAB 5 - 1\n",
    "___\n",
    "1. 1부터 10까지의 숫자 중에서 짝수를 요소로 가지는 even_list라는 리스트를 생성하여라.(10포함, print()함수 사용)\n",
    "\n",
    "<span style=\"color: blue\">**실행결과**</span>\n",
    "\n",
    "even_list = [2, 4, 6, 8, 10]"
   ]
  },
  {
   "cell_type": "code",
   "execution_count": 6,
   "id": "48c92e4f",
   "metadata": {},
   "outputs": [
    {
     "name": "stdout",
     "output_type": "stream",
     "text": [
      "even_list = [2, 4, 6, 8, 10]\n"
     ]
    }
   ],
   "source": [
    "# even_list 생성\n",
    "even_list = [2,4,6,8,10]\n",
    "\n",
    "# 출력\n",
    "print(\"even_list =\", even_list)"
   ]
  },
  {
   "cell_type": "markdown",
   "id": "eda914a4",
   "metadata": {},
   "source": [
    "2. range() 함수를 이용하여 1번의 문제를 다시 풀어보시오."
   ]
  },
  {
   "cell_type": "code",
   "execution_count": 2,
   "id": "08b96108",
   "metadata": {},
   "outputs": [
    {
     "name": "stdout",
     "output_type": "stream",
     "text": [
      "even_list = [2, 4, 6, 8, 10]\n"
     ]
    }
   ],
   "source": [
    "# even_list를 range를 활용해 생성\n",
    "even_list = list(range(2,11,2))\n",
    "\n",
    "# 출력\n",
    "print(\"even_list =\", even_list)"
   ]
  },
  {
   "cell_type": "markdown",
   "id": "95460e74",
   "metadata": {},
   "source": [
    "3. 'Korea', 'China', 'India', 'Nepal' 의 네 원소를 가지는 nations라는 리스트를 생성하여라. (print()함수 사용)\n",
    "\n",
    "<span style=\"color: blue\">**실행결과**</span>\n",
    "\n",
    "nations = ['Korea', 'China', 'India', 'Nepal']"
   ]
  },
  {
   "cell_type": "code",
   "execution_count": 7,
   "id": "2d09c571",
   "metadata": {},
   "outputs": [
    {
     "name": "stdout",
     "output_type": "stream",
     "text": [
      "nations = ['Korea', 'China', 'India', 'Nepal']\n"
     ]
    }
   ],
   "source": [
    "# nations 생성\n",
    "nations = ['Korea', 'China', 'India', 'Nepal']\n",
    "\n",
    "# 출력\n",
    "print(\"nations =\", nations)"
   ]
  },
  {
   "cell_type": "markdown",
   "id": "5dbecdeb",
   "metadata": {},
   "source": [
    "4. 여러분의 친한 친구 5명의 이름을 원소로 가지는 friends라는 리스트를 생성하여라.\n",
    "\n",
    "<span style=\"color: blue\">**실행결과**</span>\n",
    "\n",
    "friends = ['길동', '철수', '은지', '지은', '영민']"
   ]
  },
  {
   "cell_type": "code",
   "execution_count": 4,
   "id": "d889a8af",
   "metadata": {},
   "outputs": [
    {
     "name": "stdout",
     "output_type": "stream",
     "text": [
      "friends = ['길동', '철수', '은지', '지은', '영민']\n"
     ]
    }
   ],
   "source": [
    "# friends 생성\n",
    "friends = ['길동', '철수', '은지', '지은', '영민']\n",
    "\n",
    "# 출력\n",
    "print(\"friends =\", friends)"
   ]
  },
  {
   "cell_type": "markdown",
   "id": "738a2cc2",
   "metadata": {},
   "source": [
    "5. 'XYZ' 문자열을 이용하여 'X', 'Y', 'Z'라는 요소를 가지는 string이라는 이름의 리스트를 생성하여라.\n",
    "\n",
    "<span style=\"color: blue\">**실행결과**</span>\n",
    "\n",
    "string = ['X', 'Y', 'Z']"
   ]
  },
  {
   "cell_type": "code",
   "execution_count": 5,
   "id": "6d9f9794",
   "metadata": {},
   "outputs": [
    {
     "name": "stdout",
     "output_type": "stream",
     "text": [
      "string = ['X', 'Y', 'Z']\n"
     ]
    }
   ],
   "source": [
    "# 문자열로부터 리스트 string 생성\n",
    "string = list('XYZ')\n",
    "\n",
    "# 출력\n",
    "print(\"string =\", string)"
   ]
  }
 ],
 "metadata": {
  "kernelspec": {
   "display_name": "Python 3 (ipykernel)",
   "language": "python",
   "name": "python3"
  },
  "language_info": {
   "codemirror_mode": {
    "name": "ipython",
    "version": 3
   },
   "file_extension": ".py",
   "mimetype": "text/x-python",
   "name": "python",
   "nbconvert_exporter": "python",
   "pygments_lexer": "ipython3",
   "version": "3.9.12"
  }
 },
 "nbformat": 4,
 "nbformat_minor": 5
}
