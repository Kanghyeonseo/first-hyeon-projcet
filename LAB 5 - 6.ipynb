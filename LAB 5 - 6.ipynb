{
 "cells": [
  {
   "cell_type": "markdown",
   "id": "7be5f3c6",
   "metadata": {},
   "source": [
    "# LAB 5 - 6\n",
    "___\n",
    "* 사용자로부터 정수 n을 입력받아 [1, 2, 3]이라는 원소를 가지는 리스트를 다음과 같이 지정된 정수 n만큼 반복 출력하여라.\n",
    "\n",
    "<span style=\"color: blue\">**실행결과**</span>\n",
    "\n",
    "반복할 정수를 입력하시오 : `3`  \n",
    "[1, 2, 3, 1, 2, 3, 1, 2, 3]\n",
    "\n",
    "반복할 정수를 입력하시오 : `4`  \n",
    "[1, 2, 3, 1, 2, 3, 1, 2, 3, 1, 2, 3]"
   ]
  },
  {
   "cell_type": "code",
   "execution_count": 4,
   "id": "ffeaf5ba",
   "metadata": {},
   "outputs": [
    {
     "name": "stdout",
     "output_type": "stream",
     "text": [
      "반복할 정수를 입력하시오 : 3\n",
      "[1, 2, 3, 1, 2, 3, 1, 2, 3]\n",
      "\n",
      "반복할 정수를 입력하시오 : 4\n",
      "[1, 2, 3, 1, 2, 3, 1, 2, 3, 1, 2, 3]\n"
     ]
    }
   ],
   "source": [
    "a = [1, 2, 3]\n",
    "# n 입력 받기\n",
    "n = int(input(\"반복할 정수를 입력하시오 : \"))\n",
    "# n번 반복 출력\n",
    "print(a * n) \n",
    "\n",
    "print()\n",
    "\n",
    "n = int(input(\"반복할 정수를 입력하시오 : \"))\n",
    "print(a * n)"
   ]
  }
 ],
 "metadata": {
  "kernelspec": {
   "display_name": "Python 3 (ipykernel)",
   "language": "python",
   "name": "python3"
  },
  "language_info": {
   "codemirror_mode": {
    "name": "ipython",
    "version": 3
   },
   "file_extension": ".py",
   "mimetype": "text/x-python",
   "name": "python",
   "nbconvert_exporter": "python",
   "pygments_lexer": "ipython3",
   "version": "3.9.12"
  }
 },
 "nbformat": 4,
 "nbformat_minor": 5
}
