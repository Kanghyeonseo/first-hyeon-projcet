{
 "cells": [
  {
   "cell_type": "markdown",
   "id": "b25fe198",
   "metadata": {},
   "source": [
    "# LAB 10 - 7\n",
    "\n",
    "---\n",
    "\n",
    "1. 짝수를 순차적으로 반환하는 __next__() 메소드를 가진 EvenCounter라는 이름의 클래스를 정의하고 my_even 객체를 생성하여라. 이 객체의 __next__() 메소드를 호출하여 다음과 같이 출력하여라.\n",
    "\n",
    "<span style = \"color : blue\">**실행결과**</span>\n",
    "\n",
    "0 2 4 6 8"
   ]
  },
  {
   "cell_type": "code",
   "execution_count": 1,
   "id": "741b51c6",
   "metadata": {},
   "outputs": [
    {
     "name": "stdout",
     "output_type": "stream",
     "text": [
      "0 2 4 6 8 "
     ]
    }
   ],
   "source": [
    "class EvenCounter:\n",
    "    def __init__(self, n = 0):\n",
    "        self.n = n\n",
    "    def __iter__(self):\n",
    "        return self\n",
    "    def __next__(self):\n",
    "        t = self.n\n",
    "        self.n += 2\n",
    "        return t\n",
    "   \n",
    "my_even = EvenCounter()\n",
    "\n",
    "for x in my_even:\n",
    "    if x > 8:\n",
    "        break\n",
    "    print(x, end = ' ')\n"
   ]
  },
  {
   "cell_type": "markdown",
   "id": "19b772fd",
   "metadata": {},
   "source": [
    "2. 1번 문제를 통해 생성한 my_even 객체를 이용하여 for 문에서 다음과 같이 20 이하의 짝수를 출력하여라.\n",
    "\n",
    "<span style = \"color : blue\">**실행결과**</span>\n",
    "\n",
    "0 2 4 6 8 10 12 14 16 18 20"
   ]
  },
  {
   "cell_type": "code",
   "execution_count": 2,
   "id": "f29de485",
   "metadata": {},
   "outputs": [
    {
     "name": "stdout",
     "output_type": "stream",
     "text": [
      "0 2 4 6 8 10 12 14 16 18 20 "
     ]
    }
   ],
   "source": [
    "my_even = EvenCounter()\n",
    "\n",
    "for x in my_even:\n",
    "    if x > 20:\n",
    "        break\n",
    "    print(x, end = ' ')\n"
   ]
  }
 ],
 "metadata": {
  "kernelspec": {
   "display_name": "Python 3 (ipykernel)",
   "language": "python",
   "name": "python3"
  },
  "language_info": {
   "codemirror_mode": {
    "name": "ipython",
    "version": 3
   },
   "file_extension": ".py",
   "mimetype": "text/x-python",
   "name": "python",
   "nbconvert_exporter": "python",
   "pygments_lexer": "ipython3",
   "version": "3.9.12"
  }
 },
 "nbformat": 4,
 "nbformat_minor": 5
}
