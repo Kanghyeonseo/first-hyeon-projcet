{
 "cells": [
  {
   "cell_type": "markdown",
   "id": "4d0711f5",
   "metadata": {},
   "source": [
    "# LAB 10 - 6\n",
    "\n",
    "---\n",
    "\n",
    "1. 리스트 축약기능과 조건식을 사용하여 1에서 10사이 정수의 세제곱 값 중에서 500 이하인 값만을 가진 cubic 리스트를 다음과 같이 생성하여라.\n",
    "\n",
    "<span style = \"color : blue\">**실행결과**</span>\n",
    "\n",
    "cubic = [1, 8, 27, 64, 125, 216, 343]\n"
   ]
  },
  {
   "cell_type": "code",
   "execution_count": 1,
   "id": "c428ac04",
   "metadata": {},
   "outputs": [
    {
     "name": "stdout",
     "output_type": "stream",
     "text": [
      "cubic = [1, 8, 27, 64, 125, 216, 343]\n"
     ]
    }
   ],
   "source": [
    "cubic = [x ** 3 for x in range(1, 11) if x ** 3 <= 500]\n",
    "\n",
    "print('cubic =', cubic)"
   ]
  },
  {
   "cell_type": "markdown",
   "id": "a3c9b8ad",
   "metadata": {},
   "source": [
    "2. st = 'Hello 1234 Python'라는 문자열이 있다. 리스트 축약기능과 조건식을 사용하여 이 문자열로부터 ['1', '2', '3', '4']를 추출하여 다음과 같이 출력하여라\n",
    "\n",
    "<span style = \"color : blue\">**실행결과**</span>\n",
    "\n",
    "['1', '2', '3', '4']\n"
   ]
  },
  {
   "cell_type": "code",
   "execution_count": 4,
   "id": "4eec4c14",
   "metadata": {},
   "outputs": [
    {
     "name": "stdout",
     "output_type": "stream",
     "text": [
      "['1', '2', '3', '4']\n"
     ]
    }
   ],
   "source": [
    "st = 'Hello 1234 Python'\n",
    "\n",
    "a = [x for x in st if x.isdigit() == True]\n",
    "print(a)\n"
   ]
  }
 ],
 "metadata": {
  "kernelspec": {
   "display_name": "Python 3 (ipykernel)",
   "language": "python",
   "name": "python3"
  },
  "language_info": {
   "codemirror_mode": {
    "name": "ipython",
    "version": 3
   },
   "file_extension": ".py",
   "mimetype": "text/x-python",
   "name": "python",
   "nbconvert_exporter": "python",
   "pygments_lexer": "ipython3",
   "version": "3.9.12"
  }
 },
 "nbformat": 4,
 "nbformat_minor": 5
}
