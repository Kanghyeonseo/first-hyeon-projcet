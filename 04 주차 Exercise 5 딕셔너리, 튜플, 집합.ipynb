{
 "cells": [
  {
   "cell_type": "markdown",
   "id": "06387594",
   "metadata": {},
   "source": [
    "# Exercise 5\n",
    "___\n",
    "* 다음과 같이 튜플 (m, n)을 요소로 가지는 리스트 mylist가 있다. 사용자로부터 a, b의 두 값을 입력으로 받아서 (a, b) 값을 가지는 튜플이 있을 경우 ‘x번째에 (a, b) 요소가 있습니다.’를 출력하시오. 만일 (a, b) 요소는 없으나 (b, a) 요소가 있을 경우, ‘(a, b) 요소는 없으나 y번째에 (b, a) 요소가 있습니다.’를 출력하시오. 만일 (a, b) 요소나 (b, a) 요소가 없을 경우에는 ‘이 요소는 없습니다.’를 출력하시오.\n",
    "\n",
    "mylist = [(1, 2), (4, 5), (4, 2), (3, 1), (9, 4)]\n",
    "\n",
    "<span style=\"color: blue\">**실행결과**</span>\n",
    "\n",
    "두 정수를 입력하시오 : `4 2`  \n",
    "3번째에 (4, 2) 요소가 있습니다.\n",
    "\n",
    "두 정수를 입력하시오 : `4 9`  \n",
    "(4, 9) 요소는 없으나 5번째에 (9, 4) 요소가 있습니다.\n",
    "\n",
    "두 정수를 입력하시오 : `7 3`  \n",
    "이 요소는 없습니다."
   ]
  },
  {
   "cell_type": "code",
   "execution_count": 6,
   "id": "7249c06a",
   "metadata": {},
   "outputs": [
    {
     "name": "stdout",
     "output_type": "stream",
     "text": [
      "두 정수를 입력하시오 : 4 2\n",
      "3번째에 (4, 2) 요소가 있습니다.\n"
     ]
    }
   ],
   "source": [
    "mylist = [(1, 2), (4, 5), (4, 2), (3, 1), (9, 4)]\n",
    "\n",
    "# 두 정수 a, b 입력 받기\n",
    "a, b = map(int, input('두 정수를 입력하시오 : ').split())\n",
    "\n",
    "if (a, b) in mylist:        # (a, b)가 있다면\n",
    "    print(\"{}번째에 {} 요소가 있습니다.\".format(mylist.index((a, b)) + 1, (a, b)))\n",
    "else:                       # (a, b)가 없다면\n",
    "    if (b, a) in mylist:    # (b, a)가 있다면\n",
    "        print(\"{} 요소는 없으나 {}번째에 {} 요소가 있습니다.\".format((a, b), mylist.index((b, a)) + 1, (b, a)))\n",
    "    else:                   # 아예 없다면\n",
    "        print(\"이 요소는 없습니다.\")"
   ]
  },
  {
   "cell_type": "code",
   "execution_count": 7,
   "id": "a1b79efd",
   "metadata": {},
   "outputs": [
    {
     "name": "stdout",
     "output_type": "stream",
     "text": [
      "두 정수를 입력하시오 : 4 9\n",
      "(4, 9) 요소는 없으나 5번째에 (9, 4) 요소가 있습니다.\n"
     ]
    }
   ],
   "source": [
    "# 두 정수 a, b 입력 받기\n",
    "a, b = map(int, input('두 정수를 입력하시오 : ').split())\n",
    "\n",
    "if (a, b) in mylist:        # (a, b)가 있다면\n",
    "    print(\"{}번째에 {} 요소가 있습니다.\".format(mylist.index((a, b)) + 1, (a, b)))\n",
    "else:                       # (a, b)가 없다면\n",
    "    if (b, a) in mylist:    # (b, a)가 있다면\n",
    "        print(\"{} 요소는 없으나 {}번째에 {} 요소가 있습니다.\".format((a, b), mylist.index((b, a)) + 1, (b, a)))\n",
    "    else:                   # 아예 없다면\n",
    "        print(\"이 요소는 없습니다.\")"
   ]
  },
  {
   "cell_type": "code",
   "execution_count": 8,
   "id": "c810e381",
   "metadata": {},
   "outputs": [
    {
     "name": "stdout",
     "output_type": "stream",
     "text": [
      "두 정수를 입력하시오 : 7 3\n",
      "이 요소는 없습니다.\n"
     ]
    }
   ],
   "source": [
    "# 두 정수 a, b 입력 받기\n",
    "a, b = map(int, input('두 정수를 입력하시오 : ').split())\n",
    "\n",
    "if (a, b) in mylist:        # (a, b)가 있다면\n",
    "    print(\"{}번째에 {} 요소가 있습니다.\".format(mylist.index((a, b)) + 1, (a, b)))\n",
    "else:                       # (a, b)가 없다면\n",
    "    if (b, a) in mylist:    # (b, a)가 있다면\n",
    "        print(\"{} 요소는 없으나 {}번째에 {} 요소가 있습니다.\".format((a, b), mylist.index((b, a)) + 1, (b, a)))\n",
    "    else:                   # 아예 없다면\n",
    "        print(\"이 요소는 없습니다.\")"
   ]
  }
 ],
 "metadata": {
  "kernelspec": {
   "display_name": "Python 3 (ipykernel)",
   "language": "python",
   "name": "python3"
  },
  "language_info": {
   "codemirror_mode": {
    "name": "ipython",
    "version": 3
   },
   "file_extension": ".py",
   "mimetype": "text/x-python",
   "name": "python",
   "nbconvert_exporter": "python",
   "pygments_lexer": "ipython3",
   "version": "3.9.12"
  }
 },
 "nbformat": 4,
 "nbformat_minor": 5
}
