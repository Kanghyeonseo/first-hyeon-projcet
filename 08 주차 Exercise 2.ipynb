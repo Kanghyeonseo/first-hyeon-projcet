{
 "cells": [
  {
   "cell_type": "markdown",
   "id": "186e4910",
   "metadata": {},
   "source": [
    "# Exercise 2\n",
    "---\n",
    "2. 다음과 같은 내용을 포함하고 있는 number1to10.txt 파일을 한 줄씩 읽어들이도록 하여라.\n",
    "\n",
    "(1) 이 파일을 읽어서 각 행의 정수에 곱하기 10을 수행한 후 다음과 같은 numberby10.txt라는 이름의 파일로 저장하여라.\n",
    "\n",
    "<span style = \"color : blue\">**실행결과**</span>\n",
    "\n",
    "```\n",
    "<number1to10.txt>    \n",
    "1\n",
    "2\n",
    "3\n",
    "4\n",
    "5\n",
    "6\n",
    "7\n",
    "8\n",
    "9\n",
    "10\n",
    "\n",
    "<numberby10.txt>  \n",
    "10  \n",
    "20  \n",
    "30  \n",
    "40  \n",
    "50  \n",
    "60  \n",
    "70  \n",
    "80  \n",
    "90  \n",
    "100\n",
    "```"
   ]
  },
  {
   "cell_type": "code",
   "execution_count": 1,
   "id": "9321c325",
   "metadata": {},
   "outputs": [],
   "source": [
    "f = open('number1to10.txt', 'w')\n",
    "f2 = open('numberby10.txt', 'w')\n",
    "\n",
    "list10 = list(range(1,11))\n",
    "\n",
    "for i in list10:\n",
    "    if i == 10:\n",
    "        f.write('{}'.format(i))\n",
    "        f2.write('{}'.format(i * 10))\n",
    "    else:\n",
    "        f.write('{}\\n'.format(i))\n",
    "        f2.write('{}\\n'.format(i * 10))\n",
    "\n",
    "f.close()\n",
    "f2.close()"
   ]
  },
  {
   "cell_type": "markdown",
   "id": "764aaf1b",
   "metadata": {},
   "source": [
    "(2) 위 두 파일을 읽어서 다음과 같이 각 행의 값을 하나의 내용으로 묶어서 저장하는 프로그램을 작성하여라. 이 파일의 이름은 merge.txt이다.\n",
    "\n",
    "<span style = \"color : blue\">**실행결과**</span>\n",
    "\n",
    "```\n",
    "1 : 10\n",
    "2 : 20  \n",
    "3 : 30  \n",
    "4 : 40  \n",
    "5 : 50  \n",
    "6 : 60  \n",
    "7 : 70  \n",
    "8 : 80  \n",
    "9 : 90  \n",
    "10 : 100\n",
    "```"
   ]
  },
  {
   "cell_type": "code",
   "execution_count": 3,
   "id": "70c7714e",
   "metadata": {},
   "outputs": [],
   "source": [
    "f = open('number1to10.txt', 'r')\n",
    "f2 = open('numberby10.txt', 'r')\n",
    "f3 = open('merge.txt', 'w')\n",
    "\n",
    "for i in range(10):\n",
    "    a = f.readline().rstrip()\n",
    "    b = f2.readline().rstrip()\n",
    "    if i == 9:\n",
    "        f3.write('{} : {}'.format(a, b))\n",
    "    else:\n",
    "        f3.write('{} : {}\\n'.format(a, b))\n",
    "        \n",
    "f.close()\n",
    "f2.close()\n",
    "f3.close()"
   ]
  }
 ],
 "metadata": {
  "kernelspec": {
   "display_name": "Python 3 (ipykernel)",
   "language": "python",
   "name": "python3"
  },
  "language_info": {
   "codemirror_mode": {
    "name": "ipython",
    "version": 3
   },
   "file_extension": ".py",
   "mimetype": "text/x-python",
   "name": "python",
   "nbconvert_exporter": "python",
   "pygments_lexer": "ipython3",
   "version": "3.9.12"
  }
 },
 "nbformat": 4,
 "nbformat_minor": 5
}
