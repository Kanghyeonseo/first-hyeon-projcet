{
 "cells": [
  {
   "cell_type": "markdown",
   "id": "392ed78f",
   "metadata": {},
   "source": [
    "# LAB 4 - 8\n",
    "___\n",
    "* 어떤 정수 n과 m을 입력하면, n의 배수 m개를 반환하는 multiplies(n, m) 함수를 구현하고 다음과 같이 호출하여 결과를 출력하여라.\n",
    "\n",
    "r1, r2, r3, r4 = multiplies(3, 4)  \n",
    "print(r1, r2, r3, r4)  \n",
    "r1, r2, r3, r4, r5 = multiplies(2, 5)  \n",
    "print(r1, r2, r3, r4, r5)\n",
    "\n",
    "<span style=\"color: blue\">**실행결과**</span>\n",
    "\n",
    "3 6 9 12\n",
    "2 4 6 8 10"
   ]
  },
  {
   "cell_type": "code",
   "execution_count": 2,
   "id": "23623bd1",
   "metadata": {},
   "outputs": [
    {
     "name": "stdout",
     "output_type": "stream",
     "text": [
      "입력 받을 정수 n m = 3 4\n",
      "3 6 9 12\n"
     ]
    }
   ],
   "source": [
    "# n과 m 입력 받기\n",
    "n, m = map(int, input(\"입력 받을 정수 n m = \").split())\n",
    "\n",
    "# 리스트에 n의 배수를 m개 저장 후 튜플로 반환\n",
    "def multiplies(n, m):\n",
    "    list_ = []\n",
    "    for i in range(m):                 \n",
    "        list_.append(n*(i + 1))\n",
    "    return tuple(list_)\n",
    "\n",
    "# m개의 개수를 원소로 가지는 튜플로부터 값 전달 받기\n",
    "r1, r2, r3, r4 = multiplies(n, m)\n",
    "\n",
    "print(r1, r2, r3, r4)"
   ]
  },
  {
   "cell_type": "code",
   "execution_count": 4,
   "id": "ac33504f",
   "metadata": {},
   "outputs": [
    {
     "name": "stdout",
     "output_type": "stream",
     "text": [
      "입력 받을 정수 n m = 2 5\n",
      "2 4 6 8 10\n"
     ]
    }
   ],
   "source": [
    "n, m = map(int, input(\"입력 받을 정수 n m = \").split())\n",
    "\n",
    "def multiplies(n, m):\n",
    "    list_ = []\n",
    "    for i in range(m):\n",
    "        list_.append(n*(i + 1))\n",
    "    return tuple(list_)\n",
    "\n",
    "r1, r2, r3, r4, r5 = multiplies(n, m)\n",
    "\n",
    "print(r1, r2, r3, r4, r5)"
   ]
  }
 ],
 "metadata": {
  "kernelspec": {
   "display_name": "Python 3 (ipykernel)",
   "language": "python",
   "name": "python3"
  },
  "language_info": {
   "codemirror_mode": {
    "name": "ipython",
    "version": 3
   },
   "file_extension": ".py",
   "mimetype": "text/x-python",
   "name": "python",
   "nbconvert_exporter": "python",
   "pygments_lexer": "ipython3",
   "version": "3.9.12"
  }
 },
 "nbformat": 4,
 "nbformat_minor": 5
}
