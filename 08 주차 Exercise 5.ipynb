{
 "cells": [
  {
   "cell_type": "markdown",
   "id": "d75aea6a",
   "metadata": {},
   "source": [
    "# Exercise 5\n",
    "---\n",
    "* 1에서 10사이의 랜덤한 숫자를 30개 가진 randint30.txt 라는 파일을 random 모듈을 사용하여 생성하시오. 이 때 생성한 숫자는 다음과 같이 공백으로 구분하여 나열하시오. \n",
    "\n",
    "<randint30.txt>  \n",
    "1 10 10 6... 6 5    30개\n",
    "\n",
    "위의 randint30.txt라는 파일을 읽어서 1에서 10까지 정수의 출현횟수를 다음과 같이 출력하여라.\n",
    "\n",
    "<span style = \"color : blue\">**실행결과**</span>\n",
    "\n",
    "1 : 3개  \n",
    "2 : 5개  \n",
    "3 : 2개  \n",
    "...  \n",
    "9 : 2개  \n",
    "10 : 3개"
   ]
  },
  {
   "cell_type": "code",
   "execution_count": 5,
   "id": "df78af2e",
   "metadata": {},
   "outputs": [
    {
     "name": "stdout",
     "output_type": "stream",
     "text": [
      "1 : 5개\n",
      "2 : 4개\n",
      "3 : 1개\n",
      "4 : 1개\n",
      "5 : 3개\n",
      "6 : 3개\n",
      "7 : 2개\n",
      "8 : 3개\n",
      "9 : 4개\n",
      "10 : 4개\n"
     ]
    }
   ],
   "source": [
    "import random as rd\n",
    "\n",
    "# 30개 숫자 파일에 저장하기\n",
    "f = open('randint30.txt', 'w')\n",
    "\n",
    "for i in range(30):\n",
    "    num = str(rd.randint(1,10))\n",
    "    if i == 29:\n",
    "        f.write(num)\n",
    "    else:\n",
    "        f.write(\"{} \".format(num))\n",
    "        \n",
    "f.close()\n",
    "\n",
    "# 파일 읽어서 출현횟수 출력하기\n",
    "f = open('randint30.txt', 'r')\n",
    "\n",
    "list30 = f.read().split()       # 읽어온 숫자30개 공백으로 구분해 문자열들의 배열로 list30에 저장\n",
    "list30 = list(map(int, list30))          # 정수 배열로 변환\n",
    "\n",
    "for i in range(1, 11):\n",
    "    print('{} : {}개'.format(i, list30.count(i)) )\n",
    "\n",
    "f.close()\n"
   ]
  }
 ],
 "metadata": {
  "kernelspec": {
   "display_name": "Python 3 (ipykernel)",
   "language": "python",
   "name": "python3"
  },
  "language_info": {
   "codemirror_mode": {
    "name": "ipython",
    "version": 3
   },
   "file_extension": ".py",
   "mimetype": "text/x-python",
   "name": "python",
   "nbconvert_exporter": "python",
   "pygments_lexer": "ipython3",
   "version": "3.9.12"
  }
 },
 "nbformat": 4,
 "nbformat_minor": 5
}
