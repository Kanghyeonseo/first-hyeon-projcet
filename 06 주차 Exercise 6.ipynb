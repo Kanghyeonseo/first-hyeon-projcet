{
 "cells": [
  {
   "cell_type": "markdown",
   "id": "561644fa",
   "metadata": {},
   "source": [
    "# Exercise 6\n",
    "___\n",
    "* m과 n이라는 이름의 매개변수를 두개 입력받아서 이 두 값 중에서 큰 값을 반환하는 max2(m,n) 함수와 작은 값을 반환하는 min2(m,n) 함수를 구현하시오. 100과 200을 인자로 넣어서 호출하여 그 결과를 확인하시오.\n",
    "\n",
    "<span style=\"color: blue\">**실행결과**</span>\n",
    "\n",
    "100과 200중 큰 수는 : 200  \n",
    "100과 200중 작은 수는 : 100  \n"
   ]
  },
  {
   "cell_type": "code",
   "execution_count": 1,
   "id": "4c2ddf71",
   "metadata": {},
   "outputs": [
    {
     "name": "stdout",
     "output_type": "stream",
     "text": [
      "100과 200중 큰 수는 : 200\n",
      "100과 200중 작은 수는 : 100\n"
     ]
    }
   ],
   "source": [
    "def max2(m, n):\n",
    "    if m <= n:\n",
    "        return n\n",
    "    else:\n",
    "        return m\n",
    "\n",
    "def min2(m, n):\n",
    "    if m <= n:\n",
    "        return m\n",
    "    else:\n",
    "        return n\n",
    "    \n",
    "print(\"100과 200중 큰 수는 :\", max2(100, 200))\n",
    "print(\"100과 200중 작은 수는 :\", min2(100, 200))"
   ]
  }
 ],
 "metadata": {
  "kernelspec": {
   "display_name": "Python 3 (ipykernel)",
   "language": "python",
   "name": "python3"
  },
  "language_info": {
   "codemirror_mode": {
    "name": "ipython",
    "version": 3
   },
   "file_extension": ".py",
   "mimetype": "text/x-python",
   "name": "python",
   "nbconvert_exporter": "python",
   "pygments_lexer": "ipython3",
   "version": "3.9.12"
  }
 },
 "nbformat": 4,
 "nbformat_minor": 5
}
