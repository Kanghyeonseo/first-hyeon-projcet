{
 "cells": [
  {
   "cell_type": "markdown",
   "id": "ea7d1293",
   "metadata": {},
   "source": [
    "# LAB 3 - 2\n",
    "___\n",
    "1. 1에서 100 사이의 임의의 정수 n을 입력받아서 1) n을 화면에 출력한 후, 2) n이 짝수이면 \"...은(는) 짝수입니다.\"를 다음과 같이 출력하는 프로그램을 작성하여라.\n",
    "\n",
    "<span style=\"color: blue\">**실행결과**</span>\n",
    "\n",
    "&nbsp;&nbsp;&nbsp;&nbsp;정수를 입력하세요 : `50`  \n",
    "&nbsp;&nbsp;&nbsp;&nbsp;n = 50  \n",
    "&nbsp;&nbsp;&nbsp;&nbsp;50 은(는) 짝수입니다.\n",
    "\n",
    "또는\n",
    "\n",
    "&nbsp;&nbsp;&nbsp;&nbsp;정수를 입력하세요 : `75`  \n",
    "&nbsp;&nbsp;&nbsp;&nbsp;n = 75"
   ]
  },
  {
   "cell_type": "code",
   "execution_count": 1,
   "id": "bb82e276",
   "metadata": {},
   "outputs": [
    {
     "name": "stdout",
     "output_type": "stream",
     "text": [
      "정수를 입력하세요 : 50\n",
      "n = 50\n",
      "50 은(는) 짝수입니다.\n"
     ]
    }
   ],
   "source": [
    "# 1에서 100사이의 임의의 정수를 n이라는 변수로 설정함\n",
    "n = int(input('정수를 입력하세요 : '))\n",
    "\n",
    "print('n =', n)                         # n 출력\n",
    "if n % 2 == 0:                         # n이 짝수일 때\n",
    "    print(n, '은(는) 짝수입니다.')"
   ]
  },
  {
   "cell_type": "code",
   "execution_count": 2,
   "id": "47d4e796",
   "metadata": {},
   "outputs": [
    {
     "name": "stdout",
     "output_type": "stream",
     "text": [
      "정수를 입력하세요 : 75\n",
      "n = 75\n"
     ]
    }
   ],
   "source": [
    "n = int(input('정수를 입력하세요 : '))\n",
    "\n",
    "print('n =', n)                         \n",
    "if n % 2 == 0:                         \n",
    "    print(n, '은(는) 짝수입니다.')"
   ]
  },
  {
   "cell_type": "markdown",
   "id": "5202e6a4",
   "metadata": {},
   "source": [
    "2. -100에서 100사이의 임의의 정수 x를 입력받아서 1) x를 화면에 출력한 후, 2) x가 0보다 큰 정수이면 \"...은(는) 자연수입니다.\"를 다음과 같이 출력하는 프로그램을 작성하여라. 그렇지 않을 경우 x = -10과 같이 x를 단순 출력하여라.\n",
    "\n",
    "<span style=\"color: blue\">**실행결과**</span>\n",
    "\n",
    "&nbsp;&nbsp;&nbsp;&nbsp;정수를 입력하세요 : `50`  \n",
    "&nbsp;&nbsp;&nbsp;&nbsp;n = 50  \n",
    "&nbsp;&nbsp;&nbsp;&nbsp;50 은(는) 자연수입니다.\n",
    "\n",
    "또는\n",
    "\n",
    "&nbsp;&nbsp;&nbsp;&nbsp;정수를 입력하세요 : `-10`  \n",
    "&nbsp;&nbsp;&nbsp;&nbsp;n = -10"
   ]
  },
  {
   "cell_type": "code",
   "execution_count": 4,
   "id": "e3f3f6b8",
   "metadata": {},
   "outputs": [
    {
     "name": "stdout",
     "output_type": "stream",
     "text": [
      "정수를 입력하세요 : 50\n",
      "x = 50\n",
      "50 은(는) 자연수입니다.\n"
     ]
    }
   ],
   "source": [
    "#-100에서 100사이의 임의의 정수를 x라는 변수로 설정함\n",
    "x = int(input('정수를 입력하세요 : '))\n",
    "\n",
    "print('x =', x)                         # x 출력\n",
    "if x > 0:                              # x가 자연수일 때\n",
    "    print(x, '은(는) 자연수입니다.')"
   ]
  },
  {
   "cell_type": "code",
   "execution_count": 5,
   "id": "78f70520",
   "metadata": {},
   "outputs": [
    {
     "name": "stdout",
     "output_type": "stream",
     "text": [
      "정수를 입력하세요 : -10\n",
      "x = -10\n"
     ]
    }
   ],
   "source": [
    "x = int(input('정수를 입력하세요 : '))\n",
    "\n",
    "print('x =', x)                         \n",
    "if x > 0:                              \n",
    "    print(x, '은(는) 자연수입니다.')"
   ]
  }
 ],
 "metadata": {
  "kernelspec": {
   "display_name": "Python 3 (ipykernel)",
   "language": "python",
   "name": "python3"
  },
  "language_info": {
   "codemirror_mode": {
    "name": "ipython",
    "version": 3
   },
   "file_extension": ".py",
   "mimetype": "text/x-python",
   "name": "python",
   "nbconvert_exporter": "python",
   "pygments_lexer": "ipython3",
   "version": "3.9.12"
  }
 },
 "nbformat": 4,
 "nbformat_minor": 5
}
