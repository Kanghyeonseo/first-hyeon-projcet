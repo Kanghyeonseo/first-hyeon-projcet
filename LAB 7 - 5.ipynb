{
 "cells": [
  {
   "cell_type": "markdown",
   "id": "0ab446ae",
   "metadata": {},
   "source": [
    "# LAB 7 - 5\n",
    "\n",
    "---\n",
    "\n",
    "1. random 모듈의 randrange() 함수를 이용하여 0에서 100 이하의 정수 중에서 5의 배수 값을 임의로 3개 선택하여 리스트 형식으로 출력해보시오.\n",
    "\n",
    " \n",
    "\n",
    "<span style = \"color : blue\">**실행결과**</span>\n",
    "\n",
    " \n",
    "\n",
    "0에서 100 이하의 정수 중에서 5의 배수    \n",
    "[15, 45, 60]"
   ]
  },
  {
   "cell_type": "code",
   "execution_count": 1,
   "id": "106a38d6",
   "metadata": {},
   "outputs": [
    {
     "name": "stdout",
     "output_type": "stream",
     "text": [
      "0에서 100 이하의 정수 중에서 5의 배수\n",
      "[80, 75, 35]\n"
     ]
    }
   ],
   "source": [
    "import random as rd\n",
    "\n",
    "print(\"0에서 100 이하의 정수 중에서 5의 배수\")\n",
    "\n",
    "list5 = []\n",
    "for i in range(3):      # 3개 선택\n",
    "    list5.append(rd.randrange(0, 101, 5))    # 1에서 100 이하 정수 중 5의 배수 선택해서 배열에 추가\n",
    "\n",
    "print(list5)"
   ]
  },
  {
   "cell_type": "markdown",
   "id": "75eaf008",
   "metadata": {},
   "source": [
    "2. 1에서 10 사이의 정수 중 임의의 정수 3개를 sample() 함수를 이용하여 출력하시오. \n",
    "\n",
    "<span style = \"color : blue\">**실행결과**</span>\n",
    "\n",
    "1에서 10 사이의 임의의 정수 : [3, 2, 5]"
   ]
  },
  {
   "cell_type": "code",
   "execution_count": 3,
   "id": "5f4cf3cd",
   "metadata": {},
   "outputs": [
    {
     "name": "stdout",
     "output_type": "stream",
     "text": [
      "1에서 10 사이의 임의의 정수 : [10, 2, 8]\n"
     ]
    }
   ],
   "source": [
    "# 1에서 10사이의 정수 배열 \n",
    "list_ = list(range(1,11))\n",
    "\n",
    "print(\"1에서 10 사이의 임의의 정수 :\", rd.sample(list_, 3))   # 1에서 10사이의 정수 배열에서 샘플 3개 선택 하여 출력"
   ]
  }
 ],
 "metadata": {
  "kernelspec": {
   "display_name": "Python 3 (ipykernel)",
   "language": "python",
   "name": "python3"
  },
  "language_info": {
   "codemirror_mode": {
    "name": "ipython",
    "version": 3
   },
   "file_extension": ".py",
   "mimetype": "text/x-python",
   "name": "python",
   "nbconvert_exporter": "python",
   "pygments_lexer": "ipython3",
   "version": "3.9.12"
  }
 },
 "nbformat": 4,
 "nbformat_minor": 5
}
