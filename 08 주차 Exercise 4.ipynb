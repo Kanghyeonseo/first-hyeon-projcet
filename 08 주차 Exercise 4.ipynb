{
 "cells": [
  {
   "cell_type": "markdown",
   "id": "1f0673f4",
   "metadata": {},
   "source": [
    "# Exercise 4\n",
    "---\n",
    "* 다음과 같은 내용을 포함하고 있는 hello.txt 파일을 텍스트 편집기를 이용하여 작성하시오\n",
    "\n",
    "1 Hello.  \n",
    "2 Hi, there.\n",
    "\n",
    "(1)\t이제 이 파일을 open() 함수를 통해 읽어서 이 파일의 내용을 다음과 같이 화면에 출력하시오.\n",
    "\n",
    "<span style = \"color : blue\">**실행결과**</span>\n",
    "\n",
    "hello.txt 파일 :  \n",
    "Hello.  \n",
    "Hi, there."
   ]
  },
  {
   "cell_type": "code",
   "execution_count": null,
   "id": "98aa9d7c",
   "metadata": {},
   "outputs": [],
   "source": [
    "f = open('hello.txt', 'r')\n",
    "\n",
    "print('hello.txt 파일 :')\n",
    "s  = f.read()\n",
    "print(s)\n",
    "\n",
    "f.close()"
   ]
  },
  {
   "cell_type": "markdown",
   "id": "a02d2b8b",
   "metadata": {},
   "source": [
    "(2)\t이 파일을 open() 함수를 통해 읽어서 원래 파일의 내용 아래쪽에 'Welcome to Python!' 을 추가한 후 저장하시오. 그리고 다시 한번 파일을 읽어서 다음과 같이 화면에 출력하시오.\n",
    "\n",
    "<span style = \"color : blue\">**실행결과**</span>\n",
    "\n",
    "hello.txt 파일 :  \n",
    "Hello.  \n",
    "Hi, there.  \n",
    "Welcome to Python!"
   ]
  },
  {
   "cell_type": "code",
   "execution_count": 4,
   "id": "ab6086a2",
   "metadata": {},
   "outputs": [
    {
     "name": "stdout",
     "output_type": "stream",
     "text": [
      "Hello.\n",
      "Hi, there.\n",
      "Welcome to Python!\n"
     ]
    }
   ],
   "source": [
    "f = open('hello.txt', 'a+')\n",
    "\n",
    "f.write('\\n')\n",
    "f.write('Welcome to Python!')\n",
    "\n",
    "f.close()\n",
    "\n",
    "f = open('hello.txt', 'r')\n",
    "\n",
    "s = f.read()\n",
    "print(s)\n",
    "\n",
    "f.close()\n"
   ]
  }
 ],
 "metadata": {
  "kernelspec": {
   "display_name": "Python 3 (ipykernel)",
   "language": "python",
   "name": "python3"
  },
  "language_info": {
   "codemirror_mode": {
    "name": "ipython",
    "version": 3
   },
   "file_extension": ".py",
   "mimetype": "text/x-python",
   "name": "python",
   "nbconvert_exporter": "python",
   "pygments_lexer": "ipython3",
   "version": "3.9.12"
  }
 },
 "nbformat": 4,
 "nbformat_minor": 5
}
