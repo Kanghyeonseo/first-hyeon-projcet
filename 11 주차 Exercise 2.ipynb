{
 "cells": [
  {
   "cell_type": "markdown",
   "id": "e4813bc7",
   "metadata": {},
   "source": [
    "# Exercise 2\n",
    "---\n",
    "\n",
    "* ['sunday', 'monday', 'tuesday', 'wednesday', 'thursday', 'friday', 'saturday']로 이루어진 리스트로부터 다음과 같은 리스트를 생성하시오.\n",
    "\n",
    "<span style = \"color : blue\">**실행 결과**</span>\n",
    "\n",
    "['SUN', 'MON', 'TUE', 'WED', 'THU', 'FRI', 'SAT']\n",
    "\n",
    "(1) for 문과 슬라이싱, upper() 메소드를 사용하여 문제를 해결하여라."
   ]
  },
  {
   "cell_type": "code",
   "execution_count": 2,
   "id": "a464751d",
   "metadata": {},
   "outputs": [
    {
     "name": "stdout",
     "output_type": "stream",
     "text": [
      "['SUN', 'MON', 'TUE', 'WED', 'THU', 'FRI', 'SAT']\n"
     ]
    }
   ],
   "source": [
    "day = ['sunday', 'monday', 'tuesday', 'wednesday', 'thursday', 'friday', 'saturday']\n",
    "new_day = []\n",
    "\n",
    "for i in day:\n",
    "    new_day.append(i[:3].upper())\n",
    "    \n",
    "print(new_day)"
   ]
  },
  {
   "cell_type": "markdown",
   "id": "9408432f",
   "metadata": {},
   "source": [
    "2. map() 함수와 람다 함수를 사용하여 문제를 해결하여라."
   ]
  },
  {
   "cell_type": "code",
   "execution_count": 3,
   "id": "619d060e",
   "metadata": {},
   "outputs": [
    {
     "name": "stdout",
     "output_type": "stream",
     "text": [
      "['SUN', 'MON', 'TUE', 'WED', 'THU', 'FRI', 'SAT']\n"
     ]
    }
   ],
   "source": [
    "new_day = list(map(lambda x: x[:3].upper(), day))\n",
    "\n",
    "print(new_day)"
   ]
  },
  {
   "cell_type": "markdown",
   "id": "b0385182",
   "metadata": {},
   "source": [
    "3. 리스트 축약 표현을 이용하여 문제를 해결하여라."
   ]
  },
  {
   "cell_type": "code",
   "execution_count": 5,
   "id": "536f828e",
   "metadata": {},
   "outputs": [
    {
     "name": "stdout",
     "output_type": "stream",
     "text": [
      "['SUN', 'MON', 'TUE', 'WED', 'THU', 'FRI', 'SAT']\n"
     ]
    }
   ],
   "source": [
    "new_day = [x[:3].upper() for x in day]\n",
    "\n",
    "print(new_day)"
   ]
  }
 ],
 "metadata": {
  "kernelspec": {
   "display_name": "Python 3 (ipykernel)",
   "language": "python",
   "name": "python3"
  },
  "language_info": {
   "codemirror_mode": {
    "name": "ipython",
    "version": 3
   },
   "file_extension": ".py",
   "mimetype": "text/x-python",
   "name": "python",
   "nbconvert_exporter": "python",
   "pygments_lexer": "ipython3",
   "version": "3.9.12"
  }
 },
 "nbformat": 4,
 "nbformat_minor": 5
}
