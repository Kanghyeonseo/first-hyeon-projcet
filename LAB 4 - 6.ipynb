{
 "cells": [
  {
   "cell_type": "markdown",
   "id": "73c6a600",
   "metadata": {},
   "source": [
    "# LAB 4 - 6\n",
    "___\n",
    "1. 다음 2차 방정식의 근을 [코드 4 - 10]의 함수를 사용하여 출력하여라.  \n",
    "```\n",
    "코드 4 - 10\n",
    "def print_root(a, b, c):\n",
    "    r1 = (-b + (b ** 2 - 4 * a * c) ** 0.5) / (2 * a)\n",
    "    r2 = (-b - (b ** 2 - 4 * a * c) ** 0.5) / (2 * a)\n",
    "    print('해는', r1, '또는', r2)\n",
    "```\n",
    "\n",
    "<span style=\"color: blue\">**보기**</span>\n",
    "\n",
    "(1) x<sup>2</sup> + 4x - 21 = 0  \n",
    "(2) x<sup>2</sup> - 6x + 8 = 0"
   ]
  },
  {
   "cell_type": "code",
   "execution_count": 4,
   "id": "67392747",
   "metadata": {},
   "outputs": [
    {
     "name": "stdout",
     "output_type": "stream",
     "text": [
      "1번의 해는 3.0 또는 -7.0\n",
      "2번의 해는 4.0 또는 2.0\n"
     ]
    }
   ],
   "source": [
    "def print_root(a, b, c):\n",
    "     r1 = (-b + (b ** 2 - 4 * a * c) ** 0.5) / (2 * a)\n",
    "     r2 = (-b - (b ** 2 - 4 * a * c) ** 0.5) / (2 * a)\n",
    "     print('해는', r1, '또는', r2)\n",
    "\n",
    "print(\"1번의\", end = ' ')\n",
    "print_root(1, 4, -21)\n",
    "print(\"2번의\", end = ' ')\n",
    "print_root(1, -6, 8)"
   ]
  },
  {
   "cell_type": "markdown",
   "id": "ea72f649",
   "metadata": {},
   "source": [
    "2. 삼각형의 면적을 구하기 위하여 밑변과 높이를 사용하려고 한다. 두 개의 매개변수 width, height를 받아서 삼각형의 면적을 출력하는 함수 print_area(width, height)를 구현하여라. 이때 print_area(10, 20)을 호출하여 다음과 같은 출력이 나타나도록 하여라.\n",
    "\n",
    "<span style=\"color: blue\">**실행결과**</span>\n",
    "\n",
    "밑변 10, 높이 20인 삼각형의 면적은 : 100"
   ]
  },
  {
   "cell_type": "code",
   "execution_count": 7,
   "id": "87c44833",
   "metadata": {},
   "outputs": [
    {
     "name": "stdout",
     "output_type": "stream",
     "text": [
      "밑변 10, 높이 20인 삼각형의 면적은 : 100\n"
     ]
    }
   ],
   "source": [
    "# 면적 구하는 함수 선언\n",
    "def print_area(width, height):\n",
    "    area = width * height * 0.5          # 면적 구하기\n",
    "    print(\"밑변 {}, 높이 {}인 삼각형의 면적은 : {}\".format(width, height, int(area)))\n",
    "\n",
    "print_area(10, 20)"
   ]
  }
 ],
 "metadata": {
  "kernelspec": {
   "display_name": "Python 3 (ipykernel)",
   "language": "python",
   "name": "python3"
  },
  "language_info": {
   "codemirror_mode": {
    "name": "ipython",
    "version": 3
   },
   "file_extension": ".py",
   "mimetype": "text/x-python",
   "name": "python",
   "nbconvert_exporter": "python",
   "pygments_lexer": "ipython3",
   "version": "3.9.12"
  }
 },
 "nbformat": 4,
 "nbformat_minor": 5
}
