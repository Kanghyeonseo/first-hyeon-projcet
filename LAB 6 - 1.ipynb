{
 "cells": [
  {
   "cell_type": "markdown",
   "id": "be44c760",
   "metadata": {},
   "source": [
    "# LAB 6 - 1\n",
    "___\n",
    "1. 다음과 같은 문자열 키-값의 항목을 가지는 capital_dic 딕셔너리를 생성하시오. 그리고 이 capital_dic을 이용하여 다음의 딕셔너리 항목에 대한 조회 결과를 적으시오.\n",
    "\n",
    "|키(key)|값(value)|\n",
    "|:---:|:---:|\n",
    "|'Korea'|'Seoul'|\n",
    "|'China'|'Beijing'|\n",
    "|'USA'|'Washington DC'|\n",
    "\n",
    "```\n",
    ">>> capital_dic['Korea']  \n",
    "a) ?\n",
    ">>> capital_dic['China']  \n",
    "b) ?\n",
    ">>> capital_dic['USA']  \n",
    "c) ?\n",
    "```"
   ]
  },
  {
   "cell_type": "code",
   "execution_count": 3,
   "id": "3daa3efa",
   "metadata": {},
   "outputs": [
    {
     "name": "stdout",
     "output_type": "stream",
     "text": [
      "a) Seoul\n",
      "b) Beijing\n",
      "c) Washington DC\n"
     ]
    }
   ],
   "source": [
    "# 수도 딕셔너리 생성\n",
    "capital_dic = { 'Korea' : 'Seoul', 'China' : 'Beijing', 'USA' : 'Washington DC'}\n",
    "\n",
    "# 출력\n",
    "print('a)', capital_dic['Korea'])  \n",
    "print('b)', capital_dic['China'])  \n",
    "print('c)', capital_dic['USA'])  "
   ]
  },
  {
   "cell_type": "markdown",
   "id": "8472a9e3",
   "metadata": {},
   "source": [
    "2. 다음 키-값의 항목을 요소로 가지는 fruit_dic 딕셔너리를 생성하시오. 그리고 이 딕셔너리를 이용하여 각 과일의 가격을 다음과 같이 출력하여라.\n",
    "\n",
    "|키|값|\n",
    "|:------:|:---:|\n",
    "|'apple'|5000|\n",
    "|'banana'|4000|\n",
    "|'grape'|5300|\n",
    "|'melon'|6500|\n",
    "\n",
    "<span style=\"color: blue\">**실행결과**</span>\n",
    "\n",
    "apple의 가격은 5000원입니다.  \n",
    "banana의 가격은 4000원입니다.  \n",
    "grape의 가격은 5300원입니다.  \n",
    "melon의 가격은 6500원입니다."
   ]
  },
  {
   "cell_type": "code",
   "execution_count": 5,
   "id": "c6565db5",
   "metadata": {},
   "outputs": [
    {
     "name": "stdout",
     "output_type": "stream",
     "text": [
      "apple의 가격은 5000원입니다.\n",
      "banana의 가격은 4000원입니다.\n",
      "grape의 가격은 5300원입니다.\n",
      "melon의 가격은 6500원입니다.\n"
     ]
    }
   ],
   "source": [
    "# 과일 딕셔너리 생성\n",
    "fruit_dic = { 'apple' : 5000, 'banana' : 4000, 'grape' : 5300, 'melon' : 6500}\n",
    "\n",
    "# 출력\n",
    "print(\"apple의 가격은 {}원입니다.\".format(fruit_dic['apple']))\n",
    "print(\"banana의 가격은 {}원입니다.\".format(fruit_dic['banana']))\n",
    "print(\"grape의 가격은 {}원입니다.\".format(fruit_dic['grape']))\n",
    "print(\"melon의 가격은 {}원입니다.\".format(fruit_dic['melon']))"
   ]
  }
 ],
 "metadata": {
  "kernelspec": {
   "display_name": "Python 3 (ipykernel)",
   "language": "python",
   "name": "python3"
  },
  "language_info": {
   "codemirror_mode": {
    "name": "ipython",
    "version": 3
   },
   "file_extension": ".py",
   "mimetype": "text/x-python",
   "name": "python",
   "nbconvert_exporter": "python",
   "pygments_lexer": "ipython3",
   "version": "3.9.12"
  }
 },
 "nbformat": 4,
 "nbformat_minor": 5
}
