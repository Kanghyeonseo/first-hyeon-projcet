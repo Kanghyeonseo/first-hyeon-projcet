{
 "cells": [
  {
   "cell_type": "markdown",
   "id": "30799f52",
   "metadata": {},
   "source": [
    "# Exercise 9\n",
    "___\n",
    "* 이중 for 문을 사용하여 숫자를 입력 받아 다음과 같은 삼각형을 출력하는 프로그램을 작성하시오. 이때 아래 결과와 같이 숫자 10이 입력되면 높이가 10이고 제일 마지막 줄의 별이 10개가 삼각형 형태로 나타나도록 하시오.\n",
    "\n",
    "<span style=\"color: blue\">**실행결과**</span>\n",
    "\n",
    "숫자를 입력하세요 : 10\n",
    "\n",
    "&nbsp;&nbsp;&nbsp;&nbsp;&nbsp;&nbsp;&nbsp;&nbsp;&nbsp;\\*  \n",
    "&nbsp;&nbsp;&nbsp;&nbsp;&nbsp;&nbsp;&nbsp;&nbsp;\\*\\*  \n",
    "&nbsp;&nbsp;&nbsp;&nbsp;&nbsp;&nbsp;&nbsp;\\*\\*\\*  \n",
    "&nbsp;&nbsp;&nbsp;&nbsp;&nbsp;&nbsp;\\*\\*\\*\\*  \n",
    "&nbsp;&nbsp;&nbsp;&nbsp;&nbsp;\\*\\*\\*\\*\\*  \n",
    "&nbsp;&nbsp;&nbsp;&nbsp;\\*\\*\\*\\*\\*\\*  \n",
    "&nbsp;&nbsp;&nbsp;\\*\\*\\*\\*\\*\\*\\*  \n",
    "&nbsp;&nbsp;\\*\\*\\*\\*\\*\\*\\*\\*  \n",
    "&nbsp;\\*\\*\\*\\*\\*\\*\\*\\*\\*  \n",
    "\\*\\*\\*\\*\\*\\*\\*\\*\\*\\*\n"
   ]
  },
  {
   "cell_type": "code",
   "execution_count": 8,
   "id": "2246d792",
   "metadata": {},
   "outputs": [
    {
     "name": "stdout",
     "output_type": "stream",
     "text": [
      "숫자를 입력하세요 : 10\n",
      "         *\n",
      "        **\n",
      "       ***\n",
      "      ****\n",
      "     *****\n",
      "    ******\n",
      "   *******\n",
      "  ********\n",
      " *********\n",
      "**********\n"
     ]
    }
   ],
   "source": [
    "# 입력 받을 숫자를 n이라는 변수로 설정함\n",
    "n = int(input(\"숫자를 입력하세요 : \"))\n",
    "\n",
    "for i in range(1, n + 1):                   # n층 만큼이므로 n번 반복하게\n",
    "    for j in range(n - i):                  # n - i번 반복해서 공백을 출력하면 9개부터 출력해서 0개까지 출력한다.\n",
    "        print(\" \", end = '')\n",
    "    for j in range(i):                      # i번 반복해서 별을 출력하면 1개부터 출력해서 0개까지 출력한다.\n",
    "        print(\"*\", end = '')\n",
    "    print()                                  # 한 층 입력을 다 한뒤 줄 바꿔줌"
   ]
  }
 ],
 "metadata": {
  "kernelspec": {
   "display_name": "Python 3 (ipykernel)",
   "language": "python",
   "name": "python3"
  },
  "language_info": {
   "codemirror_mode": {
    "name": "ipython",
    "version": 3
   },
   "file_extension": ".py",
   "mimetype": "text/x-python",
   "name": "python",
   "nbconvert_exporter": "python",
   "pygments_lexer": "ipython3",
   "version": "3.9.12"
  }
 },
 "nbformat": 4,
 "nbformat_minor": 5
}
