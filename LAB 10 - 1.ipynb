{
 "cells": [
  {
   "cell_type": "markdown",
   "id": "d26142a3",
   "metadata": {},
   "source": [
    "# LAB 10 - 1\n",
    "\n",
    "---\n",
    "\n",
    "1. 두 수의 차를 구하여 반환하는 sub라는 이름의 함수를 정의하여 호출하여라. sub(200, 100)을 이용하여 함수를 호출하고 그 반환 값을 다음과 같이 출력하여라.\n",
    "\n",
    "<span style = \"color : blue\">**실행결과**</span>\n",
    "\n",
    "200 - 100 = 100\n"
   ]
  },
  {
   "cell_type": "code",
   "execution_count": 1,
   "id": "308ada1d",
   "metadata": {},
   "outputs": [
    {
     "name": "stdout",
     "output_type": "stream",
     "text": [
      "200 - 100 = 100\n"
     ]
    }
   ],
   "source": [
    "def sub(a, b):\n",
    "    return a - b\n",
    "\n",
    "print(\"200 - 100 =\", sub(200, 100))"
   ]
  },
  {
   "cell_type": "markdown",
   "id": "de406e36",
   "metadata": {},
   "source": [
    "2. 1번 문제에서 정의한 sub() 함수를 람다 함수를 이용하여 구현하여라. 그리고 그 반환 값을 다음과 같이 출력하여라.\n",
    "\n",
    "<span style = \"color : blue\">**실행결과**</span>\n",
    "\n",
    "200 - 100 = 100"
   ]
  },
  {
   "cell_type": "code",
   "execution_count": 3,
   "id": "610a5efd",
   "metadata": {},
   "outputs": [
    {
     "name": "stdout",
     "output_type": "stream",
     "text": [
      "200 - 100 = 100\n"
     ]
    }
   ],
   "source": [
    "sub = lambda x, y: x - y\n",
    "\n",
    "print(\"200 - 100 =\", sub(200, 100))\n"
   ]
  }
 ],
 "metadata": {
  "kernelspec": {
   "display_name": "Python 3 (ipykernel)",
   "language": "python",
   "name": "python3"
  },
  "language_info": {
   "codemirror_mode": {
    "name": "ipython",
    "version": 3
   },
   "file_extension": ".py",
   "mimetype": "text/x-python",
   "name": "python",
   "nbconvert_exporter": "python",
   "pygments_lexer": "ipython3",
   "version": "3.9.12"
  }
 },
 "nbformat": 4,
 "nbformat_minor": 5
}
