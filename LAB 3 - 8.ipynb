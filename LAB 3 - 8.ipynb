{
 "cells": [
  {
   "cell_type": "markdown",
   "id": "7552b4ef",
   "metadata": {},
   "source": [
    "# LAB 3 - 8\n",
    "___\n",
    "1. 앞서 배운 누적 덧셈을 응용하여 1에서 100까지의 정수의 합을 구하여 출력하여라(힌트: range()의 구간이 1에서 100까지가 되도록 하자.)\n"
   ]
  },
  {
   "cell_type": "code",
   "execution_count": 1,
   "id": "a423374b",
   "metadata": {},
   "outputs": [
    {
     "name": "stdout",
     "output_type": "stream",
     "text": [
      "1에서 100까지의 합: 5050\n"
     ]
    }
   ],
   "source": [
    "# 누적 합을 s라는 변수로 설정함\n",
    "s = 0\n",
    "\n",
    "for i in range(1, 101):\n",
    "    s += i\n",
    "print('1에서 100까지의 합:', s)"
   ]
  },
  {
   "cell_type": "markdown",
   "id": "e81a6eea",
   "metadata": {},
   "source": [
    "2. range() 함수의 step 값을 이용하여 1에서 100까지 정수 중에서 짝수의 합을 구하여 출력하여라(힌트 : range() 함수의 시작 값은 0으로 하고 step 값을 2로 하여라)."
   ]
  },
  {
   "cell_type": "code",
   "execution_count": 2,
   "id": "491dae6a",
   "metadata": {},
   "outputs": [
    {
     "name": "stdout",
     "output_type": "stream",
     "text": [
      "1에서 100까지의 합: 2550\n"
     ]
    }
   ],
   "source": [
    "# 누적 짝수 합을 s라는 변수로 설정함\n",
    "s = 0\n",
    "\n",
    "for i in range(2, 101, 2):\n",
    "    s += i\n",
    "print('1에서 100까지의 합:', s)"
   ]
  },
  {
   "cell_type": "markdown",
   "id": "ca5c298e",
   "metadata": {},
   "source": [
    "3. range() 함수의 step 값을 이용하여 1에서 100까지 정수 중에서 홀수의 합을 구하여 출력하여라(힌트: range() 함수의 시작 값은 1로 하고 step 값을 2로 하여라)."
   ]
  },
  {
   "cell_type": "code",
   "execution_count": 3,
   "id": "bfa3d57c",
   "metadata": {},
   "outputs": [
    {
     "name": "stdout",
     "output_type": "stream",
     "text": [
      "1에서 100까지의 합: 2500\n"
     ]
    }
   ],
   "source": [
    "# 누적 홀수 합을 s라는 변수로 설정함\n",
    "s = 0\n",
    "\n",
    "for i in range(1, 100, 2):\n",
    "    s += i\n",
    "print('1에서 100까지의 합:', s)"
   ]
  }
 ],
 "metadata": {
  "kernelspec": {
   "display_name": "Python 3 (ipykernel)",
   "language": "python",
   "name": "python3"
  },
  "language_info": {
   "codemirror_mode": {
    "name": "ipython",
    "version": 3
   },
   "file_extension": ".py",
   "mimetype": "text/x-python",
   "name": "python",
   "nbconvert_exporter": "python",
   "pygments_lexer": "ipython3",
   "version": "3.9.12"
  }
 },
 "nbformat": 4,
 "nbformat_minor": 5
}
