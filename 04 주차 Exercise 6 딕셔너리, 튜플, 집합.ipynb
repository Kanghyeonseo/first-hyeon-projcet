{
 "cells": [
  {
   "cell_type": "markdown",
   "id": "ccd3e6d8",
   "metadata": {},
   "source": [
    "# Exercise 6\n",
    "___\n",
    "* 주어진 튜플은 10일 동안 일일 매장 매출을 기록한 것이다. 매출이 전날보다 감소한 날이 며칠인지 출력하는 코드를 작성하라.\n",
    "\n",
    "<span style=\"color: blue\">**실행결과**</span>\n",
    "\n",
    "일일 매출 기록 : (100, 121, 120, 130, 140, 120, 122, 123, 190, 125)  \n",
    "지난 10일 동안 전일대비 매출이 감소한 날은 3일입니다."
   ]
  },
  {
   "cell_type": "code",
   "execution_count": 4,
   "id": "ee0905b5",
   "metadata": {},
   "outputs": [
    {
     "name": "stdout",
     "output_type": "stream",
     "text": [
      "일일 매출 기록 : (100, 121, 120, 130, 140, 120, 122, 123, 190, 125)\n",
      "지난 10일 동안 전일대비 매출이 감소한 날은 0일입니다.\n"
     ]
    }
   ],
   "source": [
    "# 전일 대비 감소한 횟수\n",
    "count = 0\n",
    "\n",
    "sales_tuple = (100, 121, 120, 130, 140, 120, 122, 123, 190, 125)\n",
    "for i in sales_tuple:\n",
    "    if i > i + 1:         # 전일대비 매출 감소 라면 count +1\n",
    "        count += 1\n",
    "        \n",
    "print(\"일일 매출 기록 :\", sales_tuple)\n",
    "print(\"지난 10일 동안 전일대비 매출이 감소한 날은 {}일입니다.\".format(count))"
   ]
  }
 ],
 "metadata": {
  "kernelspec": {
   "display_name": "Python 3 (ipykernel)",
   "language": "python",
   "name": "python3"
  },
  "language_info": {
   "codemirror_mode": {
    "name": "ipython",
    "version": 3
   },
   "file_extension": ".py",
   "mimetype": "text/x-python",
   "name": "python",
   "nbconvert_exporter": "python",
   "pygments_lexer": "ipython3",
   "version": "3.9.12"
  }
 },
 "nbformat": 4,
 "nbformat_minor": 5
}
