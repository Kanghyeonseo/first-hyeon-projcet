{
 "cells": [
  {
   "cell_type": "markdown",
   "id": "65bdfa7b",
   "metadata": {},
   "source": [
    "# Exercise 1\n",
    "---\n",
    "\n",
    "* 1에서 100 사이의 정수 값들 중에서 6과 7의 배수를 new_list에 담아서 다음과 같이 출력하여라.\n",
    "\n",
    "<span style = \"color : blue\">**실행 결과**</span>\n",
    "\n",
    "new_list = [42, 84]\n",
    "\n",
    "(1) for 문과 if 조건식, % 연산자를 사용하여 문제를 해결하여라."
   ]
  },
  {
   "cell_type": "code",
   "execution_count": 3,
   "id": "04b42dba",
   "metadata": {},
   "outputs": [
    {
     "name": "stdout",
     "output_type": "stream",
     "text": [
      "new_list = [42, 84]\n"
     ]
    }
   ],
   "source": [
    "new_list = []\n",
    "\n",
    "for i in range(1, 101):\n",
    "    if i % 6 == 0 and i % 7 == 0:\n",
    "        new_list.append(i)\n",
    "        \n",
    "print(\"new_list =\", new_list)"
   ]
  },
  {
   "cell_type": "markdown",
   "id": "cd91f051",
   "metadata": {},
   "source": [
    "(2) filter() 함수와 람다 함수를 사용하여 문제를 해결하여라."
   ]
  },
  {
   "cell_type": "code",
   "execution_count": 6,
   "id": "0ddb58a4",
   "metadata": {},
   "outputs": [
    {
     "name": "stdout",
     "output_type": "stream",
     "text": [
      "new_list = [42, 84]\n"
     ]
    }
   ],
   "source": [
    "new_list = list(filter(lambda x: x % 6 == 0 and x % 7 == 0, range(1, 101)))\n",
    "\n",
    "print(\"new_list =\", new_list)"
   ]
  },
  {
   "cell_type": "markdown",
   "id": "925ad61b",
   "metadata": {},
   "source": [
    "(3) 리스트 축약 표현을 이용하여 문제를 해결하여라."
   ]
  },
  {
   "cell_type": "code",
   "execution_count": 10,
   "id": "33d74b8e",
   "metadata": {},
   "outputs": [
    {
     "name": "stdout",
     "output_type": "stream",
     "text": [
      "new_list = [42, 84]\n"
     ]
    }
   ],
   "source": [
    "new_list = [x for x in range(1, 101) if x % 6 == 0 and x % 7 == 0]\n",
    "\n",
    "print(\"new_list =\", new_list)"
   ]
  }
 ],
 "metadata": {
  "kernelspec": {
   "display_name": "Python 3 (ipykernel)",
   "language": "python",
   "name": "python3"
  },
  "language_info": {
   "codemirror_mode": {
    "name": "ipython",
    "version": 3
   },
   "file_extension": ".py",
   "mimetype": "text/x-python",
   "name": "python",
   "nbconvert_exporter": "python",
   "pygments_lexer": "ipython3",
   "version": "3.9.12"
  }
 },
 "nbformat": 4,
 "nbformat_minor": 5
}
