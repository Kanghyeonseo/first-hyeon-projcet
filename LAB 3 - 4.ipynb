{
 "cells": [
  {
   "cell_type": "markdown",
   "id": "7373f829",
   "metadata": {},
   "source": [
    "# LAB 3 - 4\n",
    "___\n",
    "1. and 연산자를 사용하여 num 변수가 1과 10사이의 값을 가지면 True를 출력하는 부울식을 완성하여라.\n",
    "\n",
    "<span style=\"color: blue\">**실행결과**</span>\n",
    "\n",
    "&nbsp;&nbsp;&nbsp;&nbsp;>>> num = 2  \n",
    "&nbsp;&nbsp;&nbsp;&nbsp;>>> ???  \n",
    "&nbsp;&nbsp;&nbsp;&nbsp;True\n"
   ]
  },
  {
   "cell_type": "markdown",
   "id": "834cfdd6",
   "metadata": {},
   "source": [
    "### 답 : ???에 들어갈 식은(num >= 1) and (num <= 10) 이다."
   ]
  },
  {
   "cell_type": "code",
   "execution_count": 1,
   "id": "b2a5724b",
   "metadata": {},
   "outputs": [
    {
     "data": {
      "text/plain": [
       "True"
      ]
     },
     "execution_count": 1,
     "metadata": {},
     "output_type": "execute_result"
    }
   ],
   "source": [
    "num = 2\n",
    "\n",
    "(num >= 1) and (num <= 10)            # num이 1보다 크거나 같고 and num이 10보다 작거나 같음을 동시에 만족한다면 True 출력"
   ]
  },
  {
   "cell_type": "markdown",
   "id": "c39c9195",
   "metadata": {},
   "source": [
    "2. and 연산자를 사용하여 age가 10보다 크고 19보다 작으면 '청소년입니다.'를 출력하는 부울식을 작성하여라. 그리고 age에 9와 12를 넣어서 그 결과를 다음과 같이 확인하여라.\n",
    "\n",
    "<span style=\"color: blue\">**실행결과**</span>\n",
    "\n",
    "&nbsp;&nbsp;&nbsp;&nbsp;age = 10\n",
    "\n",
    "혹은\n",
    "\n",
    "&nbsp;&nbsp;&nbsp;&nbsp;age = 12  \n",
    "&nbsp;&nbsp;&nbsp;&nbsp;청소년입니다."
   ]
  },
  {
   "cell_type": "code",
   "execution_count": 2,
   "id": "387a3f11",
   "metadata": {},
   "outputs": [
    {
     "name": "stdout",
     "output_type": "stream",
     "text": [
      "age = 10\n"
     ]
    }
   ],
   "source": [
    "#나이를 age라는 변수로 설정함\n",
    "age = int(input('age = '))\n",
    "\n",
    "if (age > 10) and (age < 19):                              # 나이가 10 < 나이 < 19 일 때\n",
    "    print('청소년입니다.')"
   ]
  },
  {
   "cell_type": "code",
   "execution_count": 3,
   "id": "32749eba",
   "metadata": {},
   "outputs": [
    {
     "name": "stdout",
     "output_type": "stream",
     "text": [
      "age = 12\n",
      "청소년입니다.\n"
     ]
    }
   ],
   "source": [
    "age = int(input('age = '))\n",
    "\n",
    "if (age > 10) and (age < 19):                              \n",
    "    print('청소년입니다.')"
   ]
  }
 ],
 "metadata": {
  "kernelspec": {
   "display_name": "Python 3 (ipykernel)",
   "language": "python",
   "name": "python3"
  },
  "language_info": {
   "codemirror_mode": {
    "name": "ipython",
    "version": 3
   },
   "file_extension": ".py",
   "mimetype": "text/x-python",
   "name": "python",
   "nbconvert_exporter": "python",
   "pygments_lexer": "ipython3",
   "version": "3.9.12"
  }
 },
 "nbformat": 4,
 "nbformat_minor": 5
}
