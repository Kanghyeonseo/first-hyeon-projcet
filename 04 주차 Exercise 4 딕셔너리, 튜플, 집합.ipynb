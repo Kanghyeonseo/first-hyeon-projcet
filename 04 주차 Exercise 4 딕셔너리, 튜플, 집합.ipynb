{
 "cells": [
  {
   "cell_type": "markdown",
   "id": "231bce63",
   "metadata": {},
   "source": [
    "# Exercise 4\n",
    "___\n",
    "* 영한사전과 같이 영어 단어를 주면, 이에 해당하는 우리말 단어를 알 수 있게 하려고 한다. 딕셔너리 구조를 활용하여 단어를 입력하고, 검색할 수 있는 프로그램을 작성해 보라. 실행된 결과는 명령 프롬프트 '$' 가 나타나며, 입력 명칭은 ‘<’, 검색 명령은 ‘>’로 표현한다. 입력은 “영어 단어:우리말 단어” 형태로 이루어지며, 검색은 영어 단어를 입력한다. 프로그램의 종료는 ‘q’키를 입력한다. 다음과 같은 실행구조를 가지는 프로그램을 작성하여라.\n",
    "\n",
    "<span style=\"color: blue\">**실행결과**</span>\n",
    "\n",
    "```\n",
    "사전 프로그램 시작... 종료는 q를 입력  \n",
    "$ < boy : 소년 \n",
    "$ < girl : 소녀\n",
    "$ < man : 남자, 사람    \n",
    "$ < woman : 여자  \n",
    "$ < house : 집  \n",
    "$ < Korea : 한국    \n",
    "$ > boy  \n",
    "소년  \n",
    "$ > body\n",
    "body가 사전에 없습니다.\n",
    "$ man\n",
    "입력오류가 발생했습니다.\n",
    "$ > man\n",
    "남자, 사람\n",
    "$ q\n",
    "사전 프로그램을 종료합니다.  \n",
    "```"
   ]
  },
  {
   "cell_type": "code",
   "execution_count": 6,
   "id": "e283b5f8",
   "metadata": {},
   "outputs": [
    {
     "name": "stdout",
     "output_type": "stream",
     "text": [
      "사전 프로그램 시작... 종료는 q를 입력\n",
      "$ < boy : 소년\n",
      "$ < girl : 소녀\n",
      "$ < man : 남자, 사람\n",
      "$ < woman : 여자\n",
      "$ < house : 집\n",
      "$ < Korea : 한국\n",
      "$ > boy\n",
      "소년\n",
      "$ > body\n",
      "body가 사전에 없습니다.\n",
      "$ man\n",
      "입력오류가 발생했습니다.\n",
      "$ > man\n",
      "남자, 사람\n",
      "$ q\n",
      "사전 프로그램을 종료합니다.\n"
     ]
    }
   ],
   "source": [
    "# 사전\n",
    "dic = {'boy' : '소년', 'girl' : '소녀', 'man' : '남자, 사람', 'woman' : '여자', 'house' : '집', 'Korea' : '한국'}\n",
    "\n",
    "# 안내문\n",
    "print(\"사전 프로그램 시작... 종료는 q를 입력\")\n",
    "print(\"$ < boy : 소년\")\n",
    "print(\"$ < girl : 소녀\")\n",
    "print(\"$ < man : 남자, 사람\")\n",
    "print(\"$ < woman : 여자\")\n",
    "print(\"$ < house : 집\")\n",
    "print(\"$ < Korea : 한국\")\n",
    "\n",
    "sign = 0;         # while 조건\n",
    "while sign == 0:\n",
    "    s_input = input(\"$ \")  # 입력 받기\n",
    "    if s_input == 'q':     # 조건1. q 입력 시 종료\n",
    "        print(\"사전 프로그램을 종료합니다.\")\n",
    "        sign = 1;\n",
    "    elif s_input[0] != '>':  # 조건2. >로 시작하지 않을 때\n",
    "        print(\"입력오류가 발생했습니다.\")\n",
    "    elif dic.get(s_input[2:]) == None:   # 조건3. 딕셔너리에 찾는 키가 없을 때\n",
    "        print(\"{}가 사전에 없습니다.\".format(s_input[2:]))\n",
    "    else:     # 정상 입력\n",
    "        print(dic.get(s_input[2:]))\n"
   ]
  }
 ],
 "metadata": {
  "kernelspec": {
   "display_name": "Python 3 (ipykernel)",
   "language": "python",
   "name": "python3"
  },
  "language_info": {
   "codemirror_mode": {
    "name": "ipython",
    "version": 3
   },
   "file_extension": ".py",
   "mimetype": "text/x-python",
   "name": "python",
   "nbconvert_exporter": "python",
   "pygments_lexer": "ipython3",
   "version": "3.9.12"
  }
 },
 "nbformat": 4,
 "nbformat_minor": 5
}
