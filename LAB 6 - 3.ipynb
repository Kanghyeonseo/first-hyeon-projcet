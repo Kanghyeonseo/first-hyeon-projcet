{
 "cells": [
  {
   "cell_type": "markdown",
   "id": "e659575c",
   "metadata": {},
   "source": [
    "# LAB 6 - 3\n",
    "___\n",
    "* 다음과 같은 키-값을 가지는 capital_dic이라는 딕셔너리를 생성한 후 아래 연산을 수행하고 출력 결과를 True 혹은 False로 적으시오.\n",
    "\n",
    "|키|값|\n",
    "|:---:|:---:|\n",
    "|'Korea'|'Seoul'|\n",
    "|'China'|'Beijing'|\n",
    "|'USA'|'Washington DC'|\n",
    "\n",
    "```\n",
    ">>> 'Korea' in capital_dic   \n",
    "a) ?  \n",
    ">>> 'China' in capital_dic     \n",
    "b) ?  \n",
    ">>> 'Indonesia' in capital_dic     \n",
    "c) ?  \n",
    ">>> 'Beijing' in capital_dic    \n",
    "d) ?  \n",
    "```"
   ]
  },
  {
   "cell_type": "code",
   "execution_count": 2,
   "id": "0d1f7be4",
   "metadata": {},
   "outputs": [
    {
     "name": "stdout",
     "output_type": "stream",
     "text": [
      "a) True\n",
      "b) True\n",
      "c) False\n",
      "d) False\n"
     ]
    }
   ],
   "source": [
    "# 수도 딕셔너리 생성\n",
    "capital_dic = { 'Korea' : 'Seoul', 'China' : 'Beijing', 'USA' : 'Washington DC'}\n",
    "\n",
    "# True 나 False로 출력\n",
    "print('a)', 'Korea' in capital_dic)  \n",
    "print('b)', 'China' in capital_dic)  \n",
    "print('c)', 'Indonesia' in capital_dic)  \n",
    "print('d)', 'Beijing' in capital_dic )"
   ]
  }
 ],
 "metadata": {
  "kernelspec": {
   "display_name": "Python 3 (ipykernel)",
   "language": "python",
   "name": "python3"
  },
  "language_info": {
   "codemirror_mode": {
    "name": "ipython",
    "version": 3
   },
   "file_extension": ".py",
   "mimetype": "text/x-python",
   "name": "python",
   "nbconvert_exporter": "python",
   "pygments_lexer": "ipython3",
   "version": "3.9.12"
  }
 },
 "nbformat": 4,
 "nbformat_minor": 5
}
