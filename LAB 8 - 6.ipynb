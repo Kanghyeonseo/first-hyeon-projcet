{
 "cells": [
  {
   "cell_type": "markdown",
   "id": "d496f158",
   "metadata": {},
   "source": [
    " # LAB 8 - 6\n",
    "---\n",
    "1. 사용자로부터 파일 이름을 입력으로 받은 후 입력받은 파일의 모든 문자를 대문자로 변환한 후 출력하여라. 그리고 이 내용을 [파일명_upper].txt 라는 이름의 파일로 저장하여라(힌트 : 문자열의 upper() 메소드를 사용하시오).\n",
    "\n",
    "<span style = \"color : blue\">**실행결과**</span>\n",
    "\n",
    "입력할 파일의 이름 : `we_will_rock.txt`  \n",
    "BUDDY, YOU'RE A BOY, MAKE A BIG NOISE  \n",
    "PLAYING IN THE STREET, GONNA BE A BIG MAN SOMEDAY  \n",
    "YOU GOT MUD ON YOUR FACE, YOU BIG DISGRACE  \n",
    "KICKING YOUR CAN ALL OVER THE PLACE, SINGIN'  \n",
    "WE WILL, WE WILL ROCK YOU  \n",
    "WE WILL, WE WILL ROCK YOU"
   ]
  },
  {
   "cell_type": "code",
   "execution_count": 24,
   "id": "bd1fce2c",
   "metadata": {},
   "outputs": [
    {
     "name": "stdout",
     "output_type": "stream",
     "text": [
      "입력할 파일의 이름 : we_will_rock.txt\n",
      "BUDDY, YOU'RE A BOY, MAKE A BIG NOISE\n",
      "PLAYING IN THE STREET, GONNA BE A BIG MAN SOMEDAY\n",
      "YOU GOT MUD ON YOUR FACE, YOU BIG DISGRACE\n",
      "KICKING YOUR CAN ALL OVER THE PLACE, SINGIN'\n",
      "WE WILL, WE WILL ROCK YOU\n",
      "WE WILL, WE WILL ROCK YOU\n"
     ]
    }
   ],
   "source": [
    "fname = input('입력할 파일의 이름 : ')\n",
    "\n",
    "f = open(fname, 'r')\n",
    "f2 = open('[we_will_rock_upper].txt', 'w')\n",
    "\n",
    "s = f.readline().upper()\n",
    "while s:\n",
    "    f2.write(s)\n",
    "    s = s.rstrip()\n",
    "    print(s)\n",
    "    s = f.readline().upper()\n",
    "\n",
    "f.close()\n",
    "f2.close()"
   ]
  },
  {
   "cell_type": "markdown",
   "id": "87666f16",
   "metadata": {},
   "source": [
    "2. 사용자로부터 파일 이름을 입력으로 받은 후 입력받은 파일의 모든 줄을 역순으로 하여 다음과 같이 출력하시오.\n",
    "\n",
    "<span style = \"color : blue\">**실행결과**</span>\n",
    "\n",
    "We will, we will rock you  \n",
    "We will, we will rock you  \n",
    "Kicking your can all over the place, singin'   \n",
    "You got mud on your face, you big disgrace    \n",
    "Playing in the street, gonna be a big man someday    \n",
    "Buddy, you're a boy, make a big noise  "
   ]
  },
  {
   "cell_type": "code",
   "execution_count": 22,
   "id": "f2931467",
   "metadata": {},
   "outputs": [
    {
     "name": "stdout",
     "output_type": "stream",
     "text": [
      "We will, we will rock you\n",
      "We will, we will rock you\n",
      "Kicking your can all over the place, singin'\n",
      "You got mud on your face, you big disgrace\n",
      "Playing in the street, gonna be a big man someday\n",
      "Buddy, you're a boy, make a big noise\n"
     ]
    }
   ],
   "source": [
    "f = open('we_will_rock.txt', 'r')\n",
    "\n",
    "# reverse_strs에 역순으로 문장 넣기\n",
    "reverse_strs = []\n",
    "\n",
    "s = f.readline().rstrip()\n",
    "reverse_strs.append(s)\n",
    "s = f.readline().rstrip()\n",
    "\n",
    "while s:\n",
    "    reverse_strs.insert(0, s)\n",
    "    s = f.readline().rstrip()\n",
    "    \n",
    "# reverse_strs에서 \\n문자 제거 후 출력\n",
    "for i in reverse_strs:\n",
    "    if '\\n' in i:      # 문자열에 \\n문자가 있다면 ''로 바꿔줌\n",
    "         i.replace('\\n', '')\n",
    "    print(i)\n",
    "\n",
    "f.close()"
   ]
  }
 ],
 "metadata": {
  "kernelspec": {
   "display_name": "Python 3 (ipykernel)",
   "language": "python",
   "name": "python3"
  },
  "language_info": {
   "codemirror_mode": {
    "name": "ipython",
    "version": 3
   },
   "file_extension": ".py",
   "mimetype": "text/x-python",
   "name": "python",
   "nbconvert_exporter": "python",
   "pygments_lexer": "ipython3",
   "version": "3.9.12"
  }
 },
 "nbformat": 4,
 "nbformat_minor": 5
}
