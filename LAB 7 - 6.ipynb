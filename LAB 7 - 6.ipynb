{
 "cells": [
  {
   "cell_type": "markdown",
   "id": "11ecdb66",
   "metadata": {},
   "source": [
    "# LAB 7 - 6\n",
    "---\n",
    "1. 파이썬의 random 모듈을 이용하여 다음과 같이 매주 5개의 랜덤하게 생성된 로또 번호를 얻고자 한다. 5개의 로또 번호를 생성하는 프로그램을 작성해 보자.\n",
    "\n",
    "<span style = \"color : blue\">**실행결과**</span>\n",
    "\n",
    "이번 주의 추천 로또번호  \n",
    "[15, 22, 28, 30, 31, 34]  \n",
    "[11, 12, 20, 22, 27, 43]  \n",
    "[2, 28, 34, 35, 42, 45]  \n",
    "[1, 8, 29, 37, 41, 44]  \n",
    "[3, 8, 26, 30, 39, 42]"
   ]
  },
  {
   "cell_type": "code",
   "execution_count": 5,
   "id": "92e89289",
   "metadata": {},
   "outputs": [
    {
     "name": "stdout",
     "output_type": "stream",
     "text": [
      "이번 주의 추천 로또번호\n",
      "[19, 21, 28, 29, 32, 33]\n",
      "[5, 6, 13, 27, 31, 38]\n",
      "[4, 14, 31, 35, 41, 43]\n",
      "[2, 4, 6, 26, 27, 41]\n",
      "[5, 6, 22, 26, 32, 41]\n"
     ]
    }
   ],
   "source": [
    "import random as rd\n",
    "\n",
    "list_ = list(range(1, 46))\n",
    "\n",
    "print(\"이번 주의 추천 로또번호\")\n",
    "for i in range(5):                                # 5번 반복\n",
    "    lotto_list = sorted(rd.sample(list_, 6))       # 6개를 랜덤으로 뽑아서 오름차순 시킨 배열을 배열lotto_list에 저장\n",
    "    print(lotto_list)  "
   ]
  },
  {
   "cell_type": "markdown",
   "id": "03e9ec02",
   "metadata": {},
   "source": [
    "2. 이제 로또 시행사에서 발표하는 당첨 번호를 출력해보자. 임의의 로또 당첨 번호와 함께 다음과 같이 보너스 번호를 출력하는 프로그램을 작성해 보자.\n",
    "\n",
    "<span style = \"color : blue\">**실행결과**</span>\n",
    "\n",
    "이번 주의 당첨 로또번호 + 보너스  \n",
    "[11, 12, 20, 32, 37, 42] + [9] "
   ]
  },
  {
   "cell_type": "code",
   "execution_count": 8,
   "id": "e9a184e7",
   "metadata": {},
   "outputs": [
    {
     "name": "stdout",
     "output_type": "stream",
     "text": [
      "이번 주의 당첨 로또번호 + 보너스\n",
      "[19, 23, 29, 39, 42, 44] + [7]\n"
     ]
    }
   ],
   "source": [
    "lotto_list = list(range(1, 46))\n",
    "lotto_list = rd.sample(lotto_list, 7)                 # 7개 숫자 임의로 뽑기\n",
    "\n",
    "print(\"이번 주의 당첨 로또번호 + 보너스\")\n",
    "print(sorted(lotto_list[:6]), '+', lotto_list[6:])    # 앞의 6개의 숫자만 정렬하여 출력 그리고 마지막 배열 원소 출력"
   ]
  }
 ],
 "metadata": {
  "kernelspec": {
   "display_name": "Python 3 (ipykernel)",
   "language": "python",
   "name": "python3"
  },
  "language_info": {
   "codemirror_mode": {
    "name": "ipython",
    "version": 3
   },
   "file_extension": ".py",
   "mimetype": "text/x-python",
   "name": "python",
   "nbconvert_exporter": "python",
   "pygments_lexer": "ipython3",
   "version": "3.9.12"
  }
 },
 "nbformat": 4,
 "nbformat_minor": 5
}
