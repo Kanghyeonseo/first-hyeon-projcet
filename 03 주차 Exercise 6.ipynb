{
 "cells": [
  {
   "cell_type": "markdown",
   "id": "ea699082",
   "metadata": {},
   "source": [
    "# Exercise 6\n",
    "___\n",
    "* 암스트롱 수란 세 자리의 정수 중에서 각 자리의 수를 세제곱한 수의 합과 자신이 같은 수를 말한다. 구체적인 예를 들면 153은 1 + 125 + 27 의 합으로 구성될 수 있는데 이러한 수가 암스트롱 수이다. 세 자리 정수들 중에서 모든 암스트롱 수를 구하여 다음과 같이 출력하여라.\n",
    "\n",
    "<span style=\"color: blue\">**실행결과**</span>\n",
    "\n",
    "세 자리의 암스트롱 수 : 153 370 371 407"
   ]
  },
  {
   "cell_type": "code",
   "execution_count": 1,
   "id": "99d90423",
   "metadata": {},
   "outputs": [
    {
     "name": "stdout",
     "output_type": "stream",
     "text": [
      "세 자리의 암스트롱 수 : 153 370 371 407 "
     ]
    }
   ],
   "source": [
    "print('세 자리의 암스트롱 수 :', end= ' ')\n",
    "for n in range(100, 1000):                # 범위를 100 ~ 999까지 설정함 -> 세자리 정수 중에서 찾아야 하기 때문\n",
    "    temp = n                              # 각 자리의 세제곱 연산을 위해 임시의 수를 temp라는 변수로 설정함              \n",
    "    total = 0                             # 각 자리의 수를 세제곱한 수를 total이라는 변수로 설장함\n",
    "    \n",
    "    while temp > 0:                       # 백의 자리수의 세제곱까지 더하고 몫의 연산을 해주면 0이 되어서 종료됨\n",
    "        total += ((temp % 10) ** 3)       # 일의 자리수부터 각 자리수를 세제곱 한 뒤 total에 저장\n",
    "        temp //= 10                       # 나머지 연산을 이용하기 위해 10으로 나눈 몫을 다시 저장\n",
    "        \n",
    "    if n == total:                        # 각 자리의 수의 세제곱한 수 == 자기 자신 (입력받은 세 자리 정수) 이면 출력\n",
    "        print(n, end = ' ')"
   ]
  }
 ],
 "metadata": {
  "kernelspec": {
   "display_name": "Python 3 (ipykernel)",
   "language": "python",
   "name": "python3"
  },
  "language_info": {
   "codemirror_mode": {
    "name": "ipython",
    "version": 3
   },
   "file_extension": ".py",
   "mimetype": "text/x-python",
   "name": "python",
   "nbconvert_exporter": "python",
   "pygments_lexer": "ipython3",
   "version": "3.9.12"
  }
 },
 "nbformat": 4,
 "nbformat_minor": 5
}
