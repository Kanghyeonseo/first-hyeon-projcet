{
 "cells": [
  {
   "cell_type": "markdown",
   "id": "ccc024fa",
   "metadata": {},
   "source": [
    "# Exercise 2\n",
    "___\n",
    "* 1번을 개선하여 처음에는 가장 큰 수를 제일 마지막으로 옮기고, 두번째 단계는 끝으로 옮겨진 요소를 제외한 리스트에서 가장 큰 수를 뒤에서 두 번째 위치로 옮기며, 세 번째 단계에서는 뒤의 두 요소를 제외한 나머지 리스트에서 가장 큰 수를 뒤에서 세 번째로 옮긴다. 이를 일반화 하면 k번째 단계에서는 뒤에서 k-1개 요소를 제외하고, 남은 리스트에서 가장 큰 요소를 뒤에서부터 k번째 위치에 옮겨 놓는 일을 처리할 리스트가 남지 않을 때까지 반복하면 큰 수부터 차례로 뒤에 쌓이게 된다. 이를 거품(bubble) 정렬이라고 한다. 이를 구현해보라.\n",
    "- sorted() 함수나 리스트의 sort() 메소드 금지\n",
    "\n",
    "<span style=\"color: blue\">**실행결과**</span>\n",
    "\n",
    "주어진 리스트는 = [5, 6, 3, 9, 2, 12, 3, 8, 7]  \n",
    "정렬된 결과는 = [2, 3, 3, 5, 6, 7, 8, 9, 12]"
   ]
  },
  {
   "cell_type": "code",
   "execution_count": 6,
   "id": "bfbe1cf6",
   "metadata": {},
   "outputs": [
    {
     "name": "stdout",
     "output_type": "stream",
     "text": [
      "주어진 리스트는 = [5, 6, 3, 9, 2, 12, 3, 8, 7]\n",
      "정렬된 결과는 = [2, 3, 3, 5, 6, 7, 8, 9, 12]\n"
     ]
    }
   ],
   "source": [
    "# 주어진 리스트 list1\n",
    "list1 = [5, 6, 3, 9, 2, 12, 3, 8, 7]\n",
    "\n",
    "print(\"주어진 리스트는 =\", list1)\n",
    "\n",
    "# 거품 정렬\n",
    "list1_size = len(list1)        # 원소 개수 lis1_size\n",
    "for i in range(0, list1_size - 1):      # 원소 개수 - 1만큼 sort\n",
    "    for j in range(0, list1_size - 1 - i):    # 원소의 마지막 원소 전까지 sort, 이미 옮긴 최댓값 자리 제외\n",
    "        if (list1[j] > list1[j + 1]):          # sort 조건\n",
    "            list1[j], list1[j+1] = list1[j+1], list1[j]\n",
    "\n",
    "print(\"정렬된 결과는 =\", list1)"
   ]
  }
 ],
 "metadata": {
  "kernelspec": {
   "display_name": "Python 3 (ipykernel)",
   "language": "python",
   "name": "python3"
  },
  "language_info": {
   "codemirror_mode": {
    "name": "ipython",
    "version": 3
   },
   "file_extension": ".py",
   "mimetype": "text/x-python",
   "name": "python",
   "nbconvert_exporter": "python",
   "pygments_lexer": "ipython3",
   "version": "3.9.12"
  }
 },
 "nbformat": 4,
 "nbformat_minor": 5
}
