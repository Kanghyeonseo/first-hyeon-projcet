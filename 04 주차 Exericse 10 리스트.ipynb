{
 "cells": [
  {
   "cell_type": "markdown",
   "id": "85c4d70e",
   "metadata": {},
   "source": [
    "# Exercise 10\n",
    "___\n",
    "* 문자열 'a2b3c6a2c3f1g1' 의 압축을 해제하여 이 문자열을 원래 'aabbbccccccaacccfg' 문자열로 복원하는 프로그램을 작성하여라\n",
    "\n",
    "<span style=\"color: blue\">**실행결과**</span>\n",
    "\n",
    "src = 'a2b3c6a2c3f1g1'  \n",
    "output = 'aabbbccccccaacccfg'"
   ]
  },
  {
   "cell_type": "code",
   "execution_count": 2,
   "id": "727c8833",
   "metadata": {},
   "outputs": [
    {
     "name": "stdout",
     "output_type": "stream",
     "text": [
      "src = a2b3c6a2c3f1g1\n",
      "output = aabbbccccccaacccfg\n"
     ]
    }
   ],
   "source": [
    "src = 'a2b3c6a2c3f1g1'          # 압축된 문자열\n",
    "output = ''                     # 압축 해제한 문자열\n",
    "\n",
    "# 압축문자열에서 문자만 확인 (step을 2만큼)\n",
    "for i in range(0, len(src), 2):\n",
    "    for j in range(int(src[i + 1])):         # 문자 뒤에 숫자 만큼 문자를 더해주기\n",
    "        output += src[i]\n",
    "\n",
    "# 출력\n",
    "print(\"src =\", src)\n",
    "print(\"output =\", output)\n",
    "        "
   ]
  }
 ],
 "metadata": {
  "kernelspec": {
   "display_name": "Python 3 (ipykernel)",
   "language": "python",
   "name": "python3"
  },
  "language_info": {
   "codemirror_mode": {
    "name": "ipython",
    "version": 3
   },
   "file_extension": ".py",
   "mimetype": "text/x-python",
   "name": "python",
   "nbconvert_exporter": "python",
   "pygments_lexer": "ipython3",
   "version": "3.9.12"
  }
 },
 "nbformat": 4,
 "nbformat_minor": 5
}
