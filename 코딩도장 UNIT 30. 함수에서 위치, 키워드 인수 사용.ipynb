{
 "cells": [
  {
   "cell_type": "markdown",
   "id": "bc3908ce",
   "metadata": {},
   "source": [
    "### 30.1 위치 인수와 리스트 언패킹 사용하기"
   ]
  },
  {
   "cell_type": "code",
   "execution_count": 1,
   "id": "a9371524",
   "metadata": {},
   "outputs": [
    {
     "name": "stdout",
     "output_type": "stream",
     "text": [
      "10\n",
      "20\n",
      "30\n"
     ]
    }
   ],
   "source": [
    "# 함수에 인수를 순서대로 넣는 방식 : 위치 인수\n",
    "\n",
    "def print_numbers(a, b, c):\n",
    "    print(a)\n",
    "    print(b)\n",
    "    print(c)\n",
    "    \n",
    "print_numbers(10, 20, 30)"
   ]
  },
  {
   "cell_type": "markdown",
   "id": "53679ae0",
   "metadata": {},
   "source": [
    "* 언패킹 사용하기\n",
    "인수를 순서대로 넣을 때는 리스트나 튜플 사용 가능, *(에스터리스크)를 붙여서 함수에 넣으면 된다.\n",
    "\n"
   ]
  },
  {
   "cell_type": "code",
   "execution_count": 5,
   "id": "25adfa05",
   "metadata": {},
   "outputs": [
    {
     "name": "stdout",
     "output_type": "stream",
     "text": [
      "10\n",
      "20\n",
      "30\n"
     ]
    }
   ],
   "source": [
    "x = [10, 20, 30]\n",
    "print_numbers(*x)"
   ]
  },
  {
   "cell_type": "markdown",
   "id": "f2637ed7",
   "metadata": {},
   "source": [
    "* 가변 인수 함수 만들기"
   ]
  },
  {
   "cell_type": "code",
   "execution_count": 9,
   "id": "37873e64",
   "metadata": {},
   "outputs": [
    {
     "name": "stdout",
     "output_type": "stream",
     "text": [
      "10\n",
      "10\n",
      "20\n",
      "30\n",
      "40\n"
     ]
    }
   ],
   "source": [
    "# 인수의 개수가 정해지지 않았을 때 \n",
    "\n",
    "def print_numbers(*args):          # 매개 변수 앞에 *을 붙여서 만든다.\n",
    "    for arg in args:\n",
    "        print(arg)\n",
    "\n",
    "print_numbers(10)\n",
    "print_numbers(10, 20, 30, 40)"
   ]
  },
  {
   "cell_type": "markdown",
   "id": "095c2387",
   "metadata": {},
   "source": [
    "### 30. 2 키워드 인수 사용하기\n",
    "\n",
    "* 인수의 순서와 용도를 매번 기억하지 않도록 키워드 인수 기능 제공, **키워드 = 값** 형식으로 사용"
   ]
  },
  {
   "cell_type": "code",
   "execution_count": 14,
   "id": "324d6f6f",
   "metadata": {},
   "outputs": [
    {
     "name": "stdout",
     "output_type": "stream",
     "text": [
      "이름:  홍길동\n",
      "나이:  30\n",
      "주소:  서울시 용산구 이촌동\n"
     ]
    }
   ],
   "source": [
    "def personal_info(name, age, address):\n",
    "    print('이름: ', name)\n",
    "    print('나이: ', age)\n",
    "    print('주소: ', address)\n",
    "\n",
    "# 순서를 지키지 않도록 순서대로 출력\n",
    "personal_info(age = 30, address = '서울시 용산구 이촌동', name = '홍길동', )"
   ]
  },
  {
   "cell_type": "markdown",
   "id": "ede125ff",
   "metadata": {},
   "source": [
    "* sep, end도 키워드 함수"
   ]
  },
  {
   "cell_type": "markdown",
   "id": "c49bb24e",
   "metadata": {},
   "source": [
    "### 30. 3 키워드 인수와 딕셔너리 언패킹 사용하기\n",
    "\n",
    "* 함수(**딕셔너리)"
   ]
  },
  {
   "cell_type": "code",
   "execution_count": 16,
   "id": "126e60d9",
   "metadata": {},
   "outputs": [
    {
     "name": "stdout",
     "output_type": "stream",
     "text": [
      "이름:  홍길동\n",
      "나이:  30\n",
      "주소:  서울시 용산구 이촌동\n"
     ]
    }
   ],
   "source": [
    "x = {'name' : '홍길동', 'age' : 30, 'address' : '서울시 용산구 이촌동'}\n",
    "\n",
    "def personal_info(name, age, address):\n",
    "    print('이름: ', name)\n",
    "    print('나이: ', age)\n",
    "    print('주소: ', address)\n",
    "    \n",
    "personal_info(**x)"
   ]
  },
  {
   "cell_type": "markdown",
   "id": "ebd92ffe",
   "metadata": {},
   "source": [
    "* 변수 대신 딕셔너리 앞에 **을 붙여도 똑같다"
   ]
  },
  {
   "cell_type": "markdown",
   "id": "134c4967",
   "metadata": {},
   "source": [
    "### 키워드 인수를 사용하는 가변 인수 함수 만들기\n"
   ]
  },
  {
   "cell_type": "code",
   "execution_count": 19,
   "id": "1c43b6d3",
   "metadata": {},
   "outputs": [
    {
     "name": "stdout",
     "output_type": "stream",
     "text": [
      "name: 홍길동\n",
      "name: 홍길동\n"
     ]
    }
   ],
   "source": [
    "def personal_info(**kwargs):\n",
    "    for kw, arg in kwargs.items():\n",
    "        print(kw, ': ', arg, sep='')\n",
    "\n",
    "# 인수 직접 넣기\n",
    "personal_info(name = '홍길동')\n",
    "\n",
    "# 딕셔너리 언패킹\n",
    "x = {'name': '홍길동'}\n",
    "personal_info(**x)"
   ]
  },
  {
   "cell_type": "markdown",
   "id": "5560e93d",
   "metadata": {},
   "source": [
    "### 30.4 매개변수에 초깃값 저장하기\n",
    "\n",
    "* 인수를 생략, 매개변수 = 값 형식"
   ]
  },
  {
   "cell_type": "code",
   "execution_count": 20,
   "id": "aa077b00",
   "metadata": {},
   "outputs": [
    {
     "name": "stdout",
     "output_type": "stream",
     "text": [
      "이름:  홍길동\n",
      "나이:  30\n",
      "주소:  비공개\n"
     ]
    }
   ],
   "source": [
    "def personal_info(name, age, address='비공개'):    \n",
    "    print('이름: ', name)\n",
    "    print('나이: ', age)\n",
    "    print('주소: ', address)\n",
    "    \n",
    "personal_info('홍길동', 30)"
   ]
  },
  {
   "cell_type": "markdown",
   "id": "082ab875",
   "metadata": {},
   "source": [
    "* 주의할 점 : 초깃값이 지정된 매개변수 다음에는 초깃값이 없는 매개변수가 올 수 없다."
   ]
  },
  {
   "cell_type": "markdown",
   "id": "48e8a62b",
   "metadata": {},
   "source": [
    "### 연습 문제 : 가장 높은 점수를 구하는 함수 만들기"
   ]
  },
  {
   "cell_type": "code",
   "execution_count": 21,
   "id": "f051c17b",
   "metadata": {},
   "outputs": [
    {
     "name": "stdout",
     "output_type": "stream",
     "text": [
      "높은 점수: 100\n",
      "높은 점수: 91\n"
     ]
    }
   ],
   "source": [
    "korean, english, mathematics, science = 100, 86, 81, 91\n",
    "\n",
    "def get_max_score(*subject):\n",
    "    return max(subject)\n",
    "\n",
    "max_score = get_max_score(korean, english, mathematics, science)\n",
    "print('높은 점수:', max_score)\n",
    " \n",
    "max_score = get_max_score(english, science)\n",
    "print('높은 점수:', max_score)\n",
    "    "
   ]
  }
 ],
 "metadata": {
  "kernelspec": {
   "display_name": "Python 3 (ipykernel)",
   "language": "python",
   "name": "python3"
  },
  "language_info": {
   "codemirror_mode": {
    "name": "ipython",
    "version": 3
   },
   "file_extension": ".py",
   "mimetype": "text/x-python",
   "name": "python",
   "nbconvert_exporter": "python",
   "pygments_lexer": "ipython3",
   "version": "3.9.12"
  }
 },
 "nbformat": 4,
 "nbformat_minor": 5
}
