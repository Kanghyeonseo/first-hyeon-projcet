{
 "cells": [
  {
   "cell_type": "markdown",
   "id": "8c43fa25",
   "metadata": {},
   "source": [
    "# LAB 9 - 9\n",
    "\n",
    "---\n",
    "\n",
    "1. 앞서 배운 비교 연산자에 해당하는 특수 메소드를 이용하여 두 벡터의 크기를 비교하는 프로그램을 작성하시오. v1이 (30, 40)이고 2가 (10, 20)이라고 가정하면 다음과 같은 결과가 나타나도록 출력문을 작성하여라.\n",
    "\n",
    "v1 > v2 = True  \n",
    "v1 >= v2 = True  \n",
    "v1 < v2 = False  \n",
    "v1 <= v2 = False  \n"
   ]
  },
  {
   "cell_type": "code",
   "execution_count": 1,
   "id": "1836acfe",
   "metadata": {},
   "outputs": [
    {
     "name": "stdout",
     "output_type": "stream",
     "text": [
      "v1 > v2 = True\n",
      "v1 >= v2 = True\n",
      "v1 < v2 = False\n",
      "v1 <= v2 = False\n"
     ]
    }
   ],
   "source": [
    "class Vector2D:\n",
    "    def __init__(self, x, y):\n",
    "        self.x = x\n",
    "        self.y = y\n",
    "    def __str__(self):\n",
    "        return \"({}, {})\".format(self.x, self.y)\n",
    "    def __gt__(self, other):\n",
    "        return ((self.x ** 2) + (self.y ** 2)) > ((other.x ** 2) + (other.y ** 2))\n",
    "    def __ge__(self, other):\n",
    "        return ((self.x ** 2) + (self.y ** 2)) >= ((other.x ** 2) + (other.y ** 2))\n",
    "    def __lt__(self, other):\n",
    "        return ((self.x ** 2) + (self.y ** 2)) < ((other.x ** 2) + (other.y ** 2))\n",
    "    def __le__(self, other):\n",
    "        return ((self.x ** 2) + (self.y ** 2)) <= ((other.x ** 2) + (other.y ** 2))\n",
    "   \n",
    "v1 = Vector2D(30, 40)\n",
    "v2 = Vector2D(10, 20)\n",
    "\n",
    "print('v1 > v2 =', v1 > v2)\n",
    "print('v1 >= v2 =', v1 >= v2)\n",
    "print('v1 < v2 =', v1 < v2)\n",
    "print('v1 <= v2 =', v1 <= v2)"
   ]
  }
 ],
 "metadata": {
  "kernelspec": {
   "display_name": "Python 3 (ipykernel)",
   "language": "python",
   "name": "python3"
  },
  "language_info": {
   "codemirror_mode": {
    "name": "ipython",
    "version": 3
   },
   "file_extension": ".py",
   "mimetype": "text/x-python",
   "name": "python",
   "nbconvert_exporter": "python",
   "pygments_lexer": "ipython3",
   "version": "3.9.12"
  }
 },
 "nbformat": 4,
 "nbformat_minor": 5
}
