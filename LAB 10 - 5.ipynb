{
 "cells": [
  {
   "cell_type": "markdown",
   "id": "81d9ea9f",
   "metadata": {},
   "source": [
    "# LAB 10 - 5\n",
    "\n",
    "---\n",
    "\n",
    "1. 리스트 축약기능을 이용하여 1에서 10 사이 정수의 세제곱 값을 가지는 리스트 cubic를 다음과 같이 생성하여라.\n",
    "\n",
    "<span style = \"color : blue\">**실행결과**</span>\n",
    "\n",
    "cubic = [1, 8, 27, 64, 125, 216, 343, 512, 729, 1000]\n"
   ]
  },
  {
   "cell_type": "code",
   "execution_count": 1,
   "id": "db9f6780",
   "metadata": {},
   "outputs": [
    {
     "name": "stdout",
     "output_type": "stream",
     "text": [
      "cubic = [1, 8, 27, 64, 125, 216, 343, 512, 729, 1000]\n"
     ]
    }
   ],
   "source": [
    "cubic = [x ** 3 for x in range(1, 11)]\n",
    "\n",
    "print(\"cubic =\", cubic)\n"
   ]
  },
  {
   "cell_type": "markdown",
   "id": "67c36a82",
   "metadata": {},
   "source": [
    "2. 리스트 축약기능을 이용하여 ['welcome', 'to', 'the', 'python', 'world']라는 항목을 가지는 리스트 a로부터 첫 알파벳을 추출한 first_a 리스트를 생성하여라.\n",
    "\n",
    "<span style = \"color : blue\">**실행결과**</span>\n",
    "\n",
    "a = ['welcome', 'to', 'the', 'python', 'world']  \n",
    "first_a = ['w', 't', 't', 'p', 'w']"
   ]
  },
  {
   "cell_type": "code",
   "execution_count": 2,
   "id": "8e7f5055",
   "metadata": {},
   "outputs": [
    {
     "name": "stdout",
     "output_type": "stream",
     "text": [
      "a = ['welcome', 'to', 'the', 'python', 'world']\n",
      "first_a = ['w', 't', 't', 'p', 'w']\n"
     ]
    }
   ],
   "source": [
    "a = ['welcome', 'to', 'the', 'python', 'world']\n",
    "\n",
    "first_a = [x[0] for x in a]\n",
    "\n",
    "print(\"a = ['welcome', 'to', 'the', 'python', 'world']\")\n",
    "print('first_a =', first_a)"
   ]
  }
 ],
 "metadata": {
  "kernelspec": {
   "display_name": "Python 3 (ipykernel)",
   "language": "python",
   "name": "python3"
  },
  "language_info": {
   "codemirror_mode": {
    "name": "ipython",
    "version": 3
   },
   "file_extension": ".py",
   "mimetype": "text/x-python",
   "name": "python",
   "nbconvert_exporter": "python",
   "pygments_lexer": "ipython3",
   "version": "3.9.12"
  }
 },
 "nbformat": 4,
 "nbformat_minor": 5
}
