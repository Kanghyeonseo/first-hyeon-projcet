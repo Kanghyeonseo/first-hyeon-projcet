{
 "cells": [
  {
   "cell_type": "markdown",
   "id": "ee69507c",
   "metadata": {},
   "source": [
    "# Exercise 1\n",
    "---\n",
    "* 다음과 같은 내용을 포함하고 있는 greet.txt 파일을 파이썬의 write() 메소드를 이용하여 작성하시오. 이때 greet.txt 파일이 이미 존재할 경우를 가정하고 이 파일이 쓰기 금지 모드(읽기 모드)로 되어 있을 가능성이 있기 때문에 이를 위한 예외처리 기능을 구현하시오.\n",
    "\n",
    "<span style = \"color : blue\">**실행결과**</span>\n",
    "\n",
    "greet.txt  \n",
    "\n",
    "Hi, everyone.  \n",
    "Welcome to Python.\n",
    "\n",
    "<읽기 모드에서 코드 실행 시, 예외 처리를 이용해 다음과 같이 에러 출력하기>    \n",
    "ERROR: : PermissionError[errno 13] Permission denied"
   ]
  },
  {
   "cell_type": "code",
   "execution_count": 16,
   "id": "15ca0fa4",
   "metadata": {},
   "outputs": [
    {
     "name": "stdout",
     "output_type": "stream",
     "text": [
      "ERROR: : PermissionError[errno 13] Permission denied\n"
     ]
    }
   ],
   "source": [
    "try:\n",
    "    f = open(\"greet.txt\", 'w')\n",
    "    s = f.read()\n",
    "    print(s)\n",
    "except PermissionError:\n",
    "    print('ERROR: : PermissionError[errno 13] Permission denied')\n",
    "except Exception as e:\n",
    "    print('Error :',e)\n",
    "\n",
    "\n",
    "f.close()"
   ]
  }
 ],
 "metadata": {
  "kernelspec": {
   "display_name": "Python 3 (ipykernel)",
   "language": "python",
   "name": "python3"
  },
  "language_info": {
   "codemirror_mode": {
    "name": "ipython",
    "version": 3
   },
   "file_extension": ".py",
   "mimetype": "text/x-python",
   "name": "python",
   "nbconvert_exporter": "python",
   "pygments_lexer": "ipython3",
   "version": "3.9.12"
  }
 },
 "nbformat": 4,
 "nbformat_minor": 5
}
