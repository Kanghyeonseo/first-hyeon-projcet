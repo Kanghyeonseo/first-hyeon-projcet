{
 "cells": [
  {
   "cell_type": "markdown",
   "id": "7b68f360",
   "metadata": {},
   "source": [
    "# Exercise 5\n",
    "___\n",
    "* 분자가 1인 분수를 단위 분수라고 한다. 1보다 작은 소수값이 주어졌을 때 이 소수값에 가장 가까운 단위 분수를 찾는 함수 def unit_fraction(frac)을 구현하자. 예를 들어 0.27이 주어지면 1/3은 0.33333….이고 1/4는 0.25이며 1/5는 0.2이므로 1/4가 가장 가까운 단위분수이다. 이렇게 가장 가까운 단위분수를 찾아 출력하고 이 단위분수를 소수값으로 표현한 결과도 같이 출력하여라.\n",
    "\n",
    "<span style=\"color: blue\">**실행결과**</span>\n",
    "\n",
    "1보다 작고 0보다 큰 소수를 입력하세요 : 0.0732  \n",
    "가장 가까운 단위 분수는 1/14이며, 이 값은 0.07142857142857142입니다.  \n",
    "\n",
    "1보다 작고 0보다 큰 소수를 입력하세요 : 0.0000000000000000000034224  \n",
    "가장 가까운 단위 분수는 1/292192613370733985792이며, 이 값은 3.4224e-21입니다.  "
   ]
  },
  {
   "cell_type": "code",
   "execution_count": null,
   "id": "03b2309c",
   "metadata": {},
   "outputs": [],
   "source": [
    "frac = float(input(\"1보다 작고 0보다 큰 소수를 입력하세요 : \"))\n",
    "\n",
    "def unit_fraction(frac):\n",
    "    min_value = float(1)\n",
    "    i = 1\n",
    "    while 1:\n",
    "        if abs((1 / (i + 1)) - frac) < min_value:\n",
    "            min_value = abs((1 / i) - frac)\n",
    "            i += 1\n",
    "        else:\n",
    "            break\n",
    "    print(\"가장 가까운 단위 분수는 1/{}이며, 이 값은 {}입니다.\".format(i, 1/i))\n",
    "\n",
    "unit_fraction(frac)"
   ]
  },
  {
   "cell_type": "code",
   "execution_count": null,
   "id": "99c7d80a",
   "metadata": {},
   "outputs": [
    {
     "name": "stdout",
     "output_type": "stream",
     "text": [
      "1보다 작고 0보다 큰 소수를 입력하세요 : 0.00000000000000000034224\n"
     ]
    }
   ],
   "source": [
    "frac = float(input(\"1보다 작고 0보다 큰 소수를 입력하세요 : \"))\n",
    "\n",
    "def unit_fraction(frac):\n",
    "    min_value = float(1)\n",
    "    i = 1\n",
    "    while 1:\n",
    "        if abs((1 / (i + 1)) - frac) < min_value:\n",
    "            min_value = abs((1 / i) - frac)\n",
    "            i += 1\n",
    "        else:\n",
    "            break\n",
    "    print(\"가장 가까운 단위 분수는 1/{:g}이며, 이 값은 {}입니다.\".format(i, 1/i))\n",
    "\n",
    "unit_fraction(frac)"
   ]
  },
  {
   "cell_type": "markdown",
   "id": "cfb4dedb",
   "metadata": {},
   "source": [
    "### 실행이 안되는데 이유를 모르겠습니다."
   ]
  }
 ],
 "metadata": {
  "kernelspec": {
   "display_name": "Python 3 (ipykernel)",
   "language": "python",
   "name": "python3"
  },
  "language_info": {
   "codemirror_mode": {
    "name": "ipython",
    "version": 3
   },
   "file_extension": ".py",
   "mimetype": "text/x-python",
   "name": "python",
   "nbconvert_exporter": "python",
   "pygments_lexer": "ipython3",
   "version": "3.9.12"
  }
 },
 "nbformat": 4,
 "nbformat_minor": 5
}
