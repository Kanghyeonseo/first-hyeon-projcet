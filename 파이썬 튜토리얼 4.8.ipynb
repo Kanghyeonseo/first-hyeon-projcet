{
 "cells": [
  {
   "cell_type": "markdown",
   "id": "edd67177",
   "metadata": {},
   "source": [
    "### 4.8 More on Defining Functions\n",
    "\n",
    "1. Default Argument Values"
   ]
  },
  {
   "cell_type": "code",
   "execution_count": 8,
   "id": "007b448e",
   "metadata": {},
   "outputs": [
    {
     "name": "stdout",
     "output_type": "stream",
     "text": [
      "Do you really want to quit?t\n",
      "Please try again!\n",
      "Do you really want to quit?yes\n"
     ]
    },
    {
     "data": {
      "text/plain": [
       "True"
      ]
     },
     "execution_count": 8,
     "metadata": {},
     "output_type": "execute_result"
    }
   ],
   "source": [
    "def ask_ok(prompt, retries=4, reminder='Please try again!'):\n",
    "    while True:\n",
    "        ok = input(prompt)\n",
    "        if ok in ('y', 'ye', 'yes'):\n",
    "            return True\n",
    "        if ok in ('n', 'no', 'nop', 'nope'):\n",
    "            return False\n",
    "        retries = retries - 1\n",
    "        if retries < 0:\n",
    "            raise ValueError('invalid user response')\n",
    "        print(reminder)\n",
    "\n",
    "ask_ok('Do you really want to quit?')"
   ]
  },
  {
   "cell_type": "code",
   "execution_count": null,
   "id": "b12791be",
   "metadata": {},
   "outputs": [],
   "source": [
    "i = 5\n",
    "\n",
    "def f(arg=i):\n",
    "    print(arg)\n",
    "\n",
    "i = 6\n",
    "f()\n",
    "\n",
    "# 초깃값은 함수가 정의되기 이전에 정의된 것으로 정해진다. 그래서 6이 아닌 5가 출력"
   ]
  },
  {
   "cell_type": "markdown",
   "id": "981adc24",
   "metadata": {},
   "source": [
    "2. Keyword Arguments"
   ]
  },
  {
   "cell_type": "code",
   "execution_count": 15,
   "id": "82b24219",
   "metadata": {},
   "outputs": [
    {
     "name": "stdout",
     "output_type": "stream",
     "text": [
      "-- This parrot wouldn't VOOOOOM if you put 1000000 volts through it.\n",
      "-- Lovely plumage, the Norwegian Blue\n",
      "-- It's a stiff !\n",
      "\n",
      "-- This parrot wouldn't jump if you put a million volts through it.\n",
      "-- Lovely plumage, the Norwegian Blue\n",
      "-- It's bereft of life !\n",
      "\n",
      "-- This parrot wouldn't voom if you put a thousand volts through it.\n",
      "-- Lovely plumage, the Norwegian Blue\n",
      "-- It's pushing up the daisies !\n"
     ]
    }
   ],
   "source": [
    "def parrot(voltage, state='a stiff', action='voom', type='Norwegian Blue'):\n",
    "    print(\"-- This parrot wouldn't\", action, end=' ')\n",
    "    print(\"if you put\", voltage, \"volts through it.\")\n",
    "    print(\"-- Lovely plumage, the\", type)\n",
    "    print(\"-- It's\", state, \"!\")\n",
    "    \n",
    "parrot(action='VOOOOOM', voltage=1000000)     # 순서를 바꿔도 ok\n",
    "print()\n",
    "parrot('a million', 'bereft of life', 'jump') # 키워딩을 하지 않으면 순서대로 입력됨\n",
    "print()\n",
    "parrot('a thousand', state='pushing up the daisies') "
   ]
  },
  {
   "cell_type": "markdown",
   "id": "33d7efef",
   "metadata": {},
   "source": [
    "3. Special parameters"
   ]
  },
  {
   "cell_type": "code",
   "execution_count": 22,
   "id": "c37e82b8",
   "metadata": {},
   "outputs": [
    {
     "name": "stdout",
     "output_type": "stream",
     "text": [
      "standard_arg\n",
      "2\n",
      "2\n",
      "pos_only_arg\n",
      "2\n",
      "kwd_only_arg\n",
      "2\n",
      "combined_example\n",
      "1 2 3\n",
      "1 2 3\n"
     ]
    }
   ],
   "source": [
    "def standard_arg(arg):        # 어느 방법이든지 가능\n",
    "    print(arg)\n",
    "    \n",
    "print(\"standard_arg\")\n",
    "standard_arg(2)\n",
    "standard_arg(arg = 2)\n",
    "\n",
    "def pos_only_arg(arg, /):     # 위치 매개변수만 쓸수있다.\n",
    "    print(arg)\n",
    "\n",
    "print(\"pos_only_arg\")    \n",
    "pos_only_arg(2)\n",
    "\n",
    "def kwd_only_arg(*, arg):     # 키워드 인수만 쓸수있다.\n",
    "    print(arg)\n",
    "\n",
    "print(\"kwd_only_arg\")    \n",
    "kwd_only_arg(arg = 2)\n",
    "\n",
    "def combined_example(pos_only, /, standard, *, kwd_only):    # 첫번째는 위치 매개변수, 세번째는 키워드 인수만 써야한다.\n",
    "    print(pos_only, standard, kwd_only)\n",
    "    \n",
    "print(\"combined_example\")    \n",
    "combined_example(1, 2, kwd_only = 3)\n",
    "combined_example(1, standard = 2, kwd_only = 3)"
   ]
  }
 ],
 "metadata": {
  "kernelspec": {
   "display_name": "Python 3 (ipykernel)",
   "language": "python",
   "name": "python3"
  },
  "language_info": {
   "codemirror_mode": {
    "name": "ipython",
    "version": 3
   },
   "file_extension": ".py",
   "mimetype": "text/x-python",
   "name": "python",
   "nbconvert_exporter": "python",
   "pygments_lexer": "ipython3",
   "version": "3.9.12"
  }
 },
 "nbformat": 4,
 "nbformat_minor": 5
}
