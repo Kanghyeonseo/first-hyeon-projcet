{
 "cells": [
  {
   "cell_type": "markdown",
   "id": "352ee968",
   "metadata": {},
   "source": [
    "# Exercise 3\n",
    "---\n",
    "3. 다음과 같은 기능을 가지는 은행계좌 클래스 BankAccount 클래스를 구현한 뒤, 인스턴스를 생성하여 실행해 보아라.\n",
    "\n",
    "<span style = \"color : blue\">**예제 코드**</span>\n",
    "\n",
    "account1 = BankAccount('홍길동', '1234-0001')  \n",
    "print(account1)  \n",
    "account1.deposit(2000)  \n",
    "print(account1)  \n",
    "account1.withdraw(500)  \n",
    "print(account1)  \n",
    "account1.withdraw(5000)  \n",
    "\n",
    "<span style = \"color : blue\">**실행 결과**</span>\n",
    "\n",
    "홍길동님의 계좌 1234-0001의 잔고는 0원입니다.  \n",
    "2000원이 입금되었습니다. 잔고는 2000원입니다.  \n",
    "홍길동님의 계좌 1234-0001의 잔고는 2000원입니다.  \n",
    "홍길동님의 계좌 1234-0001의 잔고는 1500원입니다.  \n",
    "계좌 잔고는 1500원으로 인출 요구 금액 5000보다 작습니다.\n"
   ]
  },
  {
   "cell_type": "code",
   "execution_count": 4,
   "id": "deb67749",
   "metadata": {
    "scrolled": true
   },
   "outputs": [
    {
     "name": "stdout",
     "output_type": "stream",
     "text": [
      "홍길동님의 계좌 1234-0001의 잔고는 0원입니다.\n",
      "2000원이 입금되었습니다. 잔고는 2000원입니다.\n",
      "홍길동님의 계좌 1234-0001의 잔고는 2000원입니다.\n",
      "홍길동님의 계좌 1234-0001의 잔고는 1500원입니다.\n",
      "계좌 잔고는 1500원으로 인출 요구 금액 5000원보다 작습니다.\n"
     ]
    }
   ],
   "source": [
    "class BankAccount:\n",
    "    def __init__(self, name, account_num, balance = 0):\n",
    "        self.__name = name\n",
    "        self.__account_num = account_num\n",
    "        self.__balance = balance\n",
    "            \n",
    "    def __str__(self):\n",
    "        return \"{}님의 계좌 {}의 잔고는 {}원입니다.\".format(self.__name, self.__account_num, self.__balance)\n",
    "    \n",
    "    def get_name(self):\n",
    "        return self.__name\n",
    "        \n",
    "    def get_account_num(self):\n",
    "        return self.__account_num\n",
    "        \n",
    "    def get_balance(self):\n",
    "        return self.__balance\n",
    "    \n",
    "    def deposit(self, money):\n",
    "        self.__balance += money\n",
    "        print(\"{}원이 입금되었습니다. 잔고는 {}원입니다.\".format(money, self.__balance))\n",
    "        \n",
    "    def withdraw(self, money):\n",
    "        if (self.__balance < money):\n",
    "            print(\"계좌 잔고는 {}원으로 인출 요구 금액 {}원보다 작습니다.\".format(self.__balance, money))\n",
    "        else:\n",
    "            self.__balance -= money\n",
    "            \n",
    "account1 = BankAccount('홍길동', '1234-0001')\n",
    "print(account1)\n",
    "account1.deposit(2000)\n",
    "print(account1)\n",
    "account1.withdraw(500)\n",
    "print(account1)\n",
    "account1.withdraw(5000)"
   ]
  }
 ],
 "metadata": {
  "kernelspec": {
   "display_name": "Python 3 (ipykernel)",
   "language": "python",
   "name": "python3"
  },
  "language_info": {
   "codemirror_mode": {
    "name": "ipython",
    "version": 3
   },
   "file_extension": ".py",
   "mimetype": "text/x-python",
   "name": "python",
   "nbconvert_exporter": "python",
   "pygments_lexer": "ipython3",
   "version": "3.9.12"
  }
 },
 "nbformat": 4,
 "nbformat_minor": 5
}
