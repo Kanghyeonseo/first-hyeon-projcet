{
 "cells": [
  {
   "cell_type": "markdown",
   "id": "9d4f880e",
   "metadata": {},
   "source": [
    "# LAB 9 - 6\n",
    "\n",
    "---\n",
    "\n",
    "1. 다음 기능을 가진 Dog 클래스를 생성하고 인스턴스와 메소드를 호출하여라.\n",
    "\n",
    "```py\n",
    "a) name 이라는 속성을 가진다.\n",
    "b) def __init__(self, name): 이라는 초기화 메소드를 가진다. 이 메소드를 통해 이름을 초기화 한다.\n",
    "c) my_dog = Dog('Jindo') 라는 명령어로 my_dog 인스턴스를 생성한다.\n",
    "d) Dog 클래스의 __str__() 메소드를 정의하여 print('my__dog의 정보 :',my_dog)와 같은 명령문에 대해 다음과 같은 출력이 나타나도록 하여라.  \n",
    "my_dog의 정보 : Dog(name = Jindo)  \n",
    "```"
   ]
  },
  {
   "cell_type": "code",
   "execution_count": 1,
   "id": "ff6aedb6",
   "metadata": {},
   "outputs": [
    {
     "name": "stdout",
     "output_type": "stream",
     "text": [
      "my_dog의 정보 : Dog(name = Jindo)\n"
     ]
    }
   ],
   "source": [
    "class Dog:\n",
    "    def __init__(self, name):\n",
    "        self.name = name\n",
    "    def __str__(self):\n",
    "        return 'Dog(name = '+self.name+')'\n",
    "       \n",
    "my_dog = Dog('Jindo')\n",
    "print('my_dog의 정보 :', my_dog)\n"
   ]
  }
 ],
 "metadata": {
  "kernelspec": {
   "display_name": "Python 3 (ipykernel)",
   "language": "python",
   "name": "python3"
  },
  "language_info": {
   "codemirror_mode": {
    "name": "ipython",
    "version": 3
   },
   "file_extension": ".py",
   "mimetype": "text/x-python",
   "name": "python",
   "nbconvert_exporter": "python",
   "pygments_lexer": "ipython3",
   "version": "3.9.12"
  }
 },
 "nbformat": 4,
 "nbformat_minor": 5
}
