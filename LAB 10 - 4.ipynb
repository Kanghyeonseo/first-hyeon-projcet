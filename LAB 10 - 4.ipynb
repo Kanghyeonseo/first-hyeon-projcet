{
 "cells": [
  {
   "cell_type": "markdown",
   "id": "a4a40a02",
   "metadata": {},
   "source": [
    "# LAB 10 - 4\n",
    "\n",
    "---\n",
    "\n",
    "1. reduce() 함수를 사용하여 1에서 100까지 정수의 합을 구하여라. 이 때 range(1, 101)을 입력으로 사용하여라.\n",
    "\n",
    "<span style = \"color : blue\">**실행결과**</span>\n",
    "\n",
    "1에서 100까지의 합 : 5050\n"
   ]
  },
  {
   "cell_type": "code",
   "execution_count": 2,
   "id": "c75b1edf",
   "metadata": {},
   "outputs": [
    {
     "name": "stdout",
     "output_type": "stream",
     "text": [
      "1에서 100까지의 합 : 5050\n"
     ]
    }
   ],
   "source": [
    "from functools import reduce\n",
    "\n",
    "n = reduce(lambda x, y: x + y, range(1, 101))\n",
    "\n",
    "print(\"1에서 100까지의 합 :\", n)"
   ]
  },
  {
   "cell_type": "markdown",
   "id": "c3c2981e",
   "metadata": {},
   "source": [
    "2. reduce() 함수를 사용하여 10!을 구하여라. 이 때 range(1, 11)을 입력으로 사용하여라.\n",
    "\n",
    "<span style = \"color : blue\">**실행결과**</span>\n",
    "\n",
    "10! = 3628800"
   ]
  },
  {
   "cell_type": "code",
   "execution_count": 4,
   "id": "fda264c9",
   "metadata": {},
   "outputs": [
    {
     "name": "stdout",
     "output_type": "stream",
     "text": [
      "10! = 3628800\n"
     ]
    }
   ],
   "source": [
    "n = reduce(lambda x, y: x * y, range(1, 11))\n",
    "\n",
    "print(\"10! =\", n)\n"
   ]
  }
 ],
 "metadata": {
  "kernelspec": {
   "display_name": "Python 3 (ipykernel)",
   "language": "python",
   "name": "python3"
  },
  "language_info": {
   "codemirror_mode": {
    "name": "ipython",
    "version": 3
   },
   "file_extension": ".py",
   "mimetype": "text/x-python",
   "name": "python",
   "nbconvert_exporter": "python",
   "pygments_lexer": "ipython3",
   "version": "3.9.12"
  }
 },
 "nbformat": 4,
 "nbformat_minor": 5
}
