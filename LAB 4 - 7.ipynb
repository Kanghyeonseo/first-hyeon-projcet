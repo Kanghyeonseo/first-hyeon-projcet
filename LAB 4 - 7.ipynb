{
 "cells": [
  {
   "cell_type": "markdown",
   "id": "c0ae2836",
   "metadata": {},
   "source": [
    "# LAB 4 - 7\n",
    "___\n",
    "* 원의 면적과 둘레를 구하기 위하여 원의 반지름을 사용하려고 한다. 이 때 사용할 circle_area_circum(radius) 함수는 다음과 같이 반지름(radius) 10을 입력으로 받아서 면적(area)과 둘레(circum)의 두 값을 반환하도록 구현하여라.\n",
    "\n",
    "radius = 10  \n",
    "area, circum = circle_area_circum(radius)\n",
    "\n",
    "<span style=\"color: blue\">**실행결과**</span>\n",
    "\n",
    "반지름 10인 원의 면적은 314.0, 원의 둘레는 62.8"
   ]
  },
  {
   "cell_type": "code",
   "execution_count": 2,
   "id": "94dbe7bf",
   "metadata": {},
   "outputs": [
    {
     "name": "stdout",
     "output_type": "stream",
     "text": [
      "radius = 10\n",
      "반지름 10인 원의 면적은 314.0, 원의 둘레는 62.8\n"
     ]
    }
   ],
   "source": [
    "def circle_area_circum(radius):\n",
    "    area = 3.14 * (radius ** 2)\n",
    "    circum = 2 * 3.14 * radius\n",
    "    return area, circum          # 면적 둘레 반환\n",
    "\n",
    "# 반지름 입력 받기\n",
    "radius = int(input(\"radius = \")) \n",
    "\n",
    "# 튜플로 전달 받기\n",
    "area, circum = circle_area_circum(radius)\n",
    "print(\"반지름 {}인 원의 면적은 {}, 원의 둘레는 {:.1f}\".format(radius, area, circum))"
   ]
  }
 ],
 "metadata": {
  "kernelspec": {
   "display_name": "Python 3 (ipykernel)",
   "language": "python",
   "name": "python3"
  },
  "language_info": {
   "codemirror_mode": {
    "name": "ipython",
    "version": 3
   },
   "file_extension": ".py",
   "mimetype": "text/x-python",
   "name": "python",
   "nbconvert_exporter": "python",
   "pygments_lexer": "ipython3",
   "version": "3.9.12"
  }
 },
 "nbformat": 4,
 "nbformat_minor": 5
}
