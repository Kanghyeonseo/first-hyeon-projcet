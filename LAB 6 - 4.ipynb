{
 "cells": [
  {
   "cell_type": "markdown",
   "id": "63fcf2c5",
   "metadata": {},
   "source": [
    "# LAB 6 - 4\n",
    "___\n",
    "1. apple, melon, banana, orange라는 문자열로 된 키와 각각 6000, 3000, 5000, 7000원의 가격을 값으로 가지는 fruits_dic이라는 이름의 딕셔너리를 생성하자."
   ]
  },
  {
   "cell_type": "code",
   "execution_count": 1,
   "id": "1504b24b",
   "metadata": {},
   "outputs": [],
   "source": [
    "fruits_dic = {'apple' : 6000, 'melon' : 3000, 'banana' : 5000, 'orange' : 7000}"
   ]
  },
  {
   "cell_type": "markdown",
   "id": "1e04bc44",
   "metadata": {},
   "source": [
    "2. fruits_dic 딕셔너리의 모든 키를 keys() 메소드를 사용하여 출력하시오."
   ]
  },
  {
   "cell_type": "code",
   "execution_count": 7,
   "id": "461e2357",
   "metadata": {},
   "outputs": [
    {
     "name": "stdout",
     "output_type": "stream",
     "text": [
      "dict_keys(['apple', 'melon', 'banana', 'orange'])\n"
     ]
    }
   ],
   "source": [
    "print(fruits_dic.keys())"
   ]
  },
  {
   "cell_type": "markdown",
   "id": "7b04c510",
   "metadata": {},
   "source": [
    "3. fruits_dic 딕셔너리의 모든 값을 value() 메소드를 사용하여 출력하시오."
   ]
  },
  {
   "cell_type": "code",
   "execution_count": 6,
   "id": "0e9eaad4",
   "metadata": {},
   "outputs": [
    {
     "name": "stdout",
     "output_type": "stream",
     "text": [
      "dict_values([6000, 3000, 5000, 7000])\n"
     ]
    }
   ],
   "source": [
    "print(fruits_dic.values())"
   ]
  },
  {
   "cell_type": "markdown",
   "id": "be1d179a",
   "metadata": {},
   "source": [
    "4. fruits_dic 딕셔너리의 ('apple', 6000) 항목을 pop() 메소드를 이용하여 삭제하시오."
   ]
  },
  {
   "cell_type": "code",
   "execution_count": 8,
   "id": "7f7d332c",
   "metadata": {},
   "outputs": [
    {
     "name": "stdout",
     "output_type": "stream",
     "text": [
      "{'melon': 3000, 'banana': 5000, 'orange': 7000}\n"
     ]
    }
   ],
   "source": [
    "# apple을 키로 가지는 딕셔너리 항목 삭제\n",
    "fruits_dic.pop('apple')\n",
    "\n",
    "print(fruits_dic)"
   ]
  },
  {
   "cell_type": "markdown",
   "id": "5e29e53f",
   "metadata": {},
   "source": [
    "5. fruits_dic 딕셔너리의 모든 항목을 삭제하시오."
   ]
  },
  {
   "cell_type": "code",
   "execution_count": 11,
   "id": "978cc35b",
   "metadata": {},
   "outputs": [
    {
     "name": "stdout",
     "output_type": "stream",
     "text": [
      "{}\n"
     ]
    }
   ],
   "source": [
    "# 모든 항목 삭제\n",
    "fruits_dic.clear()\n",
    "\n",
    "print(fruits_dic)"
   ]
  }
 ],
 "metadata": {
  "kernelspec": {
   "display_name": "Python 3 (ipykernel)",
   "language": "python",
   "name": "python3"
  },
  "language_info": {
   "codemirror_mode": {
    "name": "ipython",
    "version": 3
   },
   "file_extension": ".py",
   "mimetype": "text/x-python",
   "name": "python",
   "nbconvert_exporter": "python",
   "pygments_lexer": "ipython3",
   "version": "3.9.12"
  }
 },
 "nbformat": 4,
 "nbformat_minor": 5
}
