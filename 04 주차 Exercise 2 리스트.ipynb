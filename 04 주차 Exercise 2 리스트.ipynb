{
 "cells": [
  {
   "cell_type": "markdown",
   "id": "1f4cc3be",
   "metadata": {},
   "source": [
    "# Exercise 2\n",
    "___\n",
    "* a = [2, 3, 4, 5, 6]이 있을 경우, 이 리스트의 순서를 바꾸는 기능을 for-in 문과 pop() 메소드를 사용하여 구현하시오(reverse() 메소드 사용x)\n",
    "\n",
    "<span style=\"color: blue\">**실행결과**</span>\n",
    "\n",
    "a = [2, 3, 4, 5, 6]  \n",
    "rev_a = [6, 5, 4, 3, 2]"
   ]
  },
  {
   "cell_type": "code",
   "execution_count": 6,
   "id": "1cb435c2",
   "metadata": {},
   "outputs": [
    {
     "name": "stdout",
     "output_type": "stream",
     "text": [
      "a = [2, 3, 4, 5, 6]\n",
      "rev_a = [6, 5, 4, 3, 2]\n"
     ]
    }
   ],
   "source": [
    "# a 만들고 출력\n",
    "a = [2, 3, 4, 5, 6]\n",
    "print(\"a =\", a)\n",
    "\n",
    "# a의 역순 데이터를 가지는 리스트 rev_a\n",
    "rev_a = list()\n",
    "\n",
    "a_length = len(a)                # a의 길이\n",
    "for i in range(0, a_length):    # a의 길이만큼 반복\n",
    "    rev_a.append(a.pop())        # a의 마지막 인덱스 부터 pop으로 뺴온 다음 rev_a에 추가\n",
    "    \n",
    "print(\"rev_a =\", rev_a)"
   ]
  }
 ],
 "metadata": {
  "kernelspec": {
   "display_name": "Python 3 (ipykernel)",
   "language": "python",
   "name": "python3"
  },
  "language_info": {
   "codemirror_mode": {
    "name": "ipython",
    "version": 3
   },
   "file_extension": ".py",
   "mimetype": "text/x-python",
   "name": "python",
   "nbconvert_exporter": "python",
   "pygments_lexer": "ipython3",
   "version": "3.9.12"
  }
 },
 "nbformat": 4,
 "nbformat_minor": 5
}
