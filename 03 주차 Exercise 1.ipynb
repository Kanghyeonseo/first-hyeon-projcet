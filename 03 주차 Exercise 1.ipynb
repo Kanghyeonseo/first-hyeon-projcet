{
 "cells": [
  {
   "cell_type": "markdown",
   "id": "97276713",
   "metadata": {},
   "source": [
    "# Exercise 1\n",
    "___\n",
    "* 다음과 같이 사용자로부터 3개의 임의의 정수를 입력으로 받아서 가장 작은 수부터 큰 수까지 나열하는 프로그램을 if-else 문을 사용하여 작성하시오.\n",
    "\n",
    "<span style=\"color: blue\">**실행결과**</span>\n",
    "\n",
    "세 정수를 입력하시오 : `9 12 4`  \n",
    "4 9 12\n",
    "\n",
    "<span style=\"color: blue\">**실행결과**</span>\n",
    "\n",
    "세 정수를 입력하시오 : `99 12 4`  \n",
    "4 12 99"
   ]
  },
  {
   "cell_type": "code",
   "execution_count": 11,
   "id": "c34c84e7",
   "metadata": {},
   "outputs": [
    {
     "name": "stdout",
     "output_type": "stream",
     "text": [
      "세 정수를 입력하시오 : 9 12 4\n",
      "4 9 12\n"
     ]
    }
   ],
   "source": [
    "# 세 정수를 a, b, c라는 변수로 설장함\n",
    "a, b, c = map(int, input('세 정수를 입력하시오 : ').split()) \n",
    "\n",
    "if a > b:\n",
    "    if a > c:\n",
    "        if b > c:\n",
    "            print(c, b, a)\n",
    "        else:                          # b <= c\n",
    "            print(b, c, a)\n",
    "    else:                              # a <= c\n",
    "        print(b, a, c)\n",
    "else:                                  # a <= b\n",
    "    if b > c:\n",
    "        if a > c:\n",
    "            print(c, a, b)\n",
    "        else:                          # a <= c\n",
    "            print(a, c, b)\n",
    "    else:                              # b <= c\n",
    "        print(a, b, c)\n",
    "            \n"
   ]
  },
  {
   "cell_type": "code",
   "execution_count": 2,
   "id": "1dbc544b",
   "metadata": {},
   "outputs": [
    {
     "name": "stdout",
     "output_type": "stream",
     "text": [
      "세 정수를 입력하시오 : 99 12 4\n",
      "4 12 99\n"
     ]
    }
   ],
   "source": [
    "a, b, c = map(int, input('세 정수를 입력하시오 : ').split()) \n",
    "\n",
    "if a > b:\n",
    "    if a > c:\n",
    "        if b > c:\n",
    "            print(c, b, a)\n",
    "        else:\n",
    "            print(b, c, a)\n",
    "    else:\n",
    "        print(b, a, c)\n",
    "else:                                  \n",
    "    if b > c:\n",
    "        if a > c:\n",
    "            print(c, a, b)\n",
    "        else:  \n",
    "            print(a, c, b)\n",
    "    else:\n",
    "        print(a, b, c)\n",
    "            "
   ]
  }
 ],
 "metadata": {
  "kernelspec": {
   "display_name": "Python 3 (ipykernel)",
   "language": "python",
   "name": "python3"
  },
  "language_info": {
   "codemirror_mode": {
    "name": "ipython",
    "version": 3
   },
   "file_extension": ".py",
   "mimetype": "text/x-python",
   "name": "python",
   "nbconvert_exporter": "python",
   "pygments_lexer": "ipython3",
   "version": "3.9.12"
  }
 },
 "nbformat": 4,
 "nbformat_minor": 5
}
