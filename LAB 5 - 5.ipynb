{
 "cells": [
  {
   "cell_type": "markdown",
   "id": "13e9b2ff",
   "metadata": {},
   "source": [
    "# LAB 5 - 5\n",
    "___\n",
    "1. a 리스트의 원소 값이 [1, 2, 3]이고 b 리스트의 원소 값이 [10, 20, 30]이다. a 리스트에 append(b) 메소드와 extend(b) 메소드를 각각 호출할 때 어떤 결과가 나타날지 예측하시오. 그리고 실제로 수행한 후의 결과를 각각 적으시오.\n",
    "\n",
    "\n"
   ]
  },
  {
   "cell_type": "markdown",
   "id": "9547f1ee",
   "metadata": {},
   "source": [
    "### append했을 때는 배열 자체가 들어가서 [1, 2, 3, [10, 20, 30]] 이렇게 될 것 같고\n",
    "### extend했을 때는 배열의 원소가들어가서[1, 2, 3, 10, 20 ,30]이 될 것 같다."
   ]
  },
  {
   "cell_type": "code",
   "execution_count": 5,
   "id": "cdd4ed7f",
   "metadata": {},
   "outputs": [
    {
     "name": "stdout",
     "output_type": "stream",
     "text": [
      "append를 사용했을 때 : [1, 2, 3, [10, 20, 30]]\n",
      "extend를 사용했을 때 : [1, 2, 3, 10, 20, 30]\n"
     ]
    }
   ],
   "source": [
    "a = [1, 2, 3]\n",
    "b = [10, 20, 30]\n",
    "a.append(b)\n",
    "print(\"append를 사용했을 때 :\", a)\n",
    "\n",
    "a = [1, 2, 3]\n",
    "b = [10, 20, 30]\n",
    "a.extend(b)\n",
    "print(\"extend를 사용했을 때 :\", a)"
   ]
  },
  {
   "cell_type": "markdown",
   "id": "d18c55a3",
   "metadata": {},
   "source": [
    "2. 1부터 10까지의 정수 값을 원소로 가지는 nlist를 생성하여 다음과 같이 출력하여라.\n",
    "\n",
    "<span style=\"color: blue\">**실행결과**</span>\n",
    "\n",
    "nlist = [1, 2, 3, 4, 5, 6, 7, 8, 9, 10]"
   ]
  },
  {
   "cell_type": "code",
   "execution_count": 6,
   "id": "d0b8ede9",
   "metadata": {},
   "outputs": [
    {
     "name": "stdout",
     "output_type": "stream",
     "text": [
      "nlist = [1, 2, 3, 4, 5, 6, 7, 8, 9, 10]\n"
     ]
    }
   ],
   "source": [
    "# 1 ~ 10까지의 정수 값을 원소로 가지는 nlist\n",
    "nlist = list(range(1, 11))\n",
    "\n",
    "print(\"nlist =\", nlist)"
   ]
  },
  {
   "cell_type": "markdown",
   "id": "5e8eaa8e",
   "metadata": {},
   "source": [
    "3. insert() 메소드를 사용하여 nlist의 제일 앞에 0을 삽입하여 다음과 같이 출력하여라.\n",
    "\n",
    "<span style=\"color: blue\">**실행결과**</span>\n",
    "\n",
    "nlist = [0, 1, 2, 3, 4, 5, 6, 7, 8, 9, 10]"
   ]
  },
  {
   "cell_type": "code",
   "execution_count": 7,
   "id": "73fc8614",
   "metadata": {},
   "outputs": [
    {
     "name": "stdout",
     "output_type": "stream",
     "text": [
      "nlist = [0, 1, 2, 3, 4, 5, 6, 7, 8, 9, 10]\n"
     ]
    }
   ],
   "source": [
    "# 위의 nlist 사용해서 인덱스0자리에 0넣기\n",
    "nlist.insert(0, 0)\n",
    "\n",
    "print(\"nlist =\", nlist)"
   ]
  },
  {
   "cell_type": "markdown",
   "id": "ec6aefd1",
   "metadata": {},
   "source": [
    "4. 위의 3번 문제를 통해 만들어진 nlist를 역순으로 다시 배열하여 다음과 같이 출력하여라 (reverse() 메소드 사용할 것).\n",
    "\n",
    "<span style=\"color: blue\">**실행결과**</span>\n",
    "\n",
    "nlist = [10, 9, 8, 7, 6, 5, 4, 3, 2, 1, 0]"
   ]
  },
  {
   "cell_type": "code",
   "execution_count": 10,
   "id": "9c7def20",
   "metadata": {},
   "outputs": [
    {
     "name": "stdout",
     "output_type": "stream",
     "text": [
      "nlist = [1, 2, 3, 4, 5, 6, 7, 8, 9, 10]\n"
     ]
    }
   ],
   "source": [
    "# reverse 사용\n",
    "nlist.reverse()\n",
    "\n",
    "print(\"nlist =\", nlist)"
   ]
  },
  {
   "cell_type": "markdown",
   "id": "84ff41e7",
   "metadata": {},
   "source": [
    "5. nlist의 제일 마지막 원소를 pop() 메소드를 사용하여 반환하여 출력하고 삭제한 후의 nlist를 다음과 같이 출력하여라.\n",
    "\n",
    "<span style=\"color: blue\">**실행결과**</span>\n",
    "\n",
    "nlist = [10, 9, 8, 7, 6, 5, 4, 3, 2, 1]"
   ]
  },
  {
   "cell_type": "code",
   "execution_count": 9,
   "id": "4d46e6b3",
   "metadata": {},
   "outputs": [
    {
     "name": "stdout",
     "output_type": "stream",
     "text": [
      "마지막 원소 = 0\n",
      "nlist = [10, 9, 8, 7, 6, 5, 4, 3, 2, 1]\n"
     ]
    }
   ],
   "source": [
    "# pop 사용\n",
    "print(\"마지막 원소 =\", nlist.pop())\n",
    "\n",
    "print(\"nlist =\", nlist)"
   ]
  }
 ],
 "metadata": {
  "kernelspec": {
   "display_name": "Python 3 (ipykernel)",
   "language": "python",
   "name": "python3"
  },
  "language_info": {
   "codemirror_mode": {
    "name": "ipython",
    "version": 3
   },
   "file_extension": ".py",
   "mimetype": "text/x-python",
   "name": "python",
   "nbconvert_exporter": "python",
   "pygments_lexer": "ipython3",
   "version": "3.9.12"
  }
 },
 "nbformat": 4,
 "nbformat_minor": 5
}
