{
 "cells": [
  {
   "cell_type": "markdown",
   "id": "97ea7a5d",
   "metadata": {},
   "source": [
    "# Exercise 3\n",
    "___\n",
    "* 어떤 문자열을 뒤집었을 때에 원래의 문자열과 같은 것을 회문(palindrome)이라고 한다. 예를 들어 ‘mom’은 문자열을 뒤집어도 ‘mom’이 되므로 회문이다. 사용자로부터 임의의 문자열이나 문장을 입력받아서 이 문자열이 회문인지 아닌지 검사하는 코드를 작성하라. 입력으로는 다음과 같은 영문자를 입력으로 받으며, 대문자와 소문자, 공백, 마침표 등은 무시하도록 구현하라\n",
    "\n",
    "<span style=\"color: blue\">**실행결과**</span>\n",
    "\n",
    "문자열을 입력하시오 : racecar  \n",
    "회문입니다.\n",
    "\n",
    "문자열을 입력하시오 : abv  \n",
    "회문이 아닙니다.\n",
    "\n",
    "문자열을 입력하시오 : A nut for a jar of tuna...  \n",
    "회문입니다."
   ]
  },
  {
   "cell_type": "code",
   "execution_count": 1,
   "id": "5bd50bbe",
   "metadata": {},
   "outputs": [
    {
     "name": "stdout",
     "output_type": "stream",
     "text": [
      "문자열을 입력하시오 : racecar\n",
      "회문입니다.\n"
     ]
    }
   ],
   "source": [
    "str = input(\"문자열을 입력하시오 : \")\n",
    "\n",
    "str = str.lower()           # 소문자로 변경\n",
    "for i in str:               # 문자열에서\n",
    "    if i in \",. \":           # ,. 공백이 있다면\n",
    "        str = str.replace(i, '')       # ''로 변경\n",
    "\n",
    "if str == str[::-1]:        # 원래 문자열과 거꾸로 문자열이 같으면 회문\n",
    "    print(\"회문입니다.\")\n",
    "else:\n",
    "    print(\"회문이 아닙니다.\")"
   ]
  },
  {
   "cell_type": "code",
   "execution_count": 2,
   "id": "6cb2b353",
   "metadata": {},
   "outputs": [
    {
     "name": "stdout",
     "output_type": "stream",
     "text": [
      "문자열을 입력하시오 : abv\n",
      "회문이 아닙니다.\n"
     ]
    }
   ],
   "source": [
    "str = input(\"문자열을 입력하시오 : \")\n",
    "\n",
    "str = str.lower()           # 소문자로 변경\n",
    "for i in str:               # 문자열에서\n",
    "    if i in \",. \":           # ,. 공백이 있다면\n",
    "        str = str.replace(i, '')       # ''로 변경\n",
    "\n",
    "if str == str[::-1]:        # 원래 문자열과 거꾸로 문자열이 같으면 회문\n",
    "    print(\"회문입니다.\")\n",
    "else:\n",
    "    print(\"회문이 아닙니다.\")"
   ]
  },
  {
   "cell_type": "code",
   "execution_count": 3,
   "id": "33c8aeee",
   "metadata": {},
   "outputs": [
    {
     "name": "stdout",
     "output_type": "stream",
     "text": [
      "문자열을 입력하시오 : A nut for a jar of tuna\n",
      "회문입니다.\n"
     ]
    }
   ],
   "source": [
    "str = input(\"문자열을 입력하시오 : \")\n",
    "\n",
    "str = str.lower()           # 소문자로 변경\n",
    "for i in str:               # 문자열에서\n",
    "    if i in \",. \":           # ,. 공백이 있다면\n",
    "        str = str.replace(i, '')       # ''로 변경\n",
    "\n",
    "if str == str[::-1]:        # 원래 문자열과 거꾸로 문자열이 같으면 회문\n",
    "    print(\"회문입니다.\")\n",
    "else:\n",
    "    print(\"회문이 아닙니다.\")"
   ]
  }
 ],
 "metadata": {
  "kernelspec": {
   "display_name": "Python 3 (ipykernel)",
   "language": "python",
   "name": "python3"
  },
  "language_info": {
   "codemirror_mode": {
    "name": "ipython",
    "version": 3
   },
   "file_extension": ".py",
   "mimetype": "text/x-python",
   "name": "python",
   "nbconvert_exporter": "python",
   "pygments_lexer": "ipython3",
   "version": "3.9.12"
  }
 },
 "nbformat": 4,
 "nbformat_minor": 5
}
