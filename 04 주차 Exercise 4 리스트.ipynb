{
 "cells": [
  {
   "cell_type": "markdown",
   "id": "7a3e3b6f",
   "metadata": {},
   "source": [
    "# Exercise 4\n",
    "___\n",
    "* 임의의 정수 값을 가진 리스트 n_list에서 가장 큰 값을 구하는 프로그램을 max() 함수를 사용하지 말고 구현하여라. \n",
    "\n",
    "<span style=\"color: blue\">**실행결과**</span>\n",
    "\n",
    "리스트 원소들 : [10, 20, 30, 50, 60]  \n",
    "리스트 원소들 중 최댓값 : 60"
   ]
  },
  {
   "cell_type": "code",
   "execution_count": 1,
   "id": "bae23068",
   "metadata": {},
   "outputs": [
    {
     "name": "stdout",
     "output_type": "stream",
     "text": [
      "리스트 원소들 : [10, 20, 30, 50, 60]\n",
      "리스트 원소들 중 최댓값 : 60\n"
     ]
    }
   ],
   "source": [
    "n_list = [10, 20, 30, 50, 60]\n",
    "\n",
    "# 리스트 원소들 중 최댓값을 n_max\n",
    "n_max = n_list[0]\n",
    "\n",
    "for i in n_list:             # 최댓값 구하기\n",
    "    if n_max < i:\n",
    "        n_max = i\n",
    "\n",
    "print(\"리스트 원소들 :\", n_list)\n",
    "print(\"리스트 원소들 중 최댓값 :\", n_max)\n",
    "    "
   ]
  }
 ],
 "metadata": {
  "kernelspec": {
   "display_name": "Python 3 (ipykernel)",
   "language": "python",
   "name": "python3"
  },
  "language_info": {
   "codemirror_mode": {
    "name": "ipython",
    "version": 3
   },
   "file_extension": ".py",
   "mimetype": "text/x-python",
   "name": "python",
   "nbconvert_exporter": "python",
   "pygments_lexer": "ipython3",
   "version": "3.9.12"
  }
 },
 "nbformat": 4,
 "nbformat_minor": 5
}
