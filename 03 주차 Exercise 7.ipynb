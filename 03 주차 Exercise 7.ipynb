{
 "cells": [
  {
   "cell_type": "markdown",
   "id": "4289f1dc",
   "metadata": {},
   "source": [
    "# Exercise 7\n",
    "___\n",
    "* 다음과 같이 사용자로부터 1에서 9사이의 숫자를 입력받아 입력받은 숫자의 절에 해당하는 구구단을 출력하는 프로그램을 for문과 while 문을 사용하여 작성하여라. 만일 1에서 9 이외의 숫자가 입력되면 '1에서 9까지의 수를 다시 입력하세요' 라는 안내문을 출력하여라.\n",
    "\n",
    "<span style=\"color: blue\">**실행결과**</span>\n",
    "\n",
    "1에서 9까지의 수를 입력하세요: 11    \n",
    "1에서 9까지의 수를 입력하세요: 134  \n",
    "1에서 9까지의 수를 입력하세요: 2  \n",
    "2 * 1 = 2  \n",
    "2 * 2 = 4  \n",
    "2 * 3 = 6  \n",
    "2 * 4 = 8  \n",
    "2 * 5 = 10  \n",
    "2 * 6 = 12  \n",
    "2 * 7 = 14  \n",
    "2 * 8 = 16  \n",
    "2 * 9 = 18"
   ]
  },
  {
   "cell_type": "code",
   "execution_count": 1,
   "id": "e43da309",
   "metadata": {},
   "outputs": [
    {
     "name": "stdout",
     "output_type": "stream",
     "text": [
      "1에서 9까지의 수를 입력하세요: 11\n",
      "1에서 9까지의 수를 다시 입력하세요: 134\n",
      "1에서 9까지의 수를 다시 입력하세요: 2\n",
      "2 * 1 = 2\n",
      "2 * 2 = 4\n",
      "2 * 3 = 6\n",
      "2 * 4 = 8\n",
      "2 * 5 = 10\n",
      "2 * 6 = 12\n",
      "2 * 7 = 14\n",
      "2 * 8 = 16\n",
      "2 * 9 = 18\n"
     ]
    }
   ],
   "source": [
    "# 입력받을 1에서 9사이의 숫자를 n이라는 변수로 설정함\n",
    "n = int(input('1에서 9까지의 수를 입력하세요: '))\n",
    "\n",
    "while n < 1 or n > 9:        # n이 1에서 9사이의 숫자일때까지 계속해서 다시 입력받음\n",
    "    n = int(input('1에서 9까지의 수를 다시 입력하세요: '))\n",
    "    \n",
    "for i in range(1, 10):                   # n절에 해당하는 구구단 출력\n",
    "    print(n, '*', i, '=', n * i)"
   ]
  }
 ],
 "metadata": {
  "kernelspec": {
   "display_name": "Python 3 (ipykernel)",
   "language": "python",
   "name": "python3"
  },
  "language_info": {
   "codemirror_mode": {
    "name": "ipython",
    "version": 3
   },
   "file_extension": ".py",
   "mimetype": "text/x-python",
   "name": "python",
   "nbconvert_exporter": "python",
   "pygments_lexer": "ipython3",
   "version": "3.9.12"
  }
 },
 "nbformat": 4,
 "nbformat_minor": 5
}
