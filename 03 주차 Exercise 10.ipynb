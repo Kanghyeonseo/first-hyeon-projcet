{
 "cells": [
  {
   "cell_type": "markdown",
   "id": "4f92682e",
   "metadata": {},
   "source": [
    "# Exercise 10\n",
    "___\n",
    "* 사용자로부터 숫자 1보다 크고 10보다 작은 값 n을 입력으로 받아서 다음과 같이 뱀의 몸통처럼 증가하는 이차원 배열을 출력하여라. (이 배열은 마치 뱀의 몸통처럼 'ㄹ' 과 같은 패턴을 그리며 수가 1씩 증가하는 형태의 배열이다.) \n",
    "\n",
    "<span style=\"color: blue\">**실행결과**</span>\n",
    "\n",
    "n을 입력하시오 : 5  \n",
    "1 &nbsp;&nbsp;2 &nbsp;&nbsp;3 &nbsp;&nbsp;4 &nbsp;&nbsp;5  \n",
    "10 9 &nbsp;&nbsp;8 &nbsp;&nbsp;7 &nbsp;&nbsp;6  \n",
    "11 12 13 14 15  \n",
    "20 19 18 17 16  \n",
    "21 22 23 24 25\n",
    "\n",
    "n을 입력하시오 : 7  \n",
    "1 &nbsp;&nbsp;2 &nbsp;&nbsp;3 &nbsp;&nbsp;4 &nbsp;&nbsp;5 &nbsp;&nbsp;6 &nbsp;&nbsp;7    \n",
    "14 13 12 11 10 &nbsp;9  &nbsp;&nbsp;8  \n",
    "15 16 17 18 19 20 21  \n",
    "28 27 26 25 24 23 22  \n",
    "29 30 31 32 33 34 35  \n",
    "42 41 40 39 38 37 36  \n",
    "43 44 45 46 47 48 49  \n"
   ]
  },
  {
   "cell_type": "code",
   "execution_count": 24,
   "id": "2e63577e",
   "metadata": {},
   "outputs": [
    {
     "name": "stdout",
     "output_type": "stream",
     "text": [
      "n을 입력하시오 : 5\n",
      "1  2  3  4  5  \n",
      "10 9  8  7  6  \n",
      "11 12 13 14 15 \n",
      "20 19 18 17 16 \n",
      "21 22 23 24 25 \n",
      "\n",
      "n을 입력하시오 : 7\n",
      "1  2  3  4  5  6  7  \n",
      "14 13 12 11 10 9  8  \n",
      "15 16 17 18 19 20 21 \n",
      "28 27 26 25 24 23 22 \n",
      "29 30 31 32 33 34 35 \n",
      "42 41 40 39 38 37 36 \n",
      "43 44 45 46 47 48 49 \n"
     ]
    }
   ],
   "source": [
    "# 1보다 크고 10보다 작은 값을 n이라는 변수로 설정함\n",
    "# 배열에 숫자를 채우기 위해 1씩 늘어나는 변수로 temp를 설정함\n",
    "n = int(input(\"n을 입력하시오 : \"))\n",
    "temp = 1\n",
    "\n",
    "# 위 문제와 같은 배열은 배열 원소 개수가 n^2이므로 그만큼의 배열의 크기를 설정하고 0으로 초기화 \n",
    "nlist=[[0 for i in range(n)] for j in range(n)] \n",
    "\n",
    "# 이차원 배열에 숫자를 1부터 n^2 까지 넣어줌\n",
    "for i in range(n):\n",
    "    for j in range(n):\n",
    "        nlist[i][j] = temp\n",
    "        temp += 1\n",
    "\n",
    "# 뱀 배열 출력\n",
    "for i in range(n):\n",
    "    if (i + 1) % 2 == 1:                        # 0행을 포함한 짝수 행은 그대로 출력\n",
    "        for j in range(n):\n",
    "            print('{:<2d}'.format(nlist[i][j]), end = \" \")\n",
    "    else:                                       # 홀수 행은 역으로 출력\n",
    "        for j in range(n - 1, -1, -1):\n",
    "            print('{:<2d}'.format(nlist[i][j]), end = \" \")\n",
    "    print()\n",
    "\n",
    "# 7을 넣었을 때를 보기위해 초기화 작업\n",
    "print()\n",
    "n = int(input(\"n을 입력하시오 : \"))\n",
    "temp = 1\n",
    "nlist=[[0 for i in range(n)] for j in range(n)] \n",
    "\n",
    "for i in range(n):\n",
    "    for j in range(n):\n",
    "        nlist[i][j] = temp\n",
    "        temp += 1\n",
    "        \n",
    "#뱀 배열 출력\n",
    "for i in range(n):\n",
    "    if (i + 1) % 2 == 1:                        # 0행을 포함한 짝수 행은 그대로 출력\n",
    "        for j in range(n):\n",
    "            print('{:<2d}'.format(nlist[i][j]), end = \" \")\n",
    "    else:                                       # 홀수 행은 역으로 출력\n",
    "        for j in range(n - 1, -1, -1):\n",
    "            print('{:<2d}'.format(nlist[i][j]), end = \" \")\n",
    "    print()"
   ]
  }
 ],
 "metadata": {
  "kernelspec": {
   "display_name": "Python 3 (ipykernel)",
   "language": "python",
   "name": "python3"
  },
  "language_info": {
   "codemirror_mode": {
    "name": "ipython",
    "version": 3
   },
   "file_extension": ".py",
   "mimetype": "text/x-python",
   "name": "python",
   "nbconvert_exporter": "python",
   "pygments_lexer": "ipython3",
   "version": "3.9.12"
  }
 },
 "nbformat": 4,
 "nbformat_minor": 5
}
