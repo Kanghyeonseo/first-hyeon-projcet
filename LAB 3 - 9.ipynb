{
 "cells": [
  {
   "cell_type": "markdown",
   "id": "6739621b",
   "metadata": {},
   "source": [
    "# LAB 3 - 9\n",
    "___\n",
    "1. 이중 for 루프를 이용하여 다음과 같은 패턴을 출력하여라.\n",
    "\n",
    "<span style=\"color: blue\">**실행결과**</span>\n",
    "\n",
    "&nbsp;&nbsp;&nbsp;&nbsp;&nbsp;&nbsp;&nbsp;#\n",
    "\n",
    "&nbsp;&nbsp;&nbsp;&nbsp;&nbsp;&nbsp;#\n",
    "\n",
    "&nbsp;&nbsp;&nbsp;&nbsp;&nbsp;#\n",
    "\n",
    "&nbsp;&nbsp;&nbsp;&nbsp;#\n",
    "\n",
    "&nbsp;&nbsp;&nbsp;#\n",
    "\n",
    "&nbsp;&nbsp;#\n",
    "\n",
    "&nbsp;#"
   ]
  },
  {
   "cell_type": "code",
   "execution_count": 24,
   "id": "aacc9105",
   "metadata": {},
   "outputs": [
    {
     "name": "stdout",
     "output_type": "stream",
     "text": [
      "       #\n",
      "      #\n",
      "     #\n",
      "    #\n",
      "   #\n",
      "  #\n",
      " #\n"
     ]
    }
   ],
   "source": [
    "# 층수를 n이라는 변수로 설정함\n",
    "n = 7\n",
    "\n",
    "for i in range(n, 0, -1):         # 공백 하나씩 제거해주기\n",
    "    print(' ' * i + '#')"
   ]
  }
 ],
 "metadata": {
  "kernelspec": {
   "display_name": "Python 3 (ipykernel)",
   "language": "python",
   "name": "python3"
  },
  "language_info": {
   "codemirror_mode": {
    "name": "ipython",
    "version": 3
   },
   "file_extension": ".py",
   "mimetype": "text/x-python",
   "name": "python",
   "nbconvert_exporter": "python",
   "pygments_lexer": "ipython3",
   "version": "3.9.12"
  }
 },
 "nbformat": 4,
 "nbformat_minor": 5
}
