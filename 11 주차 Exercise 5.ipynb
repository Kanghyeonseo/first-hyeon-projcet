{
 "cells": [
  {
   "cell_type": "markdown",
   "id": "67b42b0c",
   "metadata": {},
   "source": [
    "# Exercise 5\n",
    "---\n",
    "\n",
    "* 학생들의 국어, 영어, 수학 성적을 세 개의 요소를 가진 리스트로 다루면 [100, 90, 95]와 같은 리스트로 표현할 수 있다. 학생이 두 명 있을 경우, 이 두 명의 성적은 [100, 90, 95, 90, 85, 93]과 같이 표현할 수 있다. 만약 어떤 학생이 특정 과목의 시험에 응시하지 않았다면 해당 과목의 성적을 0으로 표시하자. 다음과 같이 주어진 scores 리스트에 몇 명의 학생에 대한 성적이 담겨 있는지 출력하고, 모든 과목 점수가 유효한 학생(즉 0점을 받은 과목이 하나도 없는 학생)의 수를 출력한 뒤에, 유효 점수만을 가지고 있는 학생들의 점수를 출력해 보라.\n",
    "\n",
    "scores = [100, 90, 95, 90, 80, 70, 0, 80, 90, 90, 0, 90, 100, 75, 20, 30, 50, 90]\n",
    "\n",
    "score_info(scores)\n",
    "\n",
    "<span style = \"color : blue\">**실행 결과**</span>\n",
    "\n",
    "전체 학생의 수는 6명입니다.  \n",
    "유효 점수 획득 학생의 수는 4명입니다.  \n",
    "[[100, 90, 95], [90, 80, 70], [100, 75, 20], [30, 50, 90]]"
   ]
  },
  {
   "cell_type": "code",
   "execution_count": 15,
   "id": "b1b2effb",
   "metadata": {},
   "outputs": [
    {
     "name": "stdout",
     "output_type": "stream",
     "text": [
      "전체 학생의 수는 6명입니다.\n",
      "유효 점수 획득 학생의 수는 4명입니다.\n",
      "[[100, 90, 95], [90, 80, 70], [100, 75, 20], [30, 50, 90]]\n"
     ]
    }
   ],
   "source": [
    "scores = [100, 90, 95, 90, 80, 70, 0, 80, 90, 90, 0, 90, 100, 75, 20, 30, 50, 90]\n",
    "new_scores = []\n",
    "\n",
    "def score_info(lst):\n",
    "    no_zero_count = 0\n",
    "    temp = []\n",
    "    student_num = (int)(len(lst) / 3)\n",
    "    print(\"전체 학생의 수는 {}명입니다.\".format(student_num))\n",
    "    for x in lst:        \n",
    "        temp.append(x)\n",
    "        if len(temp) == 3:\n",
    "            if 0 not in temp:\n",
    "                new_scores.append(temp)\n",
    "                no_zero_count += 1\n",
    "            temp = []\n",
    "     \n",
    "    print(\"유효 점수 획득 학생의 수는 {}명입니다.\".format(no_zero_count))\n",
    "    print(new_scores)\n",
    "            \n",
    "            \n",
    "score_info(scores)"
   ]
  }
 ],
 "metadata": {
  "kernelspec": {
   "display_name": "Python 3 (ipykernel)",
   "language": "python",
   "name": "python3"
  },
  "language_info": {
   "codemirror_mode": {
    "name": "ipython",
    "version": 3
   },
   "file_extension": ".py",
   "mimetype": "text/x-python",
   "name": "python",
   "nbconvert_exporter": "python",
   "pygments_lexer": "ipython3",
   "version": "3.9.12"
  }
 },
 "nbformat": 4,
 "nbformat_minor": 5
}
