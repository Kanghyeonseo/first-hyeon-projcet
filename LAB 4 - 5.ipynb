{
 "cells": [
  {
   "cell_type": "markdown",
   "id": "833f5dfc",
   "metadata": {},
   "source": [
    "# LAB 4 - 5\n",
    "___\n",
    "1. 두 개의 매개변수 a, b를 받아서 두 수의 차를 구하여 출력하는 print_sub(a, b) 함수를 구현하여라. print_sub(10, 20)을 호출한 결과 다음과 같은 출력이 나타나도록 하여라. \n",
    "\n",
    "<span style=\"color: blue\">**실행결과**</span>\n",
    "\n",
    "10과 20의 차는 -10입니다."
   ]
  },
  {
   "cell_type": "code",
   "execution_count": 2,
   "id": "6ec1c06c",
   "metadata": {},
   "outputs": [
    {
     "name": "stdout",
     "output_type": "stream",
     "text": [
      "10과 20의 차는 -10입니다.\n"
     ]
    }
   ],
   "source": [
    "# sub함수 선언\n",
    "def print_sub(a, b):\n",
    "    result = a - b     # 차 구하기\n",
    "    print(\"{}과 {}의 차는 {}입니다.\".format(a, b, result))\n",
    "    \n",
    "print_sub(10, 20)"
   ]
  },
  {
   "cell_type": "markdown",
   "id": "809b80a0",
   "metadata": {},
   "source": [
    "2. 두 개의 매개변수 a, b를 받아서 두 수의 곱을 구하여 출력하는 print_mult(a, b) 함수를 구현하여라. print_mult(10, 20)을 호출한 결과 다음과 같은 출력이 나타나도록 하여라.\n",
    "\n",
    "<span style=\"color: blue\">**실행결과**</span>\n",
    "\n",
    "10과 20의 곱은 200입니다."
   ]
  },
  {
   "cell_type": "code",
   "execution_count": 3,
   "id": "3f546817",
   "metadata": {},
   "outputs": [
    {
     "name": "stdout",
     "output_type": "stream",
     "text": [
      "10과 20의 곱은 200입니다.\n"
     ]
    }
   ],
   "source": [
    "# mult함수 선언\n",
    "def print_mult(a, b):\n",
    "    result = a * b  # 곱 구하기\n",
    "    print(\"{}과 {}의 곱은 {}입니다.\".format(a, b, result))\n",
    "    \n",
    "print_mult(10, 20)"
   ]
  }
 ],
 "metadata": {
  "kernelspec": {
   "display_name": "Python 3 (ipykernel)",
   "language": "python",
   "name": "python3"
  },
  "language_info": {
   "codemirror_mode": {
    "name": "ipython",
    "version": 3
   },
   "file_extension": ".py",
   "mimetype": "text/x-python",
   "name": "python",
   "nbconvert_exporter": "python",
   "pygments_lexer": "ipython3",
   "version": "3.9.12"
  }
 },
 "nbformat": 4,
 "nbformat_minor": 5
}
