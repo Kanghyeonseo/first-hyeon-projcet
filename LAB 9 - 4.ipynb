{
 "cells": [
  {
   "cell_type": "markdown",
   "id": "b56cabdc",
   "metadata": {},
   "source": [
    "# LAB 9 - 4\n",
    "\n",
    "---\n",
    "\n",
    "1. 다음 기능을 가진 Dog 클래스와 객체를 생성하라.\n",
    "\n",
    "```py\n",
    "a) def bark(self): 라는 메소드를 가진다. 이 메소드를 통해 짓는 소리를 출력한다.\n",
    "b) my_dog = Dog() 라는 명령어로 Dog 인스턴스를 생성하고 my_dog로 참조한다.\n",
    "c) my_dog.bark() 라는 메소드로 개짓는 소리를 다음과 같이 출력한다. \"멍멍~~\"\n",
    "```"
   ]
  },
  {
   "cell_type": "code",
   "execution_count": 1,
   "id": "0bc80e1b",
   "metadata": {},
   "outputs": [
    {
     "name": "stdout",
     "output_type": "stream",
     "text": [
      "멍멍~~\n"
     ]
    }
   ],
   "source": [
    "class Dog:\n",
    "    def bark(self):\n",
    "        print('멍멍~~')\n",
    "       \n",
    "my_dog = Dog()\n",
    "my_dog.bark()\n"
   ]
  }
 ],
 "metadata": {
  "kernelspec": {
   "display_name": "Python 3 (ipykernel)",
   "language": "python",
   "name": "python3"
  },
  "language_info": {
   "codemirror_mode": {
    "name": "ipython",
    "version": 3
   },
   "file_extension": ".py",
   "mimetype": "text/x-python",
   "name": "python",
   "nbconvert_exporter": "python",
   "pygments_lexer": "ipython3",
   "version": "3.9.12"
  }
 },
 "nbformat": 4,
 "nbformat_minor": 5
}
