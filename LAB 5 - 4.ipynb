{
 "cells": [
  {
   "cell_type": "markdown",
   "id": "be1fc621",
   "metadata": {},
   "source": [
    "# LAB 5 - 4\n",
    "___\n",
    "1. 1부터 10까지의 수중에서 소수 원소를 가지는 prime_list라는 리스트를 생성하고 이들중 최솟값, 최댓값을 다음과 같이 출력하시오. min()과 max(), sum(), len() 내장함수를 사용하여 다음과 같이 출력하시오.\n",
    "\n",
    "<span style=\"color: blue\">**실행결과**</span>\n",
    "\n",
    "1에서 10까지의 소수 : [2, 3, 5, 7]  \n",
    "최솟값 : 2  \n",
    "최댓값 : 7  \n",
    "합계 : 17  \n",
    "평균 : 4.25"
   ]
  },
  {
   "cell_type": "code",
   "execution_count": 1,
   "id": "8573ebe2",
   "metadata": {},
   "outputs": [
    {
     "name": "stdout",
     "output_type": "stream",
     "text": [
      "최솟값 : 2\n",
      "최댓값 : 7\n",
      "합계 : 17\n",
      "평균 : 4.25\n"
     ]
    }
   ],
   "source": [
    "# 1 ~ 10의 수중 소수를 원소로 가지는 리스트 prime_list\n",
    "prime_list = [2, 3, 5, 7]\n",
    "\n",
    "print(\"최솟값 :\", min(prime_list))\n",
    "print(\"최댓값 :\", max(prime_list))\n",
    "print(\"합계 :\", sum(prime_list))\n",
    "print(\"평균 :\", sum(prime_list) / len(prime_list))              # 합계를 원소 수로 나누면 평균\n"
   ]
  },
  {
   "cell_type": "markdown",
   "id": "de619272",
   "metadata": {},
   "source": [
    "2. 'Korea', 'China', 'Russia', 'Malaysia' 원소를 가지는 nations라는 리스트가 있다. 이들 나라 중에서 사전 순서로 가장 먼저 나오는 나라와 가장 뒤에 나오는 나라를 다음과 같이 출력하시오.\n",
    "\n",
    "<span style=\"color: blue\">**실행결과**</span>\n",
    "\n",
    "국가 목록 : ['Korea', 'China', 'Russia', 'Malaysia']  \n",
    "사전에 가장 먼저 나오는 나라 : China  \n",
    "사전에 가장 뒤에 나오는 나라 : Russia"
   ]
  },
  {
   "cell_type": "code",
   "execution_count": 2,
   "id": "97fabcb5",
   "metadata": {},
   "outputs": [
    {
     "name": "stdout",
     "output_type": "stream",
     "text": [
      "국가 목록 : ['Korea', 'China', 'Russia', 'Malaysia']\n",
      "사전에 가장 먼저 나오는 나라 : China\n",
      "사전에 가장 뒤에 나오는 나라 : Russia\n"
     ]
    }
   ],
   "source": [
    "# 나라 이름을 원소로 가지는 리스트 nations\n",
    "nations = ['Korea', 'China', 'Russia', 'Malaysia']\n",
    "\n",
    "print(\"국가 목록 :\", nations)\n",
    "print(\"사전에 가장 먼저 나오는 나라 :\", min(nations))           # min 사용\n",
    "print(\"사전에 가장 뒤에 나오는 나라 :\", max(nations))           # max 사용"
   ]
  }
 ],
 "metadata": {
  "kernelspec": {
   "display_name": "Python 3 (ipykernel)",
   "language": "python",
   "name": "python3"
  },
  "language_info": {
   "codemirror_mode": {
    "name": "ipython",
    "version": 3
   },
   "file_extension": ".py",
   "mimetype": "text/x-python",
   "name": "python",
   "nbconvert_exporter": "python",
   "pygments_lexer": "ipython3",
   "version": "3.9.12"
  }
 },
 "nbformat": 4,
 "nbformat_minor": 5
}
