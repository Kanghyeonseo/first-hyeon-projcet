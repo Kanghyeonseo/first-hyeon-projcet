{
 "cells": [
  {
   "cell_type": "markdown",
   "id": "a180f1f7",
   "metadata": {},
   "source": [
    "# Exercise 2\n",
    "___\n",
    "* 직각삼각형의 빗변을 이루는 선분의 양 끝점을 나타내는 두 좌표 (x1, y1), (x2, y2)를 입력받아 직각삼각형의 면적을 구하는 프로그램을 작성하여라. 이때 4개의 좌표값을 입력으로 받아 직각삼각형의 면적을 반환하는 area(x1, y1,x2, y2) 함수를 구현하시오.\n",
    "단, x2>x1 이고 y2>y1 이다.\n",
    "\n",
    "<span style=\"color: blue\">**실행결과**</span>\n",
    "\n",
    "x1 좌표를 입력하시오 : 0  \n",
    "y1 좌표를 입력하시오 : 0  \n",
    "x2 좌표를 입력하시오 : 3  \n",
    "y2 좌표를 입력하시오 : 4  \n",
    "직각삼각형의 면적은 : 6.0"
   ]
  },
  {
   "cell_type": "code",
   "execution_count": 2,
   "id": "c7098594",
   "metadata": {},
   "outputs": [
    {
     "name": "stdout",
     "output_type": "stream",
     "text": [
      "x1의 좌표를 입력하시오 : 0\n",
      "y1의 좌표를 입력하시오 : 0\n",
      "x2의 좌표를 입력하시오 : 3\n",
      "y2의 좌표를 입력하시오 : 4\n",
      "직각삼각형의 면적은 : 6.0\n"
     ]
    }
   ],
   "source": [
    "x1 = int(input(\"x1의 좌표를 입력하시오 : \"))\n",
    "y1 = int(input(\"y1의 좌표를 입력하시오 : \"))\n",
    "x2 = int(input(\"x2의 좌표를 입력하시오 : \"))\n",
    "y2 = int(input(\"y2의 좌표를 입력하시오 : \"))\n",
    "\n",
    "def area(x1, y1, x2, y2):\n",
    "    area = (x2 - x1) * (y2 - y1) * 0.5\n",
    "    return area\n",
    "\n",
    "print(\"직각삼각형의 면적은 :\", area(x1, y1, x2, y2))"
   ]
  }
 ],
 "metadata": {
  "kernelspec": {
   "display_name": "Python 3 (ipykernel)",
   "language": "python",
   "name": "python3"
  },
  "language_info": {
   "codemirror_mode": {
    "name": "ipython",
    "version": 3
   },
   "file_extension": ".py",
   "mimetype": "text/x-python",
   "name": "python",
   "nbconvert_exporter": "python",
   "pygments_lexer": "ipython3",
   "version": "3.9.12"
  }
 },
 "nbformat": 4,
 "nbformat_minor": 5
}
