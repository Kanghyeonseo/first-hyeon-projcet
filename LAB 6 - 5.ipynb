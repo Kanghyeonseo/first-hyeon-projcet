{
 "cells": [
  {
   "cell_type": "markdown",
   "id": "61a14fb7",
   "metadata": {},
   "source": [
    "# LAB 6 - 5\n",
    "___\n",
    "1. ('apple', 6000), ('melon', 3000), ('banana', 5000), ('orange', 4000)라는 키와 값의 쌍으로 이루어진 fruits_dic이라는 이름의 딕셔너리를 생성하자. 이제 fruits_dic 딕셔너리의 모든 키를 리스트 형식으로 출력하시오.\n",
    "\n",
    "<span style=\"color: blue\">**실행결과**</span>\n",
    "\n",
    "['apple', 'melon', 'banana', 'orange']"
   ]
  },
  {
   "cell_type": "code",
   "execution_count": 10,
   "id": "62cdbee6",
   "metadata": {},
   "outputs": [
    {
     "name": "stdout",
     "output_type": "stream",
     "text": [
      "['apple', 'melon', 'banana', 'orange']\n"
     ]
    }
   ],
   "source": [
    "# fruits_dic 생성\n",
    "fruits_dic = {'apple' : 6000, 'melon' : 3000, 'banana' : 5000, 'orange' : 4000}\n",
    "\n",
    "# 딕셔너리의 키들을 리스트 형식으로 바꾼 것을 keylist라는 리스트에 저장\n",
    "keylist = list(fruits_dic.keys())\n",
    "\n",
    "# 리스트 출력\n",
    "print(keylist)"
   ]
  },
  {
   "cell_type": "markdown",
   "id": "cbac53d0",
   "metadata": {},
   "source": [
    "2. fruits_dic 딕셔너리의 모든 값을 리스트 형식으로 출력하시오.\n",
    "\n",
    "<span style=\"color: blue\">**실행결과**</span>\n",
    "\n",
    "[6000, 3000, 5000, 4000]"
   ]
  },
  {
   "cell_type": "code",
   "execution_count": 5,
   "id": "d68c630b",
   "metadata": {},
   "outputs": [
    {
     "name": "stdout",
     "output_type": "stream",
     "text": [
      "[6000, 3000, 5000, 4000]\n"
     ]
    }
   ],
   "source": [
    "# 딕셔너리의 값들을 리스트 형식으로 바꾼 것을 valuelist라는 리스트에 저장\n",
    "valuelist = list(fruits_dic.values())\n",
    "\n",
    "# 리스트 출력\n",
    "print(valuelist)"
   ]
  },
  {
   "cell_type": "markdown",
   "id": "f369a318",
   "metadata": {},
   "source": [
    "3. fruits_dic 딕셔너리의 항목의 개수르 len() 함수를 통해서 구한 후, 다음과 같이 출력하시오.\n",
    "\n",
    "<span style=\"color: blue\">**실행결과**</span>\n",
    "\n",
    "fruits_dic 딕셔너리의 항목의 개수 : 4"
   ]
  },
  {
   "cell_type": "code",
   "execution_count": 6,
   "id": "cda731f2",
   "metadata": {},
   "outputs": [
    {
     "name": "stdout",
     "output_type": "stream",
     "text": [
      "fruits_dic 딕셔너리의 항목의 개수 : 4\n"
     ]
    }
   ],
   "source": [
    "# len 함수에 딕셔너리를 넣어 준다\n",
    "print(\"fruits_dic 딕셔너리의 항목의 개수 :\", len(fruits_dic))"
   ]
  },
  {
   "cell_type": "markdown",
   "id": "8a47de38",
   "metadata": {},
   "source": [
    "4. fruits_dic 딕셔너리에 'apple' 키와 'mango' 키가 있는가 검사하여 다음과 같이 출력하시오.\n",
    "\n",
    "<span style=\"color: blue\">**실행결과**</span>\n",
    "\n",
    "apple is in fruits_dic.  \n",
    "mango is not in fruits_dic."
   ]
  },
  {
   "cell_type": "code",
   "execution_count": 9,
   "id": "26d80b57",
   "metadata": {},
   "outputs": [
    {
     "name": "stdout",
     "output_type": "stream",
     "text": [
      "apple is in fruits_dic.\n",
      "mango is not in fruits_dic.\n"
     ]
    }
   ],
   "source": [
    "# apple 키가 있는지 검사\n",
    "key = 'apple'\n",
    "if (key in fruits_dic):\n",
    "    print(key, \"is in fruits_dic.\")\n",
    "else:\n",
    "    print(key, \"is not in fruits_dic.\")\n",
    "\n",
    "# mango 키가 있는지 검사\n",
    "key = 'mango'\n",
    "if (key in fruits_dic):\n",
    "    print(key, \"is in fruits_dic.\")\n",
    "else:\n",
    "    print(key, \"is not in fruits_dic.\")"
   ]
  }
 ],
 "metadata": {
  "kernelspec": {
   "display_name": "Python 3 (ipykernel)",
   "language": "python",
   "name": "python3"
  },
  "language_info": {
   "codemirror_mode": {
    "name": "ipython",
    "version": 3
   },
   "file_extension": ".py",
   "mimetype": "text/x-python",
   "name": "python",
   "nbconvert_exporter": "python",
   "pygments_lexer": "ipython3",
   "version": "3.9.12"
  }
 },
 "nbformat": 4,
 "nbformat_minor": 5
}
