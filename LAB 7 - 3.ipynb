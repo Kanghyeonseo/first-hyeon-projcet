{
 "cells": [
  {
   "cell_type": "markdown",
   "id": "14cd3544",
   "metadata": {},
   "source": [
    "# LAB 7 - 3\n",
    "\n",
    "---\n",
    "\n",
    "1. timedelta 클래스를 사용하여 오늘 날짜로부터 1000일 후의 날짜를 구하시오."
   ]
  },
  {
   "cell_type": "code",
   "execution_count": 2,
   "id": "f69aaeef",
   "metadata": {},
   "outputs": [
    {
     "name": "stdout",
     "output_type": "stream",
     "text": [
      "오늘은 2022년 10월 15일입니다\n",
      "1,000일 후 = 2025년 07월 11일입니다.\n"
     ]
    }
   ],
   "source": [
    "import datetime as dt\n",
    "\n",
    "today = dt.date.today()\n",
    "\n",
    "print('오늘은 {}년 {}월 {}일입니다'.format(today.year, today.month, today.day))\n",
    "\n",
    "later = dt.timedelta(days = 1000)         # 1000일 경과 시간\n",
    "plus1000day = dt.datetime.now() + later   # 오늘날짜 로부터 1000일 후\n",
    "print('1,000일 후 =', plus1000day.strftime('%Y년 %m월 %d일입니다.'))  "
   ]
  },
  {
   "cell_type": "markdown",
   "id": "75be3fe5",
   "metadata": {},
   "source": [
    "2. timedelta 클래스를 이용하여 커플들을 위한 프로그램을 작성하자. 다음과 같이 처음으로 사귄 연도와 월, 일을 띄어쓰기로 입력하면 100일 기념일을 출력하는 기능이 있다. \n",
    "\n",
    "<span style = \"color : blue\">**실행결과**</span>\n",
    "\n",
    "처음으로 사귄 연도와 월, 일을 입력하시오 : `2019 3 30`  \n",
    "100일 기념일은 : 2019년 7월 7일입니다."
   ]
  },
  {
   "cell_type": "code",
   "execution_count": 4,
   "id": "b3f5f6b7",
   "metadata": {},
   "outputs": [
    {
     "name": "stdout",
     "output_type": "stream",
     "text": [
      "처음으로 사귄 연도와 월, 일을 입력하시오 :2019 3 30\n",
      "100일 기념일은 : 2019년 7월 7일입니다.\n"
     ]
    }
   ],
   "source": [
    "# 처음사귄 연 월 일 = year_, month_, day_\n",
    "year_, month_, day_ = map(int, input(\"처음으로 사귄 연도와 월, 일을 입력하시오 :\").split())\n",
    "\n",
    "begin = dt.datetime(year_, month_, day_)  # 처음 사귄 날짜\n",
    "plus99day = dt.timedelta(days = 99)       # 99일 경과 시간\n",
    "day100 = begin + plus99day                # 100일째 되는 날짜\n",
    "\n",
    "print(\"100일 기념일은 : {}년 {}월 {}일입니다.\".format(day100.year, day100.month, day100.day))"
   ]
  }
 ],
 "metadata": {
  "kernelspec": {
   "display_name": "Python 3 (ipykernel)",
   "language": "python",
   "name": "python3"
  },
  "language_info": {
   "codemirror_mode": {
    "name": "ipython",
    "version": 3
   },
   "file_extension": ".py",
   "mimetype": "text/x-python",
   "name": "python",
   "nbconvert_exporter": "python",
   "pygments_lexer": "ipython3",
   "version": "3.9.12"
  }
 },
 "nbformat": 4,
 "nbformat_minor": 5
}
