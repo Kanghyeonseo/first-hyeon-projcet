{
 "cells": [
  {
   "cell_type": "markdown",
   "id": "63ca5af9",
   "metadata": {},
   "source": [
    "# Exercise 4\n",
    "___\n",
    "* 다음의 프로그램은 어떤 결과 값을 출력하는가? 출력결과를 미리 예측한 후 타이핑하여 그 결과가 맞는지 확인해 보도록 하자.\n",
    "\n",
    "1) \n",
    "\n",
    "``` py\n",
    "for i in range(3):\n",
    "    print('Python ')\n",
    "    print('is ')\n",
    "    print('FUN! ')\n",
    "```\n",
    "\n",
    "2)\n",
    "\n",
    "``` py\n",
    "for i in range(3):\n",
    "    print('Python ')\n",
    "    print('is ')\n",
    "print('FUN! ')\n",
    "```"
   ]
  },
  {
   "cell_type": "markdown",
   "id": "9e55383c",
   "metadata": {},
   "source": [
    "### 문제 1번은 다 반복되므로 Python is FUN!이 3번 반복되어서\n",
    "Python  \n",
    "is  \n",
    "FUN!  \n",
    "Python  \n",
    "is  \n",
    "FUN!  \n",
    "Python  \n",
    "is  \n",
    "FUN!  \n",
    "### 이렇게 나올 것 같고\n",
    "### 문제 2번은 Python is만 반복문에 있으므로 Python is만 반복하고 FUN은 한번만 출력해서\n",
    "Python  \n",
    "is  \n",
    "Python  \n",
    "is  \n",
    "Python  \n",
    "is  \n",
    "FUN!  \n",
    "### 이렇게 나올 것 같다."
   ]
  },
  {
   "cell_type": "code",
   "execution_count": 1,
   "id": "92e912d4",
   "metadata": {},
   "outputs": [
    {
     "name": "stdout",
     "output_type": "stream",
     "text": [
      "Python \n",
      "is \n",
      "FUN! \n",
      "Python \n",
      "is \n",
      "FUN! \n",
      "Python \n",
      "is \n",
      "FUN! \n"
     ]
    }
   ],
   "source": [
    "# 문제 1번 실행 결과\n",
    "\n",
    "for i in range(3):\n",
    "    print('Python ')\n",
    "    print('is ')\n",
    "    print('FUN! ')"
   ]
  },
  {
   "cell_type": "code",
   "execution_count": 2,
   "id": "9dc78059",
   "metadata": {},
   "outputs": [
    {
     "name": "stdout",
     "output_type": "stream",
     "text": [
      "Python \n",
      "is \n",
      "Python \n",
      "is \n",
      "Python \n",
      "is \n",
      "FUN! \n"
     ]
    }
   ],
   "source": [
    "# 문제 2번 실행 결과\n",
    "\n",
    "for i in range(3):\n",
    "    print('Python ')\n",
    "    print('is ')\n",
    "print('FUN! ')"
   ]
  }
 ],
 "metadata": {
  "kernelspec": {
   "display_name": "Python 3 (ipykernel)",
   "language": "python",
   "name": "python3"
  },
  "language_info": {
   "codemirror_mode": {
    "name": "ipython",
    "version": 3
   },
   "file_extension": ".py",
   "mimetype": "text/x-python",
   "name": "python",
   "nbconvert_exporter": "python",
   "pygments_lexer": "ipython3",
   "version": "3.9.12"
  }
 },
 "nbformat": 4,
 "nbformat_minor": 5
}
