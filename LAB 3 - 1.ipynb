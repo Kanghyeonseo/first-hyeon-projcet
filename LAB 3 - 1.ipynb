{
 "cells": [
  {
   "cell_type": "markdown",
   "id": "875dc63f",
   "metadata": {},
   "source": [
    "# LAB 3 - 1\n",
    "___\n",
    "1. 게임 사용자의 게임점수(game_score)가 1000점 이상이면 '당신은 고수입니다'를 출력하는 프로그램을 if 문을 이용하여 작성하시오. 이때 다음과 같이 game_score값을 화면에 출력하여라.\n",
    "\n",
    "<span style=\"color: blue\">**실행결과**</span>\n",
    "\n",
    "```\n",
    "game_score = 800\n",
    "```\n",
    "혹은\n",
    "```\n",
    "game_score = 1300\n",
    "당신은 고수입니다\n",
    "```"
   ]
  },
  {
   "cell_type": "code",
   "execution_count": 1,
   "id": "0c093672",
   "metadata": {},
   "outputs": [
    {
     "name": "stdout",
     "output_type": "stream",
     "text": [
      "game_score = 800\n"
     ]
    }
   ],
   "source": [
    "# 게임 점수를 game_score이라는 변수로 설정함\n",
    "game_score = int(input('game_score = '))\n",
    "\n",
    "if game_score >= 1000:                    # 1000점 이상일 때\n",
    "    print('당신은 고수입니다')"
   ]
  },
  {
   "cell_type": "code",
   "execution_count": 2,
   "id": "e7bddd25",
   "metadata": {},
   "outputs": [
    {
     "name": "stdout",
     "output_type": "stream",
     "text": [
      "game_score = 1300\n",
      "당신은 고수입니다\n"
     ]
    }
   ],
   "source": [
    "game_score = int(input('game_score = '))\n",
    "\n",
    "if game_score >= 1000:                    \n",
    "    print('당신은 고수입니다')"
   ]
  },
  {
   "cell_type": "markdown",
   "id": "2d8d638a",
   "metadata": {},
   "source": [
    "2. num_a와 num_b에 할당된 값이 같으면 '두 값이 일치합니다.'를 출력하는 프로그램을 if문을 이용하여 작성하시오. 이때 다음과 같이 출력하여라.\n",
    "\n",
    "<span style=\"color: blue\">**실행결과**</span>\n",
    "\n",
    "```\n",
    "num_a = 100, num_b = 200\n",
    "```\n",
    "혹은\n",
    "```\n",
    "num_a = 300, num_b = 300\n",
    "두 값이 일치합니다.\n",
    "```"
   ]
  },
  {
   "cell_type": "code",
   "execution_count": 6,
   "id": "04bb65ca",
   "metadata": {},
   "outputs": [
    {
     "name": "stdout",
     "output_type": "stream",
     "text": [
      "num_a = 100\n",
      "num_b = 200\n"
     ]
    }
   ],
   "source": [
    "#두 값을 num_a num_b라는 변수로 설정함\n",
    "num_a = int(input('num_a = '))\n",
    "num_b = int(input('num_b = '))\n",
    " \n",
    "if num_a == num_b:                       # 두 값이 일치할 때\n",
    "    print('두 값이 일치합니다.')"
   ]
  },
  {
   "cell_type": "code",
   "execution_count": 7,
   "id": "68c6fe70",
   "metadata": {},
   "outputs": [
    {
     "name": "stdout",
     "output_type": "stream",
     "text": [
      "num_a = 300\n",
      "num_b = 300\n",
      "두 값이 일치합니다.\n"
     ]
    }
   ],
   "source": [
    "num_a = int(input('num_a = '))\n",
    "num_b = int(input('num_b = '))\n",
    "\n",
    "if num_a == num_b:\n",
    "    print('두 값이 일치합니다.')"
   ]
  }
 ],
 "metadata": {
  "kernelspec": {
   "display_name": "Python 3 (ipykernel)",
   "language": "python",
   "name": "python3"
  },
  "language_info": {
   "codemirror_mode": {
    "name": "ipython",
    "version": 3
   },
   "file_extension": ".py",
   "mimetype": "text/x-python",
   "name": "python",
   "nbconvert_exporter": "python",
   "pygments_lexer": "ipython3",
   "version": "3.9.12"
  }
 },
 "nbformat": 4,
 "nbformat_minor": 5
}
