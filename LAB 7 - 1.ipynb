{
 "cells": [
  {
   "cell_type": "markdown",
   "id": "78c29696",
   "metadata": {},
   "source": [
    "# LAB 7 - 1\n",
    "\n",
    "---\n",
    "\n",
    "1. datetime 모듈을 사용하여 오늘의 날짜와 시간을 다음과 같이 출력하여라. 이때 hour 값이 10인 경우 오전 10시, 13이면 오후 1시와 같이 오전/오후 정보를 출력하여라.\n",
    "\n",
    " \n",
    "\n",
    "<span style = \"color : blue\">**실행결과**</span>\n",
    "\n",
    " \n",
    "\n",
    "오늘의 날짜 : 2019년 2월 19일  \n",
    "\n",
    "현재시간 : 오후 6시 50분 11초"
   ]
  },
  {
   "cell_type": "code",
   "execution_count": 1,
   "id": "69589c4d",
   "metadata": {},
   "outputs": [
    {
     "name": "stdout",
     "output_type": "stream",
     "text": [
      "오늘의 날짜 : 2022년 10월 15일\n",
      "현재시간 : 오전 04시 42분 49초\n"
     ]
    }
   ],
   "source": [
    "import datetime as dt\n",
    "\n",
    " \n",
    "\n",
    "today = dt.datetime.now()\n",
    "\n",
    " \n",
    "\n",
    "print(\"오늘의 날짜 :\",today.strftime(\"%Y년 %m월 %d일\"))\n",
    "\n",
    "if today.hour > 12:\n",
    "\n",
    "    print(\"현재시간 : 오후 {}시 {}분 {}초\".format(today.hour % 12, today.minute, today.second))\n",
    "\n",
    "else:\n",
    "\n",
    "    print(\"현재시간 : 오전\", today.strftime(\"%H시 %M분 %S초\"))"
   ]
  }
 ],
 "metadata": {
  "kernelspec": {
   "display_name": "Python 3 (ipykernel)",
   "language": "python",
   "name": "python3"
  },
  "language_info": {
   "codemirror_mode": {
    "name": "ipython",
    "version": 3
   },
   "file_extension": ".py",
   "mimetype": "text/x-python",
   "name": "python",
   "nbconvert_exporter": "python",
   "pygments_lexer": "ipython3",
   "version": "3.9.12"
  }
 },
 "nbformat": 4,
 "nbformat_minor": 5
}
