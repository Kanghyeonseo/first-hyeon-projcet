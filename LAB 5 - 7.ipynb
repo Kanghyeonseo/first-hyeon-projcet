{
 "cells": [
  {
   "cell_type": "markdown",
   "id": "2b4c1764",
   "metadata": {},
   "source": [
    "# LAB 5 - 7\n",
    "___\n",
    "1. range(15) 함수를 사용하여 다음과 같은 리스트를 생성하여라.\n",
    "\n",
    "<span style=\"color: blue\">**실행결과**</span>\n",
    "\n",
    "n_list = [0, 1, 2, 3, 4, 5, 6, 7, 8, 9, 10, 11, 12, 13, 14]\n"
   ]
  },
  {
   "cell_type": "code",
   "execution_count": 2,
   "id": "1787f2e6",
   "metadata": {},
   "outputs": [
    {
     "name": "stdout",
     "output_type": "stream",
     "text": [
      "n_list = [0, 1, 2, 3, 4, 5, 6, 7, 8, 9, 10, 11, 12, 13, 14]\n"
     ]
    }
   ],
   "source": [
    "# range(15) 사용하여 list 만들기\n",
    "n_list = list(range(15))\n",
    "\n",
    "print(\"n_list =\", n_list)"
   ]
  },
  {
   "cell_type": "markdown",
   "id": "f69d5f9c",
   "metadata": {},
   "source": [
    "2. 문제 1번의 n_list로부터 슬라이싱을 수행하여 다음과 같은 리스트를 생성하여라.\n",
    "\n",
    "<span style=\"color: blue\">**실행결과**</span>\n",
    "\n",
    "s_list = [0, 1, 2, 3, 4]  \n",
    "s_list2 = [5, 6, 7, 8, 9 ,10]  \n",
    "s_list3 = [11, 12, 13, 14]  \n",
    "s_list4 = [2, 4, 6, 8, 10]  \n",
    "s_list5 = [10, 9, 8, 7, 6]  \n",
    "s_list6 = [10, 8, 6, 4, 2] "
   ]
  },
  {
   "cell_type": "code",
   "execution_count": 5,
   "id": "035f4137",
   "metadata": {},
   "outputs": [
    {
     "name": "stdout",
     "output_type": "stream",
     "text": [
      "s_list = [0, 1, 2, 3, 4]\n",
      "s_list2 = [5, 6, 7, 8, 9, 10]\n",
      "s_list3 = [11, 12, 13, 14]\n",
      "s_list4 = [2, 4, 6, 8, 10]\n",
      "s_list5 = [10, 9, 8, 7, 6]\n",
      "s_list6 = [10, 8, 6, 4, 2]\n"
     ]
    }
   ],
   "source": [
    "# 위의 n_list 사용\n",
    "print(\"s_list =\", n_list[:5])          # 5 전까지 출력\n",
    "print(\"s_list2 =\", n_list[5:11])       # 5포함 11미포함 10까지 출력\n",
    "print(\"s_list3 =\", n_list[11:])        # 11 이후로 다 출력\n",
    "print(\"s_list4 =\", n_list[2:11:2])     # 2포함 10까지 스텝값 2\n",
    "print(\"s_list5 =\", n_list[10:5:-1])    # 10포함 5미포함 6까지 출력 스텝값 -1\n",
    "print(\"s_list6 =\", n_list[10:0:-2])    # 10부터 0미포함 2까지 출력 스텝값 -2"
   ]
  }
 ],
 "metadata": {
  "kernelspec": {
   "display_name": "Python 3 (ipykernel)",
   "language": "python",
   "name": "python3"
  },
  "language_info": {
   "codemirror_mode": {
    "name": "ipython",
    "version": 3
   },
   "file_extension": ".py",
   "mimetype": "text/x-python",
   "name": "python",
   "nbconvert_exporter": "python",
   "pygments_lexer": "ipython3",
   "version": "3.9.12"
  }
 },
 "nbformat": 4,
 "nbformat_minor": 5
}
