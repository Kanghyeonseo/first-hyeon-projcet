{
 "cells": [
  {
   "cell_type": "markdown",
   "id": "11eab881",
   "metadata": {},
   "source": [
    "# Exercise 2\n",
    "___\n",
    "* 사용자로부터 x, y 좌표를 가진 한 점을 입력으로 받아서 이 점이 1,2,3,4 분면의 어디에 속하는지를 알려주는 프로그램을 작성하시오.\n",
    "\n",
    "<span style=\"color: blue\">**실행결과**</span>\n",
    "\n",
    "점의 좌표 x, y를 입력하시오 : `2 4`  \n",
    "1사분면에 있음\n",
    "\n",
    "<span style=\"color: blue\">**실행결과**</span>\n",
    "\n",
    "점의 좌표 x, y를 입력하시오 : `-2 -4`  \n",
    "4 12 99"
   ]
  },
  {
   "cell_type": "code",
   "execution_count": 1,
   "id": "5ffa426c",
   "metadata": {},
   "outputs": [
    {
     "name": "stdout",
     "output_type": "stream",
     "text": [
      "점의 좌표 x, y를 입력하시오 : 2 4\n",
      "1사분면에 있음\n"
     ]
    }
   ],
   "source": [
    "x, y = map(int, input('점의 좌표 x, y를 입력하시오 : ').split())\n",
    "\n",
    "if x > 0:\n",
    "    if y > 0:\n",
    "        print('1사분면에 있음')                # x > 0, y > 0\n",
    "    else:\n",
    "        print('4사분면에 있음')                # x > 0, y < 0\n",
    "else:\n",
    "    if y > 0:\n",
    "        print('2사분면에 있음')                # x < 0, y > 0\n",
    "    else:\n",
    "        print('3사분면에 있음')                # x < 0, y < 0"
   ]
  },
  {
   "cell_type": "code",
   "execution_count": 2,
   "id": "8633831d",
   "metadata": {},
   "outputs": [
    {
     "name": "stdout",
     "output_type": "stream",
     "text": [
      "점의 좌표 x, y를 입력하시오 : -2 -4\n",
      "3사분면에 있음\n"
     ]
    }
   ],
   "source": [
    "x, y = map(int, input('점의 좌표 x, y를 입력하시오 : ').split())\n",
    "\n",
    "if x > 0:\n",
    "    if y > 0:\n",
    "        print('1사분면에 있음')                \n",
    "    else:\n",
    "        print('4사분면에 있음')                \n",
    "else:\n",
    "    if y > 0:\n",
    "        print('2사분면에 있음')               \n",
    "    else:\n",
    "        print('3사분면에 있음')                "
   ]
  }
 ],
 "metadata": {
  "kernelspec": {
   "display_name": "Python 3 (ipykernel)",
   "language": "python",
   "name": "python3"
  },
  "language_info": {
   "codemirror_mode": {
    "name": "ipython",
    "version": 3
   },
   "file_extension": ".py",
   "mimetype": "text/x-python",
   "name": "python",
   "nbconvert_exporter": "python",
   "pygments_lexer": "ipython3",
   "version": "3.9.12"
  }
 },
 "nbformat": 4,
 "nbformat_minor": 5
}
