{
 "cells": [
  {
   "cell_type": "markdown",
   "id": "8c25af25",
   "metadata": {},
   "source": [
    "# Exercise 4\n",
    "---\n",
    "\n",
    "* 두 정수의 쌍으로 이루어진 (3, 4)와 같은 튜플을 요소로 가지는 리스트 a가 다음과 같이 존재한다. 이 리스트를 크기에 따라서 정렬하여라. a1은 튜플의 첫 번째 요소의 크기에 따라 정렬하고, a2는 튜플의 두 번째 요소의 크기에 따라 정렬하여라\n",
    "\n",
    "a = [(2, 5), (1, 4), (4, 7), (2, 3), (2, 1)]\n",
    "\n",
    "<span style = \"color : blue\">**실행 결과**</span>\n",
    "\n",
    "a1 = [(1, 4), (2, 1), (2, 3), (2, 5), (4, 7)]  \n",
    "a2 = [(2, 1), (2, 3), (1, 4), (2, 5), (4, 7)]"
   ]
  },
  {
   "cell_type": "code",
   "execution_count": 2,
   "id": "e2403449",
   "metadata": {},
   "outputs": [
    {
     "name": "stdout",
     "output_type": "stream",
     "text": [
      "a1 = [(1, 4), (2, 5), (2, 3), (2, 1), (4, 7)]\n",
      "a2 = [(2, 1), (2, 3), (1, 4), (2, 5), (4, 7)]\n"
     ]
    }
   ],
   "source": [
    "a = [(2, 5), (1, 4), (4, 7), (2, 3), (2, 1)]\n",
    "\n",
    "a1 = sorted(a, key = lambda info: info[0])\n",
    "a2 = sorted(a, key = lambda info: info[1])\n",
    "\n",
    "print(\"a1 =\", a1)\n",
    "print(\"a2 =\", a2)"
   ]
  }
 ],
 "metadata": {
  "kernelspec": {
   "display_name": "Python 3 (ipykernel)",
   "language": "python",
   "name": "python3"
  },
  "language_info": {
   "codemirror_mode": {
    "name": "ipython",
    "version": 3
   },
   "file_extension": ".py",
   "mimetype": "text/x-python",
   "name": "python",
   "nbconvert_exporter": "python",
   "pygments_lexer": "ipython3",
   "version": "3.9.12"
  }
 },
 "nbformat": 4,
 "nbformat_minor": 5
}
