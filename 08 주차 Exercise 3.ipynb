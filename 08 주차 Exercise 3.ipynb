{
 "cells": [
  {
   "cell_type": "markdown",
   "id": "d4a41626",
   "metadata": {},
   "source": [
    "# Exercise 3\n",
    "---\n",
    "* Hello Python”이라는 문자열을 파일로 저장하기 위하여 my_hello.txt 라는 파일을 열고 쓰기를 시도하였다. 이때 이 파일이 이미 존재하고 있으며 문제 1번의 읽기 모드 설정 방법을 참고하여 이미 이 파일이 읽기 모드로 설정되어 있다고 가정한다.\n",
    "\n",
    "(1)\t이 상황에서는 어떤 예외가 발생하는지, 실제로 파일을 만들어서 이러한 상황을 테스트하는 프로그램을 작성하여 예외를 출력하여라"
   ]
  },
  {
   "cell_type": "code",
   "execution_count": 4,
   "id": "459f896b",
   "metadata": {},
   "outputs": [
    {
     "ename": "PermissionError",
     "evalue": "[Errno 13] Permission denied: 'my_hello.txt'",
     "output_type": "error",
     "traceback": [
      "\u001b[1;31m---------------------------------------------------------------------------\u001b[0m",
      "\u001b[1;31mPermissionError\u001b[0m                           Traceback (most recent call last)",
      "Input \u001b[1;32mIn [4]\u001b[0m, in \u001b[0;36m<cell line: 1>\u001b[1;34m()\u001b[0m\n\u001b[1;32m----> 1\u001b[0m f \u001b[38;5;241m=\u001b[39m \u001b[38;5;28;43mopen\u001b[39;49m\u001b[43m(\u001b[49m\u001b[38;5;124;43m\"\u001b[39;49m\u001b[38;5;124;43mmy_hello.txt\u001b[39;49m\u001b[38;5;124;43m\"\u001b[39;49m\u001b[43m,\u001b[49m\u001b[43m \u001b[49m\u001b[38;5;124;43m'\u001b[39;49m\u001b[38;5;124;43mw\u001b[39;49m\u001b[38;5;124;43m'\u001b[39;49m\u001b[43m)\u001b[49m\n\u001b[0;32m      3\u001b[0m f\u001b[38;5;241m.\u001b[39mwrite(\u001b[38;5;124m\"\u001b[39m\u001b[38;5;124mHello Python\u001b[39m\u001b[38;5;124m\"\u001b[39m)\n\u001b[0;32m      5\u001b[0m f\u001b[38;5;241m.\u001b[39mclose()\n",
      "\u001b[1;31mPermissionError\u001b[0m: [Errno 13] Permission denied: 'my_hello.txt'"
     ]
    }
   ],
   "source": [
    "f = open(\"my_hello.txt\", 'w')\n",
    "\n",
    "f.write(\"Hello Python\")\n",
    "\n",
    "f.close()\n",
    "\n",
    "# PermissionError가 발생"
   ]
  },
  {
   "cell_type": "markdown",
   "id": "8a625d8c",
   "metadata": {},
   "source": [
    "(2)\t이 예외를 처리하는 try-exception 문을 구현하여라"
   ]
  },
  {
   "cell_type": "code",
   "execution_count": 5,
   "id": "965f74dd",
   "metadata": {},
   "outputs": [
    {
     "name": "stdout",
     "output_type": "stream",
     "text": [
      "ERROR: : PermissionError[errno 13] Permission denied\n"
     ]
    }
   ],
   "source": [
    "try:\n",
    "    f = open(\"my_hello.txt\", 'w')\n",
    "    s = f.read()\n",
    "    print(s)\n",
    "except PermissionError:\n",
    "    print('ERROR: : PermissionError[errno 13] Permission denied')\n",
    "except Exception as e:\n",
    "    print('Error :',e)\n",
    "    \n",
    "\n",
    "f.close()"
   ]
  }
 ],
 "metadata": {
  "kernelspec": {
   "display_name": "Python 3 (ipykernel)",
   "language": "python",
   "name": "python3"
  },
  "language_info": {
   "codemirror_mode": {
    "name": "ipython",
    "version": 3
   },
   "file_extension": ".py",
   "mimetype": "text/x-python",
   "name": "python",
   "nbconvert_exporter": "python",
   "pygments_lexer": "ipython3",
   "version": "3.9.12"
  }
 },
 "nbformat": 4,
 "nbformat_minor": 5
}
