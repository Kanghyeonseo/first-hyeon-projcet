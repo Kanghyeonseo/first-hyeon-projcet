{
 "cells": [
  {
   "cell_type": "markdown",
   "id": "37aea5fc",
   "metadata": {},
   "source": [
    "# Exercise 3\n",
    "___\n",
    "* 사용자로부터 점수를 입력받은 다음 게임 사용자의 게임점수(game_score)가 1000점 이상이면 '고수입니다.' 를 출력하고 1000점 미만이면‘입문자입니다.' 를 출력하는 프로그램을 if-else문을 이용하여 작성하시오\n",
    "\n",
    "<span style=\"color: blue\">**실행결과**</span>\n",
    "\n",
    "게임점수를 입력하시오 : `4222`    \n",
    "고수입니다.\n",
    "\n",
    "<span style=\"color: blue\">**실행결과**</span>\n",
    "\n",
    "게임점수를 입력하시오 : `4`    \n",
    "입문자입니다."
   ]
  },
  {
   "cell_type": "code",
   "execution_count": 1,
   "id": "edc74baa",
   "metadata": {},
   "outputs": [
    {
     "name": "stdout",
     "output_type": "stream",
     "text": [
      "게임점수를 입력하시오 : 4222\n",
      "고수입니다.\n"
     ]
    }
   ],
   "source": [
    "# 게임점수를 score라는 변수로 설정함\n",
    "score = int(input('게임점수를 입력하시오 : '))\n",
    "\n",
    "if score >= 1000:\n",
    "    print('고수입니다.')\n",
    "else:\n",
    "    print('입문자입니다.')"
   ]
  },
  {
   "cell_type": "code",
   "execution_count": 2,
   "id": "759680b2",
   "metadata": {},
   "outputs": [
    {
     "name": "stdout",
     "output_type": "stream",
     "text": [
      "게임점수를 입력하시오 : 4\n",
      "입문자입니다.\n"
     ]
    }
   ],
   "source": [
    "score = int(input('게임점수를 입력하시오 : '))\n",
    "\n",
    "if score >= 1000:\n",
    "    print('고수입니다.')\n",
    "else:\n",
    "    print('입문자입니다.')"
   ]
  }
 ],
 "metadata": {
  "kernelspec": {
   "display_name": "Python 3 (ipykernel)",
   "language": "python",
   "name": "python3"
  },
  "language_info": {
   "codemirror_mode": {
    "name": "ipython",
    "version": 3
   },
   "file_extension": ".py",
   "mimetype": "text/x-python",
   "name": "python",
   "nbconvert_exporter": "python",
   "pygments_lexer": "ipython3",
   "version": "3.9.12"
  }
 },
 "nbformat": 4,
 "nbformat_minor": 5
}
