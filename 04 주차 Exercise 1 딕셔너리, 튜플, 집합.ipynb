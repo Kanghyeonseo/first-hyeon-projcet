{
 "cells": [
  {
   "cell_type": "markdown",
   "id": "2d9b40bc",
   "metadata": {},
   "source": [
    "# Exercise 1\n",
    "___\n",
    "* 튜플 데이터를 이용하면 임시변수를 사용하지 않고 두 변수의 값을 서로 교환(swap)할 수 있다. 이 교환 방법을 이용하여 다음과 같이 주어진 리스트에서 가장 큰 값 12를 제일 마지막으로 옮겨 놓는 프로그램을 작성해 보라.(제약조건: 리스트의 요소를 살펴보기 위해 사용하는 for 문의 인덱스 변수 i를 제외하고는, 주어진 리스트 이외에 다른 어떤 변수도 추가로 사용해서는 안 된다.)\n",
    "\n",
    "<span style=\"color: blue\">**실행결과**</span>\n",
    "\n",
    "before : [5, 6, 3, 9, 2, 12, 3, 8, 7]  \n",
    "after : [5, 6, 3, 9, 2, 3, 8, 7, 12]"
   ]
  },
  {
   "cell_type": "code",
   "execution_count": 10,
   "id": "4acb5796",
   "metadata": {},
   "outputs": [
    {
     "name": "stdout",
     "output_type": "stream",
     "text": [
      "before : [5, 6, 3, 9, 2, 12, 3, 8, 7]\n",
      "after : [5, 6, 3, 9, 2, 3, 8, 7, 12]\n"
     ]
    }
   ],
   "source": [
    "list1 = [5, 6, 3, 9, 2, 12, 3, 8, 7]\n",
    "\n",
    "print(\"before :\", list1)\n",
    "# list1의 최댓값을 max로 찾고 index로 그 때의 인덱스를 구한다, 그리고 언패킹으로 교체\n",
    "for i in range(list1.index(max(list1)), len(list1) - 1):\n",
    "    list1[i], list1[i+1] = list1[i+1], list1[i]\n",
    "print(\"after :\", list1)"
   ]
  }
 ],
 "metadata": {
  "kernelspec": {
   "display_name": "Python 3 (ipykernel)",
   "language": "python",
   "name": "python3"
  },
  "language_info": {
   "codemirror_mode": {
    "name": "ipython",
    "version": 3
   },
   "file_extension": ".py",
   "mimetype": "text/x-python",
   "name": "python",
   "nbconvert_exporter": "python",
   "pygments_lexer": "ipython3",
   "version": "3.9.12"
  }
 },
 "nbformat": 4,
 "nbformat_minor": 5
}
