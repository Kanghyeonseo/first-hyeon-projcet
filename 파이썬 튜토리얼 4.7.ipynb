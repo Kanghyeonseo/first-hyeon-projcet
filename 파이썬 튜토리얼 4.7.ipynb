{
 "cells": [
  {
   "cell_type": "markdown",
   "id": "3ac7d887",
   "metadata": {},
   "source": [
    "### 4.7 Defining Functions"
   ]
  },
  {
   "cell_type": "code",
   "execution_count": 1,
   "id": "53eddb8b",
   "metadata": {},
   "outputs": [
    {
     "name": "stdout",
     "output_type": "stream",
     "text": [
      "0 1 1 2 3 5 8 13 21 34 55 89 144 233 377 610 987 1597 \n"
     ]
    }
   ],
   "source": [
    "# 임의의 수 까지 출력하는 피보나치 수열 함수\n",
    "def fib(n):\n",
    "    a, b = 0, 1\n",
    "    while a < n:\n",
    "        print(a, end = ' ')\n",
    "        a, b = b, a + b\n",
    "    print()\n",
    "\n",
    "fib(2000)"
   ]
  },
  {
   "cell_type": "code",
   "execution_count": 2,
   "id": "0da30c44",
   "metadata": {},
   "outputs": [
    {
     "name": "stdout",
     "output_type": "stream",
     "text": [
      "0 1 1 2 3 5 8 13 21 34 55 89 \n"
     ]
    }
   ],
   "source": [
    "# 이렇게도 가능하다\n",
    "f = fib\n",
    "f(100)"
   ]
  },
  {
   "cell_type": "code",
   "execution_count": 5,
   "id": "bd6e058c",
   "metadata": {},
   "outputs": [
    {
     "name": "stdout",
     "output_type": "stream",
     "text": [
      "[0, 1, 1, 2, 3, 5, 8, 13, 21, 34, 55, 89]\n"
     ]
    }
   ],
   "source": [
    "# 배열로 피보나치 수열 보기\n",
    "def fib2(n):\n",
    "    result = []\n",
    "    a, b = 0, 1\n",
    "    while a < n:\n",
    "        result.append(a)\n",
    "        a, b = b, a + b\n",
    "    return result\n",
    "\n",
    "f100 = fib2(100)\n",
    "print(f100)"
   ]
  }
 ],
 "metadata": {
  "kernelspec": {
   "display_name": "Python 3 (ipykernel)",
   "language": "python",
   "name": "python3"
  },
  "language_info": {
   "codemirror_mode": {
    "name": "ipython",
    "version": 3
   },
   "file_extension": ".py",
   "mimetype": "text/x-python",
   "name": "python",
   "nbconvert_exporter": "python",
   "pygments_lexer": "ipython3",
   "version": "3.9.12"
  }
 },
 "nbformat": 4,
 "nbformat_minor": 5
}
