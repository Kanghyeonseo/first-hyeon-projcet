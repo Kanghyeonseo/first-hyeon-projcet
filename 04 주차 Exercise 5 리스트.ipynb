{
 "cells": [
  {
   "cell_type": "markdown",
   "id": "4a5c0dea",
   "metadata": {},
   "source": [
    "# Exercise 5\n",
    "___\n",
    "* s_list = ['abc', 'bcd', 'bcdefg', 'abba', 'cddc', 'opq']와 같은 문자열을 가진 리스트가 존재한다. 이 리스트에 대하여 다음과 같은 기능을 구현하여라.\n",
    "\n",
    "(1) min() 함수나 sort() 메소드를 사용하지 말고, s_list 내의 문자열 항목 중에서 가장 길이가 짧은 문자열과 가장 길이가 긴 문자열을 출력하여라(길이가 가장 짧거나 긴 문자열이 여러 개 있을 경우 아래 출력과 같이 제일 먼저 나타나는 문자열을 출력하여라).\n",
    "\n",
    "<span style=\"color: blue\">**실행결과**</span>\n",
    "\n",
    "가장 길이가 짧은 문자열 : abc  \n",
    "가장 길이가 긴 문자열 : bcdefg\n"
   ]
  },
  {
   "cell_type": "code",
   "execution_count": 5,
   "id": "bda42b76",
   "metadata": {},
   "outputs": [
    {
     "name": "stdout",
     "output_type": "stream",
     "text": [
      "가장 길이가 짧은 문자열 : abc\n",
      "가장 길이가 긴 문자열 : bcdefg\n"
     ]
    }
   ],
   "source": [
    "# 문자열 리스트\n",
    "s_list = ['abc', 'bcd', 'bcdefg', 'abba', 'cddc', 'opq']\n",
    "\n",
    "min_str = s_list[0]          # 길이가 짧은 문자열\n",
    "max_str = s_list[0]          # 길이가 긴 문자열\n",
    "\n",
    "# 길이가 짧은 문자열 구하기\n",
    "i = 1\n",
    "while i < len(s_list):\n",
    "    if len(s_list[i]) < len(min_str):                 # 리스트의 i번째 문자열이 더 짧다면\n",
    "        min_str = s_list[i]\n",
    "    elif len(s_list[i]) == len(min_str):              # 문자열의 길이가 같을 때\n",
    "            if s_list[i] < min_str:                    # 사전순으로\n",
    "                min_str = s_list[i]\n",
    "    i += 1\n",
    "\n",
    "# 길이가 긴 문자열 구하기\n",
    "i = 1\n",
    "while i < len(s_list):\n",
    "    if len(s_list[i]) > len(max_str):                 # 리스트의 i번째 문자열이 더 길다면\n",
    "        max_str = s_list[i]\n",
    "    elif len(s_list[i]) == len(max_str):\n",
    "            if s_list[i] > max_str:\n",
    "                max_str = s_list[i]\n",
    "    i += 1\n",
    "\n",
    "print(\"가장 길이가 짧은 문자열 :\", min_str)\n",
    "print(\"가장 길이가 긴 문자열 :\", max_str)"
   ]
  },
  {
   "cell_type": "markdown",
   "id": "7c00e968",
   "metadata": {},
   "source": [
    "(2) (1)번 문제에서 ‘abc’, ‘bcd’, ‘opq’의 세 문자열의 길이가 3으로 모두 같다. 이와 같이 문자열의 길이가 같을 경우 다음과 같이 가장 길이가 짧은 문자열 3개를 모두 출력하는 프로그램을 작성하여라. sort(key = len) 함수를 사용하여 길이에 따라 정렬한 후 코드를 작성하여라\n",
    "\n",
    "<span style=\"color: blue\">**실행결과**</span>\n",
    "\n",
    "가장 길이가 짧은 문자열 : 'abc', 'bcd', 'opq'"
   ]
  },
  {
   "cell_type": "code",
   "execution_count": 19,
   "id": "c5b44434",
   "metadata": {},
   "outputs": [
    {
     "name": "stdout",
     "output_type": "stream",
     "text": [
      "가장 길이가 짧은 문자열 : abc bcd opq "
     ]
    }
   ],
   "source": [
    "# 위의 min_str과 s_list를 활용\n",
    "print(\"가장 길이가 짧은 문자열 : \", end ='')\n",
    "\n",
    "i = 0\n",
    "while i < len(s_list):\n",
    "    if len(s_list[i]) == len(min_str):          # 가장 길이가 짧은 문자열과 길이가 같다면 출력\n",
    "        print(s_list[i] ,end = ' ')\n",
    "    i += 1"
   ]
  }
 ],
 "metadata": {
  "kernelspec": {
   "display_name": "Python 3 (ipykernel)",
   "language": "python",
   "name": "python3"
  },
  "language_info": {
   "codemirror_mode": {
    "name": "ipython",
    "version": 3
   },
   "file_extension": ".py",
   "mimetype": "text/x-python",
   "name": "python",
   "nbconvert_exporter": "python",
   "pygments_lexer": "ipython3",
   "version": "3.9.12"
  }
 },
 "nbformat": 4,
 "nbformat_minor": 5
}
