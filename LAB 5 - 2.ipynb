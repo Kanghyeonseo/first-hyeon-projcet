{
 "cells": [
  {
   "cell_type": "markdown",
   "id": "b9696305",
   "metadata": {},
   "source": [
    "# LAB 5 - 2\n",
    "___\n",
    "1. 2부터 10까지의 수중에서 소수를 원소를 가지는 prime_list라는 리스트를 생성하여라. 그리고 이 리스트의 가장 첫 원소를 리스트 인덱싱을 이용하여 다음과 같이 출력하여라.\n",
    "\n",
    "<span style=\"color: blue\">**실행결과**</span>\n",
    "\n",
    "prime_list의 첫 원소 : 2"
   ]
  },
  {
   "cell_type": "code",
   "execution_count": 2,
   "id": "e79b00e9",
   "metadata": {},
   "outputs": [
    {
     "name": "stdout",
     "output_type": "stream",
     "text": [
      "prime_list의 첫 원소 : 2\n"
     ]
    }
   ],
   "source": [
    "# prime_list 생성\n",
    "prime_list = [2, 3, 5, 7]\n",
    "\n",
    "# 인덱싱을 이용해 출력 [0]\n",
    "print(\"prime_list의 첫 원소 :\", prime_list[0])"
   ]
  },
  {
   "cell_type": "markdown",
   "id": "c14f085f",
   "metadata": {},
   "source": [
    "2. 문제 1.의 prime_list의 가장 마지막 원소를 양수 인덱스를 사용하여 출력하여라.\n",
    "\n",
    "<span style=\"color: blue\">**실행결과**</span>\n",
    "\n",
    "prime_list의 마지막 원소 : 7"
   ]
  },
  {
   "cell_type": "code",
   "execution_count": 4,
   "id": "def34bc3",
   "metadata": {},
   "outputs": [
    {
     "name": "stdout",
     "output_type": "stream",
     "text": [
      "prime_list의 마지막 원소 : 7\n"
     ]
    }
   ],
   "source": [
    "# 1번 문제에 이미 선언된 prime_list를 활용하고 양수 인덱스 사용 [3]\n",
    "print(\"prime_list의 마지막 원소 :\", prime_list[3])"
   ]
  },
  {
   "cell_type": "markdown",
   "id": "9c500b7a",
   "metadata": {},
   "source": [
    "3. 문제 1.의 prime_list의 가장 마지막 원소를 음수 인덱스를 사용하여 출력하여라.\n",
    "\n",
    "<span style=\"color: blue\">**실행결과**</span>\n",
    "\n",
    "prime_list의 마지막 원소 : 7"
   ]
  },
  {
   "cell_type": "code",
   "execution_count": 5,
   "id": "8be42e29",
   "metadata": {},
   "outputs": [
    {
     "name": "stdout",
     "output_type": "stream",
     "text": [
      "prime_list의 마지막 원소 : 7\n"
     ]
    }
   ],
   "source": [
    "# prime_list 활용하고 음수 인덱스 사용 [-1]\n",
    "print(\"prime_list의 마지막 원소 :\", prime_list[-1])"
   ]
  },
  {
   "cell_type": "markdown",
   "id": "9d801094",
   "metadata": {},
   "source": [
    "4. 'Korea', 'China', 'Russia', 'Malaysia'를 원소로 가지는 nations라는 리스트를 생성하여라. 그리고 이 리스트의 가장 첫 원소를 print() 함수를 이용하여 출력하여라.\n",
    "\n",
    "<span style=\"color: blue\">**실행결과**</span>\n",
    "\n",
    "nations의 첫 원소 : Korea"
   ]
  },
  {
   "cell_type": "code",
   "execution_count": 6,
   "id": "234a861c",
   "metadata": {},
   "outputs": [
    {
     "name": "stdout",
     "output_type": "stream",
     "text": [
      "nations의 첫 원소 : Korea\n"
     ]
    }
   ],
   "source": [
    "# nations 생성\n",
    "nations = ['Korea', 'China', 'Russia', 'Malaysia']\n",
    "\n",
    "# 출력\n",
    "print(\"nations의 첫 원소 :\", nations[0])"
   ]
  },
  {
   "cell_type": "markdown",
   "id": "5716bb74",
   "metadata": {},
   "source": [
    "5. 4번에서 생성한 nations 리스트의 가장 마지막 원소를 음수 인덱스를 사용하여 출력하여라.\n",
    "\n",
    "<span style=\"color: blue\">**실행결과**</span>\n",
    "\n",
    "nations의 마지막 원소 : Malaysia"
   ]
  },
  {
   "cell_type": "code",
   "execution_count": 8,
   "id": "fd12070c",
   "metadata": {},
   "outputs": [
    {
     "name": "stdout",
     "output_type": "stream",
     "text": [
      "nations의 마지막 원소 : Malaysia\n"
     ]
    }
   ],
   "source": [
    "# 4번 문제의 nations 활용하고 음수 인덱스 사용 [-1]\n",
    "print(\"nations의 마지막 원소 :\", nations[-1])"
   ]
  },
  {
   "cell_type": "markdown",
   "id": "10c38f20",
   "metadata": {},
   "source": [
    "6. 4번에서 생성한 nations 리스트의 가장 마지막 원소를 len(nations) - 1인덱스를 사용하여 출력하여라.\n",
    "\n",
    "<span style=\"color: blue\">**실행결과**</span>\n",
    "\n",
    "nations의 마지막 원소 : Malaysia"
   ]
  },
  {
   "cell_type": "code",
   "execution_count": 10,
   "id": "3bf330f0",
   "metadata": {},
   "outputs": [
    {
     "name": "stdout",
     "output_type": "stream",
     "text": [
      "nations의 마지막 원소 : Malaysia\n"
     ]
    }
   ],
   "source": [
    "# 가장 마지막 인덱스는 원소의 길이 len(nations) 에 - 1 이다. \n",
    "print(\"nations의 마지막 원소 :\", nations[len(nations) - 1])"
   ]
  }
 ],
 "metadata": {
  "kernelspec": {
   "display_name": "Python 3 (ipykernel)",
   "language": "python",
   "name": "python3"
  },
  "language_info": {
   "codemirror_mode": {
    "name": "ipython",
    "version": 3
   },
   "file_extension": ".py",
   "mimetype": "text/x-python",
   "name": "python",
   "nbconvert_exporter": "python",
   "pygments_lexer": "ipython3",
   "version": "3.9.12"
  }
 },
 "nbformat": 4,
 "nbformat_minor": 5
}
