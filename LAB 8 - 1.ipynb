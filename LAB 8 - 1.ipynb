{
 "cells": [
  {
   "cell_type": "markdown",
   "id": "2d488104",
   "metadata": {},
   "source": [
    "# LAB 8 - 1\n",
    "---\n",
    "1. 다음 코드는 각각 어떤 예외를 발생시키는가?\n",
    "\n",
    "<span style = \"color : blue\">**실행결과**</span>\n",
    "\n",
    "```py\n",
    ">>> a = [10, 20, 30]\n",
    ">>> a[3]\n",
    "\n",
    ">>> n = int('20%')\n",
    "\n",
    ">>> a = 100 + '200'\n",
    "```\n",
    "\n",
    "### 1번 : indexError : list index out of range\n",
    "### 2번 : ValueError : invalid literal for int() with base 10: '20%'\n",
    "### 3번 : TypeError : unsupported operand type(s) for +: 'int' and 'str'"
   ]
  },
  {
   "cell_type": "markdown",
   "id": "4287106b",
   "metadata": {},
   "source": [
    "2. 위의 문제 1번 코드를 try - except 문으로 감싸고 Exception e를 출력하여 어떤 출력문이 나오는지 확인하고 적으시오."
   ]
  },
  {
   "cell_type": "code",
   "execution_count": 1,
   "id": "056110d0",
   "metadata": {},
   "outputs": [
    {
     "name": "stdout",
     "output_type": "stream",
     "text": [
      "error list index out of range\n",
      "error invalid literal for int() with base 10: '20%'\n",
      "error unsupported operand type(s) for +: 'int' and 'str'\n"
     ]
    }
   ],
   "source": [
    "try:\n",
    "    a = [10, 20, 30]\n",
    "    a[3]\n",
    "except Exception as e:\n",
    "    print('error', e)\n",
    "    \n",
    "try:\n",
    "    n = int('20%')\n",
    "except Exception as e:\n",
    "    print('error', e)\n",
    "\n",
    "try:\n",
    "    a = (100 + '200')\n",
    "except Exception as e:\n",
    "    print('error', e)"
   ]
  },
  {
   "cell_type": "markdown",
   "id": "918bc61c",
   "metadata": {},
   "source": [
    "### 1번 : indexError : list index out of range\n",
    "### 2번 : ValueError : invalid literal for int() with base 10: '20%'\n",
    "### 3번 : TypeError : unsupported operand type(s) for +: 'int' and 'str'"
   ]
  }
 ],
 "metadata": {
  "kernelspec": {
   "display_name": "Python 3 (ipykernel)",
   "language": "python",
   "name": "python3"
  },
  "language_info": {
   "codemirror_mode": {
    "name": "ipython",
    "version": 3
   },
   "file_extension": ".py",
   "mimetype": "text/x-python",
   "name": "python",
   "nbconvert_exporter": "python",
   "pygments_lexer": "ipython3",
   "version": "3.9.12"
  }
 },
 "nbformat": 4,
 "nbformat_minor": 5
}
