{
 "cells": [
  {
   "cell_type": "markdown",
   "id": "725e5455",
   "metadata": {},
   "source": [
    "# LAB 9 - 2\n",
    "\n",
    "---\n",
    "\n",
    "1. 다음 용어를 정의하여라.\n",
    "\n",
    "```py\n",
    "a) 객체 지향 프로그래밍\n",
    "b) 절차적 프로그래밍\n",
    "c) 그래픽 사용자 인터페이스\n",
    "```\n",
    "\n",
    "#### 답  \n",
    "a)  객체 지향 프로그래밍  \n",
    "프로그램을 짤 때, 프로그램을 실제 세상에 가깝게 모델링 하는 기법 (클래스나 객체)  \n",
    "b) 절차적 프로그래밍  \n",
    "함수나 모듈을 만들어두고 이것들을 문제해결 순서에 맞게 호출하여 수행하는 것. 다양한 그래픽 요소들이 있을 경우 문제를 효과적으로 해결하기 힘들다.  \n",
    "c) 그래픽 사용자 인터페이스  \n",
    "사용자가 편리하게 사용할 수 있도록 입출력 등의 기능을 알기 쉬운 아이콘 따위의 그래픽으로 나타낸 것이다.\n",
    "\n",
    "\n",
    "2. 객체 지향 프로그래밍 기법과 절차적 프로그래밍 기법의 차이점을 기술하여라.\n",
    "\n",
    "#### 답\n",
    "절차지향은 데이터를 중심으로 함수를 구현하고, 이에 반해 객체지향은 기능을 중심으로 메소드를 구현한다."
   ]
  }
 ],
 "metadata": {
  "kernelspec": {
   "display_name": "Python 3 (ipykernel)",
   "language": "python",
   "name": "python3"
  },
  "language_info": {
   "codemirror_mode": {
    "name": "ipython",
    "version": 3
   },
   "file_extension": ".py",
   "mimetype": "text/x-python",
   "name": "python",
   "nbconvert_exporter": "python",
   "pygments_lexer": "ipython3",
   "version": "3.9.12"
  }
 },
 "nbformat": 4,
 "nbformat_minor": 5
}
