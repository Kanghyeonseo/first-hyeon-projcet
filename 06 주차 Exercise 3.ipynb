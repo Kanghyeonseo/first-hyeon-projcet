{
 "cells": [
  {
   "cell_type": "markdown",
   "id": "7a34ad0e",
   "metadata": {},
   "source": [
    "# Exercise 3\n",
    "___\n",
    "* 쉼표 단위로 구분된 정수를 임의의 수만큼 입력받은 후 이 숫자들을 오름차순으로 정렬하여 출력하시오.\n",
    "\n",
    "<span style=\"color: blue\">**실행결과**</span>\n",
    "\n",
    "쉼표로 구분된 정수를 여러 개 입력하시오 : 56,67,89,34,24,300,99  \n",
    "입력된 정수의 리스트 : [56, 67, 89, 34, 24, 300, 99]  \n",
    "정렬된 정수의 리스트 : 24, 34, 56, 67, 89, 99, 300"
   ]
  },
  {
   "cell_type": "code",
   "execution_count": 3,
   "id": "6bee30c9",
   "metadata": {},
   "outputs": [
    {
     "name": "stdout",
     "output_type": "stream",
     "text": [
      "쉼표로 구분된 정수를 여러 개 입력하시오 : 56,67,89,34,24,300,99\n",
      "입력된 정수의 리스트 : [56, 67, 89, 34, 24, 300, 99]\n",
      "정렬된 정수의 리스트 : 24 34 56 67 89 99 300 "
     ]
    }
   ],
   "source": [
    "# 먼저 여러 개의 정수를 문자열로 입력 받는다.\n",
    "s = input(\"쉼표로 구분된 정수를 여러 개 입력하시오 : \")\n",
    "\n",
    "nums = s.split(',')           # 공백을 기준으로 나눠준다.\n",
    "nums = list(map(int, nums))   # 나눈 문자들을 숫자로 바꿔준다.\n",
    "print(\"입력된 정수의 리스트 :\", nums)\n",
    "\n",
    "nums = sorted(nums)                  # 오름차순으로 정렬\n",
    "\n",
    "print(\"정렬된 정수의 리스트 : \", end = '')\n",
    "for i in nums:\n",
    "    print(i, end =' ')"
   ]
  }
 ],
 "metadata": {
  "kernelspec": {
   "display_name": "Python 3 (ipykernel)",
   "language": "python",
   "name": "python3"
  },
  "language_info": {
   "codemirror_mode": {
    "name": "ipython",
    "version": 3
   },
   "file_extension": ".py",
   "mimetype": "text/x-python",
   "name": "python",
   "nbconvert_exporter": "python",
   "pygments_lexer": "ipython3",
   "version": "3.9.12"
  }
 },
 "nbformat": 4,
 "nbformat_minor": 5
}
