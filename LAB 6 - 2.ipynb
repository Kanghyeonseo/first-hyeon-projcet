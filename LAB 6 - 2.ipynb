{
 "cells": [
  {
   "cell_type": "markdown",
   "id": "28a99d56",
   "metadata": {},
   "source": [
    "# LAB 6 - 2\n",
    "___\n",
    "1. person 딕셔너리에 다음과 같이 '특기' 키와, '분신술' 값을 가지는 새로운 항목을 추가하시오.\n",
    "\n",
    "<span style=\"color: blue\">**실행결과**</span>\n",
    "\n",
    "{'이름': '홍길동', '나이': 26, '몸무게' : 82, '특기': '분신술'} "
   ]
  },
  {
   "cell_type": "code",
   "execution_count": 1,
   "id": "7fcc32da",
   "metadata": {},
   "outputs": [
    {
     "name": "stdout",
     "output_type": "stream",
     "text": [
      "{'이름': '홍길동', '나이': 26, '몸무게': 82, '특기': '분신술'}\n"
     ]
    }
   ],
   "source": [
    "# 딕셔너리 생성\n",
    "person = {'이름': '홍길동', '나이': 26, '몸무게' : 82}\n",
    "\n",
    "# 딕셔너리 추가\n",
    "person['특기'] = '분신술'\n",
    "\n",
    "print(person)"
   ]
  },
  {
   "cell_type": "markdown",
   "id": "9b6c62ed",
   "metadata": {},
   "source": [
    "2. person 딕셔너리에 다음과 같이 '아버지' 키와 '홍판서' 값을 가지는 새로운 항목을 추가하시오.\n",
    "\n",
    "{'이름': '홍길동', '나이': 26, '몸무게' : 82, '특기': '분신술', '아버지': '홍판서'}"
   ]
  },
  {
   "cell_type": "code",
   "execution_count": 3,
   "id": "333f07ed",
   "metadata": {},
   "outputs": [
    {
     "name": "stdout",
     "output_type": "stream",
     "text": [
      "{'이름': '홍길동', '나이': 26, '몸무게': 82, '특기': '분신술', '아버지': '홍판서'}\n"
     ]
    }
   ],
   "source": [
    "# 위의 person 딕셔너리 이용\n",
    "# 딕셔너리 추가\n",
    "person['아버지'] = '홍판서'\n",
    "\n",
    "print(person)"
   ]
  },
  {
   "cell_type": "markdown",
   "id": "7b264c45",
   "metadata": {},
   "source": [
    "3. 2번 문제의 person 딕셔너리에 대해 '나이'를 키로 가지는 항목을 삭제하여 다음과 같은 딕셔너리로 갱신하시오.\n",
    "\n",
    "{'이름': '홍길동', '몸무게' : 82, '특기': '분신술', '아버지': '홍판서'}"
   ]
  },
  {
   "cell_type": "code",
   "execution_count": 4,
   "id": "30882506",
   "metadata": {},
   "outputs": [
    {
     "name": "stdout",
     "output_type": "stream",
     "text": [
      "{'이름': '홍길동', '몸무게': 82, '특기': '분신술', '아버지': '홍판서'}\n"
     ]
    }
   ],
   "source": [
    "# 딕셔너리 삭제\n",
    "del person['나이']\n",
    "\n",
    "print(person)"
   ]
  }
 ],
 "metadata": {
  "kernelspec": {
   "display_name": "Python 3 (ipykernel)",
   "language": "python",
   "name": "python3"
  },
  "language_info": {
   "codemirror_mode": {
    "name": "ipython",
    "version": 3
   },
   "file_extension": ".py",
   "mimetype": "text/x-python",
   "name": "python",
   "nbconvert_exporter": "python",
   "pygments_lexer": "ipython3",
   "version": "3.9.12"
  }
 },
 "nbformat": 4,
 "nbformat_minor": 5
}
