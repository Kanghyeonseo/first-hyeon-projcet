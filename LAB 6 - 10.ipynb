{
 "cells": [
  {
   "cell_type": "markdown",
   "id": "86e4acf5",
   "metadata": {},
   "source": [
    "# LAB 6 - 10\n",
    "___\n",
    "* 다음 두 집합이 있을 경우 이 집합에 대한 연산결과는 무엇인가?\n",
    "\n",
    "```\n",
    "s1 = {10, 20, 30, 40}\n",
    "s2 = {30, 40, 50, 60, 70}\n",
    "```\n",
    "\n",
    "1) s1 | s2  \n",
    "2) s1 & s2  \n",
    "3) s1 - s2  \n",
    "4) s1 ^ s2  \n",
    "5) s1.issubset(s2)  \n",
    "6) s1.issuperset(s2)  \n",
    "7) s1.isdisjoint(s2)  "
   ]
  },
  {
   "cell_type": "code",
   "execution_count": 2,
   "id": "3be206a2",
   "metadata": {},
   "outputs": [
    {
     "name": "stdout",
     "output_type": "stream",
     "text": [
      "1) {70, 40, 10, 50, 20, 60, 30}\n",
      "2) {40, 30}\n",
      "3) {10, 20}\n",
      "4) {50, 20, 70, 10, 60}\n",
      "5) False\n",
      "6) False\n",
      "7) False\n"
     ]
    }
   ],
   "source": [
    "# 두 집합 설정\n",
    "s1 = {10, 20, 30, 40}\n",
    "s2 = {30, 40, 50, 60, 70}\n",
    "\n",
    "print(\"1)\", s1 | s2)              # 합집함\n",
    "print(\"2)\", s1 & s2)              # 교집합\n",
    "print(\"3)\", s1 - s2)              # 차집합\n",
    "print(\"4)\", s1 ^ s2)              # 대칭 차집합\n",
    "print(\"5)\", s1.issubset(s2))      # s2의 부분 집합인가\n",
    "print(\"6)\", s1.issuperset(s2))    # s2의 상위 집합인가\n",
    "print(\"7)\", s1.isdisjoint(s2))    # s2와 서로소인가"
   ]
  }
 ],
 "metadata": {
  "kernelspec": {
   "display_name": "Python 3 (ipykernel)",
   "language": "python",
   "name": "python3"
  },
  "language_info": {
   "codemirror_mode": {
    "name": "ipython",
    "version": 3
   },
   "file_extension": ".py",
   "mimetype": "text/x-python",
   "name": "python",
   "nbconvert_exporter": "python",
   "pygments_lexer": "ipython3",
   "version": "3.9.12"
  }
 },
 "nbformat": 4,
 "nbformat_minor": 5
}
