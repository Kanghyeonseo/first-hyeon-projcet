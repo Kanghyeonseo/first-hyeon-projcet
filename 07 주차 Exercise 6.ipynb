{
 "cells": [
  {
   "cell_type": "markdown",
   "id": "db89b9b3",
   "metadata": {},
   "source": [
    "# Exercise 6\n",
    "___\n",
    "* 춘향이와 몽룡이는 2019년 2월 24일 발렌타인데이에 연애를 시작했다. 오늘은 두사람의 연애 시작일로부터 며칠이 경과하였는가? Datetime 모듈을 사용하고 오늘날짜 date.today()를 통해 받아와서 오늘날짜, 연애를 시작한 날짜와 경과한 날짜, 기념일을 다음과 같이 출력하여라.\n",
    "\n",
    "<span style=\"color: blue\">**실행결과**</span>\n",
    "\n",
    "오늘은 2022년 10월 13일입니다.  \n",
    "춘향이와 몽룡이의 연애 시작일 : 2019년 2월 24일  \n",
    "연애 시작일로부터 경과한 날짜 : 1327일  \n",
    "100일 기념일 : 2023년 1월 21일  \n",
    "200일 기념일 : 2023년 5월 1일  \n",
    "500일 기념일 : 2024년 2월 25일  \n",
    "1000일 기념일 : 2025년 7월 9일"
   ]
  },
  {
   "cell_type": "code",
   "execution_count": 4,
   "id": "95ccae14",
   "metadata": {},
   "outputs": [
    {
     "name": "stdout",
     "output_type": "stream",
     "text": [
      "오늘은 2022년 10월 15일입니다.\n",
      "춘향이와 몽룡이의 연애 시작일 : 2019년 02월 24일입니다.\n",
      "연애 시작일로부터 경과한 날짜 : 1329일\n",
      "100일 기념일 : 2019년 06월 03일입니다.\n",
      "200일 기념일 : 2019년 09월 11일입니다.\n",
      "500일 기념일 : 2020년 07월 07일입니다.\n",
      "1000일 기념일 : 2021년 11월 19일\n"
     ]
    }
   ],
   "source": [
    "import datetime as dt\n",
    "\n",
    "today = dt.datetime.now()              # 오늘 날짜\n",
    "begin_date = dt.datetime(2019, 2, 24)  # 연애 시작 날짜\n",
    "begin_to_today = today - begin_date    # 연애시작 ~ 오늘 날짜 차이\n",
    "plus100day = begin_date + dt.timedelta(days = 99)    # begin_date + 99 = 100\n",
    "plus200day = begin_date + dt.timedelta(days = 199)  # begin_date + 199 = 200\n",
    "plus500day = begin_date + dt.timedelta(days = 499)  # begin_date + 499 = 500\n",
    "plus1000day = begin_date + dt.timedelta(days = 999)  # begin_date + 999 = 1000\n",
    "\n",
    "print(\"오늘은\", today.strftime(\"%Y년 %m월 %d일입니다.\"))\n",
    "print(\"춘향이와 몽룡이의 연애 시작일 :\", begin_date.strftime(\"%Y년 %m월 %d일입니다.\"))\n",
    "print(\"연애 시작일로부터 경과한 날짜 : {}일\".format(begin_to_today.days))\n",
    "print(\"100일 기념일 :\", plus100day.strftime(\"%Y년 %m월 %d일입니다.\"))\n",
    "print(\"200일 기념일 :\", plus200day.strftime(\"%Y년 %m월 %d일입니다.\"))\n",
    "print(\"500일 기념일 :\", plus500day.strftime(\"%Y년 %m월 %d일입니다.\"))\n",
    "print(\"1000일 기념일 : {}년 {}월 {}일\".format(plus1000day.year, plus1000day.month, plus1000day.day))"
   ]
  }
 ],
 "metadata": {
  "kernelspec": {
   "display_name": "Python 3 (ipykernel)",
   "language": "python",
   "name": "python3"
  },
  "language_info": {
   "codemirror_mode": {
    "name": "ipython",
    "version": 3
   },
   "file_extension": ".py",
   "mimetype": "text/x-python",
   "name": "python",
   "nbconvert_exporter": "python",
   "pygments_lexer": "ipython3",
   "version": "3.9.12"
  }
 },
 "nbformat": 4,
 "nbformat_minor": 5
}
