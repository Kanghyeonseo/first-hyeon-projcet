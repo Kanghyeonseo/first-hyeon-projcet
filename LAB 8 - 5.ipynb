{
 "cells": [
  {
   "cell_type": "markdown",
   "id": "2990f503",
   "metadata": {},
   "source": [
    "# LAB 8 - 5\n",
    "---\n",
    "1. 다음과 같은 내용을 가지는 numbers.txt 파일을 파이썬의 read() 메소드를 이용하여 출력하시오(힌트 : f.readline().rstrip()을 사용하여라).\n",
    "\n",
    "<span style = \"color : blue\">**실행결과**</span>\n",
    "\n",
    "100  \n",
    "200  \n",
    "300  \n",
    "400  "
   ]
  },
  {
   "cell_type": "code",
   "execution_count": 1,
   "id": "df688839",
   "metadata": {},
   "outputs": [
    {
     "name": "stdout",
     "output_type": "stream",
     "text": [
      "100\n",
      "200\n",
      "300\n",
      "400\n"
     ]
    }
   ],
   "source": [
    "f = open('numbers.txt', 'r')\n",
    "s = f.readline().rstrip()\n",
    "print(s)\n",
    "s = f.readline().rstrip()\n",
    "print(s)\n",
    "s = f.readline().rstrip()\n",
    "print(s)\n",
    "s = f.readline().rstrip()\n",
    "print(s)\n",
    "f.close()"
   ]
  },
  {
   "cell_type": "markdown",
   "id": "15afbf83",
   "metadata": {},
   "source": [
    "2. 다음과 같은 내용을 가지는 we_will_rock.txt 파일을 파이썬의 read() 메소드를 이용하여 출력하여라.(힌트 : f.readline().rstrip()을 사용하여라)\n",
    "\n",
    "<span style = \"color : blue\">**실행결과**</span>\n",
    "\n",
    "Buddy, you're a boy, make a big noise  \n",
    "Playing in the street, gonna be a big man someday  \n",
    "You got mud on your face, you big disgrace  \n",
    "Kicking your can all over the place, singin'  \n",
    "We will, we will rock you  \n",
    "We will, we will rock you"
   ]
  },
  {
   "cell_type": "code",
   "execution_count": 3,
   "id": "0c96519d",
   "metadata": {},
   "outputs": [
    {
     "name": "stdout",
     "output_type": "stream",
     "text": [
      "Buddy, you're a boy, make a big noise\n",
      "Playing in the street, gonna be a big man someday\n",
      "You got mud on your face, you big disgrace\n",
      "Kicking your can all over the place, singin'\n",
      "We will, we will rock you\n",
      "We will, we will rock you\n"
     ]
    }
   ],
   "source": [
    "f = open('we_will_rock.txt', 'r')\n",
    "s = f.readline().rstrip()\n",
    "print(s)\n",
    "s = f.readline().rstrip()\n",
    "print(s)\n",
    "s = f.readline().rstrip()\n",
    "print(s)\n",
    "s = f.readline().rstrip()\n",
    "print(s)\n",
    "s = f.readline().rstrip()\n",
    "print(s)\n",
    "s = f.readline().rstrip()\n",
    "print(s)\n",
    "f.close()"
   ]
  }
 ],
 "metadata": {
  "kernelspec": {
   "display_name": "Python 3 (ipykernel)",
   "language": "python",
   "name": "python3"
  },
  "language_info": {
   "codemirror_mode": {
    "name": "ipython",
    "version": 3
   },
   "file_extension": ".py",
   "mimetype": "text/x-python",
   "name": "python",
   "nbconvert_exporter": "python",
   "pygments_lexer": "ipython3",
   "version": "3.9.12"
  }
 },
 "nbformat": 4,
 "nbformat_minor": 5
}
