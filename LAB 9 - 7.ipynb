{
 "cells": [
  {
   "cell_type": "markdown",
   "id": "f0fb869e",
   "metadata": {},
   "source": [
    "# LAB 9 - 7\n",
    "\n",
    "---\n",
    "\n",
    "1. 다음 코드의 수행 결과는 무엇인가? 결과를 적고 그 이유를 설명하여라.\n",
    "\n",
    "```py\n",
    "n = 100\n",
    "m = 100\n",
    "if n is m:\n",
    "\tprint('n is m')\n",
    "else:\n",
    "\tprint('n is not m')\n",
    "```"
   ]
  },
  {
   "cell_type": "code",
   "execution_count": 2,
   "id": "a97a449b",
   "metadata": {},
   "outputs": [
    {
     "name": "stdout",
     "output_type": "stream",
     "text": [
      "n is m\n"
     ]
    }
   ],
   "source": [
    "n = 100\n",
    "m = 100\n",
    "if n is m :\n",
    "    print('n is m')\n",
    "else:\n",
    "    print('n is not m')\n"
   ]
  },
  {
   "cell_type": "markdown",
   "id": "f004708f",
   "metadata": {},
   "source": [
    "#### 이유 : n과 m이 같은 메모리에 있는 100을 참조하기 때문이다."
   ]
  }
 ],
 "metadata": {
  "kernelspec": {
   "display_name": "Python 3 (ipykernel)",
   "language": "python",
   "name": "python3"
  },
  "language_info": {
   "codemirror_mode": {
    "name": "ipython",
    "version": 3
   },
   "file_extension": ".py",
   "mimetype": "text/x-python",
   "name": "python",
   "nbconvert_exporter": "python",
   "pygments_lexer": "ipython3",
   "version": "3.9.12"
  }
 },
 "nbformat": 4,
 "nbformat_minor": 5
}
