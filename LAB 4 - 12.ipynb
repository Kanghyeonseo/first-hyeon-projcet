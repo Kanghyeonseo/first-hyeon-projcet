{
 "cells": [
  {
   "cell_type": "markdown",
   "id": "4fa185b1",
   "metadata": {},
   "source": [
    "# LAB 4 - 12\n",
    "___\n",
    "1. join() 메소드를 사용하여 'ABCD'의 문자열을 'A_B_C_D'와 같이 출력하여라. "
   ]
  },
  {
   "cell_type": "code",
   "execution_count": 1,
   "id": "a48beb7c",
   "metadata": {},
   "outputs": [
    {
     "data": {
      "text/plain": [
       "'A_B_C_D'"
      ]
     },
     "execution_count": 1,
     "metadata": {},
     "output_type": "execute_result"
    }
   ],
   "source": [
    "'_'.join(\"ABCD\")"
   ]
  },
  {
   "cell_type": "markdown",
   "id": "00b2da99",
   "metadata": {},
   "source": [
    "2. 'My favorite thing is monsters.'라는 문자열 s에 replace() 메소드를 적용하여 'My favorite thing is cartoons.'로 수정된 t 문자열을 얻도록 하여라."
   ]
  },
  {
   "cell_type": "code",
   "execution_count": 2,
   "id": "14f5330a",
   "metadata": {},
   "outputs": [
    {
     "name": "stdout",
     "output_type": "stream",
     "text": [
      "My favorite thing is cartoons.\n"
     ]
    }
   ],
   "source": [
    "s = 'My favorite thing is monsters.'\n",
    "\n",
    "# 수정해서 문자열 t에 저장\n",
    "t = s.replace('monsters', 'cartoons')\n",
    "\n",
    "print(t)"
   ]
  }
 ],
 "metadata": {
  "kernelspec": {
   "display_name": "Python 3 (ipykernel)",
   "language": "python",
   "name": "python3"
  },
  "language_info": {
   "codemirror_mode": {
    "name": "ipython",
    "version": 3
   },
   "file_extension": ".py",
   "mimetype": "text/x-python",
   "name": "python",
   "nbconvert_exporter": "python",
   "pygments_lexer": "ipython3",
   "version": "3.9.12"
  }
 },
 "nbformat": 4,
 "nbformat_minor": 5
}
