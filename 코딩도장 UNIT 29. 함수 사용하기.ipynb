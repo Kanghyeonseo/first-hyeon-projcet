{
 "cells": [
  {
   "cell_type": "markdown",
   "id": "16d5f2f3",
   "metadata": {},
   "source": [
    "### 29.1 Hello, world! 출력 함수 만들기\n"
   ]
  },
  {
   "cell_type": "code",
   "execution_count": 1,
   "id": "ffb8317f",
   "metadata": {},
   "outputs": [
    {
     "name": "stdout",
     "output_type": "stream",
     "text": [
      "Hello, world!\n"
     ]
    }
   ],
   "source": [
    "def hello():\n",
    "    print(\"Hello, world!\")\n",
    "    \n",
    "hello()"
   ]
  },
  {
   "cell_type": "markdown",
   "id": "de9d4f18",
   "metadata": {},
   "source": [
    "* 파이썬 스크립트에서 함수의 실행 순서\n",
    "1. 파이썬 스크립트 최초 실행  \n",
    "2. hello 함수 호출  \n",
    "3. hello 함수 실행  \n",
    "4. print 함수 실행 및 'Hello, world!' 출력  \n",
    "5. hello 함수 종료  \n",
    "6. 파이썬 스크립트 종료\n",
    "\n",
    "* 주의할 점 - 함수를 먼저 만든 후에 함수를 호출할 수 있다.\n",
    "\n",
    "\n",
    "* 빈 함수 만들기 - 코드 부분에 pass 넣기\n",
    "```py\n",
    "def hello():\n",
    "    pass\n",
    "```\n",
    "pass는 아무 일을 하지 않아도 함수의 틀을 유지할 필요가 있을 때 사용"
   ]
  },
  {
   "cell_type": "markdown",
   "id": "13459f2a",
   "metadata": {},
   "source": [
    "### 29.2  덧셈 함수 만들기\n",
    "\n"
   ]
  },
  {
   "cell_type": "code",
   "execution_count": 2,
   "id": "c5413940",
   "metadata": {},
   "outputs": [
    {
     "name": "stdout",
     "output_type": "stream",
     "text": [
      "30\n"
     ]
    }
   ],
   "source": [
    "def add(a, b):          # a, b는 매개변수(parameter)\n",
    "    print(a + b)\n",
    "    \n",
    "add(10, 20)             # 10, 20은 인수(argument)"
   ]
  },
  {
   "cell_type": "markdown",
   "id": "dc143ad5",
   "metadata": {},
   "source": [
    "### 29.3 함수의 결과를 반환하기\n",
    "\n",
    "```py\n",
    "def 함수이름(매개변수):             # return으로 반환\n",
    "    return 반환값\n",
    "```"
   ]
  },
  {
   "cell_type": "code",
   "execution_count": 4,
   "id": "96fe3b27",
   "metadata": {},
   "outputs": [
    {
     "name": "stdout",
     "output_type": "stream",
     "text": [
      "30\n"
     ]
    }
   ],
   "source": [
    "def add(a, b):\n",
    "    return a + b\n",
    "\n",
    "x = add(10, 20)\n",
    "print(x)"
   ]
  },
  {
   "cell_type": "markdown",
   "id": "5e545368",
   "metadata": {},
   "source": [
    "* return으로 함수 중간에서 빠져나오기"
   ]
  },
  {
   "cell_type": "code",
   "execution_count": 5,
   "id": "28271d63",
   "metadata": {},
   "outputs": [
    {
     "name": "stdout",
     "output_type": "stream",
     "text": [
      "5입니다.\n"
     ]
    }
   ],
   "source": [
    "def not_ten(a):\n",
    "    if a == 10:\n",
    "        return\n",
    "    print(a, '입니다.', sep = '')\n",
    "\n",
    "not_ten(5)\n",
    "not_ten(10)"
   ]
  },
  {
   "cell_type": "markdown",
   "id": "71e50c7e",
   "metadata": {},
   "source": [
    "not_ten 함수에 5를 넣으면 5입니다를 출력하지만 10을 넣으면 return으로 함수 중간에 빠져나오므로 출력이 없다.\n",
    "보통 if와 조합해서 특정 조건일 때 함수 중간에서 빠져나오는 것으로 사용"
   ]
  },
  {
   "cell_type": "markdown",
   "id": "3b47c92e",
   "metadata": {},
   "source": [
    "### 29.4 함수에서 값을 여러 개 반환하기\n",
    "\n",
    "* 함수에서 값을 여러 개 반환할 때는 return에 값이나 변수를 ,(콤마)로 구분해서 지정"
   ]
  },
  {
   "cell_type": "code",
   "execution_count": 8,
   "id": "611b65d7",
   "metadata": {},
   "outputs": [
    {
     "name": "stdout",
     "output_type": "stream",
     "text": [
      "x = 30 y = -10\n"
     ]
    }
   ],
   "source": [
    "def add_sub(a, b):\n",
    "    return a + b, a - b\n",
    "\n",
    "x, y = add_sub(10, 20)\n",
    "print('x =', x, 'y =', y)"
   ]
  },
  {
   "cell_type": "markdown",
   "id": "4cf838e6",
   "metadata": {},
   "source": [
    "* 실제로는 튜플이 반환되고 튜플의 언패킹을 활용한 것"
   ]
  },
  {
   "cell_type": "markdown",
   "id": "484d8008",
   "metadata": {},
   "source": [
    "### 연습 문제 : 몫과 나머지를 구하는 함수 만들기"
   ]
  },
  {
   "cell_type": "code",
   "execution_count": 9,
   "id": "81e94f76",
   "metadata": {},
   "outputs": [
    {
     "name": "stdout",
     "output_type": "stream",
     "text": [
      "몫: 3, 나머지: 1\n"
     ]
    }
   ],
   "source": [
    "x = 10\n",
    "y = 3\n",
    "\n",
    "def get_quotient_remainder(x, y):\n",
    "    return x // y, x % y\n",
    "\n",
    "quotient, remainder = get_quotient_remainder(x, y)\n",
    "print('몫: {0}, 나머지: {1}'.format(quotient, remainder))"
   ]
  }
 ],
 "metadata": {
  "kernelspec": {
   "display_name": "Python 3 (ipykernel)",
   "language": "python",
   "name": "python3"
  },
  "language_info": {
   "codemirror_mode": {
    "name": "ipython",
    "version": 3
   },
   "file_extension": ".py",
   "mimetype": "text/x-python",
   "name": "python",
   "nbconvert_exporter": "python",
   "pygments_lexer": "ipython3",
   "version": "3.9.12"
  }
 },
 "nbformat": 4,
 "nbformat_minor": 5
}
