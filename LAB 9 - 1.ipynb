{
 "cells": [
  {
   "cell_type": "markdown",
   "id": "a4fc5363",
   "metadata": {},
   "source": [
    "# LAB 9 - 1\n",
    "\n",
    "---\n",
    "\n",
    "1. 다음 메소드 호출의 결과는 무엇인가?\n",
    "\n",
    "```py\n",
    ">>> (200).__sub__(100)  \n",
    "(a)  \n",
    ">>> (200).__mul__(100)  \n",
    "(b)  \n",
    ">>> (200).__truediv__(100)  \n",
    "(c)  \n",
    "```"
   ]
  },
  {
   "cell_type": "code",
   "execution_count": 1,
   "id": "fe8eb113",
   "metadata": {},
   "outputs": [
    {
     "name": "stdout",
     "output_type": "stream",
     "text": [
      "(a) = 100\n",
      "(b) = 20000\n",
      "(c) = 2.0\n"
     ]
    }
   ],
   "source": [
    "# (a)\n",
    "print(\"(a) =\", (200).__sub__(100))\n",
    "# (b)\n",
    "print(\"(b) =\", (200).__mul__(100))\n",
    "# (c)\n",
    "print(\"(c) =\", (200).__truediv__(100))\n"
   ]
  },
  {
   "cell_type": "markdown",
   "id": "3b2aa408",
   "metadata": {},
   "source": [
    "2. 다음 메소드 호출의 결과는 무엇인가?\n",
    "\n",
    "```py\n",
    ">>> [10, 20, 30, 40].pop()  \n",
    "a)\n",
    "```"
   ]
  },
  {
   "cell_type": "code",
   "execution_count": 2,
   "id": "2d261d43",
   "metadata": {},
   "outputs": [
    {
     "name": "stdout",
     "output_type": "stream",
     "text": [
      "a) 40\n"
     ]
    }
   ],
   "source": [
    "print(\"a)\", [10,20,30,40].pop())"
   ]
  },
  {
   "cell_type": "markdown",
   "id": "97ae2478",
   "metadata": {},
   "source": [
    "3. 다음 중 리스트 객체가 호출할 수 없는 메소드는 무엇인가?  \n",
    "1) pop()&nbsp;&nbsp;2) keys()&nbsp;&nbsp;3) remove()&nbsp;&nbsp; 4) get()\n",
    "\n",
    "##### 답 : 2) keys()와 4) gets()는 리스트가 아니라 딕셔너리에서 호출할 수 있는 메소드이다.\n"
   ]
  },
  {
   "cell_type": "markdown",
   "id": "2703e3f6",
   "metadata": {},
   "source": [
    "4. 다음과 같은 방법으로 int 클래스의 메소드와 속성을 조사하여라.\n",
    "\n",
    "```py\n",
    ">>> dir(int)\n",
    "```"
   ]
  },
  {
   "cell_type": "code",
   "execution_count": 3,
   "id": "29576ddc",
   "metadata": {},
   "outputs": [
    {
     "data": {
      "text/plain": [
       "['__abs__',\n",
       " '__add__',\n",
       " '__and__',\n",
       " '__bool__',\n",
       " '__ceil__',\n",
       " '__class__',\n",
       " '__delattr__',\n",
       " '__dir__',\n",
       " '__divmod__',\n",
       " '__doc__',\n",
       " '__eq__',\n",
       " '__float__',\n",
       " '__floor__',\n",
       " '__floordiv__',\n",
       " '__format__',\n",
       " '__ge__',\n",
       " '__getattribute__',\n",
       " '__getnewargs__',\n",
       " '__gt__',\n",
       " '__hash__',\n",
       " '__index__',\n",
       " '__init__',\n",
       " '__init_subclass__',\n",
       " '__int__',\n",
       " '__invert__',\n",
       " '__le__',\n",
       " '__lshift__',\n",
       " '__lt__',\n",
       " '__mod__',\n",
       " '__mul__',\n",
       " '__ne__',\n",
       " '__neg__',\n",
       " '__new__',\n",
       " '__or__',\n",
       " '__pos__',\n",
       " '__pow__',\n",
       " '__radd__',\n",
       " '__rand__',\n",
       " '__rdivmod__',\n",
       " '__reduce__',\n",
       " '__reduce_ex__',\n",
       " '__repr__',\n",
       " '__rfloordiv__',\n",
       " '__rlshift__',\n",
       " '__rmod__',\n",
       " '__rmul__',\n",
       " '__ror__',\n",
       " '__round__',\n",
       " '__rpow__',\n",
       " '__rrshift__',\n",
       " '__rshift__',\n",
       " '__rsub__',\n",
       " '__rtruediv__',\n",
       " '__rxor__',\n",
       " '__setattr__',\n",
       " '__sizeof__',\n",
       " '__str__',\n",
       " '__sub__',\n",
       " '__subclasshook__',\n",
       " '__truediv__',\n",
       " '__trunc__',\n",
       " '__xor__',\n",
       " 'as_integer_ratio',\n",
       " 'bit_length',\n",
       " 'conjugate',\n",
       " 'denominator',\n",
       " 'from_bytes',\n",
       " 'imag',\n",
       " 'numerator',\n",
       " 'real',\n",
       " 'to_bytes']"
      ]
     },
     "execution_count": 3,
     "metadata": {},
     "output_type": "execute_result"
    }
   ],
   "source": [
    "dir(int)\n"
   ]
  },
  {
   "cell_type": "markdown",
   "id": "02abe26c",
   "metadata": {},
   "source": [
    "5. 다음과 같은 방법으로 list 클래스의 메소드와 속성을 조사하여라.\n",
    "\n",
    "\n",
    "```py\n",
    ">>> dir(list)\n",
    "```"
   ]
  },
  {
   "cell_type": "code",
   "execution_count": 4,
   "id": "e3ce732c",
   "metadata": {},
   "outputs": [
    {
     "data": {
      "text/plain": [
       "['__add__',\n",
       " '__class__',\n",
       " '__class_getitem__',\n",
       " '__contains__',\n",
       " '__delattr__',\n",
       " '__delitem__',\n",
       " '__dir__',\n",
       " '__doc__',\n",
       " '__eq__',\n",
       " '__format__',\n",
       " '__ge__',\n",
       " '__getattribute__',\n",
       " '__getitem__',\n",
       " '__gt__',\n",
       " '__hash__',\n",
       " '__iadd__',\n",
       " '__imul__',\n",
       " '__init__',\n",
       " '__init_subclass__',\n",
       " '__iter__',\n",
       " '__le__',\n",
       " '__len__',\n",
       " '__lt__',\n",
       " '__mul__',\n",
       " '__ne__',\n",
       " '__new__',\n",
       " '__reduce__',\n",
       " '__reduce_ex__',\n",
       " '__repr__',\n",
       " '__reversed__',\n",
       " '__rmul__',\n",
       " '__setattr__',\n",
       " '__setitem__',\n",
       " '__sizeof__',\n",
       " '__str__',\n",
       " '__subclasshook__',\n",
       " 'append',\n",
       " 'clear',\n",
       " 'copy',\n",
       " 'count',\n",
       " 'extend',\n",
       " 'index',\n",
       " 'insert',\n",
       " 'pop',\n",
       " 'remove',\n",
       " 'reverse',\n",
       " 'sort']"
      ]
     },
     "execution_count": 4,
     "metadata": {},
     "output_type": "execute_result"
    }
   ],
   "source": [
    "dir(list)"
   ]
  }
 ],
 "metadata": {
  "kernelspec": {
   "display_name": "Python 3 (ipykernel)",
   "language": "python",
   "name": "python3"
  },
  "language_info": {
   "codemirror_mode": {
    "name": "ipython",
    "version": 3
   },
   "file_extension": ".py",
   "mimetype": "text/x-python",
   "name": "python",
   "nbconvert_exporter": "python",
   "pygments_lexer": "ipython3",
   "version": "3.9.12"
  }
 },
 "nbformat": 4,
 "nbformat_minor": 5
}
