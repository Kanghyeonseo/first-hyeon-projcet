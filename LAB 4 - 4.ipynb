{
 "cells": [
  {
   "cell_type": "markdown",
   "id": "3404319c",
   "metadata": {},
   "source": [
    "# LAB 4 - 4\n",
    "___\n",
    "1. [코드 4 - 5]를 수정하여 별표(*)줄이 10개 출력되도록 인자를 변경하시오.\n",
    "\n",
    "```\n",
    "코드 4 - 5\n",
    "def print_star(n):\n",
    "    for _ in range(n):\n",
    "        print('*********************')  \n",
    "print_star(4)\n",
    "```"
   ]
  },
  {
   "cell_type": "code",
   "execution_count": 3,
   "id": "4483b372",
   "metadata": {},
   "outputs": [
    {
     "name": "stdout",
     "output_type": "stream",
     "text": [
      "*********************\n",
      "*********************\n",
      "*********************\n",
      "*********************\n",
      "*********************\n",
      "*********************\n",
      "*********************\n",
      "*********************\n",
      "*********************\n",
      "*********************\n"
     ]
    }
   ],
   "source": [
    "def print_star(n):\n",
    "    for _ in range(n):\n",
    "        print('*********************')  \n",
    "        \n",
    "print_star(10)"
   ]
  },
  {
   "cell_type": "markdown",
   "id": "3679c873",
   "metadata": {},
   "source": [
    "2. [코드 4 - 5]를 수정하여 별표(*) 표시 대신 해시마크(#)가 출력되도록 하시오. 이를 위해 함수 이름을 print_hash(n)으로 수정하고 수정된 함수를 print_hash(10)과 같이 호출하시오.\n"
   ]
  },
  {
   "cell_type": "code",
   "execution_count": 2,
   "id": "5e08f9ae",
   "metadata": {},
   "outputs": [
    {
     "name": "stdout",
     "output_type": "stream",
     "text": [
      "#####################\n",
      "#####################\n",
      "#####################\n",
      "#####################\n",
      "#####################\n",
      "#####################\n",
      "#####################\n",
      "#####################\n",
      "#####################\n",
      "#####################\n"
     ]
    }
   ],
   "source": [
    "def print_hash(n):\n",
    "    for _ in range(n):\n",
    "        print('#####################')\n",
    "        \n",
    "print_hash(10)"
   ]
  },
  {
   "cell_type": "markdown",
   "id": "67b3f8d2",
   "metadata": {},
   "source": [
    "3. print_hash(6)을 호출하여 다음과 같은 출력이 나타나도록 하여라.\n",
    "\n",
    "```\n",
    "#####################\n",
    "#####################\n",
    "#####################\n",
    "#####################\n",
    "#####################\n",
    "#####################\n",
    "```"
   ]
  },
  {
   "cell_type": "code",
   "execution_count": 4,
   "id": "56fa04ea",
   "metadata": {},
   "outputs": [
    {
     "name": "stdout",
     "output_type": "stream",
     "text": [
      "#####################\n",
      "#####################\n",
      "#####################\n",
      "#####################\n",
      "#####################\n",
      "#####################\n"
     ]
    }
   ],
   "source": [
    "print_hash(6)"
   ]
  },
  {
   "cell_type": "markdown",
   "id": "9993bfe5",
   "metadata": {},
   "source": [
    "4. print_hash(6)을 호출하여 다음과 같은 출력이 나타나도록 하여라. 다음 화면과 같이 매번 해시가 출력될 때마다 앞 칸에 줄 번호를 0부터 표시하도록 하여라.\n",
    "\n",
    "<span style=\"color: blue\">**실행결과**</span>\n",
    "\n",
    "0 #####################  \n",
    "1 #####################  \n",
    "2 #####################  \n",
    "3 #####################  \n",
    "4 #####################  \n",
    "5 #####################"
   ]
  },
  {
   "cell_type": "code",
   "execution_count": 6,
   "id": "080be29d",
   "metadata": {},
   "outputs": [
    {
     "name": "stdout",
     "output_type": "stream",
     "text": [
      "0 #####################\n",
      "1 #####################\n",
      "2 #####################\n",
      "3 #####################\n",
      "4 #####################\n",
      "5 #####################\n"
     ]
    }
   ],
   "source": [
    "def print_hash(n):\n",
    "    for i in range(n):\n",
    "        print(i, '#####################')\n",
    "\n",
    "print_hash(6)"
   ]
  }
 ],
 "metadata": {
  "kernelspec": {
   "display_name": "Python 3 (ipykernel)",
   "language": "python",
   "name": "python3"
  },
  "language_info": {
   "codemirror_mode": {
    "name": "ipython",
    "version": 3
   },
   "file_extension": ".py",
   "mimetype": "text/x-python",
   "name": "python",
   "nbconvert_exporter": "python",
   "pygments_lexer": "ipython3",
   "version": "3.9.12"
  }
 },
 "nbformat": 4,
 "nbformat_minor": 5
}
